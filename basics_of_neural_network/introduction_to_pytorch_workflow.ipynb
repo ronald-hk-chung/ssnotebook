{
  "nbformat": 4,
  "nbformat_minor": 0,
  "metadata": {
    "colab": {
      "provenance": [],
      "gpuType": "T4",
      "authorship_tag": "ABX9TyNI48+K3WTzjMFY8FNt6Afy",
      "include_colab_link": true
    },
    "kernelspec": {
      "name": "python3",
      "display_name": "Python 3"
    },
    "language_info": {
      "name": "python"
    },
    "accelerator": "GPU",
    "widgets": {
      "application/vnd.jupyter.widget-state+json": {
        "fb3eaf8bd6504ad799996cd2952dd023": {
          "model_module": "@jupyter-widgets/controls",
          "model_name": "HBoxModel",
          "model_module_version": "1.5.0",
          "state": {
            "_dom_classes": [],
            "_model_module": "@jupyter-widgets/controls",
            "_model_module_version": "1.5.0",
            "_model_name": "HBoxModel",
            "_view_count": null,
            "_view_module": "@jupyter-widgets/controls",
            "_view_module_version": "1.5.0",
            "_view_name": "HBoxView",
            "box_style": "",
            "children": [
              "IPY_MODEL_964c5346229247009b234e1f44a1ad4c",
              "IPY_MODEL_85137d8da5604aeb9f943d2c0e79088f",
              "IPY_MODEL_ca4b22ba5ba4459ca7ad655bfea18413"
            ],
            "layout": "IPY_MODEL_96b265e8747940e3a65c4e8f6c7bb47e"
          }
        },
        "964c5346229247009b234e1f44a1ad4c": {
          "model_module": "@jupyter-widgets/controls",
          "model_name": "HTMLModel",
          "model_module_version": "1.5.0",
          "state": {
            "_dom_classes": [],
            "_model_module": "@jupyter-widgets/controls",
            "_model_module_version": "1.5.0",
            "_model_name": "HTMLModel",
            "_view_count": null,
            "_view_module": "@jupyter-widgets/controls",
            "_view_module_version": "1.5.0",
            "_view_name": "HTMLView",
            "description": "",
            "description_tooltip": null,
            "layout": "IPY_MODEL_01dec208d5114ebd915a13699c068d2e",
            "placeholder": "​",
            "style": "IPY_MODEL_6de097f40d1f45ecb62e24fe076b5390",
            "value": "Epochs: 100%"
          }
        },
        "85137d8da5604aeb9f943d2c0e79088f": {
          "model_module": "@jupyter-widgets/controls",
          "model_name": "FloatProgressModel",
          "model_module_version": "1.5.0",
          "state": {
            "_dom_classes": [],
            "_model_module": "@jupyter-widgets/controls",
            "_model_module_version": "1.5.0",
            "_model_name": "FloatProgressModel",
            "_view_count": null,
            "_view_module": "@jupyter-widgets/controls",
            "_view_module_version": "1.5.0",
            "_view_name": "ProgressView",
            "bar_style": "success",
            "description": "",
            "description_tooltip": null,
            "layout": "IPY_MODEL_7a1e9469cb2c437aa4014c4fdd48c475",
            "max": 30,
            "min": 0,
            "orientation": "horizontal",
            "style": "IPY_MODEL_ecb908fdaf284cb88300d7d7a9a47982",
            "value": 30
          }
        },
        "ca4b22ba5ba4459ca7ad655bfea18413": {
          "model_module": "@jupyter-widgets/controls",
          "model_name": "HTMLModel",
          "model_module_version": "1.5.0",
          "state": {
            "_dom_classes": [],
            "_model_module": "@jupyter-widgets/controls",
            "_model_module_version": "1.5.0",
            "_model_name": "HTMLModel",
            "_view_count": null,
            "_view_module": "@jupyter-widgets/controls",
            "_view_module_version": "1.5.0",
            "_view_name": "HTMLView",
            "description": "",
            "description_tooltip": null,
            "layout": "IPY_MODEL_9a09c1cc6f9d416795ef957fa1182ac1",
            "placeholder": "​",
            "style": "IPY_MODEL_1a13ea8bb4e94241ab5e45132450e6e0",
            "value": " 30/30 [00:00&lt;00:00, 50.78it/s]"
          }
        },
        "96b265e8747940e3a65c4e8f6c7bb47e": {
          "model_module": "@jupyter-widgets/base",
          "model_name": "LayoutModel",
          "model_module_version": "1.2.0",
          "state": {
            "_model_module": "@jupyter-widgets/base",
            "_model_module_version": "1.2.0",
            "_model_name": "LayoutModel",
            "_view_count": null,
            "_view_module": "@jupyter-widgets/base",
            "_view_module_version": "1.2.0",
            "_view_name": "LayoutView",
            "align_content": null,
            "align_items": null,
            "align_self": null,
            "border": null,
            "bottom": null,
            "display": null,
            "flex": null,
            "flex_flow": null,
            "grid_area": null,
            "grid_auto_columns": null,
            "grid_auto_flow": null,
            "grid_auto_rows": null,
            "grid_column": null,
            "grid_gap": null,
            "grid_row": null,
            "grid_template_areas": null,
            "grid_template_columns": null,
            "grid_template_rows": null,
            "height": null,
            "justify_content": null,
            "justify_items": null,
            "left": null,
            "margin": null,
            "max_height": null,
            "max_width": null,
            "min_height": null,
            "min_width": null,
            "object_fit": null,
            "object_position": null,
            "order": null,
            "overflow": null,
            "overflow_x": null,
            "overflow_y": null,
            "padding": null,
            "right": null,
            "top": null,
            "visibility": null,
            "width": null
          }
        },
        "01dec208d5114ebd915a13699c068d2e": {
          "model_module": "@jupyter-widgets/base",
          "model_name": "LayoutModel",
          "model_module_version": "1.2.0",
          "state": {
            "_model_module": "@jupyter-widgets/base",
            "_model_module_version": "1.2.0",
            "_model_name": "LayoutModel",
            "_view_count": null,
            "_view_module": "@jupyter-widgets/base",
            "_view_module_version": "1.2.0",
            "_view_name": "LayoutView",
            "align_content": null,
            "align_items": null,
            "align_self": null,
            "border": null,
            "bottom": null,
            "display": null,
            "flex": null,
            "flex_flow": null,
            "grid_area": null,
            "grid_auto_columns": null,
            "grid_auto_flow": null,
            "grid_auto_rows": null,
            "grid_column": null,
            "grid_gap": null,
            "grid_row": null,
            "grid_template_areas": null,
            "grid_template_columns": null,
            "grid_template_rows": null,
            "height": null,
            "justify_content": null,
            "justify_items": null,
            "left": null,
            "margin": null,
            "max_height": null,
            "max_width": null,
            "min_height": null,
            "min_width": null,
            "object_fit": null,
            "object_position": null,
            "order": null,
            "overflow": null,
            "overflow_x": null,
            "overflow_y": null,
            "padding": null,
            "right": null,
            "top": null,
            "visibility": null,
            "width": null
          }
        },
        "6de097f40d1f45ecb62e24fe076b5390": {
          "model_module": "@jupyter-widgets/controls",
          "model_name": "DescriptionStyleModel",
          "model_module_version": "1.5.0",
          "state": {
            "_model_module": "@jupyter-widgets/controls",
            "_model_module_version": "1.5.0",
            "_model_name": "DescriptionStyleModel",
            "_view_count": null,
            "_view_module": "@jupyter-widgets/base",
            "_view_module_version": "1.2.0",
            "_view_name": "StyleView",
            "description_width": ""
          }
        },
        "7a1e9469cb2c437aa4014c4fdd48c475": {
          "model_module": "@jupyter-widgets/base",
          "model_name": "LayoutModel",
          "model_module_version": "1.2.0",
          "state": {
            "_model_module": "@jupyter-widgets/base",
            "_model_module_version": "1.2.0",
            "_model_name": "LayoutModel",
            "_view_count": null,
            "_view_module": "@jupyter-widgets/base",
            "_view_module_version": "1.2.0",
            "_view_name": "LayoutView",
            "align_content": null,
            "align_items": null,
            "align_self": null,
            "border": null,
            "bottom": null,
            "display": null,
            "flex": null,
            "flex_flow": null,
            "grid_area": null,
            "grid_auto_columns": null,
            "grid_auto_flow": null,
            "grid_auto_rows": null,
            "grid_column": null,
            "grid_gap": null,
            "grid_row": null,
            "grid_template_areas": null,
            "grid_template_columns": null,
            "grid_template_rows": null,
            "height": null,
            "justify_content": null,
            "justify_items": null,
            "left": null,
            "margin": null,
            "max_height": null,
            "max_width": null,
            "min_height": null,
            "min_width": null,
            "object_fit": null,
            "object_position": null,
            "order": null,
            "overflow": null,
            "overflow_x": null,
            "overflow_y": null,
            "padding": null,
            "right": null,
            "top": null,
            "visibility": null,
            "width": null
          }
        },
        "ecb908fdaf284cb88300d7d7a9a47982": {
          "model_module": "@jupyter-widgets/controls",
          "model_name": "ProgressStyleModel",
          "model_module_version": "1.5.0",
          "state": {
            "_model_module": "@jupyter-widgets/controls",
            "_model_module_version": "1.5.0",
            "_model_name": "ProgressStyleModel",
            "_view_count": null,
            "_view_module": "@jupyter-widgets/base",
            "_view_module_version": "1.2.0",
            "_view_name": "StyleView",
            "bar_color": null,
            "description_width": ""
          }
        },
        "9a09c1cc6f9d416795ef957fa1182ac1": {
          "model_module": "@jupyter-widgets/base",
          "model_name": "LayoutModel",
          "model_module_version": "1.2.0",
          "state": {
            "_model_module": "@jupyter-widgets/base",
            "_model_module_version": "1.2.0",
            "_model_name": "LayoutModel",
            "_view_count": null,
            "_view_module": "@jupyter-widgets/base",
            "_view_module_version": "1.2.0",
            "_view_name": "LayoutView",
            "align_content": null,
            "align_items": null,
            "align_self": null,
            "border": null,
            "bottom": null,
            "display": null,
            "flex": null,
            "flex_flow": null,
            "grid_area": null,
            "grid_auto_columns": null,
            "grid_auto_flow": null,
            "grid_auto_rows": null,
            "grid_column": null,
            "grid_gap": null,
            "grid_row": null,
            "grid_template_areas": null,
            "grid_template_columns": null,
            "grid_template_rows": null,
            "height": null,
            "justify_content": null,
            "justify_items": null,
            "left": null,
            "margin": null,
            "max_height": null,
            "max_width": null,
            "min_height": null,
            "min_width": null,
            "object_fit": null,
            "object_position": null,
            "order": null,
            "overflow": null,
            "overflow_x": null,
            "overflow_y": null,
            "padding": null,
            "right": null,
            "top": null,
            "visibility": null,
            "width": null
          }
        },
        "1a13ea8bb4e94241ab5e45132450e6e0": {
          "model_module": "@jupyter-widgets/controls",
          "model_name": "DescriptionStyleModel",
          "model_module_version": "1.5.0",
          "state": {
            "_model_module": "@jupyter-widgets/controls",
            "_model_module_version": "1.5.0",
            "_model_name": "DescriptionStyleModel",
            "_view_count": null,
            "_view_module": "@jupyter-widgets/base",
            "_view_module_version": "1.2.0",
            "_view_name": "StyleView",
            "description_width": ""
          }
        }
      }
    }
  },
  "cells": [
    {
      "cell_type": "markdown",
      "metadata": {
        "id": "view-in-github",
        "colab_type": "text"
      },
      "source": [
        "<a href=\"https://colab.research.google.com/github/ronald-hk-chung/ssnotebook/blob/main/basics_of_neural_network/introduction_to_pytorch_workflow.ipynb\" target=\"_parent\"><img src=\"https://colab.research.google.com/assets/colab-badge.svg\" alt=\"Open In Colab\"/></a>"
      ]
    },
    {
      "cell_type": "markdown",
      "source": [
        "# Introduction to PyTorch Workflow\n",
        "\n",
        "Mission Statement:\n",
        "\n",
        "1. Usage of Dataset and DataLoader for model training\n",
        "2. Building `Learner` class for typical train/valid loop for model training\n",
        "3. Using `SSTLearner` class from `sstorch` package for training loop boilerplate\n"
      ],
      "metadata": {
        "id": "6ivfsXSYrps0"
      }
    },
    {
      "cell_type": "markdown",
      "source": [
        "## PyTorch Workflow Steps\n",
        "\n",
        "Training pipline should be divided into 3 steps:\n",
        "\n",
        "1. Data Preparation\n",
        "2. Model Configuration\n",
        "3. Model Training\n",
        "\n",
        "A typical PyTorch Model Training will look like below:\n",
        "\n",
        "```python\n",
        "for X, y in DataLoader:\n",
        "    y_pred = model(x)\n",
        "    loss = loss_func(y_pred, y)\n",
        "    loss.backward()\n",
        "    optimizer.step()\n",
        "    optimizer.zero_grad()\n",
        "```\n",
        "\n",
        "As we start to build up on our analysis, global training loop can get messy very quickly. This notebook focus on the simplifing Model Training Step. We will built up the `sstorch` main learner package which supports typical PyTorch Model Training workflow\n",
        "\n",
        "GitHub Repo: https://github.com/ronald-hk-chung/sstorch\n",
        "\n",
        "The aim is to build a Model Training class `SSTLearner` encapsulating the basic train/valid loop for deep-learning in PyTorch, we can ensure code organisation which is important for further studies. Note that `SSTLearner` class has other added function including `LRFinder` and other `Callback` that can be customized and added to the typical training/valid loop process.\n",
        "\n",
        "For full documentation: https://ronald-hk-chung.github.io/sstorch/\n",
        "\n",
        "\n"
      ],
      "metadata": {
        "id": "dlPiKTEnSvFC"
      }
    },
    {
      "cell_type": "markdown",
      "source": [
        "## Synthetic Data from Linear Regression\n",
        "\n",
        "$y = w \\times X + b + noise$\n"
      ],
      "metadata": {
        "id": "LjZGuIgJdlE4"
      }
    },
    {
      "cell_type": "code",
      "source": [
        "import torch\n",
        "import matplotlib.pyplot as plt\n",
        "\n",
        "# To ensure reproducibility\n",
        "torch.manual_seed(42)\n",
        "\n",
        "# Generating synthetic data\n",
        "X = torch.rand(100, 1) # random numbers from a uniform distribution on the interval (0, 1)\n",
        "w_true, b_true = 0.5, 1\n",
        "noise = torch.randn(100, 1) * 0.03\n",
        "y = w_true * X + b_true + noise\n",
        "\n",
        "# Plot synthetic data\n",
        "fig, ax = plt.subplots(1, 1, sharey=True, figsize=(5,5))\n",
        "ax.scatter(X, y, color=\"b\")\n",
        "ax.set_title(\"Synthetic Training Data\");"
      ],
      "metadata": {
        "colab": {
          "base_uri": "https://localhost:8080/",
          "height": 468
        },
        "id": "MaUuhqJ8dvWL",
        "outputId": "c1409f7e-cda8-4b23-a9eb-2650b0fc4744"
      },
      "execution_count": 44,
      "outputs": [
        {
          "output_type": "display_data",
          "data": {
            "text/plain": [
              "<Figure size 500x500 with 1 Axes>"
            ],
            "image/png": "[encoded data removed]"
          },
          "metadata": {}
        }
      ]
    },
    {
      "cell_type": "code",
      "source": [
        "# Splitting into train/valid data\n",
        "from sklearn.model_selection import train_test_split\n",
        "X_train, X_valid, y_train, y_valid = train_test_split(X, y, test_size=0.2)"
      ],
      "metadata": {
        "id": "yXhZAesJ-Jhn"
      },
      "execution_count": 45,
      "outputs": []
    },
    {
      "cell_type": "markdown",
      "source": [
        "## Dataset\n",
        "\n",
        "Full Reference: https://pytorch.org/docs/stable/data.html\n",
        "\n",
        "In PyTorch, a **dataset** is represented by a regular Python class that inherits from the `Dataset` class\n",
        "\n",
        "The most fundamental methods it needs to impliemnt are\n",
        "\n",
        "*   `__init__(self)`: The constructor method takes the argument needed to build a list of tuples. Note that there is no need to load the whole dataset in the construtor method. If the dataset is large, loading it all at one would not be memory efficient. It is recommeded to load them on demand (whenever `__getitem__()` is called. It's typically used to store some essential locations like file paths and image transforms.\n",
        "\n",
        "*   `__getitem__(self, idx)`: This method allow the dataset to be indexed so that it can work like a list **(dataset[idx])**. This should return a single data sample from athe dataset at a given index. The `__getitem__` method is where the actual dataloading and the preprocessing takes place. It takes an index as input and returns a data point, whcih can be a tensor or a ditionary of tensors. This method is used by `DataLoader` class to load and preprocess the data.\n",
        "\n",
        "* `__len__(self)`: This shoudl return the size of the whole dataset. The indexing is limited to the actual size.\n",
        "\n",
        "Below shows the sameple of creating **Custom Dataset** for our simple Linear regression data.\n",
        "\n"
      ],
      "metadata": {
        "id": "9bZJrqkv5l13"
      }
    },
    {
      "cell_type": "code",
      "source": [
        "from torch.utils.data import Dataset\n",
        "\n",
        "class CustomDataset(Dataset):\n",
        "    def __init__(self, X, y):\n",
        "        self.X = X\n",
        "        self.y = y\n",
        "\n",
        "    def __len__(self):\n",
        "        return len(self.X)\n",
        "\n",
        "    def __getitem__(self, idx):\n",
        "        return self.X[idx], self.y[idx]\n",
        "\n",
        "train_data = CustomDataset(X_train, y_train)\n",
        "valid_data = CustomDataset(X_valid, y_valid)"
      ],
      "metadata": {
        "id": "djVSLh1v1r6W"
      },
      "execution_count": 46,
      "outputs": []
    },
    {
      "cell_type": "code",
      "source": [
        "print(train_data[0])"
      ],
      "metadata": {
        "colab": {
          "base_uri": "https://localhost:8080/"
        },
        "id": "ICiuUFgj21o0",
        "outputId": "6c710e97-ddab-4554-b4ef-17fa3df3d243"
      },
      "execution_count": 47,
      "outputs": [
        {
          "output_type": "stream",
          "name": "stdout",
          "text": [
            "(tensor([0.7104]), tensor([1.3346]))\n"
          ]
        }
      ]
    },
    {
      "cell_type": "markdown",
      "source": [
        "## TensorDataset\n",
        "\n",
        "For our small Dataset, we can just simply use `TensorDataset` class to create a dataset."
      ],
      "metadata": {
        "id": "Th-2OBv0eI5o"
      }
    },
    {
      "cell_type": "code",
      "source": [
        "from torch.utils.data import TensorDataset\n",
        "\n",
        "train_data = TensorDataset(X_train, y_train)\n",
        "valid_data = TensorDataset(X_valid, y_valid)\n",
        "print(train_data[0])"
      ],
      "metadata": {
        "colab": {
          "base_uri": "https://localhost:8080/"
        },
        "id": "aACDFwtX2_zs",
        "outputId": "de427be5-5497-4860-87c5-6eae2aeaef0a"
      },
      "execution_count": 48,
      "outputs": [
        {
          "output_type": "stream",
          "name": "stdout",
          "text": [
            "(tensor([0.7104]), tensor([1.3346]))\n"
          ]
        }
      ]
    },
    {
      "cell_type": "markdown",
      "source": [
        "## DataLoader\n",
        "\n",
        "While it is ok to use the whole training data for a small data set to perform **batch gradient descent**, computation and memory will become an issue for big dataset and **mini-batch gradient descent**.\n",
        "\n",
        "**DataLoader** class to let our **Dataset** behave like an iterator by desciding on the **mini-batch-size** and to **shuffle** our Dataset during our training.\n",
        "\n",
        "There are a few important parameters to note when setting up the DataLoader:\n",
        "\n",
        "*   `shuffle`\n",
        "\n",
        "    Note that for the majority of cases except Time Series problem, we shoudl set `shuffle=True` for our trainiing set to improve the performance of gradient descent. There is no need ot shuffle validation set given we are are not computing gradient with it.\n",
        "\n",
        "    It is also possible to use it together with a **sampler** to fetch mini-batches that compensate for imablanced classes\n",
        "\n",
        "*   `batch_size`\n",
        "\n",
        "    It is typical to use powers of 2 for mini-batch sizes, like 16, 32, 64 or 128. and 32 seems to be the choice for most people. The main consideration for `batch_size` is the GPU memory\n",
        "\n",
        "*   `drop_last`\n",
        "\n",
        "    set to True to drop the last incomplete batch, if the dataset size is not divisible by the batch size. If False and the size of dataset is not divisible by the batch size, then the last batch will be smaller. (default: False)\n",
        "\n",
        "*   `pin_memory`\n",
        "\n",
        "     If True, the data loader will copy Tensors into device/CUDA pinned memory before returning them. If your data elements are a custom type, or your collate_fn returns a batch that is a custom type, see the example below.\n",
        "\n",
        "*   `num_workers`\n",
        "\n",
        "    how many subprocesses to use for data loading. 0 means that the data will be loaded in the main process. (default: 0)\n"
      ],
      "metadata": {
        "id": "jlu9vLO43bfk"
      }
    },
    {
      "cell_type": "code",
      "source": [
        "from torch.utils.data import DataLoader\n",
        "\n",
        "train_dataloader = DataLoader(dataset=train_data,\n",
        "                              batch_size=16,\n",
        "                              shuffle=True)\n",
        "\n",
        "valid_dataloader = DataLoader(dataset=valid_data,\n",
        "                              batch_size=16,\n",
        "                              shuffle=False)"
      ],
      "metadata": {
        "id": "sh2kJgzq6SaU"
      },
      "execution_count": 49,
      "outputs": []
    },
    {
      "cell_type": "markdown",
      "source": [
        "below command can help to retreive a mini-batch"
      ],
      "metadata": {
        "id": "n1BlruT86lWJ"
      }
    },
    {
      "cell_type": "code",
      "source": [
        "next(iter(train_dataloader))"
      ],
      "metadata": {
        "colab": {
          "base_uri": "https://localhost:8080/"
        },
        "id": "f__xgbX46kyb",
        "outputId": "d0706baf-7fdd-4e1b-c757-713807d782a0"
      },
      "execution_count": 50,
      "outputs": [
        {
          "output_type": "execute_result",
          "data": {
            "text/plain": [
              "[tensor([[0.9103],\n",
              "         [0.4913],\n",
              "         [0.2695],\n",
              "         [0.4414],\n",
              "         [0.8913],\n",
              "         [0.1165],\n",
              "         [0.7539],\n",
              "         [0.5936],\n",
              "         [0.2696],\n",
              "         [0.1088],\n",
              "         [0.0041],\n",
              "         [0.7936],\n",
              "         [0.0050],\n",
              "         [0.8317],\n",
              "         [0.2018],\n",
              "         [0.3068]]),\n",
              " tensor([[1.4431],\n",
              "         [1.2331],\n",
              "         [1.1449],\n",
              "         [1.1995],\n",
              "         [1.4098],\n",
              "         [1.0895],\n",
              "         [1.3850],\n",
              "         [1.2877],\n",
              "         [1.1657],\n",
              "         [1.1152],\n",
              "         [1.0253],\n",
              "         [1.3861],\n",
              "         [0.9805],\n",
              "         [1.4059],\n",
              "         [1.0916],\n",
              "         [1.1565]])]"
            ]
          },
          "metadata": {},
          "execution_count": 50
        }
      ]
    },
    {
      "cell_type": "markdown",
      "source": [
        "## Defining the Model\n",
        "\n",
        "In PyTorch, a model is represented by a regular Python class that inherits from the `nn.Module` class. The `nn.Module` class serves as a blueprint for a specific component of your network where\n",
        "\n",
        "*   **Encapsulation**: Modules neatly package together the tranable parameters (weights and biases) of the model's layers. Note that Module can also cantain other Modules, allowing to build complex hierarchies.\n",
        "*   **Statefulness**: Modules remember their parameters and inernal state, essentailly sotring what they have learned during training.\n",
        "*   **Composability**: Like building blocks, Modules can be connected to form intricate neural networks.\n",
        "\n",
        "One of the most crucial aspects of a Module is its ability ot manage its parameters.\n",
        "\n",
        "1. **Parameter Registration**: When variables are defined within a Module's constructor `__init__` PyTorch function like `nn.Linear` are automatrically registered to the Module as parameters\n",
        "\n",
        "2. **Parameter Access**: Pytorch allow access to Module's parameters in several ways. `module.parameters()` return an iterator to access all parameters. `module.state_dict()` returns an `OrderedDict` containing all parameters and their values.\n",
        "\n",
        "3. **Optimization**: During training, PyTorch optimizer (like Adam, SGD) specifically iterate over the parameters registered within a Module, updating them to minimize the loss function.\n",
        "\n",
        "<br/>\n",
        "\n",
        "Each model inheriting an `nn.Module` class should have\n",
        "1. `__init__()` method to initialising the class variables\n",
        "2. `forward()` method for forward-passing the input tensor into output"
      ],
      "metadata": {
        "id": "j0RW6x6OS43_"
      }
    },
    {
      "cell_type": "markdown",
      "source": [
        "**`__init__()` method in `nn.Module1`**"
      ],
      "metadata": {
        "id": "vU4CUvD2wray"
      }
    },
    {
      "cell_type": "code",
      "source": [
        "import torch.nn as nn\n",
        "\n",
        "class LinearRegression(nn.Module):\n",
        "    def __init__(self):\n",
        "        super().__init__()\n",
        "        self.b = nn.Parameter(torch.randn(1, requires_grad=True, dtype=torch.float))\n",
        "        self.w = nn.Parameter(torch.randn(1, requires_grad=True, dtype=torch.float))\n",
        "\n",
        "    def forward(self, X):\n",
        "        return self.w * X + self.b\n",
        "\n",
        "model = LinearRegression()\n",
        "model"
      ],
      "metadata": {
        "colab": {
          "base_uri": "https://localhost:8080/"
        },
        "id": "rvWQZo5Hv8DU",
        "outputId": "5a3df5dc-4da1-4e01-9929-2c6fb7723afb"
      },
      "execution_count": 51,
      "outputs": [
        {
          "output_type": "execute_result",
          "data": {
            "text/plain": [
              "LinearRegression()"
            ]
          },
          "metadata": {},
          "execution_count": 51
        }
      ]
    },
    {
      "cell_type": "markdown",
      "source": [
        "In the `__init__()` method, 2 parameters b and w where defined using `nn.Parameter` class. When attribute are definied within our custom module, its flagged as a parameter that needs to be tracked. This is done by `nn.Module` class overloading the `__setattr__` method that is responsible for setting attributes.\n",
        "\n",
        "<br/>\n",
        "\n",
        "**To access the parameters**\n",
        "\n",
        "1. Using `parameters()` method that return an iterator to access all parameters\n",
        "\n",
        "Under the hood, `parameter()` method is implimented as:\n",
        "\n",
        "```python\n",
        "def parameter(self):\n",
        "    yield self.b\n",
        "    yield self.w\n",
        "```"
      ],
      "metadata": {
        "id": "6apC1H87v_fd"
      }
    },
    {
      "cell_type": "code",
      "source": [
        "list(model.parameters())"
      ],
      "metadata": {
        "colab": {
          "base_uri": "https://localhost:8080/"
        },
        "id": "NX-XJniWwDTD",
        "outputId": "3ba21438-e4e7-433f-987e-465c85f88927"
      },
      "execution_count": 52,
      "outputs": [
        {
          "output_type": "execute_result",
          "data": {
            "text/plain": [
              "[Parameter containing:\n",
              " tensor([-0.5359], requires_grad=True),\n",
              " Parameter containing:\n",
              " tensor([0.3355], requires_grad=True)]"
            ]
          },
          "metadata": {},
          "execution_count": 52
        }
      ]
    },
    {
      "cell_type": "markdown",
      "source": [
        "2. `module.state_dict()` returns an `OrderedDict` containing all parameters and their values. Note that only learnable parameters are included as its purpose is to keep track of parameters that are going to be updated by the optimizer."
      ],
      "metadata": {
        "id": "LxUvOVSMwJzL"
      }
    },
    {
      "cell_type": "code",
      "source": [
        "model.state_dict()"
      ],
      "metadata": {
        "colab": {
          "base_uri": "https://localhost:8080/"
        },
        "id": "p6USWpJkwLXX",
        "outputId": "845f6d8d-8d87-44d8-d9d1-5b0e5aea7bac"
      },
      "execution_count": 53,
      "outputs": [
        {
          "output_type": "execute_result",
          "data": {
            "text/plain": [
              "OrderedDict([('b', tensor([-0.5359])), ('w', tensor([0.3355]))])"
            ]
          },
          "metadata": {},
          "execution_count": 53
        }
      ]
    },
    {
      "cell_type": "markdown",
      "source": [
        "**`forward()` vs. `__call__()` Method**\n",
        "\n",
        "The goal of the `forward()` is to encapsoluate the forward pass computation. Note that `forward()` is called in the `__call__` function. Under the hood, the `__call__` method performs some additional bookkeeping to ensure that the `hooks` are properly registered.\n",
        "\n",
        "`forward(x)` method should not be called directly. You should call the whole model itself, as in model(x) to perform a forward pass and output predictions."
      ],
      "metadata": {
        "id": "xmw89SFvwN4n"
      }
    },
    {
      "cell_type": "markdown",
      "source": [
        "## Sending the model to GPU device\n",
        "\n",
        "GPU Acceleration: Modern deep learning heavily relies on GPUs (Graphics Processing Units), which excel at parallel computations. Tensors are ideally suited for GPU acceleration; their structure naturally aligns with how GPUs carry out mathematical operations.\n",
        "\n",
        "We need to make sure our model and the data are on the same device"
      ],
      "metadata": {
        "id": "8_03WxXrxUvN"
      }
    },
    {
      "cell_type": "code",
      "source": [
        "# Check what GPU we are using\n",
        "!nvidia-smi"
      ],
      "metadata": {
        "colab": {
          "base_uri": "https://localhost:8080/"
        },
        "id": "nOsjMnDpxW1u",
        "outputId": "65e807b1-90cb-4cfa-88c9-2661e3f20126"
      },
      "execution_count": 54,
      "outputs": [
        {
          "output_type": "stream",
          "name": "stdout",
          "text": [
            "Tue Apr 30 13:44:39 2024       \n",
            "+---------------------------------------------------------------------------------------+\n",
            "| NVIDIA-SMI 535.104.05             Driver Version: 535.104.05   CUDA Version: 12.2     |\n",
            "|-----------------------------------------+----------------------+----------------------+\n",
            "| GPU  Name                 Persistence-M | Bus-Id        Disp.A | Volatile Uncorr. ECC |\n",
            "| Fan  Temp   Perf          Pwr:Usage/Cap |         Memory-Usage | GPU-Util  Compute M. |\n",
            "|                                         |                      |               MIG M. |\n",
            "|=========================================+======================+======================|\n",
            "|   0  Tesla T4                       Off | 00000000:00:04.0 Off |                    0 |\n",
            "| N/A   46C    P0              28W /  70W |    121MiB / 15360MiB |      0%      Default |\n",
            "|                                         |                      |                  N/A |\n",
            "+-----------------------------------------+----------------------+----------------------+\n",
            "                                                                                         \n",
            "+---------------------------------------------------------------------------------------+\n",
            "| Processes:                                                                            |\n",
            "|  GPU   GI   CI        PID   Type   Process name                            GPU Memory |\n",
            "|        ID   ID                                                             Usage      |\n",
            "|=======================================================================================|\n",
            "+---------------------------------------------------------------------------------------+\n"
          ]
        }
      ]
    },
    {
      "cell_type": "code",
      "source": [
        "device = \"cuda\" if torch.cuda.is_available() else \"cpu\"\n",
        "\n",
        "# Send model and data to the same device\n",
        "model.to(device)\n",
        "X, y = X.to(device), y.to(device)"
      ],
      "metadata": {
        "id": "ng9wGuPexZ1W"
      },
      "execution_count": 55,
      "outputs": []
    },
    {
      "cell_type": "markdown",
      "source": [
        "## Optimizer for gradient descent\n",
        "\n",
        "There are many optimizers under `torch.optim`.\n",
        "\n",
        "For `torch.optim` reference: https://pytorch.org/docs/stable/optim.html#module-torch.optim\n",
        "\n",
        "`SGD` is the most basic of them and `Adam` is one of the most popular. Different optimizers use different mechanics for updating the parameters.\n",
        "\n",
        "PyTorch opimitzers (like **SGD** or **Adam**)\n",
        "\n",
        "`step()` method takes the parameters we want to update, the learning rate we want to use and performs the updates through its . This replaces the manual updating of parameters in the training loop.\n",
        "\n",
        "`zero_grad()` method zero out all gradients in the model after `backward()`\n",
        "\n",
        "Below shows the most basic optimizer implimentation:\n"
      ],
      "metadata": {
        "id": "12m3VwZ1UlUj"
      }
    },
    {
      "cell_type": "code",
      "source": [
        "class BasicOptim:\n",
        "  def __init__(self, params, lr):\n",
        "    self.params = params\n",
        "\n",
        "  def step(self):\n",
        "    self.params.data -= self.lr * self.params.grad\n",
        "\n",
        "  def zero_grad(self):\n",
        "    self.params.grad = None\n",
        "\n",
        "basic_optimizer = BasicOptim(params=model.parameters(), lr=0.1)\n",
        "basic_optimizer"
      ],
      "metadata": {
        "colab": {
          "base_uri": "https://localhost:8080/"
        },
        "id": "wTD0s03DynUf",
        "outputId": "4aa2c6d6-fe63-42b4-826a-90c1e5284a8f"
      },
      "execution_count": 56,
      "outputs": [
        {
          "output_type": "execute_result",
          "data": {
            "text/plain": [
              "<__main__.BasicOptim at 0x796377bdea70>"
            ]
          },
          "metadata": {},
          "execution_count": 56
        }
      ]
    },
    {
      "cell_type": "markdown",
      "source": [
        "For better model training, we should use the pre-built optimizer from `torch.optim`, below shows an example of **SGD Optimizer**"
      ],
      "metadata": {
        "id": "TF4vmuth0bFt"
      }
    },
    {
      "cell_type": "code",
      "source": [
        "import torch.optim as optim\n",
        "\n",
        "optimizer = optim.SGD(params=model.parameters(), lr=0.1)\n",
        "optimizer.state_dict()"
      ],
      "metadata": {
        "colab": {
          "base_uri": "https://localhost:8080/"
        },
        "id": "KL2jvV14yv-6",
        "outputId": "5c4b9afb-a5a0-4651-8cf9-860b94556eb1"
      },
      "execution_count": 57,
      "outputs": [
        {
          "output_type": "execute_result",
          "data": {
            "text/plain": [
              "{'state': {},\n",
              " 'param_groups': [{'lr': 0.1,\n",
              "   'momentum': 0,\n",
              "   'dampening': 0,\n",
              "   'weight_decay': 0,\n",
              "   'nesterov': False,\n",
              "   'maximize': False,\n",
              "   'foreach': None,\n",
              "   'differentiable': False,\n",
              "   'params': [0, 1]}]}"
            ]
          },
          "metadata": {},
          "execution_count": 57
        }
      ]
    },
    {
      "cell_type": "markdown",
      "source": [
        "Note that optimizer itself also has a state_dict() which contains its internal state as well as hyper-parameters.\n",
        "\n"
      ],
      "metadata": {
        "id": "G3nS-lP3y1kz"
      }
    },
    {
      "cell_type": "markdown",
      "source": [
        "## Defining a Loss Function\n",
        "\n",
        "To tackle the loss computation. PyTorch has a variety of loss function to choose from under `torch.nn`\n",
        "\n",
        "Reference: https://pytorch.org/docs/stable/nn.html\n",
        "\n",
        "For our linear regression problem, we are using the mean squared error(MSE) as loss function - `nn.MSELoss()`\n",
        "\n",
        "for full reference on the `nn.MSELoss()` - https://pytorch.org/docs/stable/generated/torch.nn.MSELoss.html#torch.nn.MSELoss"
      ],
      "metadata": {
        "id": "wR-lsz55T6aW"
      }
    },
    {
      "cell_type": "code",
      "source": [
        "# Define an MSE loss function\n",
        "loss_fn = nn.MSELoss(reduction='mean')\n",
        "loss_fn"
      ],
      "metadata": {
        "colab": {
          "base_uri": "https://localhost:8080/"
        },
        "id": "WSarsHTpT2mn",
        "outputId": "42508a65-c7d8-4cd1-dc19-c17155d25ef5"
      },
      "execution_count": 58,
      "outputs": [
        {
          "output_type": "execute_result",
          "data": {
            "text/plain": [
              "MSELoss()"
            ]
          },
          "metadata": {},
          "execution_count": 58
        }
      ]
    },
    {
      "cell_type": "markdown",
      "source": [
        "## Defining the main Learner class\n",
        "\n",
        "**The Constructor**\n",
        "\n",
        "The constructor defines the attributes/arguments that make up the class. For the basic model training, we need to define 4 arguments:\n",
        "*   model\n",
        "*   loss\n",
        "*   optimizer\n",
        "*   data\n",
        "\n",
        "While conceptually data is not part of the model, it is the input that we need ot use to train the model and should be included as an argument. We will initialised with None and add a method `set_loader` that can be used to supply the data (or even swap the dataset) at a later time.\n",
        "\n",
        "In the constructor, we also initialise below:\n",
        "*   **placeholders** for objects that are not available at the moment of creation\n",
        "*   **variables** that we may want to keep track\n",
        "\n",
        "\n",
        "**Train Method**\n",
        "\n",
        "In the `train()` method, we need to add the **epoch-loop** where we set the training to go through a specified number of epochs (an input to the method). Moreoer, we also added the saving of results under `results` dictionary inside the `Learner` class\n",
        "\n",
        "\n",
        "**Train loop and Valid Loop**\n",
        "\n",
        "Inside the `train()` method, we define both `_train_loop()` and `_valid_loop()` which are both protected method indicated by the \"_\" in front of the name. The main intention for the train loop is to perform gradient descent. Note that the batch data is set to GPU inside each **mini-batch-loop**.\n",
        "\n",
        "\n",
        "**Train Step and Valid Step**\n",
        "\n",
        "This is the actual **Step** taken the calculate the loss. The reason for seperating this **Step** out is to ensure flexibility for different models. Note that we can subclass `Learner` class to override the `train_step()` and `valid_step()` method for more complex **step**\n",
        "\n",
        "Below shows the main construction of our `Learner` Class"
      ],
      "metadata": {
        "id": "WdI6-uaH0-Qs"
      }
    },
    {
      "cell_type": "code",
      "source": [
        "class Learner:\n",
        "    def __init__(self, model, loss_fn, train_dataloader, valid_dataloader):\n",
        "        # define attributes for learner class including model, loss_fn, optimizer and train_dl\n",
        "        self.model = model\n",
        "        self.loss_fn = loss_fn\n",
        "        self.optimizer = self.configure_optimizer()\n",
        "        self.train_dataloader = train_dataloader\n",
        "        self.valid_dataloader = valid_dataloader\n",
        "\n",
        "        # Set attributes that are going to be computed internally\n",
        "        self.total_epochs = 0\n",
        "        self.batch = None\n",
        "        self.loss = None    # loss from train/valid step\n",
        "        self.train_loss = None  # intermediate aggregate/avg train_loss during _train_loop\n",
        "        self.valid_loss = None  # intermediate aggregate/avg valid_loss during _valid_loop\n",
        "        self.results = {\n",
        "            'train_loss': [],\n",
        "            'valid_loss': []\n",
        "        }\n",
        "        # Setting up device agnostic code\n",
        "        self.device = torch.device('cuda' if torch.cuda.is_available() else 'cpu')\n",
        "        # send model to GPU if available\n",
        "        self.model.to(self.device)\n",
        "\n",
        "    def configure_optimizer(self):\n",
        "        return torch.optim.SGD(params=self.model.parameters(),\n",
        "                               lr=0.1)\n",
        "\n",
        "    def train(self, epochs):\n",
        "        # perform train on specified number of epochs\n",
        "        for epoch in range(epochs):\n",
        "            # increment total_epochs\n",
        "            self.total_epochs += 1\n",
        "            # perform train_loop and valid_loop\n",
        "            self._train_loop()\n",
        "            self._valid_loop()\n",
        "            self.results['train_loss'].append(self.train_loss)\n",
        "            self.results['valid_loss'].append(self.valid_loss)\n",
        "            print(f'Epoch: {epoch} | Train Loss: {self.train_loss:.3f} | Valid Loss: {self.valid_loss:.3f}')\n",
        "\n",
        "    def _train_loop(self):\n",
        "        # put model into train mode - default state of model\n",
        "        self.model.train()\n",
        "        # initialise train_loss to 0\n",
        "        self.train_loss = 0\n",
        "        # Perform the PyTorch train Loop with gradient descent\n",
        "        for batch_num, batch in enumerate(self.train_dataloader):\n",
        "            # Send batch to GPU if available\n",
        "            self.batch = [tensor.to(self.device) for tensor in batch]\n",
        "            # train_step to perform forward pass to return loss\n",
        "            self.loss = self.train_step()\n",
        "            # aggregate train_loss\n",
        "            self.train_loss += self.loss.item()\n",
        "            # gradient descent using optimizer\n",
        "            self.loss.backward()\n",
        "            self.optimizer.step()\n",
        "            self.optimizer.zero_grad()\n",
        "        # take the average by dividing the aggregate train_loss to batch_num\n",
        "        self.train_loss /= len(self.train_dataloader)\n",
        "\n",
        "    def _valid_loop(self):\n",
        "        # put model into eval mode\n",
        "        self.model.eval()\n",
        "        # initialise valid_loss to 0\n",
        "        self.valid_loss = 0\n",
        "        # use torch.inference_mode as a context manager\n",
        "        # turns off gradient tracking which is not needed for validation\n",
        "        with torch.inference_mode():\n",
        "            for batch_num, batch in enumerate(self.valid_dataloader):\n",
        "                # Send batch to GPU if available\n",
        "                self.batch = [tensor.to(self.device) for tensor in batch]\n",
        "                self.loss = self.valid_step()\n",
        "                self.valid_loss += self.loss.item()\n",
        "            self.valid_loss /= len(self.valid_dataloader)\n",
        "\n",
        "    def train_step(self):\n",
        "        X, y = self.batch\n",
        "        y_logits = self.model(X)\n",
        "        loss = self.loss_fn(y_logits, y)\n",
        "        return loss\n",
        "\n",
        "    def valid_step(self):\n",
        "        X, y = self.batch\n",
        "        y_logits = self.model(X)\n",
        "        loss = self.loss_fn(y_logits, y)\n",
        "        return loss\n"
      ],
      "metadata": {
        "id": "UtO3w2Pu3MvT"
      },
      "execution_count": 59,
      "outputs": []
    },
    {
      "cell_type": "markdown",
      "source": [
        "## Putting it all together with the Learner class"
      ],
      "metadata": {
        "id": "gGC0js37UK9Z"
      }
    },
    {
      "cell_type": "code",
      "source": [
        "learner = Learner(model=LinearRegression(),\n",
        "                  loss_fn=nn.MSELoss(reduction='mean'),\n",
        "                  train_dataloader=train_dataloader,\n",
        "                  valid_dataloader=valid_dataloader)"
      ],
      "metadata": {
        "id": "91LmCfZPUOdF"
      },
      "execution_count": 60,
      "outputs": []
    },
    {
      "cell_type": "code",
      "source": [
        "learner.train(30)"
      ],
      "metadata": {
        "colab": {
          "base_uri": "https://localhost:8080/"
        },
        "id": "uRIYg6naY7du",
        "outputId": "9ce16774-7c07-4c1e-ad60-48481964f95b"
      },
      "execution_count": 61,
      "outputs": [
        {
          "output_type": "stream",
          "name": "stdout",
          "text": [
            "Epoch: 0 | Train Loss: 0.426 | Valid Loss: 0.053\n",
            "Epoch: 1 | Train Loss: 0.023 | Valid Loss: 0.003\n",
            "Epoch: 2 | Train Loss: 0.002 | Valid Loss: 0.000\n",
            "Epoch: 3 | Train Loss: 0.001 | Valid Loss: 0.000\n",
            "Epoch: 4 | Train Loss: 0.001 | Valid Loss: 0.000\n",
            "Epoch: 5 | Train Loss: 0.001 | Valid Loss: 0.000\n",
            "Epoch: 6 | Train Loss: 0.001 | Valid Loss: 0.000\n",
            "Epoch: 7 | Train Loss: 0.001 | Valid Loss: 0.000\n",
            "Epoch: 8 | Train Loss: 0.001 | Valid Loss: 0.000\n",
            "Epoch: 9 | Train Loss: 0.001 | Valid Loss: 0.000\n",
            "Epoch: 10 | Train Loss: 0.001 | Valid Loss: 0.000\n",
            "Epoch: 11 | Train Loss: 0.001 | Valid Loss: 0.000\n",
            "Epoch: 12 | Train Loss: 0.001 | Valid Loss: 0.000\n",
            "Epoch: 13 | Train Loss: 0.001 | Valid Loss: 0.000\n",
            "Epoch: 14 | Train Loss: 0.001 | Valid Loss: 0.000\n",
            "Epoch: 15 | Train Loss: 0.001 | Valid Loss: 0.000\n",
            "Epoch: 16 | Train Loss: 0.001 | Valid Loss: 0.000\n",
            "Epoch: 17 | Train Loss: 0.001 | Valid Loss: 0.000\n",
            "Epoch: 18 | Train Loss: 0.001 | Valid Loss: 0.000\n",
            "Epoch: 19 | Train Loss: 0.001 | Valid Loss: 0.000\n",
            "Epoch: 20 | Train Loss: 0.001 | Valid Loss: 0.000\n",
            "Epoch: 21 | Train Loss: 0.001 | Valid Loss: 0.000\n",
            "Epoch: 22 | Train Loss: 0.001 | Valid Loss: 0.000\n",
            "Epoch: 23 | Train Loss: 0.001 | Valid Loss: 0.000\n",
            "Epoch: 24 | Train Loss: 0.001 | Valid Loss: 0.000\n",
            "Epoch: 25 | Train Loss: 0.001 | Valid Loss: 0.000\n",
            "Epoch: 26 | Train Loss: 0.001 | Valid Loss: 0.000\n",
            "Epoch: 27 | Train Loss: 0.001 | Valid Loss: 0.000\n",
            "Epoch: 28 | Train Loss: 0.001 | Valid Loss: 0.000\n",
            "Epoch: 29 | Train Loss: 0.001 | Valid Loss: 0.000\n"
          ]
        }
      ]
    },
    {
      "cell_type": "code",
      "source": [
        "learner.model.state_dict()"
      ],
      "metadata": {
        "colab": {
          "base_uri": "https://localhost:8080/"
        },
        "id": "0f9uRPmXbQYv",
        "outputId": "e54f9404-af62-4024-e240-dda7f4e7d77a"
      },
      "execution_count": 62,
      "outputs": [
        {
          "output_type": "execute_result",
          "data": {
            "text/plain": [
              "OrderedDict([('b', tensor([1.0060], device='cuda:0')),\n",
              "             ('w', tensor([0.4871], device='cuda:0'))])"
            ]
          },
          "metadata": {},
          "execution_count": 62
        }
      ]
    },
    {
      "cell_type": "markdown",
      "source": [
        "Our model predict the correct parameters for `b` and `w`"
      ],
      "metadata": {
        "id": "ToAiZFbl09ly"
      }
    },
    {
      "cell_type": "markdown",
      "source": [
        "## Nested Models under nn.Module\n",
        "\n",
        "We can use PyTorch model as an attribute to our own model to created a nested model.\n",
        "\n",
        "For example, we can use `nn.Linear` to define a single-feature linear regression within our own model"
      ],
      "metadata": {
        "id": "kNBhu9wH1x1Y"
      }
    },
    {
      "cell_type": "code",
      "source": [
        "class NestedLinearRegression(nn.Module):\n",
        "    def __init__(self):\n",
        "        super().__init__()\n",
        "        # weight as w, bias as b\n",
        "        self.linear = nn.Linear(in_features=1, out_features=1, bias=True)\n",
        "    def forward(self, X):\n",
        "        return self.linear(X)\n",
        "\n",
        "learner = Learner(model=NestedLinearRegression(),\n",
        "                  loss_fn=nn.MSELoss(reduction='mean'),\n",
        "                  train_dataloader=train_dataloader,\n",
        "                  valid_dataloader=valid_dataloader)\n",
        "\n",
        "learner.train(30)"
      ],
      "metadata": {
        "colab": {
          "base_uri": "https://localhost:8080/"
        },
        "id": "w-7wvtjX1gtm",
        "outputId": "392b1dcb-7eac-436c-f9f3-471efcb83bfa"
      },
      "execution_count": 63,
      "outputs": [
        {
          "output_type": "stream",
          "name": "stdout",
          "text": [
            "Epoch: 0 | Train Loss: 0.661 | Valid Loss: 0.092\n",
            "Epoch: 1 | Train Loss: 0.049 | Valid Loss: 0.014\n",
            "Epoch: 2 | Train Loss: 0.017 | Valid Loss: 0.009\n",
            "Epoch: 3 | Train Loss: 0.014 | Valid Loss: 0.008\n",
            "Epoch: 4 | Train Loss: 0.012 | Valid Loss: 0.006\n",
            "Epoch: 5 | Train Loss: 0.011 | Valid Loss: 0.006\n",
            "Epoch: 6 | Train Loss: 0.009 | Valid Loss: 0.005\n",
            "Epoch: 7 | Train Loss: 0.008 | Valid Loss: 0.004\n",
            "Epoch: 8 | Train Loss: 0.007 | Valid Loss: 0.004\n",
            "Epoch: 9 | Train Loss: 0.006 | Valid Loss: 0.003\n",
            "Epoch: 10 | Train Loss: 0.006 | Valid Loss: 0.003\n",
            "Epoch: 11 | Train Loss: 0.005 | Valid Loss: 0.002\n",
            "Epoch: 12 | Train Loss: 0.004 | Valid Loss: 0.002\n",
            "Epoch: 13 | Train Loss: 0.004 | Valid Loss: 0.002\n",
            "Epoch: 14 | Train Loss: 0.004 | Valid Loss: 0.001\n",
            "Epoch: 15 | Train Loss: 0.003 | Valid Loss: 0.001\n",
            "Epoch: 16 | Train Loss: 0.003 | Valid Loss: 0.001\n",
            "Epoch: 17 | Train Loss: 0.003 | Valid Loss: 0.001\n",
            "Epoch: 18 | Train Loss: 0.002 | Valid Loss: 0.001\n",
            "Epoch: 19 | Train Loss: 0.002 | Valid Loss: 0.001\n",
            "Epoch: 20 | Train Loss: 0.002 | Valid Loss: 0.001\n",
            "Epoch: 21 | Train Loss: 0.002 | Valid Loss: 0.001\n",
            "Epoch: 22 | Train Loss: 0.002 | Valid Loss: 0.001\n",
            "Epoch: 23 | Train Loss: 0.001 | Valid Loss: 0.000\n",
            "Epoch: 24 | Train Loss: 0.001 | Valid Loss: 0.000\n",
            "Epoch: 25 | Train Loss: 0.001 | Valid Loss: 0.000\n",
            "Epoch: 26 | Train Loss: 0.001 | Valid Loss: 0.000\n",
            "Epoch: 27 | Train Loss: 0.001 | Valid Loss: 0.000\n",
            "Epoch: 28 | Train Loss: 0.001 | Valid Loss: 0.000\n",
            "Epoch: 29 | Train Loss: 0.001 | Valid Loss: 0.000\n"
          ]
        }
      ]
    },
    {
      "cell_type": "code",
      "source": [
        "learner.model.state_dict()"
      ],
      "metadata": {
        "colab": {
          "base_uri": "https://localhost:8080/"
        },
        "id": "r7kd5xK11s80",
        "outputId": "dc7801d3-e060-4bc7-8631-1a3ce1c51654"
      },
      "execution_count": 64,
      "outputs": [
        {
          "output_type": "execute_result",
          "data": {
            "text/plain": [
              "OrderedDict([('linear.weight', tensor([[0.4311]], device='cuda:0')),\n",
              "             ('linear.bias', tensor([1.0360], device='cuda:0'))])"
            ]
          },
          "metadata": {},
          "execution_count": 64
        }
      ]
    },
    {
      "cell_type": "markdown",
      "source": [
        "## Sequential Models\n",
        "\n",
        "For straightforward models that use a series of built-in PyTorch Models (e.g. `nn.Linear`), where the output of one is sequentially fed as an input to the next, we can use `nn.Sequential` model.\n",
        "\n",
        "Note that `nn.Sequential` is a subclass of `nn.Module` with the objective to quickly impliemnt sequential modules without the requirement of the forward definition"
      ],
      "metadata": {
        "id": "5YF7rYcM1ewg"
      }
    },
    {
      "cell_type": "code",
      "source": [
        "learner = Learner(model=nn.Sequential(nn.Linear(1, 1)),\n",
        "                  loss_fn=nn.MSELoss(reduction='mean'),\n",
        "                  train_dataloader=train_dataloader,\n",
        "                  valid_dataloader=valid_dataloader)\n",
        "\n",
        "learner.train(30)"
      ],
      "metadata": {
        "colab": {
          "base_uri": "https://localhost:8080/"
        },
        "id": "fZKopR5m2FMZ",
        "outputId": "93aeec49-b6c7-4cba-b094-020e486598f4"
      },
      "execution_count": 66,
      "outputs": [
        {
          "output_type": "stream",
          "name": "stdout",
          "text": [
            "Epoch: 0 | Train Loss: 2.236 | Valid Loss: 0.287\n",
            "Epoch: 1 | Train Loss: 0.125 | Valid Loss: 0.020\n",
            "Epoch: 2 | Train Loss: 0.013 | Valid Loss: 0.004\n",
            "Epoch: 3 | Train Loss: 0.007 | Valid Loss: 0.003\n",
            "Epoch: 4 | Train Loss: 0.006 | Valid Loss: 0.003\n",
            "Epoch: 5 | Train Loss: 0.005 | Valid Loss: 0.002\n",
            "Epoch: 6 | Train Loss: 0.004 | Valid Loss: 0.002\n",
            "Epoch: 7 | Train Loss: 0.004 | Valid Loss: 0.002\n",
            "Epoch: 8 | Train Loss: 0.004 | Valid Loss: 0.001\n",
            "Epoch: 9 | Train Loss: 0.003 | Valid Loss: 0.001\n",
            "Epoch: 10 | Train Loss: 0.003 | Valid Loss: 0.001\n",
            "Epoch: 11 | Train Loss: 0.003 | Valid Loss: 0.001\n",
            "Epoch: 12 | Train Loss: 0.002 | Valid Loss: 0.001\n",
            "Epoch: 13 | Train Loss: 0.002 | Valid Loss: 0.001\n",
            "Epoch: 14 | Train Loss: 0.002 | Valid Loss: 0.001\n",
            "Epoch: 15 | Train Loss: 0.002 | Valid Loss: 0.001\n",
            "Epoch: 16 | Train Loss: 0.002 | Valid Loss: 0.001\n",
            "Epoch: 17 | Train Loss: 0.001 | Valid Loss: 0.000\n",
            "Epoch: 18 | Train Loss: 0.001 | Valid Loss: 0.000\n",
            "Epoch: 19 | Train Loss: 0.001 | Valid Loss: 0.000\n",
            "Epoch: 20 | Train Loss: 0.001 | Valid Loss: 0.000\n",
            "Epoch: 21 | Train Loss: 0.001 | Valid Loss: 0.000\n",
            "Epoch: 22 | Train Loss: 0.001 | Valid Loss: 0.000\n",
            "Epoch: 23 | Train Loss: 0.001 | Valid Loss: 0.000\n",
            "Epoch: 24 | Train Loss: 0.001 | Valid Loss: 0.000\n",
            "Epoch: 25 | Train Loss: 0.001 | Valid Loss: 0.000\n",
            "Epoch: 26 | Train Loss: 0.001 | Valid Loss: 0.000\n",
            "Epoch: 27 | Train Loss: 0.001 | Valid Loss: 0.000\n",
            "Epoch: 28 | Train Loss: 0.001 | Valid Loss: 0.000\n",
            "Epoch: 29 | Train Loss: 0.001 | Valid Loss: 0.000\n"
          ]
        }
      ]
    },
    {
      "cell_type": "code",
      "source": [
        "learner.model.state_dict()"
      ],
      "metadata": {
        "colab": {
          "base_uri": "https://localhost:8080/"
        },
        "id": "6qETievb2UcV",
        "outputId": "5d1447e0-f0eb-4e4b-8ac5-9352568d6e70"
      },
      "execution_count": 67,
      "outputs": [
        {
          "output_type": "execute_result",
          "data": {
            "text/plain": [
              "OrderedDict([('0.weight', tensor([[0.4515]], device='cuda:0')),\n",
              "             ('0.bias', tensor([1.0251], device='cuda:0'))])"
            ]
          },
          "metadata": {},
          "execution_count": 67
        }
      ]
    },
    {
      "cell_type": "markdown",
      "source": [
        "## Installing sstorch package through pip\n",
        "\n",
        "We will use `sstorch` package to continue our development for minimizing the boilerplate code for PyTorch Code. Note that `sstorch` also has other functions that is useful for PyTorch training that will be documented under sstorch reference session in the ssnote"
      ],
      "metadata": {
        "id": "3IGAF9JOWAmU"
      }
    },
    {
      "cell_type": "code",
      "execution_count": 68,
      "metadata": {
        "colab": {
          "base_uri": "https://localhost:8080/"
        },
        "id": "Om1eSKiSSuay",
        "outputId": "ad19114b-d0da-4163-8561-3f2816b062c5"
      },
      "outputs": [
        {
          "output_type": "stream",
          "name": "stdout",
          "text": [
            "  Installing build dependencies ... \u001b[?25l\u001b[?25hdone\n",
            "  Getting requirements to build wheel ... \u001b[?25l\u001b[?25hdone\n",
            "  Installing backend dependencies ... \u001b[?25l\u001b[?25hdone\n",
            "  Preparing metadata (pyproject.toml) ... \u001b[?25l\u001b[?25hdone\n",
            "\u001b[2K     \u001b[90m━━━━━━━━━━━━━━━━━━━━━━━━━━━━━━━━━━━━━━━━\u001b[0m \u001b[32m5.5/5.5 MB\u001b[0m \u001b[31m65.2 MB/s\u001b[0m eta \u001b[36m0:00:00\u001b[0m\n",
            "\u001b[2K     \u001b[90m━━━━━━━━━━━━━━━━━━━━━━━━━━━━━━━━━━━━━━━━\u001b[0m \u001b[32m141.1/141.1 kB\u001b[0m \u001b[31m16.5 MB/s\u001b[0m eta \u001b[36m0:00:00\u001b[0m\n",
            "\u001b[?25h  Building wheel for sstorch (pyproject.toml) ... \u001b[?25l\u001b[?25hdone\n"
          ]
        }
      ],
      "source": [
        "# Installing sstorch package\n",
        "!pip -q install git+https://github.com/ronald-hk-chung/sstorch.git"
      ]
    },
    {
      "cell_type": "code",
      "source": [
        "from sstorch.learner import SSTLearner\n",
        "\n",
        "model = LinearRegression()\n",
        "optimizer = torch.optim.SGD(params=model.parameters(), lr=0.1)\n",
        "loss_fn = nn.MSELoss()\n",
        "\n",
        "sstlearner = SSTLearner(model=model,\n",
        "                        loss_fn=loss_fn,\n",
        "                        optimizer=optimizer,\n",
        "                        train_dataloader=train_dataloader,\n",
        "                        valid_dataloader=valid_dataloader)"
      ],
      "metadata": {
        "id": "vMzf1jG4cNcm"
      },
      "execution_count": 69,
      "outputs": []
    },
    {
      "cell_type": "code",
      "source": [
        "sstlearner.train(30)"
      ],
      "metadata": {
        "id": "02r5RNzxQh-h",
        "outputId": "4209326b-6397-4d69-fa08-9f7775ea7a2a",
        "colab": {
          "base_uri": "https://localhost:8080/",
          "height": 1000,
          "referenced_widgets": [
            "fb3eaf8bd6504ad799996cd2952dd023",
            "964c5346229247009b234e1f44a1ad4c",
            "85137d8da5604aeb9f943d2c0e79088f",
            "ca4b22ba5ba4459ca7ad655bfea18413",
            "96b265e8747940e3a65c4e8f6c7bb47e",
            "01dec208d5114ebd915a13699c068d2e",
            "6de097f40d1f45ecb62e24fe076b5390",
            "7a1e9469cb2c437aa4014c4fdd48c475",
            "ecb908fdaf284cb88300d7d7a9a47982",
            "9a09c1cc6f9d416795ef957fa1182ac1",
            "1a13ea8bb4e94241ab5e45132450e6e0"
          ]
        }
      },
      "execution_count": 70,
      "outputs": [
        {
          "output_type": "display_data",
          "data": {
            "text/plain": [
              "Epochs:   0%|          | 0/30 [00:00<?, ?it/s]"
            ],
            "application/vnd.jupyter.widget-view+json": {
              "version_major": 2,
              "version_minor": 0,
              "model_id": "fb3eaf8bd6504ad799996cd2952dd023"
            }
          },
          "metadata": {}
        },
        {
          "output_type": "stream",
          "name": "stdout",
          "text": [
            "\rTrain Step 1/5 | Loss(Cur/Avg): 3.891 / 3.891 | Metric(Cur/Avg): 0 / 0.0\rTrain Step 2/5 | Loss(Cur/Avg): 1.923 / 2.907 | Metric(Cur/Avg): 0 / 0.0\rTrain Step 3/5 | Loss(Cur/Avg): 1.189 / 2.334 | Metric(Cur/Avg): 0 / 0.0\rTrain Step 4/5 | Loss(Cur/Avg): 0.777 / 1.945 | Metric(Cur/Avg): 0 / 0.0\rTrain Step 5/5 | Loss(Cur/Avg): 0.518 / 1.66 | Metric(Cur/Avg): 0 / 0.0\rValid Step 1/2 | Loss(Cur/Avg): 0.276 / 0.276 | Metric(Cur/Avg): 0 / 0.0\rValid Step 2/2 | Loss(Cur/Avg): 0.239 / 0.258 | Metric(Cur/Avg): 0 / 0.0\rEpoch: 1 | LR: 1.0E-01 | train_loss: 1.66 | valid_loss: 0.258 \n",
            "----------------------------------------------------------------------------------------------------\n",
            "\rTrain Step 1/5 | Loss(Cur/Avg): 0.273 / 0.273 | Metric(Cur/Avg): 0 / 0.0\rTrain Step 2/5 | Loss(Cur/Avg): 0.154 / 0.213 | Metric(Cur/Avg): 0 / 0.0\rTrain Step 3/5 | Loss(Cur/Avg): 0.128 / 0.185 | Metric(Cur/Avg): 0 / 0.0\rTrain Step 4/5 | Loss(Cur/Avg): 0.124 / 0.17 | Metric(Cur/Avg): 0 / 0.0\rTrain Step 5/5 | Loss(Cur/Avg): 0.085 / 0.153 | Metric(Cur/Avg): 0 / 0.0\rValid Step 1/2 | Loss(Cur/Avg): 0.071 / 0.071 | Metric(Cur/Avg): 0 / 0.0\rValid Step 2/2 | Loss(Cur/Avg): 0.045 / 0.058 | Metric(Cur/Avg): 0 / 0.0\rEpoch: 2 | LR: 1.0E-01 | train_loss: 0.153 | valid_loss: 0.058 \n",
            "----------------------------------------------------------------------------------------------------\n",
            "\rTrain Step 1/5 | Loss(Cur/Avg): 0.093 / 0.093 | Metric(Cur/Avg): 0 / 0.0\rTrain Step 2/5 | Loss(Cur/Avg): 0.073 / 0.083 | Metric(Cur/Avg): 0 / 0.0\rTrain Step 3/5 | Loss(Cur/Avg): 0.062 / 0.076 | Metric(Cur/Avg): 0 / 0.0\rTrain Step 4/5 | Loss(Cur/Avg): 0.069 / 0.074 | Metric(Cur/Avg): 0 / 0.0\rTrain Step 5/5 | Loss(Cur/Avg): 0.052 / 0.07 | Metric(Cur/Avg): 0 / 0.0\rValid Step 1/2 | Loss(Cur/Avg): 0.052 / 0.052 | Metric(Cur/Avg): 0 / 0.0\rValid Step 2/2 | Loss(Cur/Avg): 0.031 / 0.041 | Metric(Cur/Avg): 0 / 0.0\rEpoch: 3 | LR: 1.0E-01 | train_loss: 0.07 | valid_loss: 0.041 \n",
            "----------------------------------------------------------------------------------------------------\n",
            "\rTrain Step 1/5 | Loss(Cur/Avg): 0.051 / 0.051 | Metric(Cur/Avg): 0 / 0.0\rTrain Step 2/5 | Loss(Cur/Avg): 0.068 / 0.059 | Metric(Cur/Avg): 0 / 0.0\rTrain Step 3/5 | Loss(Cur/Avg): 0.053 / 0.057 | Metric(Cur/Avg): 0 / 0.0\rTrain Step 4/5 | Loss(Cur/Avg): 0.065 / 0.059 | Metric(Cur/Avg): 0 / 0.0\rTrain Step 5/5 | Loss(Cur/Avg): 0.048 / 0.057 | Metric(Cur/Avg): 0 / 0.0\rValid Step 1/2 | Loss(Cur/Avg): 0.044 / 0.044 | Metric(Cur/Avg): 0 / 0.0\rValid Step 2/2 | Loss(Cur/Avg): 0.026 / 0.035 | Metric(Cur/Avg): 0 / 0.0\rEpoch: 4 | LR: 1.0E-01 | train_loss: 0.057 | valid_loss: 0.035 \n",
            "----------------------------------------------------------------------------------------------------\n",
            "\rTrain Step 1/5 | Loss(Cur/Avg): 0.051 / 0.051 | Metric(Cur/Avg): 0 / 0.0\rTrain Step 2/5 | Loss(Cur/Avg): 0.061 / 0.056 | Metric(Cur/Avg): 0 / 0.0\rTrain Step 3/5 | Loss(Cur/Avg): 0.037 / 0.05 | Metric(Cur/Avg): 0 / 0.0\rTrain Step 4/5 | Loss(Cur/Avg): 0.039 / 0.047 | Metric(Cur/Avg): 0 / 0.0\rTrain Step 5/5 | Loss(Cur/Avg): 0.063 / 0.05 | Metric(Cur/Avg): 0 / 0.0\rValid Step 1/2 | Loss(Cur/Avg): 0.039 / 0.039 | Metric(Cur/Avg): 0 / 0.0\rValid Step 2/2 | Loss(Cur/Avg): 0.022 / 0.031 | Metric(Cur/Avg): 0 / 0.0\rEpoch: 5 | LR: 1.0E-01 | train_loss: 0.05 | valid_loss: 0.031 \n",
            "----------------------------------------------------------------------------------------------------\n",
            "\rTrain Step 1/5 | Loss(Cur/Avg): 0.046 / 0.046 | Metric(Cur/Avg): 0 / 0.0\rTrain Step 2/5 | Loss(Cur/Avg): 0.045 / 0.045 | Metric(Cur/Avg): 0 / 0.0\rTrain Step 3/5 | Loss(Cur/Avg): 0.053 / 0.048 | Metric(Cur/Avg): 0 / 0.0\rTrain Step 4/5 | Loss(Cur/Avg): 0.045 / 0.047 | Metric(Cur/Avg): 0 / 0.0\rTrain Step 5/5 | Loss(Cur/Avg): 0.031 / 0.044 | Metric(Cur/Avg): 0 / 0.0\rValid Step 1/2 | Loss(Cur/Avg): 0.033 / 0.033 | Metric(Cur/Avg): 0 / 0.0\rValid Step 2/2 | Loss(Cur/Avg): 0.019 / 0.026 | Metric(Cur/Avg): 0 / 0.0\rEpoch: 6 | LR: 1.0E-01 | train_loss: 0.044 | valid_loss: 0.026 \n",
            "----------------------------------------------------------------------------------------------------\n",
            "\rTrain Step 1/5 | Loss(Cur/Avg): 0.032 / 0.032 | Metric(Cur/Avg): 0 / 0.0\rTrain Step 2/5 | Loss(Cur/Avg): 0.037 / 0.034 | Metric(Cur/Avg): 0 / 0.0\rTrain Step 3/5 | Loss(Cur/Avg): 0.032 / 0.034 | Metric(Cur/Avg): 0 / 0.0\rTrain Step 4/5 | Loss(Cur/Avg): 0.044 / 0.036 | Metric(Cur/Avg): 0 / 0.0\rTrain Step 5/5 | Loss(Cur/Avg): 0.044 / 0.038 | Metric(Cur/Avg): 0 / 0.0\rValid Step 1/2 | Loss(Cur/Avg): 0.029 / 0.029 | Metric(Cur/Avg): 0 / 0.0\rValid Step 2/2 | Loss(Cur/Avg): 0.016 / 0.023 | Metric(Cur/Avg): 0 / 0.0\rEpoch: 7 | LR: 1.0E-01 | train_loss: 0.038 | valid_loss: 0.023 \n",
            "----------------------------------------------------------------------------------------------------\n",
            "\rTrain Step 1/5 | Loss(Cur/Avg): 0.032 / 0.032 | Metric(Cur/Avg): 0 / 0.0\rTrain Step 2/5 | Loss(Cur/Avg): 0.041 / 0.037 | Metric(Cur/Avg): 0 / 0.0\rTrain Step 3/5 | Loss(Cur/Avg): 0.033 / 0.035 | Metric(Cur/Avg): 0 / 0.0\rTrain Step 4/5 | Loss(Cur/Avg): 0.033 / 0.035 | Metric(Cur/Avg): 0 / 0.0\rTrain Step 5/5 | Loss(Cur/Avg): 0.03 / 0.034 | Metric(Cur/Avg): 0 / 0.0\rValid Step 1/2 | Loss(Cur/Avg): 0.025 / 0.025 | Metric(Cur/Avg): 0 / 0.0\rValid Step 2/2 | Loss(Cur/Avg): 0.014 / 0.019 | Metric(Cur/Avg): 0 / 0.0\rEpoch: 8 | LR: 1.0E-01 | train_loss: 0.034 | valid_loss: 0.019 \n",
            "----------------------------------------------------------------------------------------------------\n",
            "\rTrain Step 1/5 | Loss(Cur/Avg): 0.027 / 0.027 | Metric(Cur/Avg): 0 / 0.0\rTrain Step 2/5 | Loss(Cur/Avg): 0.033 / 0.03 | Metric(Cur/Avg): 0 / 0.0\rTrain Step 3/5 | Loss(Cur/Avg): 0.029 / 0.03 | Metric(Cur/Avg): 0 / 0.0\rTrain Step 4/5 | Loss(Cur/Avg): 0.024 / 0.028 | Metric(Cur/Avg): 0 / 0.0\rTrain Step 5/5 | Loss(Cur/Avg): 0.032 / 0.029 | Metric(Cur/Avg): 0 / 0.0\rValid Step 1/2 | Loss(Cur/Avg): 0.022 / 0.022 | Metric(Cur/Avg): 0 / 0.0\rValid Step 2/2 | Loss(Cur/Avg): 0.012 / 0.017 | Metric(Cur/Avg): 0 / 0.0\rEpoch: 9 | LR: 1.0E-01 | train_loss: 0.029 | valid_loss: 0.017 \n",
            "----------------------------------------------------------------------------------------------------\n",
            "Epoch: 10 | LR: 1.0E-01 | train_loss: 0.025 | valid_loss: 0.015 \n",
            "----------------------------------------------------------------------------------------------------\n",
            "Epoch: 11 | LR: 1.0E-01 | train_loss: 0.022 | valid_loss: 0.012 \n",
            "----------------------------------------------------------------------------------------------------\n",
            "Epoch: 12 | LR: 1.0E-01 | train_loss: 0.019 | valid_loss: 0.011 \n",
            "----------------------------------------------------------------------------------------------------\n",
            "Epoch: 13 | LR: 1.0E-01 | train_loss: 0.017 | valid_loss: 0.009 \n",
            "----------------------------------------------------------------------------------------------------\n",
            "Epoch: 14 | LR: 1.0E-01 | train_loss: 0.015 | valid_loss: 0.008 \n",
            "----------------------------------------------------------------------------------------------------\n",
            "Epoch: 15 | LR: 1.0E-01 | train_loss: 0.013 | valid_loss: 0.007 \n",
            "----------------------------------------------------------------------------------------------------\n",
            "Epoch: 16 | LR: 1.0E-01 | train_loss: 0.011 | valid_loss: 0.006 \n",
            "----------------------------------------------------------------------------------------------------\n",
            "Epoch: 17 | LR: 1.0E-01 | train_loss: 0.01 | valid_loss: 0.005 \n",
            "----------------------------------------------------------------------------------------------------\n",
            "Epoch: 18 | LR: 1.0E-01 | train_loss: 0.009 | valid_loss: 0.004 \n",
            "----------------------------------------------------------------------------------------------------\n",
            "Epoch: 19 | LR: 1.0E-01 | train_loss: 0.008 | valid_loss: 0.004 \n",
            "----------------------------------------------------------------------------------------------------\n",
            "Epoch: 20 | LR: 1.0E-01 | train_loss: 0.007 | valid_loss: 0.003 \n",
            "----------------------------------------------------------------------------------------------------\n",
            "Epoch: 21 | LR: 1.0E-01 | train_loss: 0.006 | valid_loss: 0.003 \n",
            "----------------------------------------------------------------------------------------------------\n",
            "Epoch: 22 | LR: 1.0E-01 | train_loss: 0.005 | valid_loss: 0.002 \n",
            "----------------------------------------------------------------------------------------------------\n",
            "Epoch: 23 | LR: 1.0E-01 | train_loss: 0.005 | valid_loss: 0.002 \n",
            "----------------------------------------------------------------------------------------------------\n",
            "Epoch: 24 | LR: 1.0E-01 | train_loss: 0.004 | valid_loss: 0.002 \n",
            "----------------------------------------------------------------------------------------------------\n",
            "Epoch: 25 | LR: 1.0E-01 | train_loss: 0.004 | valid_loss: 0.002 \n",
            "----------------------------------------------------------------------------------------------------\n",
            "Epoch: 26 | LR: 1.0E-01 | train_loss: 0.003 | valid_loss: 0.001 \n",
            "----------------------------------------------------------------------------------------------------\n",
            "Epoch: 27 | LR: 1.0E-01 | train_loss: 0.003 | valid_loss: 0.001 \n",
            "----------------------------------------------------------------------------------------------------\n",
            "Epoch: 28 | LR: 1.0E-01 | train_loss: 0.003 | valid_loss: 0.001 \n",
            "----------------------------------------------------------------------------------------------------\n",
            "Epoch: 29 | LR: 1.0E-01 | train_loss: 0.002 | valid_loss: 0.001 \n",
            "----------------------------------------------------------------------------------------------------\n",
            "Epoch: 30 | LR: 1.0E-01 | train_loss: 0.002 | valid_loss: 0.001 \n",
            "----------------------------------------------------------------------------------------------------\n"
          ]
        }
      ]
    },
    {
      "cell_type": "code",
      "source": [
        "learner.model.state_dict()"
      ],
      "metadata": {
        "colab": {
          "base_uri": "https://localhost:8080/"
        },
        "id": "M1lUYnGkddvp",
        "outputId": "a2d00d9a-a94d-4fcd-c4c8-a92c05be8bd1"
      },
      "execution_count": 71,
      "outputs": [
        {
          "output_type": "execute_result",
          "data": {
            "text/plain": [
              "OrderedDict([('0.weight', tensor([[0.4515]], device='cuda:0')),\n",
              "             ('0.bias', tensor([1.0251], device='cuda:0'))])"
            ]
          },
          "metadata": {},
          "execution_count": 71
        }
      ]
    },
    {
      "cell_type": "code",
      "source": [
        "sstlearner.plot_loss_curve()"
      ],
      "metadata": {
        "colab": {
          "base_uri": "https://localhost:8080/",
          "height": 472
        },
        "id": "oUdQkVNMdq5e",
        "outputId": "39511573-c155-4a6e-865b-9fe86e35a44d"
      },
      "execution_count": 72,
      "outputs": [
        {
          "output_type": "display_data",
          "data": {
            "text/plain": [
              "<Figure size 640x480 with 1 Axes>"
            ],
            "image/png": "[encoded data removed]"
          },
          "metadata": {}
        }
      ]
    },
    {
      "cell_type": "markdown",
      "source": [
        "## Notebook Summary\n",
        "\n",
        "1. We resolved the linear regression problem by using the typical PyTorch Workflow which involves:\n",
        "    * Usage of Dataset and DataLoader\n",
        "    * Defining a `loss_fn` to optimized using an `optimizer`\n",
        "    * Building `Learner` class to encapsulate training and validation process"
      ],
      "metadata": {
        "id": "8KV-_I3l8LhE"
      }
    },
    {
      "cell_type": "code",
      "source": [],
      "metadata": {
        "id": "YXls_zKstQut"
      },
      "execution_count": null,
      "outputs": []
    }
  ]
}