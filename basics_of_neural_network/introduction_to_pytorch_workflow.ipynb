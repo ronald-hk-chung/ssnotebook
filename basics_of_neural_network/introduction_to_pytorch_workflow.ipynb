{
  "nbformat": 4,
  "nbformat_minor": 0,
  "metadata": {
    "colab": {
      "provenance": [],
      "gpuType": "T4",
      "authorship_tag": "ABX9TyOwk6ATbps+4LCoC+MCST4s",
      "include_colab_link": true
    },
    "kernelspec": {
      "name": "python3",
      "display_name": "Python 3"
    },
    "language_info": {
      "name": "python"
    },
    "accelerator": "GPU",
    "widgets": {
      "application/vnd.jupyter.widget-state+json": {
        "b31fb64bab6b41c8884893ded2ba3eba": {
          "model_module": "@jupyter-widgets/controls",
          "model_name": "HBoxModel",
          "model_module_version": "1.5.0",
          "state": {
            "_dom_classes": [],
            "_model_module": "@jupyter-widgets/controls",
            "_model_module_version": "1.5.0",
            "_model_name": "HBoxModel",
            "_view_count": null,
            "_view_module": "@jupyter-widgets/controls",
            "_view_module_version": "1.5.0",
            "_view_name": "HBoxView",
            "box_style": "",
            "children": [
              "IPY_MODEL_471095f0c61f4a6a9ef5536951500e14",
              "IPY_MODEL_b2bec133f4c649019f744d59ba69e4d9",
              "IPY_MODEL_a90f79c73f474f2e914d635da18ce198"
            ],
            "layout": "IPY_MODEL_201e43eba12549eea5d13c149781f6ef"
          }
        },
        "471095f0c61f4a6a9ef5536951500e14": {
          "model_module": "@jupyter-widgets/controls",
          "model_name": "HTMLModel",
          "model_module_version": "1.5.0",
          "state": {
            "_dom_classes": [],
            "_model_module": "@jupyter-widgets/controls",
            "_model_module_version": "1.5.0",
            "_model_name": "HTMLModel",
            "_view_count": null,
            "_view_module": "@jupyter-widgets/controls",
            "_view_module_version": "1.5.0",
            "_view_name": "HTMLView",
            "description": "",
            "description_tooltip": null,
            "layout": "IPY_MODEL_0856f162002b4a2aa1b86de54c7f767a",
            "placeholder": "​",
            "style": "IPY_MODEL_22ae9134a63a4a06b18d07959ed8a9b3",
            "value": "Epochs: 100%"
          }
        },
        "b2bec133f4c649019f744d59ba69e4d9": {
          "model_module": "@jupyter-widgets/controls",
          "model_name": "FloatProgressModel",
          "model_module_version": "1.5.0",
          "state": {
            "_dom_classes": [],
            "_model_module": "@jupyter-widgets/controls",
            "_model_module_version": "1.5.0",
            "_model_name": "FloatProgressModel",
            "_view_count": null,
            "_view_module": "@jupyter-widgets/controls",
            "_view_module_version": "1.5.0",
            "_view_name": "ProgressView",
            "bar_style": "success",
            "description": "",
            "description_tooltip": null,
            "layout": "IPY_MODEL_470934dd4a7a4e90bc3624c69a68ac65",
            "max": 5,
            "min": 0,
            "orientation": "horizontal",
            "style": "IPY_MODEL_255cc721bbd84dbba950895022671a26",
            "value": 5
          }
        },
        "a90f79c73f474f2e914d635da18ce198": {
          "model_module": "@jupyter-widgets/controls",
          "model_name": "HTMLModel",
          "model_module_version": "1.5.0",
          "state": {
            "_dom_classes": [],
            "_model_module": "@jupyter-widgets/controls",
            "_model_module_version": "1.5.0",
            "_model_name": "HTMLModel",
            "_view_count": null,
            "_view_module": "@jupyter-widgets/controls",
            "_view_module_version": "1.5.0",
            "_view_name": "HTMLView",
            "description": "",
            "description_tooltip": null,
            "layout": "IPY_MODEL_25d562a9f60d403493af3b797f2b9dc6",
            "placeholder": "​",
            "style": "IPY_MODEL_17fcee6f825e4f7e8b2393a902a60254",
            "value": " 5/5 [00:00&lt;00:00,  9.64it/s]"
          }
        },
        "201e43eba12549eea5d13c149781f6ef": {
          "model_module": "@jupyter-widgets/base",
          "model_name": "LayoutModel",
          "model_module_version": "1.2.0",
          "state": {
            "_model_module": "@jupyter-widgets/base",
            "_model_module_version": "1.2.0",
            "_model_name": "LayoutModel",
            "_view_count": null,
            "_view_module": "@jupyter-widgets/base",
            "_view_module_version": "1.2.0",
            "_view_name": "LayoutView",
            "align_content": null,
            "align_items": null,
            "align_self": null,
            "border": null,
            "bottom": null,
            "display": null,
            "flex": null,
            "flex_flow": null,
            "grid_area": null,
            "grid_auto_columns": null,
            "grid_auto_flow": null,
            "grid_auto_rows": null,
            "grid_column": null,
            "grid_gap": null,
            "grid_row": null,
            "grid_template_areas": null,
            "grid_template_columns": null,
            "grid_template_rows": null,
            "height": null,
            "justify_content": null,
            "justify_items": null,
            "left": null,
            "margin": null,
            "max_height": null,
            "max_width": null,
            "min_height": null,
            "min_width": null,
            "object_fit": null,
            "object_position": null,
            "order": null,
            "overflow": null,
            "overflow_x": null,
            "overflow_y": null,
            "padding": null,
            "right": null,
            "top": null,
            "visibility": null,
            "width": null
          }
        },
        "0856f162002b4a2aa1b86de54c7f767a": {
          "model_module": "@jupyter-widgets/base",
          "model_name": "LayoutModel",
          "model_module_version": "1.2.0",
          "state": {
            "_model_module": "@jupyter-widgets/base",
            "_model_module_version": "1.2.0",
            "_model_name": "LayoutModel",
            "_view_count": null,
            "_view_module": "@jupyter-widgets/base",
            "_view_module_version": "1.2.0",
            "_view_name": "LayoutView",
            "align_content": null,
            "align_items": null,
            "align_self": null,
            "border": null,
            "bottom": null,
            "display": null,
            "flex": null,
            "flex_flow": null,
            "grid_area": null,
            "grid_auto_columns": null,
            "grid_auto_flow": null,
            "grid_auto_rows": null,
            "grid_column": null,
            "grid_gap": null,
            "grid_row": null,
            "grid_template_areas": null,
            "grid_template_columns": null,
            "grid_template_rows": null,
            "height": null,
            "justify_content": null,
            "justify_items": null,
            "left": null,
            "margin": null,
            "max_height": null,
            "max_width": null,
            "min_height": null,
            "min_width": null,
            "object_fit": null,
            "object_position": null,
            "order": null,
            "overflow": null,
            "overflow_x": null,
            "overflow_y": null,
            "padding": null,
            "right": null,
            "top": null,
            "visibility": null,
            "width": null
          }
        },
        "22ae9134a63a4a06b18d07959ed8a9b3": {
          "model_module": "@jupyter-widgets/controls",
          "model_name": "DescriptionStyleModel",
          "model_module_version": "1.5.0",
          "state": {
            "_model_module": "@jupyter-widgets/controls",
            "_model_module_version": "1.5.0",
            "_model_name": "DescriptionStyleModel",
            "_view_count": null,
            "_view_module": "@jupyter-widgets/base",
            "_view_module_version": "1.2.0",
            "_view_name": "StyleView",
            "description_width": ""
          }
        },
        "470934dd4a7a4e90bc3624c69a68ac65": {
          "model_module": "@jupyter-widgets/base",
          "model_name": "LayoutModel",
          "model_module_version": "1.2.0",
          "state": {
            "_model_module": "@jupyter-widgets/base",
            "_model_module_version": "1.2.0",
            "_model_name": "LayoutModel",
            "_view_count": null,
            "_view_module": "@jupyter-widgets/base",
            "_view_module_version": "1.2.0",
            "_view_name": "LayoutView",
            "align_content": null,
            "align_items": null,
            "align_self": null,
            "border": null,
            "bottom": null,
            "display": null,
            "flex": null,
            "flex_flow": null,
            "grid_area": null,
            "grid_auto_columns": null,
            "grid_auto_flow": null,
            "grid_auto_rows": null,
            "grid_column": null,
            "grid_gap": null,
            "grid_row": null,
            "grid_template_areas": null,
            "grid_template_columns": null,
            "grid_template_rows": null,
            "height": null,
            "justify_content": null,
            "justify_items": null,
            "left": null,
            "margin": null,
            "max_height": null,
            "max_width": null,
            "min_height": null,
            "min_width": null,
            "object_fit": null,
            "object_position": null,
            "order": null,
            "overflow": null,
            "overflow_x": null,
            "overflow_y": null,
            "padding": null,
            "right": null,
            "top": null,
            "visibility": null,
            "width": null
          }
        },
        "255cc721bbd84dbba950895022671a26": {
          "model_module": "@jupyter-widgets/controls",
          "model_name": "ProgressStyleModel",
          "model_module_version": "1.5.0",
          "state": {
            "_model_module": "@jupyter-widgets/controls",
            "_model_module_version": "1.5.0",
            "_model_name": "ProgressStyleModel",
            "_view_count": null,
            "_view_module": "@jupyter-widgets/base",
            "_view_module_version": "1.2.0",
            "_view_name": "StyleView",
            "bar_color": null,
            "description_width": ""
          }
        },
        "25d562a9f60d403493af3b797f2b9dc6": {
          "model_module": "@jupyter-widgets/base",
          "model_name": "LayoutModel",
          "model_module_version": "1.2.0",
          "state": {
            "_model_module": "@jupyter-widgets/base",
            "_model_module_version": "1.2.0",
            "_model_name": "LayoutModel",
            "_view_count": null,
            "_view_module": "@jupyter-widgets/base",
            "_view_module_version": "1.2.0",
            "_view_name": "LayoutView",
            "align_content": null,
            "align_items": null,
            "align_self": null,
            "border": null,
            "bottom": null,
            "display": null,
            "flex": null,
            "flex_flow": null,
            "grid_area": null,
            "grid_auto_columns": null,
            "grid_auto_flow": null,
            "grid_auto_rows": null,
            "grid_column": null,
            "grid_gap": null,
            "grid_row": null,
            "grid_template_areas": null,
            "grid_template_columns": null,
            "grid_template_rows": null,
            "height": null,
            "justify_content": null,
            "justify_items": null,
            "left": null,
            "margin": null,
            "max_height": null,
            "max_width": null,
            "min_height": null,
            "min_width": null,
            "object_fit": null,
            "object_position": null,
            "order": null,
            "overflow": null,
            "overflow_x": null,
            "overflow_y": null,
            "padding": null,
            "right": null,
            "top": null,
            "visibility": null,
            "width": null
          }
        },
        "17fcee6f825e4f7e8b2393a902a60254": {
          "model_module": "@jupyter-widgets/controls",
          "model_name": "DescriptionStyleModel",
          "model_module_version": "1.5.0",
          "state": {
            "_model_module": "@jupyter-widgets/controls",
            "_model_module_version": "1.5.0",
            "_model_name": "DescriptionStyleModel",
            "_view_count": null,
            "_view_module": "@jupyter-widgets/base",
            "_view_module_version": "1.2.0",
            "_view_name": "StyleView",
            "description_width": ""
          }
        }
      }
    }
  },
  "cells": [
    {
      "cell_type": "markdown",
      "metadata": {
        "id": "view-in-github",
        "colab_type": "text"
      },
      "source": [
        "<a href=\"https://colab.research.google.com/github/ronald-hk-chung/ssnotebook/blob/main/basics_of_neural_network/introduction_to_pytorch_workflow.ipynb\" target=\"_parent\"><img src=\"https://colab.research.google.com/assets/colab-badge.svg\" alt=\"Open In Colab\"/></a>"
      ]
    },
    {
      "cell_type": "markdown",
      "source": [
        "# Introduction to PyTorch Workflow\n",
        "\n",
        "Mission Statement:\n",
        "\n",
        "1. Usage of Dataset and DataLoader for model training\n",
        "2. Building `Learner` class for typical train/valid loop for model training\n",
        "3. Using `SSTLearner` class from `sstorch` package for training loop boilerplate\n"
      ],
      "metadata": {
        "id": "6ivfsXSYrps0"
      }
    },
    {
      "cell_type": "markdown",
      "source": [
        "## PyTorch Workflow Steps\n",
        "\n",
        "Training pipline should be divided into 3 steps:\n",
        "\n",
        "1. Data Preparation\n",
        "2. Model Configuration\n",
        "3. Model Training\n",
        "\n",
        "A typical PyTorch Model Training will look like below:\n",
        "\n",
        "```python\n",
        "for X, y in DataLoader:\n",
        "    y_pred = model(x)\n",
        "    loss = loss_func(y_pred, y)\n",
        "    loss.backward()\n",
        "    optimizer.step()\n",
        "    optimizer.zero_grad()\n",
        "```\n",
        "\n",
        "As we start to build up on our analysis, global training loop can get messy very quickly. This notebook focus on the simplifing Model Training Step. We will built up the `sstorch` main learner package which supports typical PyTorch Model Training workflow\n",
        "\n",
        "GitHub Repo: https://github.com/ronald-hk-chung/sstorch\n",
        "\n",
        "The aim is to build a Model Training class `SSTLearner` encapsulating the basic train/valid loop for deep-learning in PyTorch, we can ensure code organisation which is important for further studies. Note that `SSTLearner` class has other added function including `LRFinder` and other `Callback` that can be customized and added to the typical training/valid loop process.\n",
        "\n",
        "For full documentation: https://ronald-hk-chung.github.io/sstorch/\n",
        "\n",
        "\n"
      ],
      "metadata": {
        "id": "dlPiKTEnSvFC"
      }
    },
    {
      "cell_type": "markdown",
      "source": [
        "## Synthetic Data from Linear Regression\n",
        "\n",
        "$y = w \\times X + b + noise$\n"
      ],
      "metadata": {
        "id": "LjZGuIgJdlE4"
      }
    },
    {
      "cell_type": "code",
      "source": [
        "import torch\n",
        "import matplotlib.pyplot as plt\n",
        "\n",
        "# To ensure reproducibility\n",
        "torch.manual_seed(42)\n",
        "\n",
        "# Generating synthetic data\n",
        "X = torch.rand(1000, 1) # random numbers from a uniform distribution on the interval (0, 1)\n",
        "w_true, b_true = 0.5, 1\n",
        "noise = torch.randn(1000, 1) * 0.03\n",
        "y = w_true * X + b_true + noise\n",
        "\n",
        "# Plot synthetic data\n",
        "fig, ax = plt.subplots(1, 1, sharey=True, figsize=(5,5))\n",
        "ax.scatter(X, y, color=\"b\")\n",
        "ax.set_title(\"Synthetic Training Data\");"
      ],
      "metadata": {
        "colab": {
          "base_uri": "https://localhost:8080/",
          "height": 468
        },
        "id": "MaUuhqJ8dvWL",
        "outputId": "056df3c0-fe1a-4b29-f85b-0cdb89cfa06a"
      },
      "execution_count": 1,
      "outputs": [
        {
          "output_type": "display_data",
          "data": {
            "text/plain": [
              "<Figure size 500x500 with 1 Axes>"
            ],
            "image/png": "[encoded data removed]"
          },
          "metadata": {}
        }
      ]
    },
    {
      "cell_type": "code",
      "source": [
        "# Splitting into train/valid data\n",
        "from sklearn.model_selection import train_test_split\n",
        "X_train, X_valid, y_train, y_valid = train_test_split(X, y, test_size=0.2)"
      ],
      "metadata": {
        "id": "yXhZAesJ-Jhn"
      },
      "execution_count": 2,
      "outputs": []
    },
    {
      "cell_type": "markdown",
      "source": [
        "## Dataset\n",
        "\n",
        "Full Reference: https://pytorch.org/docs/stable/data.html\n",
        "\n",
        "In PyTorch, a **dataset** is represented by a regular Python class that inherits from the `Dataset` class\n",
        "\n",
        "The most fundamental methods it needs to impliemnt are\n",
        "\n",
        "*   `__init__(self)`: The constructor method takes the argument needed to build a list of tuples. Note that there is no need to load the whole dataset in the construtor method. If the dataset is large, loading it all at one would not be memory efficient. It is recommeded to load them on demand (whenever `__getitem__()` is called. It's typically used to store some essential locations like file paths and image transforms.\n",
        "\n",
        "*   `__getitem__(self, idx)`: This method allow the dataset to be indexed so that it can work like a list **(dataset[idx])**. This should return a single data sample from athe dataset at a given index. The `__getitem__` method is where the actual dataloading and the preprocessing takes place. It takes an index as input and returns a data point, whcih can be a tensor or a ditionary of tensors. This method is used by `DataLoader` class to load and preprocess the data.\n",
        "\n",
        "* `__len__(self)`: This shoudl return the size of the whole dataset. The indexing is limited to the actual size.\n",
        "\n",
        "Below shows the sameple of creating **Custom Dataset** for our simple Linear regression data.\n",
        "\n"
      ],
      "metadata": {
        "id": "9bZJrqkv5l13"
      }
    },
    {
      "cell_type": "code",
      "source": [
        "from torch.utils.data import Dataset\n",
        "\n",
        "class CustomDataset(Dataset):\n",
        "    def __init__(self, X, y):\n",
        "        self.X = X\n",
        "        self.y = y\n",
        "\n",
        "    def __len__(self):\n",
        "        return len(self.X)\n",
        "\n",
        "    def __getitem__(self, idx):\n",
        "        return self.X[idx], self.y[idx]\n",
        "\n",
        "train_data = CustomDataset(X_train, y_train)\n",
        "valid_data = CustomDataset(X_valid, y_valid)"
      ],
      "metadata": {
        "id": "djVSLh1v1r6W"
      },
      "execution_count": 3,
      "outputs": []
    },
    {
      "cell_type": "code",
      "source": [
        "print(train_data[0])"
      ],
      "metadata": {
        "colab": {
          "base_uri": "https://localhost:8080/"
        },
        "id": "ICiuUFgj21o0",
        "outputId": "6f48fc56-cfe1-4e78-9859-fa4e16ca861d"
      },
      "execution_count": 4,
      "outputs": [
        {
          "output_type": "stream",
          "name": "stdout",
          "text": [
            "(tensor([0.8801]), tensor([1.4618]))\n"
          ]
        }
      ]
    },
    {
      "cell_type": "markdown",
      "source": [
        "## TensorDataset\n",
        "\n",
        "For our small Dataset, we can just simply use `TensorDataset` class to create a dataset."
      ],
      "metadata": {
        "id": "Th-2OBv0eI5o"
      }
    },
    {
      "cell_type": "code",
      "source": [
        "from torch.utils.data import TensorDataset\n",
        "\n",
        "train_data = TensorDataset(X_train, y_train)\n",
        "valid_data = TensorDataset(X_valid, y_valid)\n",
        "print(train_data[0])"
      ],
      "metadata": {
        "colab": {
          "base_uri": "https://localhost:8080/"
        },
        "id": "aACDFwtX2_zs",
        "outputId": "5e302cc8-eda9-40d4-db9c-d82c6135195a"
      },
      "execution_count": 5,
      "outputs": [
        {
          "output_type": "stream",
          "name": "stdout",
          "text": [
            "(tensor([0.8801]), tensor([1.4618]))\n"
          ]
        }
      ]
    },
    {
      "cell_type": "markdown",
      "source": [
        "## DataLoader\n",
        "\n",
        "While it is ok to use the whole training data for a small data set to perform **batch gradient descent**, computation and memory will become an issue for big dataset and **mini-batch gradient descent**.\n",
        "\n",
        "**DataLoader** class to let our **Dataset** behave like an iterator by desciding on the **mini-batch-size** and to **shuffle** our Dataset during our training.\n",
        "\n",
        "There are a few important parameters to note when setting up the DataLoader:\n",
        "\n",
        "*   `shuffle`\n",
        "\n",
        "    Note that for the majority of cases except Time Series problem, we shoudl set `shuffle=True` for our trainiing set to improve the performance of gradient descent. There is no need ot shuffle validation set given we are are not computing gradient with it.\n",
        "\n",
        "    It is also possible to use it together with a **sampler** to fetch mini-batches that compensate for imablanced classes\n",
        "\n",
        "*   `batch_size`\n",
        "\n",
        "    It is typical to use powers of 2 for mini-batch sizes, like 16, 32, 64 or 128. and 32 seems to be the choice for most people. The main consideration for `batch_size` is the GPU memory\n",
        "\n",
        "*   `drop_last`\n",
        "\n",
        "    set to True to drop the last incomplete batch, if the dataset size is not divisible by the batch size. If False and the size of dataset is not divisible by the batch size, then the last batch will be smaller. (default: False)\n",
        "\n",
        "*   `pin_memory`\n",
        "\n",
        "     If True, the data loader will copy Tensors into device/CUDA pinned memory before returning them. If your data elements are a custom type, or your collate_fn returns a batch that is a custom type, see the example below.\n",
        "\n",
        "*   `num_workers`\n",
        "\n",
        "    how many subprocesses to use for data loading. 0 means that the data will be loaded in the main process. (default: 0)\n"
      ],
      "metadata": {
        "id": "jlu9vLO43bfk"
      }
    },
    {
      "cell_type": "code",
      "source": [
        "from torch.utils.data import DataLoader\n",
        "\n",
        "train_dataloader = DataLoader(\n",
        "    dataset=train_data,\n",
        "    batch_size=16,\n",
        "    shuffle=True,\n",
        "    drop_last=True\n",
        ")\n",
        "\n",
        "valid_dataloader = DataLoader(\n",
        "    dataset=valid_data,\n",
        "    batch_size=16,\n",
        "    shuffle=False,\n",
        "    drop_last=True\n",
        ")"
      ],
      "metadata": {
        "id": "sh2kJgzq6SaU"
      },
      "execution_count": 6,
      "outputs": []
    },
    {
      "cell_type": "markdown",
      "source": [
        "below command can help to retreive a mini-batch"
      ],
      "metadata": {
        "id": "n1BlruT86lWJ"
      }
    },
    {
      "cell_type": "code",
      "source": [
        "next(iter(train_dataloader))"
      ],
      "metadata": {
        "colab": {
          "base_uri": "https://localhost:8080/"
        },
        "id": "f__xgbX46kyb",
        "outputId": "a139f6a8-fa58-4865-a9ed-52d7021f6959"
      },
      "execution_count": 7,
      "outputs": [
        {
          "output_type": "execute_result",
          "data": {
            "text/plain": [
              "[tensor([[0.0397],\n",
              "         [0.7617],\n",
              "         [0.9328],\n",
              "         [0.7797],\n",
              "         [0.3489],\n",
              "         [0.3423],\n",
              "         [0.6721],\n",
              "         [0.7565],\n",
              "         [0.7378],\n",
              "         [0.9021],\n",
              "         [0.2846],\n",
              "         [0.1184],\n",
              "         [0.9837],\n",
              "         [0.9357],\n",
              "         [0.1626],\n",
              "         [0.1165]]),\n",
              " tensor([[1.0229],\n",
              "         [1.3369],\n",
              "         [1.4759],\n",
              "         [1.4197],\n",
              "         [1.2162],\n",
              "         [1.1582],\n",
              "         [1.3548],\n",
              "         [1.3649],\n",
              "         [1.3579],\n",
              "         [1.4319],\n",
              "         [1.1333],\n",
              "         [1.0987],\n",
              "         [1.5271],\n",
              "         [1.4246],\n",
              "         [1.0094],\n",
              "         [1.0740]])]"
            ]
          },
          "metadata": {},
          "execution_count": 7
        }
      ]
    },
    {
      "cell_type": "markdown",
      "source": [
        "## Defining the Model\n",
        "\n",
        "In PyTorch, a model is represented by a regular Python class that inherits from the `nn.Module` class. The `nn.Module` class serves as a blueprint for a specific component of your network where\n",
        "\n",
        "*   **Encapsulation**: Modules neatly package together the tranable parameters (weights and biases) of the model's layers. Note that Module can also cantain other Modules, allowing to build complex hierarchies.\n",
        "*   **Statefulness**: Modules remember their parameters and inernal state, essentailly sotring what they have learned during training.\n",
        "*   **Composability**: Like building blocks, Modules can be connected to form intricate neural networks.\n",
        "\n",
        "One of the most crucial aspects of a Module is its ability ot manage its parameters.\n",
        "\n",
        "1. **Parameter Registration**: When variables are defined within a Module's constructor `__init__` PyTorch function like `nn.Linear` are automatrically registered to the Module as parameters\n",
        "\n",
        "2. **Parameter Access**: Pytorch allow access to Module's parameters in several ways. `module.parameters()` return an iterator to access all parameters. `module.state_dict()` returns an `OrderedDict` containing all parameters and their values.\n",
        "\n",
        "3. **Optimization**: During training, PyTorch optimizer (like Adam, SGD) specifically iterate over the parameters registered within a Module, updating them to minimize the loss function.\n",
        "\n",
        "<br/>\n",
        "\n",
        "Each model inheriting an `nn.Module` class should have\n",
        "1. `__init__()` method to initialising the class variables\n",
        "2. `forward()` method for forward-passing the input tensor into output"
      ],
      "metadata": {
        "id": "j0RW6x6OS43_"
      }
    },
    {
      "cell_type": "markdown",
      "source": [
        "**`__init__()` method in `nn.Module1`**"
      ],
      "metadata": {
        "id": "vU4CUvD2wray"
      }
    },
    {
      "cell_type": "code",
      "source": [
        "import torch.nn as nn\n",
        "\n",
        "class LinearRegression(nn.Module):\n",
        "    def __init__(self):\n",
        "        super().__init__()\n",
        "        self.b = nn.Parameter(torch.randn(1, requires_grad=True, dtype=torch.float))\n",
        "        self.w = nn.Parameter(torch.randn(1, requires_grad=True, dtype=torch.float))\n",
        "\n",
        "    def forward(self, X):\n",
        "        return self.w * X + self.b\n",
        "\n",
        "model = LinearRegression()\n",
        "model"
      ],
      "metadata": {
        "colab": {
          "base_uri": "https://localhost:8080/"
        },
        "id": "rvWQZo5Hv8DU",
        "outputId": "7ef0415e-4a15-493c-f554-5670214f8434"
      },
      "execution_count": 25,
      "outputs": [
        {
          "output_type": "execute_result",
          "data": {
            "text/plain": [
              "LinearRegression()"
            ]
          },
          "metadata": {},
          "execution_count": 25
        }
      ]
    },
    {
      "cell_type": "markdown",
      "source": [
        "In the `__init__()` method, 2 parameters b and w where defined using `nn.Parameter` class. When attribute are definied within our custom module, its flagged as a parameter that needs to be tracked. This is done by `nn.Module` class overloading the `__setattr__` method that is responsible for setting attributes.\n",
        "\n",
        "<br/>\n",
        "\n",
        "**To access the parameters**\n",
        "\n",
        "1. Using `parameters()` method that return an iterator to access all parameters\n",
        "\n",
        "Under the hood, `parameter()` method is implimented as:\n",
        "\n",
        "```python\n",
        "def parameter(self):\n",
        "    yield self.b\n",
        "    yield self.w\n",
        "```"
      ],
      "metadata": {
        "id": "6apC1H87v_fd"
      }
    },
    {
      "cell_type": "code",
      "source": [
        "list(model.parameters())"
      ],
      "metadata": {
        "colab": {
          "base_uri": "https://localhost:8080/"
        },
        "id": "NX-XJniWwDTD",
        "outputId": "b6235dd0-3061-41d8-8837-f97002d6821d"
      },
      "execution_count": 26,
      "outputs": [
        {
          "output_type": "execute_result",
          "data": {
            "text/plain": [
              "[Parameter containing:\n",
              " tensor([0.2388], requires_grad=True),\n",
              " Parameter containing:\n",
              " tensor([-0.5218], requires_grad=True)]"
            ]
          },
          "metadata": {},
          "execution_count": 26
        }
      ]
    },
    {
      "cell_type": "markdown",
      "source": [
        "2. `module.state_dict()` returns an `OrderedDict` containing all parameters and their values. Note that only learnable parameters are included as its purpose is to keep track of parameters that are going to be updated by the optimizer."
      ],
      "metadata": {
        "id": "LxUvOVSMwJzL"
      }
    },
    {
      "cell_type": "code",
      "source": [
        "model.state_dict()"
      ],
      "metadata": {
        "colab": {
          "base_uri": "https://localhost:8080/"
        },
        "id": "p6USWpJkwLXX",
        "outputId": "a717e1dd-a75d-49a0-8d7c-7f9113e1a54e"
      },
      "execution_count": 27,
      "outputs": [
        {
          "output_type": "execute_result",
          "data": {
            "text/plain": [
              "OrderedDict([('b', tensor([0.2388])), ('w', tensor([-0.5218]))])"
            ]
          },
          "metadata": {},
          "execution_count": 27
        }
      ]
    },
    {
      "cell_type": "markdown",
      "source": [
        "**`forward()` vs. `__call__()` Method**\n",
        "\n",
        "The goal of the `forward()` is to encapsoluate the forward pass computation. Note that `forward()` is called in the `__call__` function. Under the hood, the `__call__` method performs some additional bookkeeping to ensure that the `hooks` are properly registered.\n",
        "\n",
        "`forward(x)` method should not be called directly. You should call the whole model itself, as in model(x) to perform a forward pass and output predictions."
      ],
      "metadata": {
        "id": "xmw89SFvwN4n"
      }
    },
    {
      "cell_type": "markdown",
      "source": [
        "## Sending the model to GPU device\n",
        "\n",
        "GPU Acceleration: Modern deep learning heavily relies on GPUs (Graphics Processing Units), which excel at parallel computations. Tensors are ideally suited for GPU acceleration; their structure naturally aligns with how GPUs carry out mathematical operations.\n",
        "\n",
        "We need to make sure our model and the data are on the same device"
      ],
      "metadata": {
        "id": "8_03WxXrxUvN"
      }
    },
    {
      "cell_type": "code",
      "source": [
        "# Check what GPU we are using\n",
        "!nvidia-smi"
      ],
      "metadata": {
        "colab": {
          "base_uri": "https://localhost:8080/"
        },
        "id": "nOsjMnDpxW1u",
        "outputId": "63ff2456-a541-4e77-f639-692c7fc336d2"
      },
      "execution_count": 28,
      "outputs": [
        {
          "output_type": "stream",
          "name": "stdout",
          "text": [
            "Mon Apr 29 12:27:45 2024       \n",
            "+---------------------------------------------------------------------------------------+\n",
            "| NVIDIA-SMI 535.104.05             Driver Version: 535.104.05   CUDA Version: 12.2     |\n",
            "|-----------------------------------------+----------------------+----------------------+\n",
            "| GPU  Name                 Persistence-M | Bus-Id        Disp.A | Volatile Uncorr. ECC |\n",
            "| Fan  Temp   Perf          Pwr:Usage/Cap |         Memory-Usage | GPU-Util  Compute M. |\n",
            "|                                         |                      |               MIG M. |\n",
            "|=========================================+======================+======================|\n",
            "|   0  Tesla T4                       Off | 00000000:00:04.0 Off |                    0 |\n",
            "| N/A   71C    P0              32W /  70W |    105MiB / 15360MiB |      0%      Default |\n",
            "|                                         |                      |                  N/A |\n",
            "+-----------------------------------------+----------------------+----------------------+\n",
            "                                                                                         \n",
            "+---------------------------------------------------------------------------------------+\n",
            "| Processes:                                                                            |\n",
            "|  GPU   GI   CI        PID   Type   Process name                            GPU Memory |\n",
            "|        ID   ID                                                             Usage      |\n",
            "|=======================================================================================|\n",
            "+---------------------------------------------------------------------------------------+\n"
          ]
        }
      ]
    },
    {
      "cell_type": "code",
      "source": [
        "device = \"cuda\" if torch.cuda.is_available() else \"cpu\"\n",
        "\n",
        "# Send model and data to the same device\n",
        "model.to(device)\n",
        "X, y = X.to(device), y.to(device)"
      ],
      "metadata": {
        "id": "ng9wGuPexZ1W"
      },
      "execution_count": 29,
      "outputs": []
    },
    {
      "cell_type": "markdown",
      "source": [
        "## Optimizer for gradient descent\n",
        "\n",
        "There are many optimizers under `torch.optim`.\n",
        "\n",
        "For `torch.optim` reference: https://pytorch.org/docs/stable/optim.html#module-torch.optim\n",
        "\n",
        "`SGD` is the most basic of them and `Adam` is one of the most popular. Different optimizers use different mechanics for updating the parameters.\n",
        "\n",
        "PyTorch opimitzers (like **SGD** or **Adam**)\n",
        "\n",
        "`step()` method takes the parameters we want to update, the learning rate we want to use and performs the updates through its . This replaces the manual updating of parameters in the training loop.\n",
        "\n",
        "`zero_grad()` method zero out all gradients in the model after `backward()`\n",
        "\n",
        "Below shows the most basic optimizer implimentation:\n"
      ],
      "metadata": {
        "id": "12m3VwZ1UlUj"
      }
    },
    {
      "cell_type": "code",
      "source": [
        "class BasicOptim:\n",
        "  def __init__(self, params, lr):\n",
        "    self.params = params\n",
        "\n",
        "  def step(self):\n",
        "    self.params.data -= self.lr * self.params.grad\n",
        "\n",
        "  def zero_grad(self):\n",
        "    self.params.grad = None\n",
        "\n",
        "basic_optimizer = BasicOptim(params=model.parameters(), lr=0.1)\n",
        "basic_optimizer"
      ],
      "metadata": {
        "colab": {
          "base_uri": "https://localhost:8080/"
        },
        "id": "wTD0s03DynUf",
        "outputId": "33f900c4-7970-46ef-8c56-54404ff9ed60"
      },
      "execution_count": 30,
      "outputs": [
        {
          "output_type": "execute_result",
          "data": {
            "text/plain": [
              "<__main__.BasicOptim at 0x7893b60877c0>"
            ]
          },
          "metadata": {},
          "execution_count": 30
        }
      ]
    },
    {
      "cell_type": "markdown",
      "source": [
        "For better model training, we should use the pre-built optimizer from `torch.optim`, below shows an example of **SGD Optimizer**"
      ],
      "metadata": {
        "id": "TF4vmuth0bFt"
      }
    },
    {
      "cell_type": "code",
      "source": [
        "import torch.optim as optim\n",
        "\n",
        "optimizer = optim.SGD(params=model.parameters(), lr=0.1)\n",
        "optimizer.state_dict()"
      ],
      "metadata": {
        "colab": {
          "base_uri": "https://localhost:8080/"
        },
        "id": "KL2jvV14yv-6",
        "outputId": "a83c3d35-fe93-46dc-ddd4-d573ea7257ac"
      },
      "execution_count": 31,
      "outputs": [
        {
          "output_type": "execute_result",
          "data": {
            "text/plain": [
              "{'state': {},\n",
              " 'param_groups': [{'lr': 0.1,\n",
              "   'momentum': 0,\n",
              "   'dampening': 0,\n",
              "   'weight_decay': 0,\n",
              "   'nesterov': False,\n",
              "   'maximize': False,\n",
              "   'foreach': None,\n",
              "   'differentiable': False,\n",
              "   'params': [0, 1]}]}"
            ]
          },
          "metadata": {},
          "execution_count": 31
        }
      ]
    },
    {
      "cell_type": "markdown",
      "source": [
        "Note that optimizer itself also has a state_dict() which contains its internal state as well as hyper-parameters.\n",
        "\n"
      ],
      "metadata": {
        "id": "G3nS-lP3y1kz"
      }
    },
    {
      "cell_type": "markdown",
      "source": [
        "## Defining a Loss Function\n",
        "\n",
        "To tackle the loss computation. PyTorch has a variety of loss function to choose from under `torch.nn`\n",
        "\n",
        "Reference: https://pytorch.org/docs/stable/nn.html\n",
        "\n",
        "For our linear regression problem, we are using the mean squared error(MSE) as loss function - `nn.MSELoss()`\n",
        "\n",
        "for full reference on the `nn.MSELoss()` - https://pytorch.org/docs/stable/generated/torch.nn.MSELoss.html#torch.nn.MSELoss"
      ],
      "metadata": {
        "id": "wR-lsz55T6aW"
      }
    },
    {
      "cell_type": "code",
      "source": [
        "# Define an MSE loss function\n",
        "loss_fn = nn.MSELoss(reduction='mean')\n",
        "loss_fn"
      ],
      "metadata": {
        "colab": {
          "base_uri": "https://localhost:8080/"
        },
        "id": "WSarsHTpT2mn",
        "outputId": "3da53f38-5103-4bd4-c7c0-7bbec81b7c76"
      },
      "execution_count": 32,
      "outputs": [
        {
          "output_type": "execute_result",
          "data": {
            "text/plain": [
              "MSELoss()"
            ]
          },
          "metadata": {},
          "execution_count": 32
        }
      ]
    },
    {
      "cell_type": "markdown",
      "source": [
        "## Defining the main Learner class\n",
        "\n",
        "**The Constructor**\n",
        "\n",
        "The constructor defines the attributes/arguments that make up the class. For the basic model training, we need to define 4 arguments:\n",
        "*   model\n",
        "*   loss\n",
        "*   optimizer\n",
        "*   data\n",
        "\n",
        "While conceptually data is not part of the model, it is the input that we need ot use to train the model and should be included as an argument. We will initialised with None and add a method `set_loader` that can be used to supply the data (or even swap the dataset) at a later time.\n",
        "\n",
        "In the constructor, we also initialise below:\n",
        "*   **placeholders** for objects that are not available at the moment of creation\n",
        "*   **variables** that we may want to keep track\n",
        "\n",
        "\n",
        "**Train Method**\n",
        "\n",
        "In the `train()` method, we need to add the **epoch-loop** where we set the training to go through a specified number of epochs (an input to the method). Moreoer, we also added the saving of results under `results` dictionary inside the `Learner` class\n",
        "\n",
        "\n",
        "**Train loop and Valid Loop**\n",
        "\n",
        "Inside the `train()` method, we define both `_train_loop()` and `_valid_loop()` which are both protected method indicated by the \"_\" in front of the name. The main intention for the train loop is to perform gradient descent. Note that the batch data is set to GPU inside each **mini-batch-loop**.\n",
        "\n",
        "\n",
        "**Train Step and Valid Step**\n",
        "\n",
        "This is the actual **Step** taken the calculate the loss. The reason for seperating this **Step** out is to ensure flexibility for different models. Note that we can subclass `Learner` class to override the `train_step()` and `valid_step()` method for more complex **step**\n",
        "\n",
        "Below shows the main construction of our `Learner` Class"
      ],
      "metadata": {
        "id": "WdI6-uaH0-Qs"
      }
    },
    {
      "cell_type": "code",
      "source": [
        "class Learner:\n",
        "    def __init__(self, model, loss_fn, train_dataloader, valid_dataloader):\n",
        "        # define attributes for learner class including model, loss_fn, optimizer and train_dl\n",
        "        self.model = model\n",
        "        self.loss_fn = loss_fn\n",
        "        self.optimizer = self.configure_optimizer()\n",
        "        self.train_dataloader = train_dataloader\n",
        "        self.valid_dataloader = valid_dataloader\n",
        "\n",
        "        # Set attributes that are going to be computed internally\n",
        "        self.total_epochs = 0\n",
        "        self.batch = None\n",
        "        self.loss = None    # loss from train/valid step\n",
        "        self.train_loss = None  # intermediate aggregate/avg train_loss during _train_loop\n",
        "        self.valid_loss = None  # intermediate aggregate/avg valid_loss during _valid_loop\n",
        "        self.results = {\n",
        "            'train_loss': [],\n",
        "            'valid_loss': []\n",
        "        }\n",
        "        # Setting up device agnostic code\n",
        "        self.device = torch.device('cuda' if torch.cuda.is_available() else 'cpu')\n",
        "        # send model to GPU if available\n",
        "        self.model.to(self.device)\n",
        "\n",
        "    def configure_optimizer(self):\n",
        "        return torch.optim.SGD(params=self.model.parameters(),\n",
        "                               lr=0.1)\n",
        "\n",
        "    def train(self, epochs):\n",
        "        # perform train on specified number of epochs\n",
        "        for epoch in range(epochs):\n",
        "            # increment total_epochs\n",
        "            self.total_epochs += 1\n",
        "            # perform train_loop and valid_loop\n",
        "            self._train_loop()\n",
        "            self._valid_loop()\n",
        "            self.results['train_loss'].append(self.train_loss)\n",
        "            self.results['valid_loss'].append(self.valid_loss)\n",
        "            print(f'Epoch: {epoch} | Train Loss: {self.train_loss:.3f} | Valid Loss: {self.valid_loss:.3f}')\n",
        "\n",
        "    def _train_loop(self):\n",
        "        # put model into train mode - default state of model\n",
        "        self.model.train()\n",
        "        # initialise train_loss to 0\n",
        "        self.train_loss = 0\n",
        "        # Perform the PyTorch train Loop with gradient descent\n",
        "        for batch_num, batch in enumerate(self.train_dataloader):\n",
        "            # Send batch to GPU if available\n",
        "            self.batch = [tensor.to(self.device) for tensor in batch]\n",
        "            # train_step to perform forward pass to return loss\n",
        "            self.loss = self.train_step()\n",
        "            # aggregate train_loss\n",
        "            self.train_loss += self.loss.item()\n",
        "            # gradient descent using optimizer\n",
        "            self.loss.backward()\n",
        "            self.optimizer.step()\n",
        "            self.optimizer.zero_grad()\n",
        "        # take the average by dividing the aggregate train_loss to batch_num\n",
        "        self.train_loss /= len(self.train_dataloader)\n",
        "\n",
        "    def _valid_loop(self):\n",
        "        # put model into eval mode\n",
        "        self.model.eval()\n",
        "        # initialise valid_loss to 0\n",
        "        self.valid_loss = 0\n",
        "        # use torch.inference_mode as a context manager\n",
        "        # turns off gradient tracking which is not needed for validation\n",
        "        with torch.inference_mode():\n",
        "            for batch_num, batch in enumerate(self.valid_dataloader):\n",
        "                # Send batch to GPU if available\n",
        "                self.batch = [tensor.to(self.device) for tensor in batch]\n",
        "                self.loss = self.valid_step()\n",
        "                self.valid_loss += self.loss.item()\n",
        "            self.valid_loss /= len(self.valid_dataloader)\n",
        "\n",
        "    def train_step(self):\n",
        "        X, y = self.batch\n",
        "        y_logits = self.model(X)\n",
        "        loss = self.loss_fn(y_logits, y)\n",
        "        return loss\n",
        "\n",
        "    def valid_step(self):\n",
        "        X, y = self.batch\n",
        "        y_logits = self.model(X)\n",
        "        loss = self.loss_fn(y_logits, y)\n",
        "        return loss\n"
      ],
      "metadata": {
        "id": "UtO3w2Pu3MvT"
      },
      "execution_count": 33,
      "outputs": []
    },
    {
      "cell_type": "markdown",
      "source": [
        "## Putting it all together with the Learner class"
      ],
      "metadata": {
        "id": "gGC0js37UK9Z"
      }
    },
    {
      "cell_type": "code",
      "source": [
        "learner = Learner(model=LinearRegression(),\n",
        "                  loss_fn=nn.MSELoss(reduction='mean'),\n",
        "                  train_dataloader=train_dataloader,\n",
        "                  valid_dataloader=valid_dataloader)"
      ],
      "metadata": {
        "id": "91LmCfZPUOdF"
      },
      "execution_count": 34,
      "outputs": []
    },
    {
      "cell_type": "code",
      "source": [
        "learner.train(5)"
      ],
      "metadata": {
        "colab": {
          "base_uri": "https://localhost:8080/"
        },
        "id": "uRIYg6naY7du",
        "outputId": "a9473f10-6454-467a-ecfc-292907e0a210"
      },
      "execution_count": 35,
      "outputs": [
        {
          "output_type": "stream",
          "name": "stdout",
          "text": [
            "Epoch: 0 | Train Loss: 0.050 | Valid Loss: 0.017\n",
            "Epoch: 1 | Train Loss: 0.010 | Valid Loss: 0.005\n",
            "Epoch: 2 | Train Loss: 0.003 | Valid Loss: 0.002\n",
            "Epoch: 3 | Train Loss: 0.002 | Valid Loss: 0.001\n",
            "Epoch: 4 | Train Loss: 0.001 | Valid Loss: 0.001\n"
          ]
        }
      ]
    },
    {
      "cell_type": "code",
      "source": [
        "learner.model.state_dict()"
      ],
      "metadata": {
        "colab": {
          "base_uri": "https://localhost:8080/"
        },
        "id": "0f9uRPmXbQYv",
        "outputId": "f8de0f74-10e7-4b48-bb46-61984167b29d"
      },
      "execution_count": 36,
      "outputs": [
        {
          "output_type": "execute_result",
          "data": {
            "text/plain": [
              "OrderedDict([('b', tensor([1.0105], device='cuda:0')),\n",
              "             ('w', tensor([0.4719], device='cuda:0'))])"
            ]
          },
          "metadata": {},
          "execution_count": 36
        }
      ]
    },
    {
      "cell_type": "markdown",
      "source": [
        "Our model predict the correct parameters for `b` and `w`"
      ],
      "metadata": {
        "id": "ToAiZFbl09ly"
      }
    },
    {
      "cell_type": "markdown",
      "source": [
        "## Nested Models under nn.Module\n",
        "\n",
        "We can use PyTorch model as an attribute to our own model to created a nested model.\n",
        "\n",
        "For example, we can use `nn.Linear` to define a single-feature linear regression within our own model"
      ],
      "metadata": {
        "id": "kNBhu9wH1x1Y"
      }
    },
    {
      "cell_type": "code",
      "source": [
        "class NestedLinearRegression(nn.Module):\n",
        "    def __init__(self):\n",
        "        super().__init__()\n",
        "        # weight as w, bias as b\n",
        "        self.linear = nn.Linear(in_features=1, out_features=1, bias=True)\n",
        "    def forward(self, X):\n",
        "        return self.linear(X)\n",
        "\n",
        "learner = Learner(model=NestedLinearRegression(),\n",
        "                  loss_fn=nn.MSELoss(reduction='mean'),\n",
        "                  train_dataloader=train_dataloader,\n",
        "                  valid_dataloader=valid_dataloader)\n",
        "\n",
        "learner.train(5)"
      ],
      "metadata": {
        "colab": {
          "base_uri": "https://localhost:8080/"
        },
        "id": "w-7wvtjX1gtm",
        "outputId": "ca7a5105-1c8f-481f-a01f-229f4785d149"
      },
      "execution_count": 42,
      "outputs": [
        {
          "output_type": "stream",
          "name": "stdout",
          "text": [
            "Epoch: 0 | Train Loss: 0.142 | Valid Loss: 0.001\n",
            "Epoch: 1 | Train Loss: 0.001 | Valid Loss: 0.001\n",
            "Epoch: 2 | Train Loss: 0.001 | Valid Loss: 0.001\n",
            "Epoch: 3 | Train Loss: 0.001 | Valid Loss: 0.001\n",
            "Epoch: 4 | Train Loss: 0.001 | Valid Loss: 0.001\n"
          ]
        }
      ]
    },
    {
      "cell_type": "code",
      "source": [
        "learner.model.state_dict()"
      ],
      "metadata": {
        "colab": {
          "base_uri": "https://localhost:8080/"
        },
        "id": "r7kd5xK11s80",
        "outputId": "5ac73f04-8332-4fba-9045-3e3fa1b1ff80"
      },
      "execution_count": 43,
      "outputs": [
        {
          "output_type": "execute_result",
          "data": {
            "text/plain": [
              "OrderedDict([('linear.weight', tensor([[0.5048]], device='cuda:0')),\n",
              "             ('linear.bias', tensor([0.9984], device='cuda:0'))])"
            ]
          },
          "metadata": {},
          "execution_count": 43
        }
      ]
    },
    {
      "cell_type": "markdown",
      "source": [
        "## Sequential Models\n",
        "\n",
        "For straightforward models that use a series of built-in PyTorch Models (e.g. `nn.Linear`), where the output of one is sequentially fed as an input to the next, we can use `nn.Sequential` model.\n",
        "\n",
        "Note that `nn.Sequential` is a subclass of `nn.Module` with the objective to quickly impliemnt sequential modules without the requirement of the forward definition"
      ],
      "metadata": {
        "id": "5YF7rYcM1ewg"
      }
    },
    {
      "cell_type": "code",
      "source": [
        "learner = Learner(model=nn.Sequential(nn.Linear(1, 1)),\n",
        "                  loss_fn=nn.MSELoss(reduction='mean'),\n",
        "                  train_dataloader=train_dataloader,\n",
        "                  valid_dataloader=valid_dataloader)\n",
        "\n",
        "learner.train(5)"
      ],
      "metadata": {
        "colab": {
          "base_uri": "https://localhost:8080/"
        },
        "id": "fZKopR5m2FMZ",
        "outputId": "917d954c-587b-4349-b041-face17df3ffd"
      },
      "execution_count": 44,
      "outputs": [
        {
          "output_type": "stream",
          "name": "stdout",
          "text": [
            "Epoch: 0 | Train Loss: 0.077 | Valid Loss: 0.005\n",
            "Epoch: 1 | Train Loss: 0.003 | Valid Loss: 0.002\n",
            "Epoch: 2 | Train Loss: 0.002 | Valid Loss: 0.001\n",
            "Epoch: 3 | Train Loss: 0.001 | Valid Loss: 0.001\n",
            "Epoch: 4 | Train Loss: 0.001 | Valid Loss: 0.001\n"
          ]
        }
      ]
    },
    {
      "cell_type": "code",
      "source": [
        "learner.model.state_dict()"
      ],
      "metadata": {
        "colab": {
          "base_uri": "https://localhost:8080/"
        },
        "id": "6qETievb2UcV",
        "outputId": "997f039f-5de6-4210-b94d-f53a2456b203"
      },
      "execution_count": 45,
      "outputs": [
        {
          "output_type": "execute_result",
          "data": {
            "text/plain": [
              "OrderedDict([('0.weight', tensor([[0.4889]], device='cuda:0')),\n",
              "             ('0.bias', tensor([1.0083], device='cuda:0'))])"
            ]
          },
          "metadata": {},
          "execution_count": 45
        }
      ]
    },
    {
      "cell_type": "markdown",
      "source": [
        "## Installing sstorch package through pip\n",
        "\n",
        "We will use `sstorch` package to continue our development for minimizing the boilerplate code for PyTorch Code. Note that `sstorch` also has other functions that is useful for PyTorch training that will be documented under sstorch reference session in the ssnote"
      ],
      "metadata": {
        "id": "3IGAF9JOWAmU"
      }
    },
    {
      "cell_type": "code",
      "execution_count": 37,
      "metadata": {
        "colab": {
          "base_uri": "https://localhost:8080/"
        },
        "id": "Om1eSKiSSuay",
        "outputId": "d5428b82-128c-4a51-d272-353b000674a0"
      },
      "outputs": [
        {
          "output_type": "stream",
          "name": "stdout",
          "text": [
            "  Installing build dependencies ... \u001b[?25l\u001b[?25hdone\n",
            "  Getting requirements to build wheel ... \u001b[?25l\u001b[?25hdone\n",
            "  Installing backend dependencies ... \u001b[?25l\u001b[?25hdone\n",
            "  Preparing metadata (pyproject.toml) ... \u001b[?25l\u001b[?25hdone\n",
            "\u001b[2K     \u001b[90m━━━━━━━━━━━━━━━━━━━━━━━━━━━━━━━━━━━━━━━━\u001b[0m \u001b[32m5.5/5.5 MB\u001b[0m \u001b[31m21.2 MB/s\u001b[0m eta \u001b[36m0:00:00\u001b[0m\n",
            "\u001b[2K     \u001b[90m━━━━━━━━━━━━━━━━━━━━━━━━━━━━━━━━━━━━━━━━\u001b[0m \u001b[32m141.1/141.1 kB\u001b[0m \u001b[31m19.9 MB/s\u001b[0m eta \u001b[36m0:00:00\u001b[0m\n",
            "\u001b[?25h  Building wheel for sstorch (pyproject.toml) ... \u001b[?25l\u001b[?25hdone\n"
          ]
        }
      ],
      "source": [
        "# Installing sstorch package\n",
        "!pip -q install git+https://github.com/ronald-hk-chung/sstorch.git"
      ]
    },
    {
      "cell_type": "code",
      "source": [
        "from sstorch.learner import SSTLearner\n",
        "\n",
        "model = LinearRegression()\n",
        "optimizer = torch.optim.SGD(params=model.parameters(), lr=0.1)\n",
        "loss_fn = nn.MSELoss()\n",
        "\n",
        "sstlearner = SSTLearner(model=model,\n",
        "                        loss_fn=loss_fn,\n",
        "                        optimizer=optimizer,\n",
        "                        train_dataloader=train_dataloader,\n",
        "                        valid_dataloader=valid_dataloader)\n",
        "\n",
        "sstlearner.train(5)"
      ],
      "metadata": {
        "id": "vMzf1jG4cNcm",
        "colab": {
          "base_uri": "https://localhost:8080/",
          "height": 223,
          "referenced_widgets": [
            "b31fb64bab6b41c8884893ded2ba3eba",
            "471095f0c61f4a6a9ef5536951500e14",
            "b2bec133f4c649019f744d59ba69e4d9",
            "a90f79c73f474f2e914d635da18ce198",
            "201e43eba12549eea5d13c149781f6ef",
            "0856f162002b4a2aa1b86de54c7f767a",
            "22ae9134a63a4a06b18d07959ed8a9b3",
            "470934dd4a7a4e90bc3624c69a68ac65",
            "255cc721bbd84dbba950895022671a26",
            "25d562a9f60d403493af3b797f2b9dc6",
            "17fcee6f825e4f7e8b2393a902a60254"
          ]
        },
        "outputId": "6774b778-486e-4fd8-c544-5e60e937b8c5"
      },
      "execution_count": 50,
      "outputs": [
        {
          "output_type": "display_data",
          "data": {
            "text/plain": [
              "Epochs:   0%|          | 0/5 [00:00<?, ?it/s]"
            ],
            "application/vnd.jupyter.widget-view+json": {
              "version_major": 2,
              "version_minor": 0,
              "model_id": "b31fb64bab6b41c8884893ded2ba3eba"
            }
          },
          "metadata": {}
        },
        {
          "output_type": "stream",
          "name": "stdout",
          "text": [
            "\rTrain Step 1/50 | Loss(Cur/Avg): 6.77 / 6.77 | Metric(Cur/Avg): 0 / 0.0\rTrain Step 2/50 | Loss(Cur/Avg): 3.986 / 5.378 | Metric(Cur/Avg): 0 / 0.0\rTrain Step 3/50 | Loss(Cur/Avg): 2.14 / 4.299 | Metric(Cur/Avg): 0 / 0.0\rTrain Step 4/50 | Loss(Cur/Avg): 1.25 / 3.536 | Metric(Cur/Avg): 0 / 0.0\rTrain Step 5/50 | Loss(Cur/Avg): 0.759 / 2.981 | Metric(Cur/Avg): 0 / 0.0\rTrain Step 6/50 | Loss(Cur/Avg): 0.535 / 2.573 | Metric(Cur/Avg): 0 / 0.0\rTrain Step 7/50 | Loss(Cur/Avg): 0.277 / 2.245 | Metric(Cur/Avg): 0 / 0.0\rTrain Step 8/50 | Loss(Cur/Avg): 0.222 / 1.992 | Metric(Cur/Avg): 0 / 0.0\rTrain Step 9/50 | Loss(Cur/Avg): 0.125 / 1.785 | Metric(Cur/Avg): 0 / 0.0\rTrain Step 10/50 | Loss(Cur/Avg): 0.084 / 1.615 | Metric(Cur/Avg): 0 / 0.0\rTrain Step 11/50 | Loss(Cur/Avg): 0.081 / 1.475 | Metric(Cur/Avg): 0 / 0.0\rTrain Step 12/50 | Loss(Cur/Avg): 0.045 / 1.356 | Metric(Cur/Avg): 0 / 0.0\rTrain Step 13/50 | Loss(Cur/Avg): 0.082 / 1.258 | Metric(Cur/Avg): 0 / 0.0\rTrain Step 14/50 | Loss(Cur/Avg): 0.078 / 1.174 | Metric(Cur/Avg): 0 / 0.0\rTrain Step 15/50 | Loss(Cur/Avg): 0.041 / 1.098 | Metric(Cur/Avg): 0 / 0.0\rTrain Step 16/50 | Loss(Cur/Avg): 0.054 / 1.033 | Metric(Cur/Avg): 0 / 0.0\rTrain Step 17/50 | Loss(Cur/Avg): 0.039 / 0.975 | Metric(Cur/Avg): 0 / 0.0\rTrain Step 18/50 | Loss(Cur/Avg): 0.051 / 0.923 | Metric(Cur/Avg): 0 / 0.0\rTrain Step 19/50 | Loss(Cur/Avg): 0.044 / 0.877 | Metric(Cur/Avg): 0 / 0.0\rTrain Step 20/50 | Loss(Cur/Avg): 0.043 / 0.835 | Metric(Cur/Avg): 0 / 0.0\rTrain Step 21/50 | Loss(Cur/Avg): 0.047 / 0.798 | Metric(Cur/Avg): 0 / 0.0\rTrain Step 22/50 | Loss(Cur/Avg): 0.061 / 0.764 | Metric(Cur/Avg): 0 / 0.0\rTrain Step 23/50 | Loss(Cur/Avg): 0.05 / 0.733 | Metric(Cur/Avg): 0 / 0.0\rTrain Step 24/50 | Loss(Cur/Avg): 0.05 / 0.705 | Metric(Cur/Avg): 0 / 0.0\rTrain Step 25/50 | Loss(Cur/Avg): 0.027 / 0.678 | Metric(Cur/Avg): 0 / 0.0\rTrain Step 26/50 | Loss(Cur/Avg): 0.028 / 0.653 | Metric(Cur/Avg): 0 / 0.0\rTrain Step 27/50 | Loss(Cur/Avg): 0.034 / 0.63 | Metric(Cur/Avg): 0 / 0.0\rTrain Step 28/50 | Loss(Cur/Avg): 0.041 / 0.609 | Metric(Cur/Avg): 0 / 0.0\rTrain Step 29/50 | Loss(Cur/Avg): 0.039 / 0.589 | Metric(Cur/Avg): 0 / 0.0\rTrain Step 30/50 | Loss(Cur/Avg): 0.026 / 0.57 | Metric(Cur/Avg): 0 / 0.0\rTrain Step 31/50 | Loss(Cur/Avg): 0.045 / 0.553 | Metric(Cur/Avg): 0 / 0.0\rTrain Step 32/50 | Loss(Cur/Avg): 0.031 / 0.537 | Metric(Cur/Avg): 0 / 0.0\rTrain Step 33/50 | Loss(Cur/Avg): 0.028 / 0.522 | Metric(Cur/Avg): 0 / 0.0\rTrain Step 34/50 | Loss(Cur/Avg): 0.029 / 0.507 | Metric(Cur/Avg): 0 / 0.0\rTrain Step 35/50 | Loss(Cur/Avg): 0.024 / 0.493 | Metric(Cur/Avg): 0 / 0.0\rTrain Step 36/50 | Loss(Cur/Avg): 0.025 / 0.48 | Metric(Cur/Avg): 0 / 0.0\rTrain Step 37/50 | Loss(Cur/Avg): 0.032 / 0.468 | Metric(Cur/Avg): 0 / 0.0\rTrain Step 38/50 | Loss(Cur/Avg): 0.03 / 0.457 | Metric(Cur/Avg): 0 / 0.0\rTrain Step 39/50 | Loss(Cur/Avg): 0.03 / 0.446 | Metric(Cur/Avg): 0 / 0.0\rTrain Step 40/50 | Loss(Cur/Avg): 0.029 / 0.435 | Metric(Cur/Avg): 0 / 0.0\rTrain Step 41/50 | Loss(Cur/Avg): 0.042 / 0.426 | Metric(Cur/Avg): 0 / 0.0\rTrain Step 42/50 | Loss(Cur/Avg): 0.024 / 0.416 | Metric(Cur/Avg): 0 / 0.0\rTrain Step 43/50 | Loss(Cur/Avg): 0.022 / 0.407 | Metric(Cur/Avg): 0 / 0.0\rTrain Step 44/50 | Loss(Cur/Avg): 0.019 / 0.398 | Metric(Cur/Avg): 0 / 0.0\rTrain Step 45/50 | Loss(Cur/Avg): 0.036 / 0.39 | Metric(Cur/Avg): 0 / 0.0\rTrain Step 46/50 | Loss(Cur/Avg): 0.028 / 0.382 | Metric(Cur/Avg): 0 / 0.0\rTrain Step 47/50 | Loss(Cur/Avg): 0.021 / 0.375 | Metric(Cur/Avg): 0 / 0.0\rTrain Step 48/50 | Loss(Cur/Avg): 0.017 / 0.367 | Metric(Cur/Avg): 0 / 0.0\rTrain Step 49/50 | Loss(Cur/Avg): 0.023 / 0.36 | Metric(Cur/Avg): 0 / 0.0\rTrain Step 50/50 | Loss(Cur/Avg): 0.022 / 0.353 | Metric(Cur/Avg): 0 / 0.0\rValid Step 1/12 | Loss(Cur/Avg): 0.018 / 0.018 | Metric(Cur/Avg): 0 / 0.0\rValid Step 2/12 | Loss(Cur/Avg): 0.016 / 0.017 | Metric(Cur/Avg): 0 / 0.0\rValid Step 3/12 | Loss(Cur/Avg): 0.019 / 0.018 | Metric(Cur/Avg): 0 / 0.0\rValid Step 4/12 | Loss(Cur/Avg): 0.016 / 0.017 | Metric(Cur/Avg): 0 / 0.0\rValid Step 5/12 | Loss(Cur/Avg): 0.025 / 0.019 | Metric(Cur/Avg): 0 / 0.0\rValid Step 6/12 | Loss(Cur/Avg): 0.022 / 0.02 | Metric(Cur/Avg): 0 / 0.0\rValid Step 7/12 | Loss(Cur/Avg): 0.013 / 0.019 | Metric(Cur/Avg): 0 / 0.0\rValid Step 8/12 | Loss(Cur/Avg): 0.025 / 0.019 | Metric(Cur/Avg): 0 / 0.0\rValid Step 9/12 | Loss(Cur/Avg): 0.018 / 0.019 | Metric(Cur/Avg): 0 / 0.0\rValid Step 10/12 | Loss(Cur/Avg): 0.024 / 0.02 | Metric(Cur/Avg): 0 / 0.0\rValid Step 11/12 | Loss(Cur/Avg): 0.018 / 0.02 | Metric(Cur/Avg): 0 / 0.0\rValid Step 12/12 | Loss(Cur/Avg): 0.023 / 0.02 | Metric(Cur/Avg): 0 / 0.0\rEpoch: 1 | LR: 1.0E-01 | train_loss: 0.353 | valid_loss: 0.02 \n",
            "----------------------------------------------------------------------------------------------------\n",
            "Epoch: 2 | LR: 1.0E-01 | train_loss: 0.012 | valid_loss: 0.006 \n",
            "----------------------------------------------------------------------------------------------------\n",
            "Epoch: 3 | LR: 1.0E-01 | train_loss: 0.004 | valid_loss: 0.002 \n",
            "----------------------------------------------------------------------------------------------------\n",
            "Epoch: 4 | LR: 1.0E-01 | train_loss: 0.002 | valid_loss: 0.001 \n",
            "----------------------------------------------------------------------------------------------------\n",
            "Epoch: 5 | LR: 1.0E-01 | train_loss: 0.001 | valid_loss: 0.001 \n",
            "----------------------------------------------------------------------------------------------------\n"
          ]
        }
      ]
    },
    {
      "cell_type": "code",
      "source": [
        "learner.model.state_dict()"
      ],
      "metadata": {
        "colab": {
          "base_uri": "https://localhost:8080/"
        },
        "id": "M1lUYnGkddvp",
        "outputId": "eb8cc984-9216-418e-b3f4-80e2b835aff8"
      },
      "execution_count": 48,
      "outputs": [
        {
          "output_type": "execute_result",
          "data": {
            "text/plain": [
              "OrderedDict([('0.weight', tensor([[0.4889]], device='cuda:0')),\n",
              "             ('0.bias', tensor([1.0083], device='cuda:0'))])"
            ]
          },
          "metadata": {},
          "execution_count": 48
        }
      ]
    },
    {
      "cell_type": "code",
      "source": [
        "sstlearner.plot_loss_curve()"
      ],
      "metadata": {
        "colab": {
          "base_uri": "https://localhost:8080/",
          "height": 472
        },
        "id": "oUdQkVNMdq5e",
        "outputId": "e6039e7e-df48-4983-f63b-aff3e03a9ea6"
      },
      "execution_count": 49,
      "outputs": [
        {
          "output_type": "display_data",
          "data": {
            "text/plain": [
              "<Figure size 640x480 with 1 Axes>"
            ],
            "image/png": "[encoded data removed]"
          },
          "metadata": {}
        }
      ]
    },
    {
      "cell_type": "markdown",
      "source": [
        "## Notebook Summary\n",
        "\n",
        "1. We resolved the linear regression problem by using the typical PyTorch Workflow which involves:\n",
        "    * Usage of Dataset and DataLoader\n",
        "    * Defining a `loss_fn` to optimized using an `optimizer`\n",
        "    * Building `Learner` class to encapsulate training and validation process"
      ],
      "metadata": {
        "id": "8KV-_I3l8LhE"
      }
    },
    {
      "cell_type": "code",
      "source": [],
      "metadata": {
        "id": "YXls_zKstQut"
      },
      "execution_count": null,
      "outputs": []
    }
  ]
}