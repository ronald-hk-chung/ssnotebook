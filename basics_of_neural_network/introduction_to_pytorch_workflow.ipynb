{
  "nbformat": 4,
  "nbformat_minor": 0,
  "metadata": {
    "colab": {
      "provenance": [],
      "gpuType": "T4",
      "authorship_tag": "ABX9TyNr3XCEDLdBbWslouDEOibR",
      "include_colab_link": true
    },
    "kernelspec": {
      "name": "python3",
      "display_name": "Python 3"
    },
    "language_info": {
      "name": "python"
    },
    "accelerator": "GPU",
    "widgets": {
      "application/vnd.jupyter.widget-state+json": {
        "3e579ff498af4a089450a5dca8fd5b50": {
          "model_module": "@jupyter-widgets/controls",
          "model_name": "HBoxModel",
          "model_module_version": "1.5.0",
          "state": {
            "_dom_classes": [],
            "_model_module": "@jupyter-widgets/controls",
            "_model_module_version": "1.5.0",
            "_model_name": "HBoxModel",
            "_view_count": null,
            "_view_module": "@jupyter-widgets/controls",
            "_view_module_version": "1.5.0",
            "_view_name": "HBoxView",
            "box_style": "",
            "children": [
              "IPY_MODEL_fe4d67b13254449d94fbd688d0d390e9",
              "IPY_MODEL_a2d45002f58f4ea6af6cba631a30f452",
              "IPY_MODEL_2862d66f36fa4bf0878e9a8f61644ea0"
            ],
            "layout": "IPY_MODEL_e29037624ea148d0a99dba3785cfc031"
          }
        },
        "fe4d67b13254449d94fbd688d0d390e9": {
          "model_module": "@jupyter-widgets/controls",
          "model_name": "HTMLModel",
          "model_module_version": "1.5.0",
          "state": {
            "_dom_classes": [],
            "_model_module": "@jupyter-widgets/controls",
            "_model_module_version": "1.5.0",
            "_model_name": "HTMLModel",
            "_view_count": null,
            "_view_module": "@jupyter-widgets/controls",
            "_view_module_version": "1.5.0",
            "_view_name": "HTMLView",
            "description": "",
            "description_tooltip": null,
            "layout": "IPY_MODEL_32c078b894394426b518a4f321556f05",
            "placeholder": "​",
            "style": "IPY_MODEL_645dfc1b338a4285a149d3e37c75e6a1",
            "value": "Epochs: 100%"
          }
        },
        "a2d45002f58f4ea6af6cba631a30f452": {
          "model_module": "@jupyter-widgets/controls",
          "model_name": "FloatProgressModel",
          "model_module_version": "1.5.0",
          "state": {
            "_dom_classes": [],
            "_model_module": "@jupyter-widgets/controls",
            "_model_module_version": "1.5.0",
            "_model_name": "FloatProgressModel",
            "_view_count": null,
            "_view_module": "@jupyter-widgets/controls",
            "_view_module_version": "1.5.0",
            "_view_name": "ProgressView",
            "bar_style": "success",
            "description": "",
            "description_tooltip": null,
            "layout": "IPY_MODEL_fa3eaf6d11354d1e9a5283fecfde6f00",
            "max": 10,
            "min": 0,
            "orientation": "horizontal",
            "style": "IPY_MODEL_cd83a13c1a4d425d89631f3f01516517",
            "value": 10
          }
        },
        "2862d66f36fa4bf0878e9a8f61644ea0": {
          "model_module": "@jupyter-widgets/controls",
          "model_name": "HTMLModel",
          "model_module_version": "1.5.0",
          "state": {
            "_dom_classes": [],
            "_model_module": "@jupyter-widgets/controls",
            "_model_module_version": "1.5.0",
            "_model_name": "HTMLModel",
            "_view_count": null,
            "_view_module": "@jupyter-widgets/controls",
            "_view_module_version": "1.5.0",
            "_view_name": "HTMLView",
            "description": "",
            "description_tooltip": null,
            "layout": "IPY_MODEL_fb182b9535d3474a80598b816f994c18",
            "placeholder": "​",
            "style": "IPY_MODEL_23e5e2c40dcd4761a6ff863607ed666e",
            "value": " 10/10 [00:00&lt;00:00, 25.00it/s]"
          }
        },
        "e29037624ea148d0a99dba3785cfc031": {
          "model_module": "@jupyter-widgets/base",
          "model_name": "LayoutModel",
          "model_module_version": "1.2.0",
          "state": {
            "_model_module": "@jupyter-widgets/base",
            "_model_module_version": "1.2.0",
            "_model_name": "LayoutModel",
            "_view_count": null,
            "_view_module": "@jupyter-widgets/base",
            "_view_module_version": "1.2.0",
            "_view_name": "LayoutView",
            "align_content": null,
            "align_items": null,
            "align_self": null,
            "border": null,
            "bottom": null,
            "display": null,
            "flex": null,
            "flex_flow": null,
            "grid_area": null,
            "grid_auto_columns": null,
            "grid_auto_flow": null,
            "grid_auto_rows": null,
            "grid_column": null,
            "grid_gap": null,
            "grid_row": null,
            "grid_template_areas": null,
            "grid_template_columns": null,
            "grid_template_rows": null,
            "height": null,
            "justify_content": null,
            "justify_items": null,
            "left": null,
            "margin": null,
            "max_height": null,
            "max_width": null,
            "min_height": null,
            "min_width": null,
            "object_fit": null,
            "object_position": null,
            "order": null,
            "overflow": null,
            "overflow_x": null,
            "overflow_y": null,
            "padding": null,
            "right": null,
            "top": null,
            "visibility": null,
            "width": null
          }
        },
        "32c078b894394426b518a4f321556f05": {
          "model_module": "@jupyter-widgets/base",
          "model_name": "LayoutModel",
          "model_module_version": "1.2.0",
          "state": {
            "_model_module": "@jupyter-widgets/base",
            "_model_module_version": "1.2.0",
            "_model_name": "LayoutModel",
            "_view_count": null,
            "_view_module": "@jupyter-widgets/base",
            "_view_module_version": "1.2.0",
            "_view_name": "LayoutView",
            "align_content": null,
            "align_items": null,
            "align_self": null,
            "border": null,
            "bottom": null,
            "display": null,
            "flex": null,
            "flex_flow": null,
            "grid_area": null,
            "grid_auto_columns": null,
            "grid_auto_flow": null,
            "grid_auto_rows": null,
            "grid_column": null,
            "grid_gap": null,
            "grid_row": null,
            "grid_template_areas": null,
            "grid_template_columns": null,
            "grid_template_rows": null,
            "height": null,
            "justify_content": null,
            "justify_items": null,
            "left": null,
            "margin": null,
            "max_height": null,
            "max_width": null,
            "min_height": null,
            "min_width": null,
            "object_fit": null,
            "object_position": null,
            "order": null,
            "overflow": null,
            "overflow_x": null,
            "overflow_y": null,
            "padding": null,
            "right": null,
            "top": null,
            "visibility": null,
            "width": null
          }
        },
        "645dfc1b338a4285a149d3e37c75e6a1": {
          "model_module": "@jupyter-widgets/controls",
          "model_name": "DescriptionStyleModel",
          "model_module_version": "1.5.0",
          "state": {
            "_model_module": "@jupyter-widgets/controls",
            "_model_module_version": "1.5.0",
            "_model_name": "DescriptionStyleModel",
            "_view_count": null,
            "_view_module": "@jupyter-widgets/base",
            "_view_module_version": "1.2.0",
            "_view_name": "StyleView",
            "description_width": ""
          }
        },
        "fa3eaf6d11354d1e9a5283fecfde6f00": {
          "model_module": "@jupyter-widgets/base",
          "model_name": "LayoutModel",
          "model_module_version": "1.2.0",
          "state": {
            "_model_module": "@jupyter-widgets/base",
            "_model_module_version": "1.2.0",
            "_model_name": "LayoutModel",
            "_view_count": null,
            "_view_module": "@jupyter-widgets/base",
            "_view_module_version": "1.2.0",
            "_view_name": "LayoutView",
            "align_content": null,
            "align_items": null,
            "align_self": null,
            "border": null,
            "bottom": null,
            "display": null,
            "flex": null,
            "flex_flow": null,
            "grid_area": null,
            "grid_auto_columns": null,
            "grid_auto_flow": null,
            "grid_auto_rows": null,
            "grid_column": null,
            "grid_gap": null,
            "grid_row": null,
            "grid_template_areas": null,
            "grid_template_columns": null,
            "grid_template_rows": null,
            "height": null,
            "justify_content": null,
            "justify_items": null,
            "left": null,
            "margin": null,
            "max_height": null,
            "max_width": null,
            "min_height": null,
            "min_width": null,
            "object_fit": null,
            "object_position": null,
            "order": null,
            "overflow": null,
            "overflow_x": null,
            "overflow_y": null,
            "padding": null,
            "right": null,
            "top": null,
            "visibility": null,
            "width": null
          }
        },
        "cd83a13c1a4d425d89631f3f01516517": {
          "model_module": "@jupyter-widgets/controls",
          "model_name": "ProgressStyleModel",
          "model_module_version": "1.5.0",
          "state": {
            "_model_module": "@jupyter-widgets/controls",
            "_model_module_version": "1.5.0",
            "_model_name": "ProgressStyleModel",
            "_view_count": null,
            "_view_module": "@jupyter-widgets/base",
            "_view_module_version": "1.2.0",
            "_view_name": "StyleView",
            "bar_color": null,
            "description_width": ""
          }
        },
        "fb182b9535d3474a80598b816f994c18": {
          "model_module": "@jupyter-widgets/base",
          "model_name": "LayoutModel",
          "model_module_version": "1.2.0",
          "state": {
            "_model_module": "@jupyter-widgets/base",
            "_model_module_version": "1.2.0",
            "_model_name": "LayoutModel",
            "_view_count": null,
            "_view_module": "@jupyter-widgets/base",
            "_view_module_version": "1.2.0",
            "_view_name": "LayoutView",
            "align_content": null,
            "align_items": null,
            "align_self": null,
            "border": null,
            "bottom": null,
            "display": null,
            "flex": null,
            "flex_flow": null,
            "grid_area": null,
            "grid_auto_columns": null,
            "grid_auto_flow": null,
            "grid_auto_rows": null,
            "grid_column": null,
            "grid_gap": null,
            "grid_row": null,
            "grid_template_areas": null,
            "grid_template_columns": null,
            "grid_template_rows": null,
            "height": null,
            "justify_content": null,
            "justify_items": null,
            "left": null,
            "margin": null,
            "max_height": null,
            "max_width": null,
            "min_height": null,
            "min_width": null,
            "object_fit": null,
            "object_position": null,
            "order": null,
            "overflow": null,
            "overflow_x": null,
            "overflow_y": null,
            "padding": null,
            "right": null,
            "top": null,
            "visibility": null,
            "width": null
          }
        },
        "23e5e2c40dcd4761a6ff863607ed666e": {
          "model_module": "@jupyter-widgets/controls",
          "model_name": "DescriptionStyleModel",
          "model_module_version": "1.5.0",
          "state": {
            "_model_module": "@jupyter-widgets/controls",
            "_model_module_version": "1.5.0",
            "_model_name": "DescriptionStyleModel",
            "_view_count": null,
            "_view_module": "@jupyter-widgets/base",
            "_view_module_version": "1.2.0",
            "_view_name": "StyleView",
            "description_width": ""
          }
        }
      }
    }
  },
  "cells": [
    {
      "cell_type": "markdown",
      "metadata": {
        "id": "view-in-github",
        "colab_type": "text"
      },
      "source": [
        "<a href=\"https://colab.research.google.com/github/ronald-hk-chung/ssnotebook/blob/main/basics_of_neural_network/introduction_to_pytorch_workflow.ipynb\" target=\"_parent\"><img src=\"https://colab.research.google.com/assets/colab-badge.svg\" alt=\"Open In Colab\"/></a>"
      ]
    },
    {
      "cell_type": "markdown",
      "source": [
        "# PyTorch Workflow\n",
        "\n",
        "Training pipline should be divided into 3 steps:\n",
        "\n",
        "1. Data Preparation\n",
        "2. Model Configuration\n",
        "3. Model Training\n",
        "\n",
        "A typical PyTorch Model Training will look like below:\n",
        "\n",
        "```python\n",
        "for X, y in DataLoader:\n",
        "    y_pred = model(x)\n",
        "    loss = loss_func(y_pred, y)\n",
        "    loss.backward()\n",
        "    optimizer.step()\n",
        "    optimizer.zero_grad()\n",
        "```\n",
        "\n",
        "As we start to build up on our analysis, global training loop can get messy very quickly. This notebook focus on the simplifing Model Training Step. We will built up the `sstorch` main learner package which supports typical PyTorch Model Training workflow\n",
        "\n",
        "GitHub Repo: https://github.com/ronald-hk-chung/sstorch\n",
        "\n",
        "The aim is to build a Model Training class `SSTLearner` encapsulating the basic train/valid loop for deep-learning in PyTorch, we can ensure code organisation which is important for further studies. Note that `SSTLearner` class has other added function including `LRFinder` and other `Callback` that can be customized and added to the typical training/valid loop process.\n",
        "\n",
        "For full documentation: https://ronald-hk-chung.github.io/sstorch/\n",
        "\n",
        "\n"
      ],
      "metadata": {
        "id": "dlPiKTEnSvFC"
      }
    },
    {
      "cell_type": "markdown",
      "source": [
        "## Synthetic Data from Linear Regression\n",
        "\n",
        "$y = w \\times X + b + noise$\n"
      ],
      "metadata": {
        "id": "LjZGuIgJdlE4"
      }
    },
    {
      "cell_type": "code",
      "source": [
        "import torch\n",
        "import matplotlib.pyplot as plt\n",
        "\n",
        "# To ensure reproducibility\n",
        "torch.manual_seed(42)\n",
        "\n",
        "# Generating synthetic data\n",
        "X = torch.rand(1000, 1) # random numbers from a uniform distribution on the interval (0, 1)\n",
        "w_true, b_true = 0.5, 1\n",
        "noise = torch.randn(1000, 1) * 0.03\n",
        "y = w_true * X + b_true + noise\n",
        "\n",
        "# Plot synthetic data\n",
        "fig, ax = plt.subplots(1, 1, sharey=True, figsize=(5,5))\n",
        "ax.scatter(X, y, color=\"b\")\n",
        "ax.set_title(\"Synthetic Training Data\");"
      ],
      "metadata": {
        "colab": {
          "base_uri": "https://localhost:8080/",
          "height": 468
        },
        "id": "MaUuhqJ8dvWL",
        "outputId": "8e9cbe07-1c0e-4105-8638-fef86dd7cb9e"
      },
      "execution_count": 1,
      "outputs": [
        {
          "output_type": "display_data",
          "data": {
            "text/plain": [
              "<Figure size 500x500 with 1 Axes>"
            ],
            "image/png": "[encoded data removed]"
          },
          "metadata": {}
        }
      ]
    },
    {
      "cell_type": "code",
      "source": [
        "# Splitting into train/valid data\n",
        "from sklearn.model_selection import train_test_split\n",
        "X_train, X_valid, y_train, y_valid = train_test_split(X, y, test_size=0.2)"
      ],
      "metadata": {
        "id": "yXhZAesJ-Jhn"
      },
      "execution_count": 2,
      "outputs": []
    },
    {
      "cell_type": "markdown",
      "source": [
        "## Dataset\n",
        "\n",
        "Full Reference: https://pytorch.org/docs/stable/data.html\n",
        "\n",
        "In PyTorch, a **dataset** is represented by a regular Python class that inherits from the `Dataset` class\n",
        "\n",
        "The most fundamental methods it needs to impliemnt are\n",
        "\n",
        "*   `__init__(self)`: The constructor method takes the argument needed to build a list of tuples. Note that there is no need to load the whole dataset in the construtor method. If the dataset is large, loading it all at one would not be memory efficient. It is recommeded to load them on demand (whenever `__getitem__()` is called. It's typically used to store some essential locations like file paths and image transforms.\n",
        "\n",
        "*   `__getitem__(self, idx)`: This method allow the dataset to be indexed so that it can work like a list **(dataset[idx])**. This should return a single data sample from athe dataset at a given index. The `__getitem__` method is where the actual dataloading and the preprocessing takes place. It takes an index as input and returns a data point, whcih can be a tensor or a ditionary of tensors. This method is used by `DataLoader` class to load and preprocess the data.\n",
        "\n",
        "* `__len__(self)`: This shoudl return the size of the whole dataset. The indexing is limited to the actual size.\n",
        "\n",
        "Below shows the sameple of creating **Custom Dataset** for our simple Linear regression data.\n",
        "\n"
      ],
      "metadata": {
        "id": "9bZJrqkv5l13"
      }
    },
    {
      "cell_type": "code",
      "source": [
        "from torch.utils.data import Dataset\n",
        "\n",
        "class CustomDataset(Dataset):\n",
        "    def __init__(self, X, y):\n",
        "        self.X = X\n",
        "        self.y = y\n",
        "\n",
        "    def __len__(self):\n",
        "        return len(self.X)\n",
        "\n",
        "    def __getitem__(self, idx):\n",
        "        return self.X[idx], self.y[idx]\n",
        "\n",
        "train_data = CustomDataset(X_train, y_train)\n",
        "valid_data = CustomDataset(X_valid, y_valid)"
      ],
      "metadata": {
        "id": "djVSLh1v1r6W"
      },
      "execution_count": 3,
      "outputs": []
    },
    {
      "cell_type": "code",
      "source": [
        "print(train_data[0])"
      ],
      "metadata": {
        "colab": {
          "base_uri": "https://localhost:8080/"
        },
        "id": "ICiuUFgj21o0",
        "outputId": "d1164137-bc16-4e94-aef1-5d35cab43529"
      },
      "execution_count": 4,
      "outputs": [
        {
          "output_type": "stream",
          "name": "stdout",
          "text": [
            "(tensor([0.3762]), tensor([1.2479]))\n"
          ]
        }
      ]
    },
    {
      "cell_type": "markdown",
      "source": [
        "## TensorDataset\n",
        "\n",
        "For our small Dataset, we can just simply use `TensorDataset` class to create a dataset."
      ],
      "metadata": {
        "id": "Th-2OBv0eI5o"
      }
    },
    {
      "cell_type": "code",
      "source": [
        "from torch.utils.data import TensorDataset\n",
        "\n",
        "train_data = TensorDataset(X_valid, y_valid)\n",
        "valid_data = TensorDataset(X_valid, y_valid)\n",
        "print(train_data[0])"
      ],
      "metadata": {
        "colab": {
          "base_uri": "https://localhost:8080/"
        },
        "id": "aACDFwtX2_zs",
        "outputId": "55e539d2-0ca8-4a1f-fe42-b86a515f928f"
      },
      "execution_count": 5,
      "outputs": [
        {
          "output_type": "stream",
          "name": "stdout",
          "text": [
            "(tensor([0.9417]), tensor([1.4833]))\n"
          ]
        }
      ]
    },
    {
      "cell_type": "markdown",
      "source": [
        "## DataLoader\n",
        "\n",
        "While it is ok to use the whole training data for a small data set to perform **batch gradient descent**, computation and memory will become an issue for big dataset and **mini-batch gradient descent**.\n",
        "\n",
        "**DataLoader** class to let our **Dataset** behave like an iterator by desciding on the **mini-batch-size** and to **shuffle** our Dataset during our training.\n",
        "\n",
        "There are a few important parameters to note when setting up the DataLoader:\n",
        "\n",
        "*   `shuffle`\n",
        "\n",
        "    Note that for the majority of cases except Time Series problem, we shoudl set `shuffle=True` for our trainiing set to improve the performance of gradient descent. There is no need ot shuffle validation set given we are are not computing gradient with it.\n",
        "\n",
        "    It is also possible to use it together with a **sampler** to fetch mini-batches that compensate for imablanced classes\n",
        "\n",
        "*   `batch_size`\n",
        "\n",
        "    It is typical to use powers of 2 for mini-batch sizes, like 16, 32, 64 or 128. and 32 seems to be the choice for most people. The main consideration for `batch_size` is the GPU memory\n",
        "\n",
        "*   `drop_last`\n",
        "\n",
        "    set to True to drop the last incomplete batch, if the dataset size is not divisible by the batch size. If False and the size of dataset is not divisible by the batch size, then the last batch will be smaller. (default: False)\n",
        "\n",
        "*   `pin_memory`\n",
        "\n",
        "     If True, the data loader will copy Tensors into device/CUDA pinned memory before returning them. If your data elements are a custom type, or your collate_fn returns a batch that is a custom type, see the example below.\n",
        "\n",
        "*   `num_workers`\n",
        "\n",
        "    how many subprocesses to use for data loading. 0 means that the data will be loaded in the main process. (default: 0)\n"
      ],
      "metadata": {
        "id": "jlu9vLO43bfk"
      }
    },
    {
      "cell_type": "code",
      "source": [
        "from torch.utils.data import DataLoader\n",
        "\n",
        "train_dataloader = DataLoader(\n",
        "    dataset=train_data,\n",
        "    batch_size=16,\n",
        "    shuffle=True,\n",
        "    drop_last=True\n",
        ")\n",
        "\n",
        "valid_dataloader = DataLoader(\n",
        "    dataset=valid_data,\n",
        "    batch_size=16,\n",
        "    shuffle=False,\n",
        "    drop_last=True\n",
        ")"
      ],
      "metadata": {
        "id": "sh2kJgzq6SaU"
      },
      "execution_count": 6,
      "outputs": []
    },
    {
      "cell_type": "markdown",
      "source": [
        "below command can help to retreive a mini-batch"
      ],
      "metadata": {
        "id": "n1BlruT86lWJ"
      }
    },
    {
      "cell_type": "code",
      "source": [
        "next(iter(train_dataloader))"
      ],
      "metadata": {
        "colab": {
          "base_uri": "https://localhost:8080/"
        },
        "id": "f__xgbX46kyb",
        "outputId": "626b8ad4-7551-4115-bfb2-51e6aa5175da"
      },
      "execution_count": 28,
      "outputs": [
        {
          "output_type": "execute_result",
          "data": {
            "text/plain": [
              "[tensor([[0.9155],\n",
              "         [0.9497],\n",
              "         [0.0293],\n",
              "         [0.2457],\n",
              "         [0.2494],\n",
              "         [0.7628],\n",
              "         [0.7992],\n",
              "         [0.5797],\n",
              "         [0.4481],\n",
              "         [0.0594],\n",
              "         [0.5730],\n",
              "         [0.2808],\n",
              "         [0.6578],\n",
              "         [0.4761],\n",
              "         [0.8253],\n",
              "         [0.7099]]),\n",
              " tensor([[1.4979],\n",
              "         [1.5295],\n",
              "         [1.0096],\n",
              "         [1.1194],\n",
              "         [1.0836],\n",
              "         [1.4252],\n",
              "         [1.3608],\n",
              "         [1.3139],\n",
              "         [1.1839],\n",
              "         [0.9660],\n",
              "         [1.2702],\n",
              "         [1.1087],\n",
              "         [1.3248],\n",
              "         [1.2632],\n",
              "         [1.3878],\n",
              "         [1.3422]])]"
            ]
          },
          "metadata": {},
          "execution_count": 28
        }
      ]
    },
    {
      "cell_type": "markdown",
      "source": [
        "## Defining the main `Learner` class\n",
        "\n",
        "**The Constructor**\n",
        "\n",
        "The constructor defines the attributes/arguments that make up the class. For the basic model training, we need to define 4 arguments:\n",
        "*   model\n",
        "*   loss\n",
        "*   optimizer\n",
        "*   data\n",
        "\n",
        "While conceptually data is not part of the model, it is the input that we need ot use to train the model and should be included as an argument. We will initialised with None and add a method `set_loader` that can be used to supply the data (or even swap the dataset) at a later time.\n",
        "\n",
        "In the constructor, we also initialise below:\n",
        "*   **placeholders** for objects that are not available at the moment of creation\n",
        "*   **variables** that we may want to keep track\n",
        "\n",
        "\\\n",
        "\n",
        "**Train Method**\n",
        "\n",
        "In the `train()` method, we need to add the **epoch-loop** where we set the training to go through a specified number of epochs (an input to the method). Moreoer, we also added the saving of results under `results` dictionary inside the `Learner` class\n",
        "\n",
        "\\\n",
        "\n",
        "**Train loop and Valid Loop**\n",
        "\n",
        "Inside the `train()` method, we define both `_train_loop()` and `_valid_loop()` which are both protected method indicated by the \"_\" in front of the name. The main intention for the train loop is to perform gradient descent. Note that the batch data is set to GPU inside each **mini-batch-loop**.\n",
        "\n",
        "\\\n",
        "\n",
        "**Train Step and Valid Step**\n",
        "\n",
        "This is the actual **Step** taken the calculate the loss. The reason for seperating this **Step** out is to ensure flexibility for different models. Note that we can subclass `Learner` class to override the `train_step()` and `valid_step()` method for more complex **step**\n",
        "\n",
        "Below shows the main construction of our `Learner` Class"
      ],
      "metadata": {
        "id": "WdI6-uaH0-Qs"
      }
    },
    {
      "cell_type": "code",
      "source": [
        "class Learner:\n",
        "    def __init__(self, model, loss_fn, train_dataloader, valid_dataloader):\n",
        "        # define attributes for learner class including model, loss_fn, optimizer and train_dl\n",
        "        self.model = model\n",
        "        self.loss_fn = loss_fn\n",
        "        self.optimizer = self.configure_optimizer()\n",
        "        self.train_dataloader = train_dataloader\n",
        "        self.valid_dataloader = valid_dataloader\n",
        "\n",
        "        # Set attributes that are going to be computed internally\n",
        "        self.total_epochs = 0\n",
        "        self.batch = None\n",
        "        self.loss = None    # loss from train/valid step\n",
        "        self.train_loss = None  # intermediate aggregate/avg train_loss during _train_loop\n",
        "        self.valid_loss = None  # intermediate aggregate/avg valid_loss during _valid_loop\n",
        "        self.results = {\n",
        "            'train_loss': [],\n",
        "            'valid_loss': []\n",
        "        }\n",
        "        # Setting up device agnostic code\n",
        "        self.device = torch.device('cuda' if torch.cuda.is_available() else 'cpu')\n",
        "        # send model to GPU if available\n",
        "        self.model.to(self.device)\n",
        "\n",
        "    def configure_optimizer(self):\n",
        "        return torch.optim.SGD(params=self.model.parameters(),\n",
        "                               lr=0.1)\n",
        "\n",
        "    def train(self, epochs):\n",
        "        # perform train on specified number of epochs\n",
        "        for epoch in range(epochs):\n",
        "            # increment total_epochs\n",
        "            self.total_epochs += 1\n",
        "            # perform train_loop and valid_loop\n",
        "            self._train_loop()\n",
        "            self._valid_loop()\n",
        "            self.results['train_loss'].append(self.train_loss)\n",
        "            self.results['valid_loss'].append(self.valid_loss)\n",
        "            print(f'Epoch: {epoch} | Train Loss: {self.train_loss:.3f} | Valid Loss: {self.valid_loss:.3f}')\n",
        "\n",
        "    def _train_loop(self):\n",
        "        # put model into train mode - default state of model\n",
        "        self.model.train()\n",
        "        # initialise train_loss to 0\n",
        "        self.train_loss = 0\n",
        "        # Perform the PyTorch train Loop with gradient descent\n",
        "        for batch_num, batch in enumerate(self.train_dataloader):\n",
        "            # Send batch to GPU if available\n",
        "            self.batch = [tensor.to(self.device) for tensor in batch]\n",
        "            # train_step to perform forward pass to return loss\n",
        "            self.loss = self.train_step()\n",
        "            # aggregate train_loss\n",
        "            self.train_loss += self.loss.item()\n",
        "            # gradient descent using optimizer\n",
        "            self.loss.backward()\n",
        "            self.optimizer.step()\n",
        "            self.optimizer.zero_grad()\n",
        "        # take the average by dividing the aggregate train_loss to batch_num\n",
        "        self.train_loss /= len(self.train_dataloader)\n",
        "\n",
        "    def _valid_loop(self):\n",
        "        # put model into eval mode\n",
        "        self.model.eval()\n",
        "        # initialise valid_loss to 0\n",
        "        self.valid_loss = 0\n",
        "        # use torch.inference_mode as a context manager\n",
        "        # turns off gradient tracking which is not needed for validation\n",
        "        with torch.inference_mode():\n",
        "            for batch_num, batch in enumerate(self.valid_dataloader):\n",
        "                # Send batch to GPU if available\n",
        "                self.batch = [tensor.to(self.device) for tensor in batch]\n",
        "                self.loss = self.valid_step()\n",
        "                self.valid_loss += self.loss.item()\n",
        "            self.valid_loss /= len(self.valid_dataloader)\n",
        "\n",
        "    def train_step(self):\n",
        "        X, y = self.batch\n",
        "        y_logits = self.model(X)\n",
        "        loss = self.loss_fn(y_logits, y)\n",
        "        return loss\n",
        "\n",
        "    def valid_step(self):\n",
        "        X, y = self.batch\n",
        "        y_logits = self.model(X)\n",
        "        loss = self.loss_fn(y_logits, y)\n",
        "        return loss\n"
      ],
      "metadata": {
        "id": "UtO3w2Pu3MvT"
      },
      "execution_count": 41,
      "outputs": []
    },
    {
      "cell_type": "markdown",
      "source": [
        "## Defining the Model\n",
        "\n",
        "We will define a simple Linear Model using `nn.Linear()`"
      ],
      "metadata": {
        "id": "j0RW6x6OS43_"
      }
    },
    {
      "cell_type": "code",
      "source": [
        "import torch.nn as nn\n",
        "\n",
        "class LinearRegression(nn.Module):\n",
        "    def __init__(self):\n",
        "        super().__init__()\n",
        "        self.linear = nn.Linear(1, 1, bias=True)\n",
        "    def forward(self, X):\n",
        "        return self.linear(X)"
      ],
      "metadata": {
        "id": "Nyj-7Ss788Mv"
      },
      "execution_count": 31,
      "outputs": []
    },
    {
      "cell_type": "markdown",
      "source": [
        "## Loss\n",
        "\n",
        "MSE Loss using `nn.MSELoss()"
      ],
      "metadata": {
        "id": "wR-lsz55T6aW"
      }
    },
    {
      "cell_type": "code",
      "source": [
        "loss_fn = nn.MSELoss(reduction='mean')\n",
        "loss_fn"
      ],
      "metadata": {
        "colab": {
          "base_uri": "https://localhost:8080/"
        },
        "id": "WSarsHTpT2mn",
        "outputId": "a7f287e6-ae25-4023-fb2a-81963f3986f8"
      },
      "execution_count": 32,
      "outputs": [
        {
          "output_type": "execute_result",
          "data": {
            "text/plain": [
              "MSELoss()"
            ]
          },
          "metadata": {},
          "execution_count": 32
        }
      ]
    },
    {
      "cell_type": "markdown",
      "source": [
        "## Optimizer\n",
        "\n",
        "We will use simple SGD Optimizer for our problem"
      ],
      "metadata": {
        "id": "12m3VwZ1UlUj"
      }
    },
    {
      "cell_type": "markdown",
      "source": [
        "## Putting it all together with the `Learner` class"
      ],
      "metadata": {
        "id": "gGC0js37UK9Z"
      }
    },
    {
      "cell_type": "code",
      "source": [
        "learner = Learner(model=LinearRegression(),\n",
        "                  loss_fn=nn.MSELoss(reduction='mean'),\n",
        "                  train_dataloader=train_dataloader,\n",
        "                  valid_dataloader=valid_dataloader)"
      ],
      "metadata": {
        "id": "91LmCfZPUOdF"
      },
      "execution_count": 42,
      "outputs": []
    },
    {
      "cell_type": "code",
      "source": [
        "learner.train(5)"
      ],
      "metadata": {
        "colab": {
          "base_uri": "https://localhost:8080/"
        },
        "id": "uRIYg6naY7du",
        "outputId": "da89e7a9-3a35-405e-c5e4-aef25a431a37"
      },
      "execution_count": 43,
      "outputs": [
        {
          "output_type": "stream",
          "name": "stdout",
          "text": [
            "Epoch: 0 | Train Loss: 0.112 | Valid Loss: 0.002\n",
            "Epoch: 1 | Train Loss: 0.002 | Valid Loss: 0.001\n",
            "Epoch: 2 | Train Loss: 0.001 | Valid Loss: 0.001\n",
            "Epoch: 3 | Train Loss: 0.001 | Valid Loss: 0.001\n",
            "Epoch: 4 | Train Loss: 0.001 | Valid Loss: 0.001\n"
          ]
        }
      ]
    },
    {
      "cell_type": "code",
      "source": [
        "learner.model.state_dict()"
      ],
      "metadata": {
        "colab": {
          "base_uri": "https://localhost:8080/"
        },
        "id": "0f9uRPmXbQYv",
        "outputId": "3abec0f2-d453-42c1-e9e9-92cf9aedb200"
      },
      "execution_count": 45,
      "outputs": [
        {
          "output_type": "execute_result",
          "data": {
            "text/plain": [
              "OrderedDict([('linear.weight', tensor([[0.5512]], device='cuda:0')),\n",
              "             ('linear.bias', tensor([0.9703], device='cuda:0'))])"
            ]
          },
          "metadata": {},
          "execution_count": 45
        }
      ]
    },
    {
      "cell_type": "markdown",
      "source": [
        "## Installing `sstorch` package through pip\n",
        "\n",
        "We will use `sstorch` package to continue our development for minimizing the boilerplate code for PyTorch Code. Note that `sstorch` also has other functions that is useful for PyTorch training that will be documented under sstorch reference session in the ssnote"
      ],
      "metadata": {
        "id": "3IGAF9JOWAmU"
      }
    },
    {
      "cell_type": "code",
      "execution_count": 46,
      "metadata": {
        "colab": {
          "base_uri": "https://localhost:8080/"
        },
        "id": "Om1eSKiSSuay",
        "outputId": "ad825cf7-eaa8-4227-e18b-6657bc2f7853"
      },
      "outputs": [
        {
          "output_type": "stream",
          "name": "stdout",
          "text": [
            "  Installing build dependencies ... \u001b[?25l\u001b[?25hdone\n",
            "  Getting requirements to build wheel ... \u001b[?25l\u001b[?25hdone\n",
            "  Installing backend dependencies ... \u001b[?25l\u001b[?25hdone\n",
            "  Preparing metadata (pyproject.toml) ... \u001b[?25l\u001b[?25hdone\n",
            "\u001b[2K     \u001b[90m━━━━━━━━━━━━━━━━━━━━━━━━━━━━━━━━━━━━━━━━\u001b[0m \u001b[32m5.7/5.7 MB\u001b[0m \u001b[31m51.3 MB/s\u001b[0m eta \u001b[36m0:00:00\u001b[0m\n",
            "\u001b[2K     \u001b[90m━━━━━━━━━━━━━━━━━━━━━━━━━━━━━━━━━━━━━━━━\u001b[0m \u001b[32m144.8/144.8 kB\u001b[0m \u001b[31m19.4 MB/s\u001b[0m eta \u001b[36m0:00:00\u001b[0m\n",
            "\u001b[?25h  Building wheel for sstorch (pyproject.toml) ... \u001b[?25l\u001b[?25hdone\n"
          ]
        }
      ],
      "source": [
        "# Installing sstorch package\n",
        "!pip -q install git+https://github.com/ronald-hk-chung/sstorch.git"
      ]
    },
    {
      "cell_type": "code",
      "source": [
        "from sstorch.learner import SSTLearner\n",
        "\n",
        "class LinearLearner(SSTLearner):\n",
        "    def __init__(self):\n",
        "        super().__init__(model=LinearRegression(),\n",
        "                         loss_fn=nn.MSELoss(),\n",
        "                         train_dataloader=train_dataloader,\n",
        "                         valid_dataloader=valid_dataloader)\n",
        "\n",
        "    def configure_optimizer(self):\n",
        "        return torch.optim.SGD(params=self.model.parameters(), lr=0.1)\n",
        "\n",
        "    def train_step(self):\n",
        "        X, y = self.batch\n",
        "        y_logits = self.model(X)\n",
        "        loss = self.loss_fn(y_logits, y)\n",
        "        return loss, 0\n",
        "\n",
        "    def valid_step(self):\n",
        "        X, y = self.batch\n",
        "        y_logits = self.model(X)\n",
        "        loss = self.loss_fn(y_logits, y)\n",
        "        return loss, 0"
      ],
      "metadata": {
        "id": "vMzf1jG4cNcm"
      },
      "execution_count": 63,
      "outputs": []
    },
    {
      "cell_type": "code",
      "source": [
        "learner = LinearLearner()"
      ],
      "metadata": {
        "id": "gGz2zWT2czE_"
      },
      "execution_count": 64,
      "outputs": []
    },
    {
      "cell_type": "code",
      "source": [
        "learner.train(10)"
      ],
      "metadata": {
        "colab": {
          "base_uri": "https://localhost:8080/",
          "height": 396,
          "referenced_widgets": [
            "3e579ff498af4a089450a5dca8fd5b50",
            "fe4d67b13254449d94fbd688d0d390e9",
            "a2d45002f58f4ea6af6cba631a30f452",
            "2862d66f36fa4bf0878e9a8f61644ea0",
            "e29037624ea148d0a99dba3785cfc031",
            "32c078b894394426b518a4f321556f05",
            "645dfc1b338a4285a149d3e37c75e6a1",
            "fa3eaf6d11354d1e9a5283fecfde6f00",
            "cd83a13c1a4d425d89631f3f01516517",
            "fb182b9535d3474a80598b816f994c18",
            "23e5e2c40dcd4761a6ff863607ed666e"
          ]
        },
        "id": "eqwlE0Dsdcl7",
        "outputId": "a84487fa-da83-45a9-e12d-084a68fce3a2"
      },
      "execution_count": 65,
      "outputs": [
        {
          "output_type": "display_data",
          "data": {
            "text/plain": [
              "Epochs:   0%|          | 0/10 [00:00<?, ?it/s]"
            ],
            "application/vnd.jupyter.widget-view+json": {
              "version_major": 2,
              "version_minor": 0,
              "model_id": "3e579ff498af4a089450a5dca8fd5b50"
            }
          },
          "metadata": {}
        },
        {
          "output_type": "stream",
          "name": "stdout",
          "text": [
            "\rTrain Step 1/12 | Loss(Cur/Avg): 1.073 / 1.073 | Metric(Cur/Avg): 0 / 0.0\rTrain Step 2/12 | Loss(Cur/Avg): 0.582 / 0.828 | Metric(Cur/Avg): 0 / 0.0\rTrain Step 3/12 | Loss(Cur/Avg): 0.327 / 0.661 | Metric(Cur/Avg): 0 / 0.0\rTrain Step 4/12 | Loss(Cur/Avg): 0.203 / 0.546 | Metric(Cur/Avg): 0 / 0.0\rTrain Step 5/12 | Loss(Cur/Avg): 0.134 / 0.464 | Metric(Cur/Avg): 0 / 0.0\rTrain Step 6/12 | Loss(Cur/Avg): 0.07 / 0.398 | Metric(Cur/Avg): 0 / 0.0\rTrain Step 7/12 | Loss(Cur/Avg): 0.037 / 0.347 | Metric(Cur/Avg): 0 / 0.0\rTrain Step 8/12 | Loss(Cur/Avg): 0.038 / 0.308 | Metric(Cur/Avg): 0 / 0.0\rTrain Step 9/12 | Loss(Cur/Avg): 0.018 / 0.276 | Metric(Cur/Avg): 0 / 0.0\rTrain Step 10/12 | Loss(Cur/Avg): 0.023 / 0.251 | Metric(Cur/Avg): 0 / 0.0\rTrain Step 11/12 | Loss(Cur/Avg): 0.007 / 0.229 | Metric(Cur/Avg): 0 / 0.0\rTrain Step 12/12 | Loss(Cur/Avg): 0.014 / 0.211 | Metric(Cur/Avg): 0 / 0.0\rValid Step 1/12 | Loss(Cur/Avg): 0.008 / 0.008 | Metric(Cur/Avg): 0 / 0.0\rValid Step 2/12 | Loss(Cur/Avg): 0.009 / 0.008 | Metric(Cur/Avg): 0 / 0.0\rValid Step 3/12 | Loss(Cur/Avg): 0.014 / 0.01 | Metric(Cur/Avg): 0 / 0.0\rValid Step 4/12 | Loss(Cur/Avg): 0.012 / 0.011 | Metric(Cur/Avg): 0 / 0.0\rValid Step 5/12 | Loss(Cur/Avg): 0.009 / 0.01 | Metric(Cur/Avg): 0 / 0.0\rValid Step 6/12 | Loss(Cur/Avg): 0.012 / 0.011 | Metric(Cur/Avg): 0 / 0.0\rValid Step 7/12 | Loss(Cur/Avg): 0.012 / 0.011 | Metric(Cur/Avg): 0 / 0.0\rValid Step 8/12 | Loss(Cur/Avg): 0.019 / 0.012 | Metric(Cur/Avg): 0 / 0.0\rValid Step 9/12 | Loss(Cur/Avg): 0.015 / 0.012 | Metric(Cur/Avg): 0 / 0.0\rValid Step 10/12 | Loss(Cur/Avg): 0.013 / 0.012 | Metric(Cur/Avg): 0 / 0.0\rValid Step 11/12 | Loss(Cur/Avg): 0.012 / 0.012 | Metric(Cur/Avg): 0 / 0.0\rValid Step 12/12 | Loss(Cur/Avg): 0.014 / 0.012 | Metric(Cur/Avg): 0 / 0.0\rEpoch: 1 | LR: 1.0E-01 | train_loss: 0.211 | valid_loss: 0.012 \n",
            "----------------------------------------------------------------------------------------------------\n",
            "\rTrain Step 1/12 | Loss(Cur/Avg): 0.017 / 0.017 | Metric(Cur/Avg): 0 / 0.0\rTrain Step 2/12 | Loss(Cur/Avg): 0.008 / 0.012 | Metric(Cur/Avg): 0 / 0.0\rTrain Step 3/12 | Loss(Cur/Avg): 0.011 / 0.012 | Metric(Cur/Avg): 0 / 0.0\rTrain Step 4/12 | Loss(Cur/Avg): 0.012 / 0.012 | Metric(Cur/Avg): 0 / 0.0\rTrain Step 5/12 | Loss(Cur/Avg): 0.01 / 0.012 | Metric(Cur/Avg): 0 / 0.0\rTrain Step 6/12 | Loss(Cur/Avg): 0.014 / 0.012 | Metric(Cur/Avg): 0 / 0.0\rTrain Step 7/12 | Loss(Cur/Avg): 0.008 / 0.011 | Metric(Cur/Avg): 0 / 0.0\rTrain Step 8/12 | Loss(Cur/Avg): 0.007 / 0.011 | Metric(Cur/Avg): 0 / 0.0\rTrain Step 9/12 | Loss(Cur/Avg): 0.012 / 0.011 | Metric(Cur/Avg): 0 / 0.0\rTrain Step 10/12 | Loss(Cur/Avg): 0.012 / 0.011 | Metric(Cur/Avg): 0 / 0.0\rTrain Step 11/12 | Loss(Cur/Avg): 0.006 / 0.011 | Metric(Cur/Avg): 0 / 0.0\rTrain Step 12/12 | Loss(Cur/Avg): 0.007 / 0.01 | Metric(Cur/Avg): 0 / 0.0\rValid Step 1/12 | Loss(Cur/Avg): 0.006 / 0.006 | Metric(Cur/Avg): 0 / 0.0\rValid Step 2/12 | Loss(Cur/Avg): 0.007 / 0.006 | Metric(Cur/Avg): 0 / 0.0\rValid Step 3/12 | Loss(Cur/Avg): 0.011 / 0.008 | Metric(Cur/Avg): 0 / 0.0\rValid Step 4/12 | Loss(Cur/Avg): 0.009 / 0.008 | Metric(Cur/Avg): 0 / 0.0\rValid Step 5/12 | Loss(Cur/Avg): 0.006 / 0.008 | Metric(Cur/Avg): 0 / 0.0\rValid Step 6/12 | Loss(Cur/Avg): 0.008 / 0.008 | Metric(Cur/Avg): 0 / 0.0\rValid Step 7/12 | Loss(Cur/Avg): 0.008 / 0.008 | Metric(Cur/Avg): 0 / 0.0\rValid Step 8/12 | Loss(Cur/Avg): 0.012 / 0.008 | Metric(Cur/Avg): 0 / 0.0\rValid Step 9/12 | Loss(Cur/Avg): 0.009 / 0.008 | Metric(Cur/Avg): 0 / 0.0\rValid Step 10/12 | Loss(Cur/Avg): 0.009 / 0.008 | Metric(Cur/Avg): 0 / 0.0\rValid Step 11/12 | Loss(Cur/Avg): 0.008 / 0.008 | Metric(Cur/Avg): 0 / 0.0\rValid Step 12/12 | Loss(Cur/Avg): 0.01 / 0.009 | Metric(Cur/Avg): 0 / 0.0\rEpoch: 2 | LR: 1.0E-01 | train_loss: 0.01 | valid_loss: 0.009 \n",
            "----------------------------------------------------------------------------------------------------\n",
            "\rTrain Step 1/12 | Loss(Cur/Avg): 0.01 / 0.01 | Metric(Cur/Avg): 0 / 0.0\rTrain Step 2/12 | Loss(Cur/Avg): 0.011 / 0.01 | Metric(Cur/Avg): 0 / 0.0\rTrain Step 3/12 | Loss(Cur/Avg): 0.011 / 0.011 | Metric(Cur/Avg): 0 / 0.0\rTrain Step 4/12 | Loss(Cur/Avg): 0.005 / 0.009 | Metric(Cur/Avg): 0 / 0.0\rTrain Step 5/12 | Loss(Cur/Avg): 0.006 / 0.009 | Metric(Cur/Avg): 0 / 0.0\rTrain Step 6/12 | Loss(Cur/Avg): 0.009 / 0.009 | Metric(Cur/Avg): 0 / 0.0\rTrain Step 7/12 | Loss(Cur/Avg): 0.004 / 0.008 | Metric(Cur/Avg): 0 / 0.0\rTrain Step 8/12 | Loss(Cur/Avg): 0.009 / 0.008 | Metric(Cur/Avg): 0 / 0.0\rTrain Step 9/12 | Loss(Cur/Avg): 0.006 / 0.008 | Metric(Cur/Avg): 0 / 0.0\rTrain Step 10/12 | Loss(Cur/Avg): 0.008 / 0.008 | Metric(Cur/Avg): 0 / 0.0\rTrain Step 11/12 | Loss(Cur/Avg): 0.004 / 0.007 | Metric(Cur/Avg): 0 / 0.0\rTrain Step 12/12 | Loss(Cur/Avg): 0.007 / 0.007 | Metric(Cur/Avg): 0 / 0.0\rValid Step 1/12 | Loss(Cur/Avg): 0.005 / 0.005 | Metric(Cur/Avg): 0 / 0.0\rValid Step 2/12 | Loss(Cur/Avg): 0.005 / 0.005 | Metric(Cur/Avg): 0 / 0.0\rValid Step 3/12 | Loss(Cur/Avg): 0.009 / 0.006 | Metric(Cur/Avg): 0 / 0.0\rValid Step 4/12 | Loss(Cur/Avg): 0.007 / 0.006 | Metric(Cur/Avg): 0 / 0.0\rValid Step 5/12 | Loss(Cur/Avg): 0.004 / 0.006 | Metric(Cur/Avg): 0 / 0.0\rValid Step 6/12 | Loss(Cur/Avg): 0.006 / 0.006 | Metric(Cur/Avg): 0 / 0.0\rValid Step 7/12 | Loss(Cur/Avg): 0.005 / 0.006 | Metric(Cur/Avg): 0 / 0.0\rValid Step 8/12 | Loss(Cur/Avg): 0.009 / 0.006 | Metric(Cur/Avg): 0 / 0.0\rValid Step 9/12 | Loss(Cur/Avg): 0.006 / 0.006 | Metric(Cur/Avg): 0 / 0.0\rValid Step 10/12 | Loss(Cur/Avg): 0.007 / 0.006 | Metric(Cur/Avg): 0 / 0.0\rValid Step 11/12 | Loss(Cur/Avg): 0.006 / 0.006 | Metric(Cur/Avg): 0 / 0.0\rValid Step 12/12 | Loss(Cur/Avg): 0.008 / 0.006 | Metric(Cur/Avg): 0 / 0.0\rEpoch: 3 | LR: 1.0E-01 | train_loss: 0.007 | valid_loss: 0.006 \n",
            "----------------------------------------------------------------------------------------------------\n",
            "\rTrain Step 1/12 | Loss(Cur/Avg): 0.004 / 0.004 | Metric(Cur/Avg): 0 / 0.0\rTrain Step 2/12 | Loss(Cur/Avg): 0.004 / 0.004 | Metric(Cur/Avg): 0 / 0.0\rTrain Step 3/12 | Loss(Cur/Avg): 0.005 / 0.004 | Metric(Cur/Avg): 0 / 0.0\rTrain Step 4/12 | Loss(Cur/Avg): 0.007 / 0.005 | Metric(Cur/Avg): 0 / 0.0\rTrain Step 5/12 | Loss(Cur/Avg): 0.006 / 0.005 | Metric(Cur/Avg): 0 / 0.0\rTrain Step 6/12 | Loss(Cur/Avg): 0.011 / 0.006 | Metric(Cur/Avg): 0 / 0.0\rTrain Step 7/12 | Loss(Cur/Avg): 0.005 / 0.006 | Metric(Cur/Avg): 0 / 0.0\rTrain Step 8/12 | Loss(Cur/Avg): 0.006 / 0.006 | Metric(Cur/Avg): 0 / 0.0\rTrain Step 9/12 | Loss(Cur/Avg): 0.003 / 0.006 | Metric(Cur/Avg): 0 / 0.0\rTrain Step 10/12 | Loss(Cur/Avg): 0.004 / 0.006 | Metric(Cur/Avg): 0 / 0.0\rTrain Step 11/12 | Loss(Cur/Avg): 0.004 / 0.005 | Metric(Cur/Avg): 0 / 0.0\rTrain Step 12/12 | Loss(Cur/Avg): 0.008 / 0.006 | Metric(Cur/Avg): 0 / 0.0\rValid Step 1/12 | Loss(Cur/Avg): 0.004 / 0.004 | Metric(Cur/Avg): 0 / 0.0\rValid Step 2/12 | Loss(Cur/Avg): 0.004 / 0.004 | Metric(Cur/Avg): 0 / 0.0\rValid Step 3/12 | Loss(Cur/Avg): 0.007 / 0.005 | Metric(Cur/Avg): 0 / 0.0\rValid Step 4/12 | Loss(Cur/Avg): 0.006 / 0.005 | Metric(Cur/Avg): 0 / 0.0\rValid Step 5/12 | Loss(Cur/Avg): 0.003 / 0.005 | Metric(Cur/Avg): 0 / 0.0\rValid Step 6/12 | Loss(Cur/Avg): 0.005 / 0.005 | Metric(Cur/Avg): 0 / 0.0\rValid Step 7/12 | Loss(Cur/Avg): 0.004 / 0.005 | Metric(Cur/Avg): 0 / 0.0\rValid Step 8/12 | Loss(Cur/Avg): 0.007 / 0.005 | Metric(Cur/Avg): 0 / 0.0\rValid Step 9/12 | Loss(Cur/Avg): 0.004 / 0.005 | Metric(Cur/Avg): 0 / 0.0\rValid Step 10/12 | Loss(Cur/Avg): 0.005 / 0.005 | Metric(Cur/Avg): 0 / 0.0\rValid Step 11/12 | Loss(Cur/Avg): 0.005 / 0.005 | Metric(Cur/Avg): 0 / 0.0\rValid Step 12/12 | Loss(Cur/Avg): 0.006 / 0.005 | Metric(Cur/Avg): 0 / 0.0\rEpoch: 4 | LR: 1.0E-01 | train_loss: 0.006 | valid_loss: 0.005 \n",
            "----------------------------------------------------------------------------------------------------\n",
            "\rTrain Step 1/12 | Loss(Cur/Avg): 0.004 / 0.004 | Metric(Cur/Avg): 0 / 0.0\rTrain Step 2/12 | Loss(Cur/Avg): 0.004 / 0.004 | Metric(Cur/Avg): 0 / 0.0\rTrain Step 3/12 | Loss(Cur/Avg): 0.007 / 0.005 | Metric(Cur/Avg): 0 / 0.0\rTrain Step 4/12 | Loss(Cur/Avg): 0.004 / 0.005 | Metric(Cur/Avg): 0 / 0.0\rTrain Step 5/12 | Loss(Cur/Avg): 0.003 / 0.005 | Metric(Cur/Avg): 0 / 0.0\rTrain Step 6/12 | Loss(Cur/Avg): 0.004 / 0.004 | Metric(Cur/Avg): 0 / 0.0\rTrain Step 7/12 | Loss(Cur/Avg): 0.004 / 0.004 | Metric(Cur/Avg): 0 / 0.0\rTrain Step 8/12 | Loss(Cur/Avg): 0.008 / 0.005 | Metric(Cur/Avg): 0 / 0.0\rTrain Step 9/12 | Loss(Cur/Avg): 0.003 / 0.005 | Metric(Cur/Avg): 0 / 0.0\rTrain Step 10/12 | Loss(Cur/Avg): 0.005 / 0.005 | Metric(Cur/Avg): 0 / 0.0\rTrain Step 11/12 | Loss(Cur/Avg): 0.002 / 0.004 | Metric(Cur/Avg): 0 / 0.0\rTrain Step 12/12 | Loss(Cur/Avg): 0.003 / 0.004 | Metric(Cur/Avg): 0 / 0.0\rValid Step 1/12 | Loss(Cur/Avg): 0.003 / 0.003 | Metric(Cur/Avg): 0 / 0.0\rValid Step 2/12 | Loss(Cur/Avg): 0.003 / 0.003 | Metric(Cur/Avg): 0 / 0.0\rValid Step 3/12 | Loss(Cur/Avg): 0.006 / 0.004 | Metric(Cur/Avg): 0 / 0.0\rValid Step 4/12 | Loss(Cur/Avg): 0.004 / 0.004 | Metric(Cur/Avg): 0 / 0.0\rValid Step 5/12 | Loss(Cur/Avg): 0.002 / 0.004 | Metric(Cur/Avg): 0 / 0.0\rValid Step 6/12 | Loss(Cur/Avg): 0.004 / 0.004 | Metric(Cur/Avg): 0 / 0.0\rValid Step 7/12 | Loss(Cur/Avg): 0.003 / 0.004 | Metric(Cur/Avg): 0 / 0.0\rValid Step 8/12 | Loss(Cur/Avg): 0.005 / 0.004 | Metric(Cur/Avg): 0 / 0.0\rValid Step 9/12 | Loss(Cur/Avg): 0.003 / 0.004 | Metric(Cur/Avg): 0 / 0.0\rValid Step 10/12 | Loss(Cur/Avg): 0.004 / 0.004 | Metric(Cur/Avg): 0 / 0.0\rValid Step 11/12 | Loss(Cur/Avg): 0.004 / 0.004 | Metric(Cur/Avg): 0 / 0.0\rValid Step 12/12 | Loss(Cur/Avg): 0.005 / 0.004 | Metric(Cur/Avg): 0 / 0.0\rEpoch: 5 | LR: 1.0E-01 | train_loss: 0.004 | valid_loss: 0.004 \n",
            "----------------------------------------------------------------------------------------------------\n",
            "Epoch: 6 | LR: 1.0E-01 | train_loss: 0.003 | valid_loss: 0.003 \n",
            "----------------------------------------------------------------------------------------------------\n",
            "Epoch: 7 | LR: 1.0E-01 | train_loss: 0.003 | valid_loss: 0.002 \n",
            "----------------------------------------------------------------------------------------------------\n",
            "Epoch: 8 | LR: 1.0E-01 | train_loss: 0.002 | valid_loss: 0.002 \n",
            "----------------------------------------------------------------------------------------------------\n",
            "Epoch: 9 | LR: 1.0E-01 | train_loss: 0.002 | valid_loss: 0.002 \n",
            "----------------------------------------------------------------------------------------------------\n",
            "Epoch: 10 | LR: 1.0E-01 | train_loss: 0.002 | valid_loss: 0.002 \n",
            "----------------------------------------------------------------------------------------------------\n"
          ]
        }
      ]
    },
    {
      "cell_type": "code",
      "source": [
        "learner.model.state_dict()"
      ],
      "metadata": {
        "colab": {
          "base_uri": "https://localhost:8080/"
        },
        "id": "M1lUYnGkddvp",
        "outputId": "ee1eb1e0-93a4-490f-fe0b-0ce5c6de8507"
      },
      "execution_count": 66,
      "outputs": [
        {
          "output_type": "execute_result",
          "data": {
            "text/plain": [
              "OrderedDict([('linear.weight', tensor([[0.5913]], device='cuda:0')),\n",
              "             ('linear.bias', tensor([0.9516], device='cuda:0'))])"
            ]
          },
          "metadata": {},
          "execution_count": 66
        }
      ]
    },
    {
      "cell_type": "code",
      "source": [
        "learner.plot_loss_curve()"
      ],
      "metadata": {
        "colab": {
          "base_uri": "https://localhost:8080/",
          "height": 472
        },
        "id": "oUdQkVNMdq5e",
        "outputId": "098132c6-ed75-4550-e8c4-1ce3c4bb74df"
      },
      "execution_count": 67,
      "outputs": [
        {
          "output_type": "display_data",
          "data": {
            "text/plain": [
              "<Figure size 640x480 with 1 Axes>"
            ],
            "image/png": "[encoded data removed]"
          },
          "metadata": {}
        }
      ]
    }
  ]
}