{
  "nbformat": 4,
  "nbformat_minor": 0,
  "metadata": {
    "colab": {
      "provenance": [],
      "gpuType": "T4",
      "toc_visible": true,
      "authorship_tag": "ABX9TyOsxfqctobEUhmUkoMcfkYa",
      "include_colab_link": true
    },
    "kernelspec": {
      "name": "python3",
      "display_name": "Python 3"
    },
    "language_info": {
      "name": "python"
    },
    "accelerator": "GPU",
    "widgets": {
      "application/vnd.jupyter.widget-state+json": {
        "356f3bebf8ed466c926134856ab497a0": {
          "model_module": "@jupyter-widgets/controls",
          "model_name": "HBoxModel",
          "model_module_version": "1.5.0",
          "state": {
            "_dom_classes": [],
            "_model_module": "@jupyter-widgets/controls",
            "_model_module_version": "1.5.0",
            "_model_name": "HBoxModel",
            "_view_count": null,
            "_view_module": "@jupyter-widgets/controls",
            "_view_module_version": "1.5.0",
            "_view_name": "HBoxView",
            "box_style": "",
            "children": [
              "IPY_MODEL_82d658a0c7c742988b558d1253e12388",
              "IPY_MODEL_71ae601b8865427aab5b53dd4a3020c5",
              "IPY_MODEL_7bd27509922940ddadc6cb655e51c271"
            ],
            "layout": "IPY_MODEL_350c278af1e844e1914bfb89495dbb21"
          }
        },
        "82d658a0c7c742988b558d1253e12388": {
          "model_module": "@jupyter-widgets/controls",
          "model_name": "HTMLModel",
          "model_module_version": "1.5.0",
          "state": {
            "_dom_classes": [],
            "_model_module": "@jupyter-widgets/controls",
            "_model_module_version": "1.5.0",
            "_model_name": "HTMLModel",
            "_view_count": null,
            "_view_module": "@jupyter-widgets/controls",
            "_view_module_version": "1.5.0",
            "_view_name": "HTMLView",
            "description": "",
            "description_tooltip": null,
            "layout": "IPY_MODEL_17e053e538dc4bd3b1f54bbd87e07b2d",
            "placeholder": "​",
            "style": "IPY_MODEL_b0d582310c0e4bcc9958a13449f286a9",
            "value": "Epochs: 100%"
          }
        },
        "71ae601b8865427aab5b53dd4a3020c5": {
          "model_module": "@jupyter-widgets/controls",
          "model_name": "FloatProgressModel",
          "model_module_version": "1.5.0",
          "state": {
            "_dom_classes": [],
            "_model_module": "@jupyter-widgets/controls",
            "_model_module_version": "1.5.0",
            "_model_name": "FloatProgressModel",
            "_view_count": null,
            "_view_module": "@jupyter-widgets/controls",
            "_view_module_version": "1.5.0",
            "_view_name": "ProgressView",
            "bar_style": "success",
            "description": "",
            "description_tooltip": null,
            "layout": "IPY_MODEL_e93700fc4b9845b5a96087e35b248b4f",
            "max": 5,
            "min": 0,
            "orientation": "horizontal",
            "style": "IPY_MODEL_db66002ef58345ddbf2f788c3cf9f35c",
            "value": 5
          }
        },
        "7bd27509922940ddadc6cb655e51c271": {
          "model_module": "@jupyter-widgets/controls",
          "model_name": "HTMLModel",
          "model_module_version": "1.5.0",
          "state": {
            "_dom_classes": [],
            "_model_module": "@jupyter-widgets/controls",
            "_model_module_version": "1.5.0",
            "_model_name": "HTMLModel",
            "_view_count": null,
            "_view_module": "@jupyter-widgets/controls",
            "_view_module_version": "1.5.0",
            "_view_name": "HTMLView",
            "description": "",
            "description_tooltip": null,
            "layout": "IPY_MODEL_5a00bb43bb0844f099e8c34206e75c89",
            "placeholder": "​",
            "style": "IPY_MODEL_26a689a69aa945b99aa16d387dcd73bf",
            "value": " 5/5 [00:01&lt;00:00,  3.42it/s]"
          }
        },
        "350c278af1e844e1914bfb89495dbb21": {
          "model_module": "@jupyter-widgets/base",
          "model_name": "LayoutModel",
          "model_module_version": "1.2.0",
          "state": {
            "_model_module": "@jupyter-widgets/base",
            "_model_module_version": "1.2.0",
            "_model_name": "LayoutModel",
            "_view_count": null,
            "_view_module": "@jupyter-widgets/base",
            "_view_module_version": "1.2.0",
            "_view_name": "LayoutView",
            "align_content": null,
            "align_items": null,
            "align_self": null,
            "border": null,
            "bottom": null,
            "display": null,
            "flex": null,
            "flex_flow": null,
            "grid_area": null,
            "grid_auto_columns": null,
            "grid_auto_flow": null,
            "grid_auto_rows": null,
            "grid_column": null,
            "grid_gap": null,
            "grid_row": null,
            "grid_template_areas": null,
            "grid_template_columns": null,
            "grid_template_rows": null,
            "height": null,
            "justify_content": null,
            "justify_items": null,
            "left": null,
            "margin": null,
            "max_height": null,
            "max_width": null,
            "min_height": null,
            "min_width": null,
            "object_fit": null,
            "object_position": null,
            "order": null,
            "overflow": null,
            "overflow_x": null,
            "overflow_y": null,
            "padding": null,
            "right": null,
            "top": null,
            "visibility": null,
            "width": null
          }
        },
        "17e053e538dc4bd3b1f54bbd87e07b2d": {
          "model_module": "@jupyter-widgets/base",
          "model_name": "LayoutModel",
          "model_module_version": "1.2.0",
          "state": {
            "_model_module": "@jupyter-widgets/base",
            "_model_module_version": "1.2.0",
            "_model_name": "LayoutModel",
            "_view_count": null,
            "_view_module": "@jupyter-widgets/base",
            "_view_module_version": "1.2.0",
            "_view_name": "LayoutView",
            "align_content": null,
            "align_items": null,
            "align_self": null,
            "border": null,
            "bottom": null,
            "display": null,
            "flex": null,
            "flex_flow": null,
            "grid_area": null,
            "grid_auto_columns": null,
            "grid_auto_flow": null,
            "grid_auto_rows": null,
            "grid_column": null,
            "grid_gap": null,
            "grid_row": null,
            "grid_template_areas": null,
            "grid_template_columns": null,
            "grid_template_rows": null,
            "height": null,
            "justify_content": null,
            "justify_items": null,
            "left": null,
            "margin": null,
            "max_height": null,
            "max_width": null,
            "min_height": null,
            "min_width": null,
            "object_fit": null,
            "object_position": null,
            "order": null,
            "overflow": null,
            "overflow_x": null,
            "overflow_y": null,
            "padding": null,
            "right": null,
            "top": null,
            "visibility": null,
            "width": null
          }
        },
        "b0d582310c0e4bcc9958a13449f286a9": {
          "model_module": "@jupyter-widgets/controls",
          "model_name": "DescriptionStyleModel",
          "model_module_version": "1.5.0",
          "state": {
            "_model_module": "@jupyter-widgets/controls",
            "_model_module_version": "1.5.0",
            "_model_name": "DescriptionStyleModel",
            "_view_count": null,
            "_view_module": "@jupyter-widgets/base",
            "_view_module_version": "1.2.0",
            "_view_name": "StyleView",
            "description_width": ""
          }
        },
        "e93700fc4b9845b5a96087e35b248b4f": {
          "model_module": "@jupyter-widgets/base",
          "model_name": "LayoutModel",
          "model_module_version": "1.2.0",
          "state": {
            "_model_module": "@jupyter-widgets/base",
            "_model_module_version": "1.2.0",
            "_model_name": "LayoutModel",
            "_view_count": null,
            "_view_module": "@jupyter-widgets/base",
            "_view_module_version": "1.2.0",
            "_view_name": "LayoutView",
            "align_content": null,
            "align_items": null,
            "align_self": null,
            "border": null,
            "bottom": null,
            "display": null,
            "flex": null,
            "flex_flow": null,
            "grid_area": null,
            "grid_auto_columns": null,
            "grid_auto_flow": null,
            "grid_auto_rows": null,
            "grid_column": null,
            "grid_gap": null,
            "grid_row": null,
            "grid_template_areas": null,
            "grid_template_columns": null,
            "grid_template_rows": null,
            "height": null,
            "justify_content": null,
            "justify_items": null,
            "left": null,
            "margin": null,
            "max_height": null,
            "max_width": null,
            "min_height": null,
            "min_width": null,
            "object_fit": null,
            "object_position": null,
            "order": null,
            "overflow": null,
            "overflow_x": null,
            "overflow_y": null,
            "padding": null,
            "right": null,
            "top": null,
            "visibility": null,
            "width": null
          }
        },
        "db66002ef58345ddbf2f788c3cf9f35c": {
          "model_module": "@jupyter-widgets/controls",
          "model_name": "ProgressStyleModel",
          "model_module_version": "1.5.0",
          "state": {
            "_model_module": "@jupyter-widgets/controls",
            "_model_module_version": "1.5.0",
            "_model_name": "ProgressStyleModel",
            "_view_count": null,
            "_view_module": "@jupyter-widgets/base",
            "_view_module_version": "1.2.0",
            "_view_name": "StyleView",
            "bar_color": null,
            "description_width": ""
          }
        },
        "5a00bb43bb0844f099e8c34206e75c89": {
          "model_module": "@jupyter-widgets/base",
          "model_name": "LayoutModel",
          "model_module_version": "1.2.0",
          "state": {
            "_model_module": "@jupyter-widgets/base",
            "_model_module_version": "1.2.0",
            "_model_name": "LayoutModel",
            "_view_count": null,
            "_view_module": "@jupyter-widgets/base",
            "_view_module_version": "1.2.0",
            "_view_name": "LayoutView",
            "align_content": null,
            "align_items": null,
            "align_self": null,
            "border": null,
            "bottom": null,
            "display": null,
            "flex": null,
            "flex_flow": null,
            "grid_area": null,
            "grid_auto_columns": null,
            "grid_auto_flow": null,
            "grid_auto_rows": null,
            "grid_column": null,
            "grid_gap": null,
            "grid_row": null,
            "grid_template_areas": null,
            "grid_template_columns": null,
            "grid_template_rows": null,
            "height": null,
            "justify_content": null,
            "justify_items": null,
            "left": null,
            "margin": null,
            "max_height": null,
            "max_width": null,
            "min_height": null,
            "min_width": null,
            "object_fit": null,
            "object_position": null,
            "order": null,
            "overflow": null,
            "overflow_x": null,
            "overflow_y": null,
            "padding": null,
            "right": null,
            "top": null,
            "visibility": null,
            "width": null
          }
        },
        "26a689a69aa945b99aa16d387dcd73bf": {
          "model_module": "@jupyter-widgets/controls",
          "model_name": "DescriptionStyleModel",
          "model_module_version": "1.5.0",
          "state": {
            "_model_module": "@jupyter-widgets/controls",
            "_model_module_version": "1.5.0",
            "_model_name": "DescriptionStyleModel",
            "_view_count": null,
            "_view_module": "@jupyter-widgets/base",
            "_view_module_version": "1.2.0",
            "_view_name": "StyleView",
            "description_width": ""
          }
        }
      }
    }
  },
  "cells": [
    {
      "cell_type": "markdown",
      "metadata": {
        "id": "view-in-github",
        "colab_type": "text"
      },
      "source": [
        "<a href=\"https://colab.research.google.com/github/ronald-hk-chung/ssnotebook/blob/main/basics_of_neural_network/introduction_to_pytorch_workflow.ipynb\" target=\"_parent\"><img src=\"https://colab.research.google.com/assets/colab-badge.svg\" alt=\"Open In Colab\"/></a>"
      ]
    },
    {
      "cell_type": "markdown",
      "source": [
        "# PyTorch Workflow\n",
        "\n",
        "Training pipline should be divided into 3 steps:\n",
        "\n",
        "1. Data Preparation\n",
        "2. Model Configuration\n",
        "3. Model Training\n",
        "\n",
        "A typical PyTorch Model Training will look like below:\n",
        "\n",
        "```python\n",
        "for X, y in DataLoader:\n",
        "    y_pred = model(x)\n",
        "    loss = loss_func(y_pred, y)\n",
        "    loss.backward()\n",
        "    optimizer.step()\n",
        "    optimizer.zero_grad()\n",
        "```\n",
        "\n",
        "As we start to build up on our analysis, global training loop can get messy very quickly. This notebook focus on the simplifing Model Training Step. We will built up the `sstorch` main learner package which supports typical PyTorch Model Training workflow\n",
        "\n",
        "GitHub Repo: https://github.com/ronald-hk-chung/sstorch\n",
        "\n",
        "The aim is to build a Model Training class `SSTLearner` encapsulating the basic train/valid loop for deep-learning in PyTorch, we can ensure code organisation which is important for further studies. Note that `SSTLearner` class has other added function including `LRFinder` and other `Callback` that can be customized and added to the typical training/valid loop process.\n",
        "\n",
        "For full documentation: https://ronald-hk-chung.github.io/sstorch/\n",
        "\n",
        "\n"
      ],
      "metadata": {
        "id": "dlPiKTEnSvFC"
      }
    },
    {
      "cell_type": "markdown",
      "source": [
        "## Synthetic Data from Linear Regression\n",
        "\n",
        "$y = w \\times X + b + noise$\n"
      ],
      "metadata": {
        "id": "LjZGuIgJdlE4"
      }
    },
    {
      "cell_type": "code",
      "source": [
        "import torch\n",
        "import matplotlib.pyplot as plt\n",
        "\n",
        "# To ensure reproducibility\n",
        "torch.manual_seed(42)\n",
        "\n",
        "# Generating synthetic data\n",
        "X = torch.rand(1000, 1) # random numbers from a uniform distribution on the interval (0, 1)\n",
        "w_true, b_true = 0.5, 1\n",
        "noise = torch.randn(1000, 1) * 0.03\n",
        "y = w_true * X + b_true + noise\n",
        "\n",
        "# Plot synthetic data\n",
        "fig, ax = plt.subplots(1, 1, sharey=True, figsize=(5,5))\n",
        "ax.scatter(X, y, color=\"b\")\n",
        "ax.set_title(\"Synthetic Training Data\");"
      ],
      "metadata": {
        "colab": {
          "base_uri": "https://localhost:8080/",
          "height": 468
        },
        "id": "MaUuhqJ8dvWL",
        "outputId": "5f8a5f2a-af5f-4cf6-af87-1a7332ca2e94"
      },
      "execution_count": 1,
      "outputs": [
        {
          "output_type": "display_data",
          "data": {
            "text/plain": [
              "<Figure size 500x500 with 1 Axes>"
            ],
            "image/png": "[encoded data removed]"
          },
          "metadata": {}
        }
      ]
    },
    {
      "cell_type": "code",
      "source": [
        "# Splitting into train/valid data\n",
        "from sklearn.model_selection import train_test_split\n",
        "X_train, X_valid, y_train, y_valid = train_test_split(X, y, test_size=0.2)"
      ],
      "metadata": {
        "id": "yXhZAesJ-Jhn"
      },
      "execution_count": 2,
      "outputs": []
    },
    {
      "cell_type": "markdown",
      "source": [
        "## Dataset\n",
        "\n",
        "Full Reference: https://pytorch.org/docs/stable/data.html\n",
        "\n",
        "In PyTorch, a **dataset** is represented by a regular Python class that inherits from the `Dataset` class\n",
        "\n",
        "The most fundamental methods it needs to impliemnt are\n",
        "\n",
        "*   `__init__(self)`: The constructor method takes the argument needed to build a list of tuples. Note that there is no need to load the whole dataset in the construtor method. If the dataset is large, loading it all at one would not be memory efficient. It is recommeded to load them on demand (whenever `__getitem__()` is called. It's typically used to store some essential locations like file paths and image transforms.\n",
        "\n",
        "*   `__getitem__(self, idx)`: This method allow the dataset to be indexed so that it can work like a list **(dataset[idx])**. This should return a single data sample from athe dataset at a given index. The `__getitem__` method is where the actual dataloading and the preprocessing takes place. It takes an index as input and returns a data point, whcih can be a tensor or a ditionary of tensors. This method is used by `DataLoader` class to load and preprocess the data.\n",
        "\n",
        "* `__len__(self)`: This shoudl return the size of the whole dataset. The indexing is limited to the actual size.\n",
        "\n",
        "Below shows the sameple of creating **Custom Dataset** for our simple Linear regression data.\n",
        "\n"
      ],
      "metadata": {
        "id": "9bZJrqkv5l13"
      }
    },
    {
      "cell_type": "code",
      "source": [
        "from torch.utils.data import Dataset\n",
        "\n",
        "class CustomDataset(Dataset):\n",
        "    def __init__(self, X, y):\n",
        "        self.X = X\n",
        "        self.y = y\n",
        "\n",
        "    def __len__(self):\n",
        "        return len(self.X)\n",
        "\n",
        "    def __getitem__(self, idx):\n",
        "        return self.X[idx], self.y[idx]\n",
        "\n",
        "train_data = CustomDataset(X_train, y_train)\n",
        "valid_data = CustomDataset(X_valid, y_valid)"
      ],
      "metadata": {
        "id": "djVSLh1v1r6W"
      },
      "execution_count": 3,
      "outputs": []
    },
    {
      "cell_type": "code",
      "source": [
        "print(train_data[0])"
      ],
      "metadata": {
        "colab": {
          "base_uri": "https://localhost:8080/"
        },
        "id": "ICiuUFgj21o0",
        "outputId": "b20b78b5-674c-48f3-e629-acdcea113bf0"
      },
      "execution_count": 4,
      "outputs": [
        {
          "output_type": "stream",
          "name": "stdout",
          "text": [
            "(tensor([0.3882]), tensor([1.2136]))\n"
          ]
        }
      ]
    },
    {
      "cell_type": "markdown",
      "source": [
        "## TensorDataset\n",
        "\n",
        "For our small Dataset, we can just simply use `TensorDataset` class to create a dataset."
      ],
      "metadata": {
        "id": "Th-2OBv0eI5o"
      }
    },
    {
      "cell_type": "code",
      "source": [
        "from torch.utils.data import TensorDataset\n",
        "\n",
        "train_data = TensorDataset(X_train, y_train)\n",
        "valid_data = TensorDataset(X_valid, y_valid)\n",
        "print(train_data[0])"
      ],
      "metadata": {
        "colab": {
          "base_uri": "https://localhost:8080/"
        },
        "id": "aACDFwtX2_zs",
        "outputId": "9f13d964-1077-4c1b-f8ba-44f2f789699a"
      },
      "execution_count": 5,
      "outputs": [
        {
          "output_type": "stream",
          "name": "stdout",
          "text": [
            "(tensor([0.3882]), tensor([1.2136]))\n"
          ]
        }
      ]
    },
    {
      "cell_type": "markdown",
      "source": [
        "## DataLoader\n",
        "\n",
        "While it is ok to use the whole training data for a small data set to perform **batch gradient descent**, computation and memory will become an issue for big dataset and **mini-batch gradient descent**.\n",
        "\n",
        "**DataLoader** class to let our **Dataset** behave like an iterator by desciding on the **mini-batch-size** and to **shuffle** our Dataset during our training.\n",
        "\n",
        "There are a few important parameters to note when setting up the DataLoader:\n",
        "\n",
        "*   `shuffle`\n",
        "\n",
        "    Note that for the majority of cases except Time Series problem, we shoudl set `shuffle=True` for our trainiing set to improve the performance of gradient descent. There is no need ot shuffle validation set given we are are not computing gradient with it.\n",
        "\n",
        "    It is also possible to use it together with a **sampler** to fetch mini-batches that compensate for imablanced classes\n",
        "\n",
        "*   `batch_size`\n",
        "\n",
        "    It is typical to use powers of 2 for mini-batch sizes, like 16, 32, 64 or 128. and 32 seems to be the choice for most people. The main consideration for `batch_size` is the GPU memory\n",
        "\n",
        "*   `drop_last`\n",
        "\n",
        "    set to True to drop the last incomplete batch, if the dataset size is not divisible by the batch size. If False and the size of dataset is not divisible by the batch size, then the last batch will be smaller. (default: False)\n",
        "\n",
        "*   `pin_memory`\n",
        "\n",
        "     If True, the data loader will copy Tensors into device/CUDA pinned memory before returning them. If your data elements are a custom type, or your collate_fn returns a batch that is a custom type, see the example below.\n",
        "\n",
        "*   `num_workers`\n",
        "\n",
        "    how many subprocesses to use for data loading. 0 means that the data will be loaded in the main process. (default: 0)\n"
      ],
      "metadata": {
        "id": "jlu9vLO43bfk"
      }
    },
    {
      "cell_type": "code",
      "source": [
        "from torch.utils.data import DataLoader\n",
        "\n",
        "train_dataloader = DataLoader(\n",
        "    dataset=train_data,\n",
        "    batch_size=16,\n",
        "    shuffle=True,\n",
        "    drop_last=True\n",
        ")\n",
        "\n",
        "valid_dataloader = DataLoader(\n",
        "    dataset=valid_data,\n",
        "    batch_size=16,\n",
        "    shuffle=False,\n",
        "    drop_last=True\n",
        ")"
      ],
      "metadata": {
        "id": "sh2kJgzq6SaU"
      },
      "execution_count": 6,
      "outputs": []
    },
    {
      "cell_type": "markdown",
      "source": [
        "below command can help to retreive a mini-batch"
      ],
      "metadata": {
        "id": "n1BlruT86lWJ"
      }
    },
    {
      "cell_type": "code",
      "source": [
        "next(iter(train_dataloader))"
      ],
      "metadata": {
        "colab": {
          "base_uri": "https://localhost:8080/"
        },
        "id": "f__xgbX46kyb",
        "outputId": "0433f860-6389-4804-cb20-0b684f80f92a"
      },
      "execution_count": 7,
      "outputs": [
        {
          "output_type": "execute_result",
          "data": {
            "text/plain": [
              "[tensor([[0.6947],\n",
              "         [0.6151],\n",
              "         [0.1742],\n",
              "         [0.9796],\n",
              "         [0.0897],\n",
              "         [0.4571],\n",
              "         [0.9885],\n",
              "         [0.9410],\n",
              "         [0.4117],\n",
              "         [0.8253],\n",
              "         [0.8596],\n",
              "         [0.6060],\n",
              "         [0.1330],\n",
              "         [0.2018],\n",
              "         [0.5223],\n",
              "         [0.0958]]),\n",
              " tensor([[1.3322],\n",
              "         [1.3369],\n",
              "         [1.1045],\n",
              "         [1.4262],\n",
              "         [1.0480],\n",
              "         [1.2955],\n",
              "         [1.4994],\n",
              "         [1.5044],\n",
              "         [1.2153],\n",
              "         [1.3878],\n",
              "         [1.4118],\n",
              "         [1.2948],\n",
              "         [1.0787],\n",
              "         [1.0692],\n",
              "         [1.2368],\n",
              "         [1.0353]])]"
            ]
          },
          "metadata": {},
          "execution_count": 7
        }
      ]
    },
    {
      "cell_type": "markdown",
      "source": [
        "## Defining the main `Learner` class\n",
        "\n",
        "**The Constructor**\n",
        "\n",
        "The constructor defines the attributes/arguments that make up the class. For the basic model training, we need to define 4 arguments:\n",
        "*   model\n",
        "*   loss\n",
        "*   optimizer\n",
        "*   data\n",
        "\n",
        "While conceptually data is not part of the model, it is the input that we need ot use to train the model and should be included as an argument. We will initialised with None and add a method `set_loader` that can be used to supply the data (or even swap the dataset) at a later time.\n",
        "\n",
        "In the constructor, we also initialise below:\n",
        "*   **placeholders** for objects that are not available at the moment of creation\n",
        "*   **variables** that we may want to keep track\n",
        "\n",
        "\n",
        "**Train Method**\n",
        "\n",
        "In the `train()` method, we need to add the **epoch-loop** where we set the training to go through a specified number of epochs (an input to the method). Moreoer, we also added the saving of results under `results` dictionary inside the `Learner` class\n",
        "\n",
        "\n",
        "**Train loop and Valid Loop**\n",
        "\n",
        "Inside the `train()` method, we define both `_train_loop()` and `_valid_loop()` which are both protected method indicated by the \"_\" in front of the name. The main intention for the train loop is to perform gradient descent. Note that the batch data is set to GPU inside each **mini-batch-loop**.\n",
        "\n",
        "\n",
        "**Train Step and Valid Step**\n",
        "\n",
        "This is the actual **Step** taken the calculate the loss. The reason for seperating this **Step** out is to ensure flexibility for different models. Note that we can subclass `Learner` class to override the `train_step()` and `valid_step()` method for more complex **step**\n",
        "\n",
        "Below shows the main construction of our `Learner` Class"
      ],
      "metadata": {
        "id": "WdI6-uaH0-Qs"
      }
    },
    {
      "cell_type": "code",
      "source": [
        "class Learner:\n",
        "    def __init__(self, model, loss_fn, train_dataloader, valid_dataloader):\n",
        "        # define attributes for learner class including model, loss_fn, optimizer and train_dl\n",
        "        self.model = model\n",
        "        self.loss_fn = loss_fn\n",
        "        self.optimizer = self.configure_optimizer()\n",
        "        self.train_dataloader = train_dataloader\n",
        "        self.valid_dataloader = valid_dataloader\n",
        "\n",
        "        # Set attributes that are going to be computed internally\n",
        "        self.total_epochs = 0\n",
        "        self.batch = None\n",
        "        self.loss = None    # loss from train/valid step\n",
        "        self.train_loss = None  # intermediate aggregate/avg train_loss during _train_loop\n",
        "        self.valid_loss = None  # intermediate aggregate/avg valid_loss during _valid_loop\n",
        "        self.results = {\n",
        "            'train_loss': [],\n",
        "            'valid_loss': []\n",
        "        }\n",
        "        # Setting up device agnostic code\n",
        "        self.device = torch.device('cuda' if torch.cuda.is_available() else 'cpu')\n",
        "        # send model to GPU if available\n",
        "        self.model.to(self.device)\n",
        "\n",
        "    def configure_optimizer(self):\n",
        "        return torch.optim.SGD(params=self.model.parameters(),\n",
        "                               lr=0.1)\n",
        "\n",
        "    def train(self, epochs):\n",
        "        # perform train on specified number of epochs\n",
        "        for epoch in range(epochs):\n",
        "            # increment total_epochs\n",
        "            self.total_epochs += 1\n",
        "            # perform train_loop and valid_loop\n",
        "            self._train_loop()\n",
        "            self._valid_loop()\n",
        "            self.results['train_loss'].append(self.train_loss)\n",
        "            self.results['valid_loss'].append(self.valid_loss)\n",
        "            print(f'Epoch: {epoch} | Train Loss: {self.train_loss:.3f} | Valid Loss: {self.valid_loss:.3f}')\n",
        "\n",
        "    def _train_loop(self):\n",
        "        # put model into train mode - default state of model\n",
        "        self.model.train()\n",
        "        # initialise train_loss to 0\n",
        "        self.train_loss = 0\n",
        "        # Perform the PyTorch train Loop with gradient descent\n",
        "        for batch_num, batch in enumerate(self.train_dataloader):\n",
        "            # Send batch to GPU if available\n",
        "            self.batch = [tensor.to(self.device) for tensor in batch]\n",
        "            # train_step to perform forward pass to return loss\n",
        "            self.loss = self.train_step()\n",
        "            # aggregate train_loss\n",
        "            self.train_loss += self.loss.item()\n",
        "            # gradient descent using optimizer\n",
        "            self.loss.backward()\n",
        "            self.optimizer.step()\n",
        "            self.optimizer.zero_grad()\n",
        "        # take the average by dividing the aggregate train_loss to batch_num\n",
        "        self.train_loss /= len(self.train_dataloader)\n",
        "\n",
        "    def _valid_loop(self):\n",
        "        # put model into eval mode\n",
        "        self.model.eval()\n",
        "        # initialise valid_loss to 0\n",
        "        self.valid_loss = 0\n",
        "        # use torch.inference_mode as a context manager\n",
        "        # turns off gradient tracking which is not needed for validation\n",
        "        with torch.inference_mode():\n",
        "            for batch_num, batch in enumerate(self.valid_dataloader):\n",
        "                # Send batch to GPU if available\n",
        "                self.batch = [tensor.to(self.device) for tensor in batch]\n",
        "                self.loss = self.valid_step()\n",
        "                self.valid_loss += self.loss.item()\n",
        "            self.valid_loss /= len(self.valid_dataloader)\n",
        "\n",
        "    def train_step(self):\n",
        "        X, y = self.batch\n",
        "        y_logits = self.model(X)\n",
        "        loss = self.loss_fn(y_logits, y)\n",
        "        return loss\n",
        "\n",
        "    def valid_step(self):\n",
        "        X, y = self.batch\n",
        "        y_logits = self.model(X)\n",
        "        loss = self.loss_fn(y_logits, y)\n",
        "        return loss\n"
      ],
      "metadata": {
        "id": "UtO3w2Pu3MvT"
      },
      "execution_count": 8,
      "outputs": []
    },
    {
      "cell_type": "markdown",
      "source": [
        "## Defining the Model\n",
        "\n",
        "We will define a simple Linear Model using `nn.Linear()`"
      ],
      "metadata": {
        "id": "j0RW6x6OS43_"
      }
    },
    {
      "cell_type": "code",
      "source": [
        "import torch.nn as nn\n",
        "\n",
        "class LinearRegression(nn.Module):\n",
        "    def __init__(self):\n",
        "        super().__init__()\n",
        "        self.linear = nn.Linear(1, 1, bias=True)\n",
        "    def forward(self, X):\n",
        "        return self.linear(X)"
      ],
      "metadata": {
        "id": "Nyj-7Ss788Mv"
      },
      "execution_count": 9,
      "outputs": []
    },
    {
      "cell_type": "markdown",
      "source": [
        "## Loss\n",
        "\n",
        "MSE Loss using `nn.MSELoss()"
      ],
      "metadata": {
        "id": "wR-lsz55T6aW"
      }
    },
    {
      "cell_type": "code",
      "source": [
        "loss_fn = nn.MSELoss(reduction='mean')\n",
        "loss_fn"
      ],
      "metadata": {
        "colab": {
          "base_uri": "https://localhost:8080/"
        },
        "id": "WSarsHTpT2mn",
        "outputId": "b50a0572-5de4-4e32-9b23-bdf870655b6d"
      },
      "execution_count": 10,
      "outputs": [
        {
          "output_type": "execute_result",
          "data": {
            "text/plain": [
              "MSELoss()"
            ]
          },
          "metadata": {},
          "execution_count": 10
        }
      ]
    },
    {
      "cell_type": "markdown",
      "source": [
        "## Optimizer\n",
        "\n",
        "We will use simple SGD Optimizer for our problem"
      ],
      "metadata": {
        "id": "12m3VwZ1UlUj"
      }
    },
    {
      "cell_type": "markdown",
      "source": [
        "## Putting it all together with the `Learner` class"
      ],
      "metadata": {
        "id": "gGC0js37UK9Z"
      }
    },
    {
      "cell_type": "code",
      "source": [
        "learner = Learner(model=LinearRegression(),\n",
        "                  loss_fn=nn.MSELoss(reduction='mean'),\n",
        "                  train_dataloader=train_dataloader,\n",
        "                  valid_dataloader=valid_dataloader)"
      ],
      "metadata": {
        "id": "91LmCfZPUOdF"
      },
      "execution_count": 11,
      "outputs": []
    },
    {
      "cell_type": "code",
      "source": [
        "learner.train(5)"
      ],
      "metadata": {
        "colab": {
          "base_uri": "https://localhost:8080/"
        },
        "id": "uRIYg6naY7du",
        "outputId": "7191f549-13cf-4281-9c47-b0b988e569e9"
      },
      "execution_count": 12,
      "outputs": [
        {
          "output_type": "stream",
          "name": "stdout",
          "text": [
            "Epoch: 0 | Train Loss: 0.071 | Valid Loss: 0.002\n",
            "Epoch: 1 | Train Loss: 0.002 | Valid Loss: 0.001\n",
            "Epoch: 2 | Train Loss: 0.001 | Valid Loss: 0.001\n",
            "Epoch: 3 | Train Loss: 0.001 | Valid Loss: 0.001\n",
            "Epoch: 4 | Train Loss: 0.001 | Valid Loss: 0.001\n"
          ]
        }
      ]
    },
    {
      "cell_type": "code",
      "source": [
        "learner.model.state_dict()"
      ],
      "metadata": {
        "colab": {
          "base_uri": "https://localhost:8080/"
        },
        "id": "0f9uRPmXbQYv",
        "outputId": "7285510b-052c-40e9-a000-6d4b0e8b8493"
      },
      "execution_count": 13,
      "outputs": [
        {
          "output_type": "execute_result",
          "data": {
            "text/plain": [
              "OrderedDict([('linear.weight', tensor([[0.5091]], device='cuda:0')),\n",
              "             ('linear.bias', tensor([0.9931], device='cuda:0'))])"
            ]
          },
          "metadata": {},
          "execution_count": 13
        }
      ]
    },
    {
      "cell_type": "markdown",
      "source": [
        "## Installing `sstorch` package through pip\n",
        "\n",
        "We will use `sstorch` package to continue our development for minimizing the boilerplate code for PyTorch Code. Note that `sstorch` also has other functions that is useful for PyTorch training that will be documented under sstorch reference session in the ssnote"
      ],
      "metadata": {
        "id": "3IGAF9JOWAmU"
      }
    },
    {
      "cell_type": "code",
      "execution_count": 14,
      "metadata": {
        "colab": {
          "base_uri": "https://localhost:8080/"
        },
        "id": "Om1eSKiSSuay",
        "outputId": "ec4b2d8e-fa99-4708-abd6-033c58864611"
      },
      "outputs": [
        {
          "output_type": "stream",
          "name": "stdout",
          "text": [
            "  Installing build dependencies ... \u001b[?25l\u001b[?25hdone\n",
            "  Getting requirements to build wheel ... \u001b[?25l\u001b[?25hdone\n",
            "  Installing backend dependencies ... \u001b[?25l\u001b[?25hdone\n",
            "  Preparing metadata (pyproject.toml) ... \u001b[?25l\u001b[?25hdone\n",
            "\u001b[2K     \u001b[90m━━━━━━━━━━━━━━━━━━━━━━━━━━━━━━━━━━━━━━━━\u001b[0m \u001b[32m5.7/5.7 MB\u001b[0m \u001b[31m63.0 MB/s\u001b[0m eta \u001b[36m0:00:00\u001b[0m\n",
            "\u001b[2K     \u001b[90m━━━━━━━━━━━━━━━━━━━━━━━━━━━━━━━━━━━━━━━━\u001b[0m \u001b[32m141.1/141.1 kB\u001b[0m \u001b[31m15.5 MB/s\u001b[0m eta \u001b[36m0:00:00\u001b[0m\n",
            "\u001b[?25h  Building wheel for sstorch (pyproject.toml) ... \u001b[?25l\u001b[?25hdone\n"
          ]
        }
      ],
      "source": [
        "# Installing sstorch package\n",
        "!pip -q install git+https://github.com/ronald-hk-chung/sstorch.git"
      ]
    },
    {
      "cell_type": "code",
      "source": [
        "from sstorch.learner import SSTLearner\n",
        "\n",
        "model = LinearRegression()\n",
        "optimizer = torch.optim.SGD(params=model.parameters(), lr=0.1)\n",
        "loss_fn = nn.MSELoss()\n",
        "\n",
        "sstlearner = SSTLearner(model=model,\n",
        "                        loss_fn=loss_fn,\n",
        "                        optimizer=optimizer,\n",
        "                        train_dataloader=train_dataloader,\n",
        "                        valid_dataloader=valid_dataloader)"
      ],
      "metadata": {
        "id": "vMzf1jG4cNcm"
      },
      "execution_count": 15,
      "outputs": []
    },
    {
      "cell_type": "code",
      "source": [
        "sstlearner.train(5)"
      ],
      "metadata": {
        "colab": {
          "base_uri": "https://localhost:8080/",
          "height": 223,
          "referenced_widgets": [
            "356f3bebf8ed466c926134856ab497a0",
            "82d658a0c7c742988b558d1253e12388",
            "71ae601b8865427aab5b53dd4a3020c5",
            "7bd27509922940ddadc6cb655e51c271",
            "350c278af1e844e1914bfb89495dbb21",
            "17e053e538dc4bd3b1f54bbd87e07b2d",
            "b0d582310c0e4bcc9958a13449f286a9",
            "e93700fc4b9845b5a96087e35b248b4f",
            "db66002ef58345ddbf2f788c3cf9f35c",
            "5a00bb43bb0844f099e8c34206e75c89",
            "26a689a69aa945b99aa16d387dcd73bf"
          ]
        },
        "id": "0PNjlWpA8Fu2",
        "outputId": "9abac222-4f21-4a95-c8ca-6fa0c453898b"
      },
      "execution_count": 19,
      "outputs": [
        {
          "output_type": "display_data",
          "data": {
            "text/plain": [
              "Epochs:   0%|          | 0/5 [00:00<?, ?it/s]"
            ],
            "application/vnd.jupyter.widget-view+json": {
              "version_major": 2,
              "version_minor": 0,
              "model_id": "356f3bebf8ed466c926134856ab497a0"
            }
          },
          "metadata": {}
        },
        {
          "output_type": "stream",
          "name": "stdout",
          "text": [
            "Epoch: 6 | LR: 1.0E-01 | train_loss: 0.001 | valid_loss: 0.001 \n",
            "----------------------------------------------------------------------------------------------------\n",
            "Epoch: 7 | LR: 1.0E-01 | train_loss: 0.001 | valid_loss: 0.001 \n",
            "----------------------------------------------------------------------------------------------------\n",
            "Epoch: 8 | LR: 1.0E-01 | train_loss: 0.001 | valid_loss: 0.001 \n",
            "----------------------------------------------------------------------------------------------------\n",
            "Epoch: 9 | LR: 1.0E-01 | train_loss: 0.001 | valid_loss: 0.001 \n",
            "----------------------------------------------------------------------------------------------------\n",
            "Epoch: 10 | LR: 1.0E-01 | train_loss: 0.001 | valid_loss: 0.001 \n",
            "----------------------------------------------------------------------------------------------------\n"
          ]
        }
      ]
    },
    {
      "cell_type": "code",
      "source": [
        "learner.model.state_dict()"
      ],
      "metadata": {
        "colab": {
          "base_uri": "https://localhost:8080/"
        },
        "id": "M1lUYnGkddvp",
        "outputId": "123a1983-1d9a-4607-9be9-9c3e997e8cfa"
      },
      "execution_count": 17,
      "outputs": [
        {
          "output_type": "execute_result",
          "data": {
            "text/plain": [
              "OrderedDict([('linear.weight', tensor([[0.5091]], device='cuda:0')),\n",
              "             ('linear.bias', tensor([0.9931], device='cuda:0'))])"
            ]
          },
          "metadata": {},
          "execution_count": 17
        }
      ]
    },
    {
      "cell_type": "code",
      "source": [
        "sstlearner.plot_loss_curve()"
      ],
      "metadata": {
        "colab": {
          "base_uri": "https://localhost:8080/",
          "height": 472
        },
        "id": "oUdQkVNMdq5e",
        "outputId": "fc2799bb-6846-434c-c79e-facfd8b54e6c"
      },
      "execution_count": 18,
      "outputs": [
        {
          "output_type": "display_data",
          "data": {
            "text/plain": [
              "<Figure size 640x480 with 1 Axes>"
            ],
            "image/png": "[encoded data removed]"
          },
          "metadata": {}
        }
      ]
    },
    {
      "cell_type": "markdown",
      "source": [
        "## Notebook Summary\n",
        "\n",
        "1. Learning a Typical PyTorch workflow with Dataset and DataLoader\n",
        "2. Building a custom train/valid loop for training our model into `SSTLearner`\n",
        "3. Using `SSTLearner` class to simplified training loop"
      ],
      "metadata": {
        "id": "8KV-_I3l8LhE"
      }
    }
  ]
}