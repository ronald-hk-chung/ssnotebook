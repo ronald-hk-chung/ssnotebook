{
  "nbformat": 4,
  "nbformat_minor": 0,
  "metadata": {
    "colab": {
      "provenance": [],
      "toc_visible": true,
      "gpuType": "T4",
      "authorship_tag": "ABX9TyPHc/a2g2D2l3HY6oXp+WAG",
      "include_colab_link": true
    },
    "kernelspec": {
      "name": "python3",
      "display_name": "Python 3"
    },
    "language_info": {
      "name": "python"
    },
    "accelerator": "GPU",
    "widgets": {
      "application/vnd.jupyter.widget-state+json": {
        "0e4740952aef4805ad1cad43b39bc9a7": {
          "model_module": "@jupyter-widgets/controls",
          "model_name": "HBoxModel",
          "model_module_version": "1.5.0",
          "state": {
            "_dom_classes": [],
            "_model_module": "@jupyter-widgets/controls",
            "_model_module_version": "1.5.0",
            "_model_name": "HBoxModel",
            "_view_count": null,
            "_view_module": "@jupyter-widgets/controls",
            "_view_module_version": "1.5.0",
            "_view_name": "HBoxView",
            "box_style": "",
            "children": [
              "IPY_MODEL_0e971f367af54e358718c7c10bb18fe7",
              "IPY_MODEL_9da1cf48aef44c4185df45c85e1aa91f",
              "IPY_MODEL_ff38bcbc027d4ce6ad5b35af934ac3de"
            ],
            "layout": "IPY_MODEL_ac6bd20f400047eeb7bbd73f96b66820"
          }
        },
        "0e971f367af54e358718c7c10bb18fe7": {
          "model_module": "@jupyter-widgets/controls",
          "model_name": "HTMLModel",
          "model_module_version": "1.5.0",
          "state": {
            "_dom_classes": [],
            "_model_module": "@jupyter-widgets/controls",
            "_model_module_version": "1.5.0",
            "_model_name": "HTMLModel",
            "_view_count": null,
            "_view_module": "@jupyter-widgets/controls",
            "_view_module_version": "1.5.0",
            "_view_name": "HTMLView",
            "description": "",
            "description_tooltip": null,
            "layout": "IPY_MODEL_fcbbcb416b724f52984337b893f47dbd",
            "placeholder": "​",
            "style": "IPY_MODEL_5a66454438b746fb97a890a48906b5af",
            "value": "Epochs: 100%"
          }
        },
        "9da1cf48aef44c4185df45c85e1aa91f": {
          "model_module": "@jupyter-widgets/controls",
          "model_name": "FloatProgressModel",
          "model_module_version": "1.5.0",
          "state": {
            "_dom_classes": [],
            "_model_module": "@jupyter-widgets/controls",
            "_model_module_version": "1.5.0",
            "_model_name": "FloatProgressModel",
            "_view_count": null,
            "_view_module": "@jupyter-widgets/controls",
            "_view_module_version": "1.5.0",
            "_view_name": "ProgressView",
            "bar_style": "success",
            "description": "",
            "description_tooltip": null,
            "layout": "IPY_MODEL_d32f2d34d22b45d1bd50ef03157bbf0e",
            "max": 5,
            "min": 0,
            "orientation": "horizontal",
            "style": "IPY_MODEL_c088478848ff421c8c3a77d6b615c308",
            "value": 5
          }
        },
        "ff38bcbc027d4ce6ad5b35af934ac3de": {
          "model_module": "@jupyter-widgets/controls",
          "model_name": "HTMLModel",
          "model_module_version": "1.5.0",
          "state": {
            "_dom_classes": [],
            "_model_module": "@jupyter-widgets/controls",
            "_model_module_version": "1.5.0",
            "_model_name": "HTMLModel",
            "_view_count": null,
            "_view_module": "@jupyter-widgets/controls",
            "_view_module_version": "1.5.0",
            "_view_name": "HTMLView",
            "description": "",
            "description_tooltip": null,
            "layout": "IPY_MODEL_3036061161b14b1ba39a0a2424313e4f",
            "placeholder": "​",
            "style": "IPY_MODEL_429a02cf61924d3baecdcd3d6b252381",
            "value": " 5/5 [01:52&lt;00:00, 21.03s/it]"
          }
        },
        "ac6bd20f400047eeb7bbd73f96b66820": {
          "model_module": "@jupyter-widgets/base",
          "model_name": "LayoutModel",
          "model_module_version": "1.2.0",
          "state": {
            "_model_module": "@jupyter-widgets/base",
            "_model_module_version": "1.2.0",
            "_model_name": "LayoutModel",
            "_view_count": null,
            "_view_module": "@jupyter-widgets/base",
            "_view_module_version": "1.2.0",
            "_view_name": "LayoutView",
            "align_content": null,
            "align_items": null,
            "align_self": null,
            "border": null,
            "bottom": null,
            "display": null,
            "flex": null,
            "flex_flow": null,
            "grid_area": null,
            "grid_auto_columns": null,
            "grid_auto_flow": null,
            "grid_auto_rows": null,
            "grid_column": null,
            "grid_gap": null,
            "grid_row": null,
            "grid_template_areas": null,
            "grid_template_columns": null,
            "grid_template_rows": null,
            "height": null,
            "justify_content": null,
            "justify_items": null,
            "left": null,
            "margin": null,
            "max_height": null,
            "max_width": null,
            "min_height": null,
            "min_width": null,
            "object_fit": null,
            "object_position": null,
            "order": null,
            "overflow": null,
            "overflow_x": null,
            "overflow_y": null,
            "padding": null,
            "right": null,
            "top": null,
            "visibility": null,
            "width": null
          }
        },
        "fcbbcb416b724f52984337b893f47dbd": {
          "model_module": "@jupyter-widgets/base",
          "model_name": "LayoutModel",
          "model_module_version": "1.2.0",
          "state": {
            "_model_module": "@jupyter-widgets/base",
            "_model_module_version": "1.2.0",
            "_model_name": "LayoutModel",
            "_view_count": null,
            "_view_module": "@jupyter-widgets/base",
            "_view_module_version": "1.2.0",
            "_view_name": "LayoutView",
            "align_content": null,
            "align_items": null,
            "align_self": null,
            "border": null,
            "bottom": null,
            "display": null,
            "flex": null,
            "flex_flow": null,
            "grid_area": null,
            "grid_auto_columns": null,
            "grid_auto_flow": null,
            "grid_auto_rows": null,
            "grid_column": null,
            "grid_gap": null,
            "grid_row": null,
            "grid_template_areas": null,
            "grid_template_columns": null,
            "grid_template_rows": null,
            "height": null,
            "justify_content": null,
            "justify_items": null,
            "left": null,
            "margin": null,
            "max_height": null,
            "max_width": null,
            "min_height": null,
            "min_width": null,
            "object_fit": null,
            "object_position": null,
            "order": null,
            "overflow": null,
            "overflow_x": null,
            "overflow_y": null,
            "padding": null,
            "right": null,
            "top": null,
            "visibility": null,
            "width": null
          }
        },
        "5a66454438b746fb97a890a48906b5af": {
          "model_module": "@jupyter-widgets/controls",
          "model_name": "DescriptionStyleModel",
          "model_module_version": "1.5.0",
          "state": {
            "_model_module": "@jupyter-widgets/controls",
            "_model_module_version": "1.5.0",
            "_model_name": "DescriptionStyleModel",
            "_view_count": null,
            "_view_module": "@jupyter-widgets/base",
            "_view_module_version": "1.2.0",
            "_view_name": "StyleView",
            "description_width": ""
          }
        },
        "d32f2d34d22b45d1bd50ef03157bbf0e": {
          "model_module": "@jupyter-widgets/base",
          "model_name": "LayoutModel",
          "model_module_version": "1.2.0",
          "state": {
            "_model_module": "@jupyter-widgets/base",
            "_model_module_version": "1.2.0",
            "_model_name": "LayoutModel",
            "_view_count": null,
            "_view_module": "@jupyter-widgets/base",
            "_view_module_version": "1.2.0",
            "_view_name": "LayoutView",
            "align_content": null,
            "align_items": null,
            "align_self": null,
            "border": null,
            "bottom": null,
            "display": null,
            "flex": null,
            "flex_flow": null,
            "grid_area": null,
            "grid_auto_columns": null,
            "grid_auto_flow": null,
            "grid_auto_rows": null,
            "grid_column": null,
            "grid_gap": null,
            "grid_row": null,
            "grid_template_areas": null,
            "grid_template_columns": null,
            "grid_template_rows": null,
            "height": null,
            "justify_content": null,
            "justify_items": null,
            "left": null,
            "margin": null,
            "max_height": null,
            "max_width": null,
            "min_height": null,
            "min_width": null,
            "object_fit": null,
            "object_position": null,
            "order": null,
            "overflow": null,
            "overflow_x": null,
            "overflow_y": null,
            "padding": null,
            "right": null,
            "top": null,
            "visibility": null,
            "width": null
          }
        },
        "c088478848ff421c8c3a77d6b615c308": {
          "model_module": "@jupyter-widgets/controls",
          "model_name": "ProgressStyleModel",
          "model_module_version": "1.5.0",
          "state": {
            "_model_module": "@jupyter-widgets/controls",
            "_model_module_version": "1.5.0",
            "_model_name": "ProgressStyleModel",
            "_view_count": null,
            "_view_module": "@jupyter-widgets/base",
            "_view_module_version": "1.2.0",
            "_view_name": "StyleView",
            "bar_color": null,
            "description_width": ""
          }
        },
        "3036061161b14b1ba39a0a2424313e4f": {
          "model_module": "@jupyter-widgets/base",
          "model_name": "LayoutModel",
          "model_module_version": "1.2.0",
          "state": {
            "_model_module": "@jupyter-widgets/base",
            "_model_module_version": "1.2.0",
            "_model_name": "LayoutModel",
            "_view_count": null,
            "_view_module": "@jupyter-widgets/base",
            "_view_module_version": "1.2.0",
            "_view_name": "LayoutView",
            "align_content": null,
            "align_items": null,
            "align_self": null,
            "border": null,
            "bottom": null,
            "display": null,
            "flex": null,
            "flex_flow": null,
            "grid_area": null,
            "grid_auto_columns": null,
            "grid_auto_flow": null,
            "grid_auto_rows": null,
            "grid_column": null,
            "grid_gap": null,
            "grid_row": null,
            "grid_template_areas": null,
            "grid_template_columns": null,
            "grid_template_rows": null,
            "height": null,
            "justify_content": null,
            "justify_items": null,
            "left": null,
            "margin": null,
            "max_height": null,
            "max_width": null,
            "min_height": null,
            "min_width": null,
            "object_fit": null,
            "object_position": null,
            "order": null,
            "overflow": null,
            "overflow_x": null,
            "overflow_y": null,
            "padding": null,
            "right": null,
            "top": null,
            "visibility": null,
            "width": null
          }
        },
        "429a02cf61924d3baecdcd3d6b252381": {
          "model_module": "@jupyter-widgets/controls",
          "model_name": "DescriptionStyleModel",
          "model_module_version": "1.5.0",
          "state": {
            "_model_module": "@jupyter-widgets/controls",
            "_model_module_version": "1.5.0",
            "_model_name": "DescriptionStyleModel",
            "_view_count": null,
            "_view_module": "@jupyter-widgets/base",
            "_view_module_version": "1.2.0",
            "_view_name": "StyleView",
            "description_width": ""
          }
        },
        "058b8a18e8e843c88059ea7563df59d6": {
          "model_module": "@jupyter-widgets/controls",
          "model_name": "HBoxModel",
          "model_module_version": "1.5.0",
          "state": {
            "_dom_classes": [],
            "_model_module": "@jupyter-widgets/controls",
            "_model_module_version": "1.5.0",
            "_model_name": "HBoxModel",
            "_view_count": null,
            "_view_module": "@jupyter-widgets/controls",
            "_view_module_version": "1.5.0",
            "_view_name": "HBoxView",
            "box_style": "",
            "children": [
              "IPY_MODEL_dfe625daa10e474e8249c386df97c9cc",
              "IPY_MODEL_d1c1e3754e4f4d8e99110ab9e52f8906",
              "IPY_MODEL_e74e4f73c0a04875a075ddb4a742b227"
            ],
            "layout": "IPY_MODEL_37d3988f65884cc6b003c91bae444f51"
          }
        },
        "dfe625daa10e474e8249c386df97c9cc": {
          "model_module": "@jupyter-widgets/controls",
          "model_name": "HTMLModel",
          "model_module_version": "1.5.0",
          "state": {
            "_dom_classes": [],
            "_model_module": "@jupyter-widgets/controls",
            "_model_module_version": "1.5.0",
            "_model_name": "HTMLModel",
            "_view_count": null,
            "_view_module": "@jupyter-widgets/controls",
            "_view_module_version": "1.5.0",
            "_view_name": "HTMLView",
            "description": "",
            "description_tooltip": null,
            "layout": "IPY_MODEL_614fa0ab405140e2868fb1e75e987240",
            "placeholder": "​",
            "style": "IPY_MODEL_33c107cbccd240b3a0583379554e97f1",
            "value": "Epochs: 100%"
          }
        },
        "d1c1e3754e4f4d8e99110ab9e52f8906": {
          "model_module": "@jupyter-widgets/controls",
          "model_name": "FloatProgressModel",
          "model_module_version": "1.5.0",
          "state": {
            "_dom_classes": [],
            "_model_module": "@jupyter-widgets/controls",
            "_model_module_version": "1.5.0",
            "_model_name": "FloatProgressModel",
            "_view_count": null,
            "_view_module": "@jupyter-widgets/controls",
            "_view_module_version": "1.5.0",
            "_view_name": "ProgressView",
            "bar_style": "success",
            "description": "",
            "description_tooltip": null,
            "layout": "IPY_MODEL_6ef73106e119467facd1af87d5b13d65",
            "max": 5,
            "min": 0,
            "orientation": "horizontal",
            "style": "IPY_MODEL_06c54dffe3cc4b4cbe21a8e87b24b053",
            "value": 5
          }
        },
        "e74e4f73c0a04875a075ddb4a742b227": {
          "model_module": "@jupyter-widgets/controls",
          "model_name": "HTMLModel",
          "model_module_version": "1.5.0",
          "state": {
            "_dom_classes": [],
            "_model_module": "@jupyter-widgets/controls",
            "_model_module_version": "1.5.0",
            "_model_name": "HTMLModel",
            "_view_count": null,
            "_view_module": "@jupyter-widgets/controls",
            "_view_module_version": "1.5.0",
            "_view_name": "HTMLView",
            "description": "",
            "description_tooltip": null,
            "layout": "IPY_MODEL_3006062ec8e14948985c3fc75901abcb",
            "placeholder": "​",
            "style": "IPY_MODEL_b2ccf08040d64cbaa04ee8b4ce942b81",
            "value": " 5/5 [01:37&lt;00:00, 19.50s/it]"
          }
        },
        "37d3988f65884cc6b003c91bae444f51": {
          "model_module": "@jupyter-widgets/base",
          "model_name": "LayoutModel",
          "model_module_version": "1.2.0",
          "state": {
            "_model_module": "@jupyter-widgets/base",
            "_model_module_version": "1.2.0",
            "_model_name": "LayoutModel",
            "_view_count": null,
            "_view_module": "@jupyter-widgets/base",
            "_view_module_version": "1.2.0",
            "_view_name": "LayoutView",
            "align_content": null,
            "align_items": null,
            "align_self": null,
            "border": null,
            "bottom": null,
            "display": null,
            "flex": null,
            "flex_flow": null,
            "grid_area": null,
            "grid_auto_columns": null,
            "grid_auto_flow": null,
            "grid_auto_rows": null,
            "grid_column": null,
            "grid_gap": null,
            "grid_row": null,
            "grid_template_areas": null,
            "grid_template_columns": null,
            "grid_template_rows": null,
            "height": null,
            "justify_content": null,
            "justify_items": null,
            "left": null,
            "margin": null,
            "max_height": null,
            "max_width": null,
            "min_height": null,
            "min_width": null,
            "object_fit": null,
            "object_position": null,
            "order": null,
            "overflow": null,
            "overflow_x": null,
            "overflow_y": null,
            "padding": null,
            "right": null,
            "top": null,
            "visibility": null,
            "width": null
          }
        },
        "614fa0ab405140e2868fb1e75e987240": {
          "model_module": "@jupyter-widgets/base",
          "model_name": "LayoutModel",
          "model_module_version": "1.2.0",
          "state": {
            "_model_module": "@jupyter-widgets/base",
            "_model_module_version": "1.2.0",
            "_model_name": "LayoutModel",
            "_view_count": null,
            "_view_module": "@jupyter-widgets/base",
            "_view_module_version": "1.2.0",
            "_view_name": "LayoutView",
            "align_content": null,
            "align_items": null,
            "align_self": null,
            "border": null,
            "bottom": null,
            "display": null,
            "flex": null,
            "flex_flow": null,
            "grid_area": null,
            "grid_auto_columns": null,
            "grid_auto_flow": null,
            "grid_auto_rows": null,
            "grid_column": null,
            "grid_gap": null,
            "grid_row": null,
            "grid_template_areas": null,
            "grid_template_columns": null,
            "grid_template_rows": null,
            "height": null,
            "justify_content": null,
            "justify_items": null,
            "left": null,
            "margin": null,
            "max_height": null,
            "max_width": null,
            "min_height": null,
            "min_width": null,
            "object_fit": null,
            "object_position": null,
            "order": null,
            "overflow": null,
            "overflow_x": null,
            "overflow_y": null,
            "padding": null,
            "right": null,
            "top": null,
            "visibility": null,
            "width": null
          }
        },
        "33c107cbccd240b3a0583379554e97f1": {
          "model_module": "@jupyter-widgets/controls",
          "model_name": "DescriptionStyleModel",
          "model_module_version": "1.5.0",
          "state": {
            "_model_module": "@jupyter-widgets/controls",
            "_model_module_version": "1.5.0",
            "_model_name": "DescriptionStyleModel",
            "_view_count": null,
            "_view_module": "@jupyter-widgets/base",
            "_view_module_version": "1.2.0",
            "_view_name": "StyleView",
            "description_width": ""
          }
        },
        "6ef73106e119467facd1af87d5b13d65": {
          "model_module": "@jupyter-widgets/base",
          "model_name": "LayoutModel",
          "model_module_version": "1.2.0",
          "state": {
            "_model_module": "@jupyter-widgets/base",
            "_model_module_version": "1.2.0",
            "_model_name": "LayoutModel",
            "_view_count": null,
            "_view_module": "@jupyter-widgets/base",
            "_view_module_version": "1.2.0",
            "_view_name": "LayoutView",
            "align_content": null,
            "align_items": null,
            "align_self": null,
            "border": null,
            "bottom": null,
            "display": null,
            "flex": null,
            "flex_flow": null,
            "grid_area": null,
            "grid_auto_columns": null,
            "grid_auto_flow": null,
            "grid_auto_rows": null,
            "grid_column": null,
            "grid_gap": null,
            "grid_row": null,
            "grid_template_areas": null,
            "grid_template_columns": null,
            "grid_template_rows": null,
            "height": null,
            "justify_content": null,
            "justify_items": null,
            "left": null,
            "margin": null,
            "max_height": null,
            "max_width": null,
            "min_height": null,
            "min_width": null,
            "object_fit": null,
            "object_position": null,
            "order": null,
            "overflow": null,
            "overflow_x": null,
            "overflow_y": null,
            "padding": null,
            "right": null,
            "top": null,
            "visibility": null,
            "width": null
          }
        },
        "06c54dffe3cc4b4cbe21a8e87b24b053": {
          "model_module": "@jupyter-widgets/controls",
          "model_name": "ProgressStyleModel",
          "model_module_version": "1.5.0",
          "state": {
            "_model_module": "@jupyter-widgets/controls",
            "_model_module_version": "1.5.0",
            "_model_name": "ProgressStyleModel",
            "_view_count": null,
            "_view_module": "@jupyter-widgets/base",
            "_view_module_version": "1.2.0",
            "_view_name": "StyleView",
            "bar_color": null,
            "description_width": ""
          }
        },
        "3006062ec8e14948985c3fc75901abcb": {
          "model_module": "@jupyter-widgets/base",
          "model_name": "LayoutModel",
          "model_module_version": "1.2.0",
          "state": {
            "_model_module": "@jupyter-widgets/base",
            "_model_module_version": "1.2.0",
            "_model_name": "LayoutModel",
            "_view_count": null,
            "_view_module": "@jupyter-widgets/base",
            "_view_module_version": "1.2.0",
            "_view_name": "LayoutView",
            "align_content": null,
            "align_items": null,
            "align_self": null,
            "border": null,
            "bottom": null,
            "display": null,
            "flex": null,
            "flex_flow": null,
            "grid_area": null,
            "grid_auto_columns": null,
            "grid_auto_flow": null,
            "grid_auto_rows": null,
            "grid_column": null,
            "grid_gap": null,
            "grid_row": null,
            "grid_template_areas": null,
            "grid_template_columns": null,
            "grid_template_rows": null,
            "height": null,
            "justify_content": null,
            "justify_items": null,
            "left": null,
            "margin": null,
            "max_height": null,
            "max_width": null,
            "min_height": null,
            "min_width": null,
            "object_fit": null,
            "object_position": null,
            "order": null,
            "overflow": null,
            "overflow_x": null,
            "overflow_y": null,
            "padding": null,
            "right": null,
            "top": null,
            "visibility": null,
            "width": null
          }
        },
        "b2ccf08040d64cbaa04ee8b4ce942b81": {
          "model_module": "@jupyter-widgets/controls",
          "model_name": "DescriptionStyleModel",
          "model_module_version": "1.5.0",
          "state": {
            "_model_module": "@jupyter-widgets/controls",
            "_model_module_version": "1.5.0",
            "_model_name": "DescriptionStyleModel",
            "_view_count": null,
            "_view_module": "@jupyter-widgets/base",
            "_view_module_version": "1.2.0",
            "_view_name": "StyleView",
            "description_width": ""
          }
        },
        "10c28b006d94457e816d939c5c5a363b": {
          "model_module": "@jupyter-widgets/controls",
          "model_name": "HBoxModel",
          "model_module_version": "1.5.0",
          "state": {
            "_dom_classes": [],
            "_model_module": "@jupyter-widgets/controls",
            "_model_module_version": "1.5.0",
            "_model_name": "HBoxModel",
            "_view_count": null,
            "_view_module": "@jupyter-widgets/controls",
            "_view_module_version": "1.5.0",
            "_view_name": "HBoxView",
            "box_style": "",
            "children": [
              "IPY_MODEL_c9e3ae2251264285a273c78dec4ea926",
              "IPY_MODEL_b94f9f3da6a24bde8862e372c766e9de",
              "IPY_MODEL_a68af383489c4d99b4788c716b309a84"
            ],
            "layout": "IPY_MODEL_075ce66bf5604411baa2aea36ac64e79"
          }
        },
        "c9e3ae2251264285a273c78dec4ea926": {
          "model_module": "@jupyter-widgets/controls",
          "model_name": "HTMLModel",
          "model_module_version": "1.5.0",
          "state": {
            "_dom_classes": [],
            "_model_module": "@jupyter-widgets/controls",
            "_model_module_version": "1.5.0",
            "_model_name": "HTMLModel",
            "_view_count": null,
            "_view_module": "@jupyter-widgets/controls",
            "_view_module_version": "1.5.0",
            "_view_name": "HTMLView",
            "description": "",
            "description_tooltip": null,
            "layout": "IPY_MODEL_1dbb311b0bac473bb9831fb3d99d0904",
            "placeholder": "​",
            "style": "IPY_MODEL_1dbfc7ae1b5b4ceaaf59149f2a70eac0",
            "value": "Epochs: 100%"
          }
        },
        "b94f9f3da6a24bde8862e372c766e9de": {
          "model_module": "@jupyter-widgets/controls",
          "model_name": "FloatProgressModel",
          "model_module_version": "1.5.0",
          "state": {
            "_dom_classes": [],
            "_model_module": "@jupyter-widgets/controls",
            "_model_module_version": "1.5.0",
            "_model_name": "FloatProgressModel",
            "_view_count": null,
            "_view_module": "@jupyter-widgets/controls",
            "_view_module_version": "1.5.0",
            "_view_name": "ProgressView",
            "bar_style": "success",
            "description": "",
            "description_tooltip": null,
            "layout": "IPY_MODEL_2062fd03d89d475394229ebc45d482cd",
            "max": 5,
            "min": 0,
            "orientation": "horizontal",
            "style": "IPY_MODEL_787071500bd94509b01f2b81bb67e5c6",
            "value": 5
          }
        },
        "a68af383489c4d99b4788c716b309a84": {
          "model_module": "@jupyter-widgets/controls",
          "model_name": "HTMLModel",
          "model_module_version": "1.5.0",
          "state": {
            "_dom_classes": [],
            "_model_module": "@jupyter-widgets/controls",
            "_model_module_version": "1.5.0",
            "_model_name": "HTMLModel",
            "_view_count": null,
            "_view_module": "@jupyter-widgets/controls",
            "_view_module_version": "1.5.0",
            "_view_name": "HTMLView",
            "description": "",
            "description_tooltip": null,
            "layout": "IPY_MODEL_912d8d6bff334e29a3e94d1f3b9a9ab9",
            "placeholder": "​",
            "style": "IPY_MODEL_13b5456ffaa04e0892563fe252330e74",
            "value": " 5/5 [01:49&lt;00:00, 21.76s/it]"
          }
        },
        "075ce66bf5604411baa2aea36ac64e79": {
          "model_module": "@jupyter-widgets/base",
          "model_name": "LayoutModel",
          "model_module_version": "1.2.0",
          "state": {
            "_model_module": "@jupyter-widgets/base",
            "_model_module_version": "1.2.0",
            "_model_name": "LayoutModel",
            "_view_count": null,
            "_view_module": "@jupyter-widgets/base",
            "_view_module_version": "1.2.0",
            "_view_name": "LayoutView",
            "align_content": null,
            "align_items": null,
            "align_self": null,
            "border": null,
            "bottom": null,
            "display": null,
            "flex": null,
            "flex_flow": null,
            "grid_area": null,
            "grid_auto_columns": null,
            "grid_auto_flow": null,
            "grid_auto_rows": null,
            "grid_column": null,
            "grid_gap": null,
            "grid_row": null,
            "grid_template_areas": null,
            "grid_template_columns": null,
            "grid_template_rows": null,
            "height": null,
            "justify_content": null,
            "justify_items": null,
            "left": null,
            "margin": null,
            "max_height": null,
            "max_width": null,
            "min_height": null,
            "min_width": null,
            "object_fit": null,
            "object_position": null,
            "order": null,
            "overflow": null,
            "overflow_x": null,
            "overflow_y": null,
            "padding": null,
            "right": null,
            "top": null,
            "visibility": null,
            "width": null
          }
        },
        "1dbb311b0bac473bb9831fb3d99d0904": {
          "model_module": "@jupyter-widgets/base",
          "model_name": "LayoutModel",
          "model_module_version": "1.2.0",
          "state": {
            "_model_module": "@jupyter-widgets/base",
            "_model_module_version": "1.2.0",
            "_model_name": "LayoutModel",
            "_view_count": null,
            "_view_module": "@jupyter-widgets/base",
            "_view_module_version": "1.2.0",
            "_view_name": "LayoutView",
            "align_content": null,
            "align_items": null,
            "align_self": null,
            "border": null,
            "bottom": null,
            "display": null,
            "flex": null,
            "flex_flow": null,
            "grid_area": null,
            "grid_auto_columns": null,
            "grid_auto_flow": null,
            "grid_auto_rows": null,
            "grid_column": null,
            "grid_gap": null,
            "grid_row": null,
            "grid_template_areas": null,
            "grid_template_columns": null,
            "grid_template_rows": null,
            "height": null,
            "justify_content": null,
            "justify_items": null,
            "left": null,
            "margin": null,
            "max_height": null,
            "max_width": null,
            "min_height": null,
            "min_width": null,
            "object_fit": null,
            "object_position": null,
            "order": null,
            "overflow": null,
            "overflow_x": null,
            "overflow_y": null,
            "padding": null,
            "right": null,
            "top": null,
            "visibility": null,
            "width": null
          }
        },
        "1dbfc7ae1b5b4ceaaf59149f2a70eac0": {
          "model_module": "@jupyter-widgets/controls",
          "model_name": "DescriptionStyleModel",
          "model_module_version": "1.5.0",
          "state": {
            "_model_module": "@jupyter-widgets/controls",
            "_model_module_version": "1.5.0",
            "_model_name": "DescriptionStyleModel",
            "_view_count": null,
            "_view_module": "@jupyter-widgets/base",
            "_view_module_version": "1.2.0",
            "_view_name": "StyleView",
            "description_width": ""
          }
        },
        "2062fd03d89d475394229ebc45d482cd": {
          "model_module": "@jupyter-widgets/base",
          "model_name": "LayoutModel",
          "model_module_version": "1.2.0",
          "state": {
            "_model_module": "@jupyter-widgets/base",
            "_model_module_version": "1.2.0",
            "_model_name": "LayoutModel",
            "_view_count": null,
            "_view_module": "@jupyter-widgets/base",
            "_view_module_version": "1.2.0",
            "_view_name": "LayoutView",
            "align_content": null,
            "align_items": null,
            "align_self": null,
            "border": null,
            "bottom": null,
            "display": null,
            "flex": null,
            "flex_flow": null,
            "grid_area": null,
            "grid_auto_columns": null,
            "grid_auto_flow": null,
            "grid_auto_rows": null,
            "grid_column": null,
            "grid_gap": null,
            "grid_row": null,
            "grid_template_areas": null,
            "grid_template_columns": null,
            "grid_template_rows": null,
            "height": null,
            "justify_content": null,
            "justify_items": null,
            "left": null,
            "margin": null,
            "max_height": null,
            "max_width": null,
            "min_height": null,
            "min_width": null,
            "object_fit": null,
            "object_position": null,
            "order": null,
            "overflow": null,
            "overflow_x": null,
            "overflow_y": null,
            "padding": null,
            "right": null,
            "top": null,
            "visibility": null,
            "width": null
          }
        },
        "787071500bd94509b01f2b81bb67e5c6": {
          "model_module": "@jupyter-widgets/controls",
          "model_name": "ProgressStyleModel",
          "model_module_version": "1.5.0",
          "state": {
            "_model_module": "@jupyter-widgets/controls",
            "_model_module_version": "1.5.0",
            "_model_name": "ProgressStyleModel",
            "_view_count": null,
            "_view_module": "@jupyter-widgets/base",
            "_view_module_version": "1.2.0",
            "_view_name": "StyleView",
            "bar_color": null,
            "description_width": ""
          }
        },
        "912d8d6bff334e29a3e94d1f3b9a9ab9": {
          "model_module": "@jupyter-widgets/base",
          "model_name": "LayoutModel",
          "model_module_version": "1.2.0",
          "state": {
            "_model_module": "@jupyter-widgets/base",
            "_model_module_version": "1.2.0",
            "_model_name": "LayoutModel",
            "_view_count": null,
            "_view_module": "@jupyter-widgets/base",
            "_view_module_version": "1.2.0",
            "_view_name": "LayoutView",
            "align_content": null,
            "align_items": null,
            "align_self": null,
            "border": null,
            "bottom": null,
            "display": null,
            "flex": null,
            "flex_flow": null,
            "grid_area": null,
            "grid_auto_columns": null,
            "grid_auto_flow": null,
            "grid_auto_rows": null,
            "grid_column": null,
            "grid_gap": null,
            "grid_row": null,
            "grid_template_areas": null,
            "grid_template_columns": null,
            "grid_template_rows": null,
            "height": null,
            "justify_content": null,
            "justify_items": null,
            "left": null,
            "margin": null,
            "max_height": null,
            "max_width": null,
            "min_height": null,
            "min_width": null,
            "object_fit": null,
            "object_position": null,
            "order": null,
            "overflow": null,
            "overflow_x": null,
            "overflow_y": null,
            "padding": null,
            "right": null,
            "top": null,
            "visibility": null,
            "width": null
          }
        },
        "13b5456ffaa04e0892563fe252330e74": {
          "model_module": "@jupyter-widgets/controls",
          "model_name": "DescriptionStyleModel",
          "model_module_version": "1.5.0",
          "state": {
            "_model_module": "@jupyter-widgets/controls",
            "_model_module_version": "1.5.0",
            "_model_name": "DescriptionStyleModel",
            "_view_count": null,
            "_view_module": "@jupyter-widgets/base",
            "_view_module_version": "1.2.0",
            "_view_name": "StyleView",
            "description_width": ""
          }
        }
      }
    }
  },
  "cells": [
    {
      "cell_type": "markdown",
      "metadata": {
        "id": "view-in-github",
        "colab_type": "text"
      },
      "source": [
        "<a href=\"https://colab.research.google.com/github/ronald-hk-chung/ssnotebook/blob/main/basics_of_neural_network/nn_on_mnist.ipynb\" target=\"_parent\"><img src=\"https://colab.research.google.com/assets/colab-badge.svg\" alt=\"Open In Colab\"/></a>"
      ]
    },
    {
      "cell_type": "markdown",
      "source": [
        "# Neural Network on MNIST dataset\n",
        "\n",
        "Solving the MNIST is a benchmark for machine learning models.\n",
        "\n",
        "<img src=\"https://github.com/ronald-hk-chung/ssnotebook/blob/main/computer-vision/assets/mnist.png?raw=true\">\n",
        "\n",
        "The MNIST database (modified National Institute of Standards of Technology database) is a large database of handwritten digits that is commonly used for training various image processing systems. The database is also widely used for training and testing in the field of machine learning.\n",
        "\n",
        "The MNIST database contains 60,000 training images and 10,000 testing images.\n",
        "\n"
      ],
      "metadata": {
        "id": "9x2WJSi6f8jP"
      }
    },
    {
      "cell_type": "markdown",
      "source": [
        "## Introduction to Torchvision\n",
        "\n",
        "**Torchvision** is a package contining popular datasets, model architectures and common image transformations for computer vision\n",
        "\n",
        "<br/>\n",
        "\n",
        "**Datasets**\n",
        "\n",
        "Many popular and common **datasets** are incuded out of the box, like MNIST, ImageNet, CIFAR. (For full refrence: https://pytorch.org/vision/main/datasets.html.) All these datasets inherit from teh original `Dataset` class, so that can be nautrally used with a DataLoader in exactly the same way like custom Dataset\n",
        "\n",
        "**Models**\n",
        "\n",
        "PyTorch also includes the most popular model architecture, including their pre-trained weights, for tackling many tasks like image classification, semantic segmentation, object detection, instance segmentation, person keypoint detection and video classication.\n",
        "\n",
        "Well-known models include AlexNet, VGG, ResNet etc.\n",
        "\n",
        "**Transforms**\n",
        "\n",
        "Torchvision has some common image transformation in its `transforms` module. There are 2 main groups of transformations\n",
        "\n",
        "1. Transformations based on images (in either PIL or PyTorch shapes)\n",
        "2. Transformations based on Tensors\n",
        "\n",
        "The conversion transforms to convert from tensor `ToPILImage()` and from PIL image `ToTensor()`\n",
        "\n"
      ],
      "metadata": {
        "id": "qvH0pw44lpRu"
      }
    },
    {
      "cell_type": "markdown",
      "source": [
        "## Downloading MNIST Dataset\n",
        "\n",
        "PyTorch domain libraries provides a number of pre-loaded datasets under `torchvision.datasets`\n",
        "Referece: https://pytorch.org/vision/main/datasets.html\n",
        "\n",
        "To download it, we will need ot provide the following parameters\n",
        "\n",
        "*   **root (str or pathlib.Path)**\n",
        "\n",
        "    Root directory of dataset where MNIST/raw/train-images-idx3-ubyte and MNIST/raw/t10k-images-idx3-ubyte exist.\n",
        "\n",
        "*   **train (bool, optional)**\n",
        "\n",
        "    If True, creates dataset from train-images-idx3-ubyte, otherwise from t10k-images-idx3-ubyte.\n",
        "\n",
        "*   **download (bool, optional)**\n",
        "\n",
        "    If True, downloads the dataset from the internet and puts it in root directory. If dataset is already downloaded, it is not downloaded again.\n",
        "\n",
        "*   **transform (callable, optional)**\n",
        "\n",
        "    A function/transform that takes in a PIL image and returns a transformed version. E.g, transforms.RandomCrop\n",
        "\n",
        "*   **target_transform (callable, optional)**\n",
        "\n",
        "    A function/transform that takes in the target and transforms it."
      ],
      "metadata": {
        "id": "_OjeB2NtjFFH"
      }
    },
    {
      "cell_type": "code",
      "execution_count": null,
      "metadata": {
        "colab": {
          "base_uri": "https://localhost:8080/"
        },
        "id": "8lluKn7LfplA",
        "outputId": "91ec5c9f-0ade-4459-8045-180c75e219af"
      },
      "outputs": [
        {
          "output_type": "stream",
          "name": "stdout",
          "text": [
            "Downloading http://yann.lecun.com/exdb/mnist/train-images-idx3-ubyte.gz\n",
            "Downloading http://yann.lecun.com/exdb/mnist/train-images-idx3-ubyte.gz to data/MNIST/raw/train-images-idx3-ubyte.gz\n"
          ]
        },
        {
          "output_type": "stream",
          "name": "stderr",
          "text": [
            "100%|██████████| 9912422/9912422 [00:00<00:00, 55328419.95it/s]\n"
          ]
        },
        {
          "output_type": "stream",
          "name": "stdout",
          "text": [
            "Extracting data/MNIST/raw/train-images-idx3-ubyte.gz to data/MNIST/raw\n",
            "\n",
            "Downloading http://yann.lecun.com/exdb/mnist/train-labels-idx1-ubyte.gz\n",
            "Downloading http://yann.lecun.com/exdb/mnist/train-labels-idx1-ubyte.gz to data/MNIST/raw/train-labels-idx1-ubyte.gz\n"
          ]
        },
        {
          "output_type": "stream",
          "name": "stderr",
          "text": [
            "100%|██████████| 28881/28881 [00:00<00:00, 13828275.55it/s]"
          ]
        },
        {
          "output_type": "stream",
          "name": "stdout",
          "text": [
            "Extracting data/MNIST/raw/train-labels-idx1-ubyte.gz to data/MNIST/raw\n",
            "\n",
            "Downloading http://yann.lecun.com/exdb/mnist/t10k-images-idx3-ubyte.gz\n",
            "Downloading http://yann.lecun.com/exdb/mnist/t10k-images-idx3-ubyte.gz to data/MNIST/raw/t10k-images-idx3-ubyte.gz\n"
          ]
        },
        {
          "output_type": "stream",
          "name": "stderr",
          "text": [
            "\n",
            "100%|██████████| 1648877/1648877 [00:00<00:00, 19473375.45it/s]\n"
          ]
        },
        {
          "output_type": "stream",
          "name": "stdout",
          "text": [
            "Extracting data/MNIST/raw/t10k-images-idx3-ubyte.gz to data/MNIST/raw\n",
            "\n",
            "Downloading http://yann.lecun.com/exdb/mnist/t10k-labels-idx1-ubyte.gz\n",
            "Downloading http://yann.lecun.com/exdb/mnist/t10k-labels-idx1-ubyte.gz to data/MNIST/raw/t10k-labels-idx1-ubyte.gz\n"
          ]
        },
        {
          "output_type": "stream",
          "name": "stderr",
          "text": [
            "100%|██████████| 4542/4542 [00:00<00:00, 19969107.72it/s]"
          ]
        },
        {
          "output_type": "stream",
          "name": "stdout",
          "text": [
            "Extracting data/MNIST/raw/t10k-labels-idx1-ubyte.gz to data/MNIST/raw\n",
            "\n"
          ]
        },
        {
          "output_type": "stream",
          "name": "stderr",
          "text": [
            "\n"
          ]
        }
      ],
      "source": [
        "import torch\n",
        "import torchvision\n",
        "from torchvision.datasets import MNIST\n",
        "from torchvision.transforms import ToTensor\n",
        "\n",
        "# Setup train_ds and valid_ds\n",
        "train_ds = MNIST(root='data',\n",
        "                 train=True,\n",
        "                 download=True,\n",
        "                 transform=ToTensor(),\n",
        "                 target_transform=None)\n",
        "\n",
        "valid_ds = MNIST(root='data',\n",
        "                 train=False,\n",
        "                 download=True,\n",
        "                 transform=ToTensor(),\n",
        "                 target_transform=None)"
      ]
    },
    {
      "cell_type": "markdown",
      "source": [
        "## Exploring the MNIST Dataset"
      ],
      "metadata": {
        "id": "n9KZAzfao94W"
      }
    },
    {
      "cell_type": "markdown",
      "source": [
        "Checking the length of dataset"
      ],
      "metadata": {
        "id": "DNCtO6VjtQxZ"
      }
    },
    {
      "cell_type": "code",
      "source": [
        "len(train_ds), len(valid_ds)"
      ],
      "metadata": {
        "colab": {
          "base_uri": "https://localhost:8080/"
        },
        "id": "zqVUw0U_tQf8",
        "outputId": "a2755fc1-def1-4733-8fca-ad920dd3b76b"
      },
      "execution_count": null,
      "outputs": [
        {
          "output_type": "execute_result",
          "data": {
            "text/plain": [
              "(60000, 10000)"
            ]
          },
          "metadata": {},
          "execution_count": 2
        }
      ]
    },
    {
      "cell_type": "markdown",
      "source": [
        "The MNIST database contains 60,000 training images and 10,000 testing images."
      ],
      "metadata": {
        "id": "JqJTaniYtdFf"
      }
    },
    {
      "cell_type": "markdown",
      "source": [
        "Getting a single element from `train_ds`"
      ],
      "metadata": {
        "id": "1atI6CbPrFXE"
      }
    },
    {
      "cell_type": "code",
      "source": [
        "img, label = train_ds[0]\n",
        "img, label"
      ],
      "metadata": {
        "colab": {
          "base_uri": "https://localhost:8080/"
        },
        "id": "xuOAvPkpoxlJ",
        "outputId": "c4586011-5f74-4aec-f44e-444099fbb9b0"
      },
      "execution_count": null,
      "outputs": [
        {
          "output_type": "execute_result",
          "data": {
            "text/plain": [
              "(tensor([[[0.0000, 0.0000, 0.0000, 0.0000, 0.0000, 0.0000, 0.0000, 0.0000,\n",
              "           0.0000, 0.0000, 0.0000, 0.0000, 0.0000, 0.0000, 0.0000, 0.0000,\n",
              "           0.0000, 0.0000, 0.0000, 0.0000, 0.0000, 0.0000, 0.0000, 0.0000,\n",
              "           0.0000, 0.0000, 0.0000, 0.0000],\n",
              "          [0.0000, 0.0000, 0.0000, 0.0000, 0.0000, 0.0000, 0.0000, 0.0000,\n",
              "           0.0000, 0.0000, 0.0000, 0.0000, 0.0000, 0.0000, 0.0000, 0.0000,\n",
              "           0.0000, 0.0000, 0.0000, 0.0000, 0.0000, 0.0000, 0.0000, 0.0000,\n",
              "           0.0000, 0.0000, 0.0000, 0.0000],\n",
              "          [0.0000, 0.0000, 0.0000, 0.0000, 0.0000, 0.0000, 0.0000, 0.0000,\n",
              "           0.0000, 0.0000, 0.0000, 0.0000, 0.0000, 0.0000, 0.0000, 0.0000,\n",
              "           0.0000, 0.0000, 0.0000, 0.0000, 0.0000, 0.0000, 0.0000, 0.0000,\n",
              "           0.0000, 0.0000, 0.0000, 0.0000],\n",
              "          [0.0000, 0.0000, 0.0000, 0.0000, 0.0000, 0.0000, 0.0000, 0.0000,\n",
              "           0.0000, 0.0000, 0.0000, 0.0000, 0.0000, 0.0000, 0.0000, 0.0000,\n",
              "           0.0000, 0.0000, 0.0000, 0.0000, 0.0000, 0.0000, 0.0000, 0.0000,\n",
              "           0.0000, 0.0000, 0.0000, 0.0000],\n",
              "          [0.0000, 0.0000, 0.0000, 0.0000, 0.0000, 0.0000, 0.0000, 0.0000,\n",
              "           0.0000, 0.0000, 0.0000, 0.0000, 0.0000, 0.0000, 0.0000, 0.0000,\n",
              "           0.0000, 0.0000, 0.0000, 0.0000, 0.0000, 0.0000, 0.0000, 0.0000,\n",
              "           0.0000, 0.0000, 0.0000, 0.0000],\n",
              "          [0.0000, 0.0000, 0.0000, 0.0000, 0.0000, 0.0000, 0.0000, 0.0000,\n",
              "           0.0000, 0.0000, 0.0000, 0.0000, 0.0118, 0.0706, 0.0706, 0.0706,\n",
              "           0.4941, 0.5333, 0.6863, 0.1020, 0.6510, 1.0000, 0.9686, 0.4980,\n",
              "           0.0000, 0.0000, 0.0000, 0.0000],\n",
              "          [0.0000, 0.0000, 0.0000, 0.0000, 0.0000, 0.0000, 0.0000, 0.0000,\n",
              "           0.1176, 0.1412, 0.3686, 0.6039, 0.6667, 0.9922, 0.9922, 0.9922,\n",
              "           0.9922, 0.9922, 0.8824, 0.6745, 0.9922, 0.9490, 0.7647, 0.2510,\n",
              "           0.0000, 0.0000, 0.0000, 0.0000],\n",
              "          [0.0000, 0.0000, 0.0000, 0.0000, 0.0000, 0.0000, 0.0000, 0.1922,\n",
              "           0.9333, 0.9922, 0.9922, 0.9922, 0.9922, 0.9922, 0.9922, 0.9922,\n",
              "           0.9922, 0.9843, 0.3647, 0.3216, 0.3216, 0.2196, 0.1529, 0.0000,\n",
              "           0.0000, 0.0000, 0.0000, 0.0000],\n",
              "          [0.0000, 0.0000, 0.0000, 0.0000, 0.0000, 0.0000, 0.0000, 0.0706,\n",
              "           0.8588, 0.9922, 0.9922, 0.9922, 0.9922, 0.9922, 0.7765, 0.7137,\n",
              "           0.9686, 0.9451, 0.0000, 0.0000, 0.0000, 0.0000, 0.0000, 0.0000,\n",
              "           0.0000, 0.0000, 0.0000, 0.0000],\n",
              "          [0.0000, 0.0000, 0.0000, 0.0000, 0.0000, 0.0000, 0.0000, 0.0000,\n",
              "           0.3137, 0.6118, 0.4196, 0.9922, 0.9922, 0.8039, 0.0431, 0.0000,\n",
              "           0.1686, 0.6039, 0.0000, 0.0000, 0.0000, 0.0000, 0.0000, 0.0000,\n",
              "           0.0000, 0.0000, 0.0000, 0.0000],\n",
              "          [0.0000, 0.0000, 0.0000, 0.0000, 0.0000, 0.0000, 0.0000, 0.0000,\n",
              "           0.0000, 0.0549, 0.0039, 0.6039, 0.9922, 0.3529, 0.0000, 0.0000,\n",
              "           0.0000, 0.0000, 0.0000, 0.0000, 0.0000, 0.0000, 0.0000, 0.0000,\n",
              "           0.0000, 0.0000, 0.0000, 0.0000],\n",
              "          [0.0000, 0.0000, 0.0000, 0.0000, 0.0000, 0.0000, 0.0000, 0.0000,\n",
              "           0.0000, 0.0000, 0.0000, 0.5451, 0.9922, 0.7451, 0.0078, 0.0000,\n",
              "           0.0000, 0.0000, 0.0000, 0.0000, 0.0000, 0.0000, 0.0000, 0.0000,\n",
              "           0.0000, 0.0000, 0.0000, 0.0000],\n",
              "          [0.0000, 0.0000, 0.0000, 0.0000, 0.0000, 0.0000, 0.0000, 0.0000,\n",
              "           0.0000, 0.0000, 0.0000, 0.0431, 0.7451, 0.9922, 0.2745, 0.0000,\n",
              "           0.0000, 0.0000, 0.0000, 0.0000, 0.0000, 0.0000, 0.0000, 0.0000,\n",
              "           0.0000, 0.0000, 0.0000, 0.0000],\n",
              "          [0.0000, 0.0000, 0.0000, 0.0000, 0.0000, 0.0000, 0.0000, 0.0000,\n",
              "           0.0000, 0.0000, 0.0000, 0.0000, 0.1373, 0.9451, 0.8824, 0.6275,\n",
              "           0.4235, 0.0039, 0.0000, 0.0000, 0.0000, 0.0000, 0.0000, 0.0000,\n",
              "           0.0000, 0.0000, 0.0000, 0.0000],\n",
              "          [0.0000, 0.0000, 0.0000, 0.0000, 0.0000, 0.0000, 0.0000, 0.0000,\n",
              "           0.0000, 0.0000, 0.0000, 0.0000, 0.0000, 0.3176, 0.9412, 0.9922,\n",
              "           0.9922, 0.4667, 0.0980, 0.0000, 0.0000, 0.0000, 0.0000, 0.0000,\n",
              "           0.0000, 0.0000, 0.0000, 0.0000],\n",
              "          [0.0000, 0.0000, 0.0000, 0.0000, 0.0000, 0.0000, 0.0000, 0.0000,\n",
              "           0.0000, 0.0000, 0.0000, 0.0000, 0.0000, 0.0000, 0.1765, 0.7294,\n",
              "           0.9922, 0.9922, 0.5882, 0.1059, 0.0000, 0.0000, 0.0000, 0.0000,\n",
              "           0.0000, 0.0000, 0.0000, 0.0000],\n",
              "          [0.0000, 0.0000, 0.0000, 0.0000, 0.0000, 0.0000, 0.0000, 0.0000,\n",
              "           0.0000, 0.0000, 0.0000, 0.0000, 0.0000, 0.0000, 0.0000, 0.0627,\n",
              "           0.3647, 0.9882, 0.9922, 0.7333, 0.0000, 0.0000, 0.0000, 0.0000,\n",
              "           0.0000, 0.0000, 0.0000, 0.0000],\n",
              "          [0.0000, 0.0000, 0.0000, 0.0000, 0.0000, 0.0000, 0.0000, 0.0000,\n",
              "           0.0000, 0.0000, 0.0000, 0.0000, 0.0000, 0.0000, 0.0000, 0.0000,\n",
              "           0.0000, 0.9765, 0.9922, 0.9765, 0.2510, 0.0000, 0.0000, 0.0000,\n",
              "           0.0000, 0.0000, 0.0000, 0.0000],\n",
              "          [0.0000, 0.0000, 0.0000, 0.0000, 0.0000, 0.0000, 0.0000, 0.0000,\n",
              "           0.0000, 0.0000, 0.0000, 0.0000, 0.0000, 0.0000, 0.1804, 0.5098,\n",
              "           0.7176, 0.9922, 0.9922, 0.8118, 0.0078, 0.0000, 0.0000, 0.0000,\n",
              "           0.0000, 0.0000, 0.0000, 0.0000],\n",
              "          [0.0000, 0.0000, 0.0000, 0.0000, 0.0000, 0.0000, 0.0000, 0.0000,\n",
              "           0.0000, 0.0000, 0.0000, 0.0000, 0.1529, 0.5804, 0.8980, 0.9922,\n",
              "           0.9922, 0.9922, 0.9804, 0.7137, 0.0000, 0.0000, 0.0000, 0.0000,\n",
              "           0.0000, 0.0000, 0.0000, 0.0000],\n",
              "          [0.0000, 0.0000, 0.0000, 0.0000, 0.0000, 0.0000, 0.0000, 0.0000,\n",
              "           0.0000, 0.0000, 0.0941, 0.4471, 0.8667, 0.9922, 0.9922, 0.9922,\n",
              "           0.9922, 0.7882, 0.3059, 0.0000, 0.0000, 0.0000, 0.0000, 0.0000,\n",
              "           0.0000, 0.0000, 0.0000, 0.0000],\n",
              "          [0.0000, 0.0000, 0.0000, 0.0000, 0.0000, 0.0000, 0.0000, 0.0000,\n",
              "           0.0902, 0.2588, 0.8353, 0.9922, 0.9922, 0.9922, 0.9922, 0.7765,\n",
              "           0.3176, 0.0078, 0.0000, 0.0000, 0.0000, 0.0000, 0.0000, 0.0000,\n",
              "           0.0000, 0.0000, 0.0000, 0.0000],\n",
              "          [0.0000, 0.0000, 0.0000, 0.0000, 0.0000, 0.0000, 0.0706, 0.6706,\n",
              "           0.8588, 0.9922, 0.9922, 0.9922, 0.9922, 0.7647, 0.3137, 0.0353,\n",
              "           0.0000, 0.0000, 0.0000, 0.0000, 0.0000, 0.0000, 0.0000, 0.0000,\n",
              "           0.0000, 0.0000, 0.0000, 0.0000],\n",
              "          [0.0000, 0.0000, 0.0000, 0.0000, 0.2157, 0.6745, 0.8863, 0.9922,\n",
              "           0.9922, 0.9922, 0.9922, 0.9569, 0.5216, 0.0431, 0.0000, 0.0000,\n",
              "           0.0000, 0.0000, 0.0000, 0.0000, 0.0000, 0.0000, 0.0000, 0.0000,\n",
              "           0.0000, 0.0000, 0.0000, 0.0000],\n",
              "          [0.0000, 0.0000, 0.0000, 0.0000, 0.5333, 0.9922, 0.9922, 0.9922,\n",
              "           0.8314, 0.5294, 0.5176, 0.0627, 0.0000, 0.0000, 0.0000, 0.0000,\n",
              "           0.0000, 0.0000, 0.0000, 0.0000, 0.0000, 0.0000, 0.0000, 0.0000,\n",
              "           0.0000, 0.0000, 0.0000, 0.0000],\n",
              "          [0.0000, 0.0000, 0.0000, 0.0000, 0.0000, 0.0000, 0.0000, 0.0000,\n",
              "           0.0000, 0.0000, 0.0000, 0.0000, 0.0000, 0.0000, 0.0000, 0.0000,\n",
              "           0.0000, 0.0000, 0.0000, 0.0000, 0.0000, 0.0000, 0.0000, 0.0000,\n",
              "           0.0000, 0.0000, 0.0000, 0.0000],\n",
              "          [0.0000, 0.0000, 0.0000, 0.0000, 0.0000, 0.0000, 0.0000, 0.0000,\n",
              "           0.0000, 0.0000, 0.0000, 0.0000, 0.0000, 0.0000, 0.0000, 0.0000,\n",
              "           0.0000, 0.0000, 0.0000, 0.0000, 0.0000, 0.0000, 0.0000, 0.0000,\n",
              "           0.0000, 0.0000, 0.0000, 0.0000],\n",
              "          [0.0000, 0.0000, 0.0000, 0.0000, 0.0000, 0.0000, 0.0000, 0.0000,\n",
              "           0.0000, 0.0000, 0.0000, 0.0000, 0.0000, 0.0000, 0.0000, 0.0000,\n",
              "           0.0000, 0.0000, 0.0000, 0.0000, 0.0000, 0.0000, 0.0000, 0.0000,\n",
              "           0.0000, 0.0000, 0.0000, 0.0000]]]),\n",
              " 5)"
            ]
          },
          "metadata": {},
          "execution_count": 3
        }
      ]
    },
    {
      "cell_type": "markdown",
      "source": [
        "Above shows tensor of img and a single value for a target(label)"
      ],
      "metadata": {
        "id": "4jEnbTdbpZjj"
      }
    },
    {
      "cell_type": "code",
      "source": [
        "img.shape"
      ],
      "metadata": {
        "colab": {
          "base_uri": "https://localhost:8080/"
        },
        "id": "ht_hn4NhpPi4",
        "outputId": "6bcbd967-79b4-438b-d920-b4daef9e7dc8"
      },
      "execution_count": null,
      "outputs": [
        {
          "output_type": "execute_result",
          "data": {
            "text/plain": [
              "torch.Size([1, 28, 28])"
            ]
          },
          "metadata": {},
          "execution_count": 4
        }
      ]
    },
    {
      "cell_type": "markdown",
      "source": [
        "The shape of the image tensor is [1, 28, 28] which is of [color_channels=1, height=28, width=28]\n",
        "\n",
        "Having `color_channels=1` means the image is grayscale. If `color_channels=3`, the image comes in pixel values for red, green and blue, known as the [RGB color model](https://en.wikipedia.org/wiki/RGB_color_model)\n",
        "\n",
        "PyTorch accepts `NCHW (channel first) as the default for many operations.\n",
        "\n",
        "* **N** stands for Number of images (in a mini-batch)\n",
        "* **C** stands for number of Channels (or filters) in each image\n",
        "* **H** stands for each images Height\n",
        "* **W** stands for each image Width\n",
        "\n",
        "Note that different packages/framwork can use different convention\n",
        "\n",
        "*  PyTorch uses **NCHW**\n",
        "*  TensorFlow uses **NHWC**\n",
        "*  PIL images are **HWC**\n",
        "*  OpenCV images uses **NCHW** but with **BGR** instead of **RGB** as default"
      ],
      "metadata": {
        "id": "TBUZBYsJpiwg"
      }
    },
    {
      "cell_type": "markdown",
      "source": [
        "## Visualizing our data"
      ],
      "metadata": {
        "id": "kjy7uYHItgCf"
      }
    },
    {
      "cell_type": "code",
      "source": [
        "import matplotlib.pyplot as plt\n",
        "# Use squeeze() to turn image shape to [28, 28]\n",
        "# turn to greyscale by using cmap='gray'\n",
        "plt.imshow(img.squeeze(dim=0), cmap='gray');"
      ],
      "metadata": {
        "colab": {
          "base_uri": "https://localhost:8080/",
          "height": 430
        },
        "id": "vbBe78uLsyU2",
        "outputId": "0a668c06-249a-465f-8de5-0c3d6817a231"
      },
      "execution_count": null,
      "outputs": [
        {
          "output_type": "display_data",
          "data": {
            "text/plain": [
              "<Figure size 640x480 with 1 Axes>"
            ],
            "image/png": "[encoded data removed]"
          },
          "metadata": {}
        }
      ]
    },
    {
      "cell_type": "markdown",
      "source": [
        "## Prepare DataLoader for MNIST Dataset\n",
        "\n",
        "We will need to turn our train_ds and valid_ds into DataLoader for training."
      ],
      "metadata": {
        "id": "hHwR9bhUuKdb"
      }
    },
    {
      "cell_type": "code",
      "source": [
        "from torch.utils.data import DataLoader\n",
        "\n",
        "train_dl = DataLoader(dataset=train_ds,\n",
        "                      batch_size=32,\n",
        "                      shuffle=True)\n",
        "\n",
        "valid_dl = DataLoader(dataset=valid_ds,\n",
        "                      batch_size=32,\n",
        "                      shuffle=False)"
      ],
      "metadata": {
        "id": "s6b4d8ERtuix"
      },
      "execution_count": null,
      "outputs": []
    },
    {
      "cell_type": "markdown",
      "source": [
        "## Visualise a batch to validate the DataLoaders"
      ],
      "metadata": {
        "id": "y-njxi56u8wm"
      }
    },
    {
      "cell_type": "code",
      "source": [
        "images, labels = next(iter(train_dl))\n",
        "\n",
        "fig = plt.figure(figsize=(16, 8))\n",
        "rows, cols = 4, 8\n",
        "for i in range(rows * cols):\n",
        "    fig.add_subplot(rows, cols, i+1)\n",
        "    plt.imshow(images[i].squeeze(), cmap='gray')\n",
        "    plt.title(f'Label: {labels[i]}')\n",
        "    plt.axis(False);"
      ],
      "metadata": {
        "colab": {
          "base_uri": "https://localhost:8080/",
          "height": 673
        },
        "id": "80yGQvQBu3pB",
        "outputId": "8736b454-3195-4b6e-aaaf-829be325b0ed"
      },
      "execution_count": null,
      "outputs": [
        {
          "output_type": "display_data",
          "data": {
            "text/plain": [
              "<Figure size 1600x800 with 32 Axes>"
            ],
            "image/png": "[encoded data removed]"
          },
          "metadata": {}
        }
      ]
    },
    {
      "cell_type": "markdown",
      "source": [
        "## Setting up loss_fn and metric_fn\n",
        "\n",
        "For multi-class classification, we will setup\n",
        "* nn.CrossEntropyLoss() as `loss_fn`\n",
        "\n",
        "    **Cross-Entropy Loss** is a loss function that is commonly used to quantify the difference between 2 probabilities distribution.\n",
        "\n",
        "    where p(x) is the output probability and q(x) is the true probability\n",
        "\n",
        "\n",
        "$$\n",
        "H(p, q)=-\\sum_x p(x) \\log q(x) .\n",
        "$$\n",
        "\n",
        "<br/>\n",
        "\n",
        "* macro Average on Accuracy, Precision, Recall and F1 for `metric_fn`\n",
        "\n",
        "$$\n",
        "Accuracy = \\frac{TP + TN}{TP + TN + FP + FN}\n",
        "$$\n",
        "\n",
        "$$\n",
        "{Precision}_{macro}=\\frac{1}{n}\\sum_{t=1}^n \\frac{{TP}_i}{{TP}_i + {FP}_i}\n",
        "$$\n",
        "\n",
        "$$\n",
        "{Recall}_{macro}=\\frac{1}{n}\\sum_{t=1}^n \\frac{{TP}_i}{{TP}_i + {FN}_i}\n",
        "$$\n",
        "\n",
        "$$\n",
        "{F1score}_{macro}=2 \\times \\frac{{Precision}_{macro} * {Recall}_{macro}}{{Precision}_{macro} + {Recall}_{macro}}\n",
        "$$\n",
        "\n"
      ],
      "metadata": {
        "id": "4fj5hQvjx357"
      }
    },
    {
      "cell_type": "code",
      "source": [
        "from torch import nn\n",
        "loss_fn = nn.CrossEntropyLoss()\n",
        "loss_fn"
      ],
      "metadata": {
        "colab": {
          "base_uri": "https://localhost:8080/"
        },
        "id": "9j9Rp2QE5bFi",
        "outputId": "a84353f4-07d9-4d8a-b0d6-1364f2eb64a1"
      },
      "execution_count": null,
      "outputs": [
        {
          "output_type": "execute_result",
          "data": {
            "text/plain": [
              "CrossEntropyLoss()"
            ]
          },
          "metadata": {},
          "execution_count": 8
        }
      ]
    },
    {
      "cell_type": "code",
      "source": [
        "from sklearn.metrics import accuracy_score, precision_score, recall_score, f1_score\n",
        "import numpy as np\n",
        "\n",
        "def metric_fn(y_logits, y):\n",
        "    \"\"\" Return dictionary of metrics of accuracy_score, precision_score, recall_score and f1_score\n",
        "    \"\"\"\n",
        "    # Make prediction using argmax and turn into numpy array\n",
        "    y_preds = torch.argmax(y_logits, dim=-1).detach().cpu().numpy()\n",
        "    y = y.detach().cpu().numpy()\n",
        "\n",
        "    # Calculate scores from using sklearn.metrics\n",
        "    accuracy = accuracy_score(y, y_preds)\n",
        "    precision = precision_score(y, y_preds, average='macro', zero_division=0)\n",
        "    recall = recall_score(y, y_preds, average='macro', zero_division=0)\n",
        "    f1 = f1_score(y, y_preds, average='macro', zero_division=0)\n",
        "\n",
        "    # SSTLearner supports returning a dictionary from metric_fn\n",
        "    return {'accuracy': accuracy,\n",
        "            'precision': precision,\n",
        "            'recall': recall,\n",
        "            'f1': f1}\n",
        "\n",
        "metric_fn"
      ],
      "metadata": {
        "colab": {
          "base_uri": "https://localhost:8080/",
          "height": 121
        },
        "id": "sGCGr3S45Lp_",
        "outputId": "9b0e85c3-1b16-473e-806c-521bfccfa007"
      },
      "execution_count": null,
      "outputs": [
        {
          "output_type": "execute_result",
          "data": {
            "text/plain": [
              "<function __main__.metric_fn(y_logits, y)>"
            ],
            "text/html": [
              "<div style=\"max-width:800px; border: 1px solid var(--colab-border-color);\"><style>\n",
              "      pre.function-repr-contents {\n",
              "        overflow-x: auto;\n",
              "        padding: 8px 12px;\n",
              "        max-height: 500px;\n",
              "      }\n",
              "\n",
              "      pre.function-repr-contents.function-repr-contents-collapsed {\n",
              "        cursor: pointer;\n",
              "        max-height: 100px;\n",
              "      }\n",
              "    </style>\n",
              "    <pre style=\"white-space: initial; background:\n",
              "         var(--colab-secondary-surface-color); padding: 8px 12px;\n",
              "         border-bottom: 1px solid var(--colab-border-color);\"><b>metric_fn</b><br/>def metric_fn(y_logits, y)</pre><pre class=\"function-repr-contents function-repr-contents-collapsed\" style=\"\"><a class=\"filepath\" style=\"display:none\" href=\"#\">/content/&lt;ipython-input-9-ddd3b28b7149&gt;</a>Return dictionary of metrics of accuracy_score, precision_score, recall_score and f1_score\n",
              "    </pre></div>"
            ]
          },
          "metadata": {},
          "execution_count": 9
        }
      ]
    },
    {
      "cell_type": "markdown",
      "source": [
        "## Model 0 - Baseline Linear Regression\n",
        "\n",
        "We will create a baseline model by subclassing `nn.Module` which consists of 2"
      ],
      "metadata": {
        "id": "VgdbCmJoxJv8"
      }
    },
    {
      "cell_type": "code",
      "source": [
        "class Model0(nn.Module):\n",
        "    def __init__(self, in_features, hidden_units, out_features):\n",
        "        super().__init__()\n",
        "        self.linear_layer = nn.Sequential(\n",
        "            nn.Flatten(),\n",
        "            nn.Linear(in_features=in_features,\n",
        "                      out_features=hidden_units),\n",
        "            nn.Linear(in_features=hidden_units,\n",
        "                      out_features=out_features)\n",
        "        )\n",
        "    def forward(self, X):\n",
        "        return self.linear_layer(X)"
      ],
      "metadata": {
        "id": "d2hJ5NLNwKLE"
      },
      "execution_count": null,
      "outputs": []
    },
    {
      "cell_type": "markdown",
      "source": [
        "We will set the following parameters\n",
        "\n",
        "*  `input_features=784` - it is the flattened pixel 28x28 going into the model\n",
        "*  `hidden_units=10` - neurals to be set in fully connected hidden layers\n",
        "*  `out_features=10` - num of classes for multi-class classification [0-9]"
      ],
      "metadata": {
        "id": "LXRTzvhp-knI"
      }
    },
    {
      "cell_type": "markdown",
      "source": [
        "## Testing out the model_0 using 1 batch"
      ],
      "metadata": {
        "id": "jHRbuTUR6atM"
      }
    },
    {
      "cell_type": "code",
      "source": [
        "model_0 = Model0(in_features=784, hidden_units=10, out_features=10)"
      ],
      "metadata": {
        "id": "_ud3qVTA-YII"
      },
      "execution_count": null,
      "outputs": []
    },
    {
      "cell_type": "code",
      "source": [
        "# Trying out a batch to model\n",
        "X, y = next(iter(train_dl))\n",
        "y_logits = model_0(X)"
      ],
      "metadata": {
        "id": "deBQ7_d3_Ddl"
      },
      "execution_count": null,
      "outputs": []
    },
    {
      "cell_type": "code",
      "source": [
        "y_logits.shape"
      ],
      "metadata": {
        "colab": {
          "base_uri": "https://localhost:8080/"
        },
        "id": "wkFY0RA3_Meg",
        "outputId": "f9f5c5d4-2f85-4dbe-b919-2f5de0c9bfbf"
      },
      "execution_count": null,
      "outputs": [
        {
          "output_type": "execute_result",
          "data": {
            "text/plain": [
              "torch.Size([32, 10])"
            ]
          },
          "metadata": {},
          "execution_count": 13
        }
      ]
    },
    {
      "cell_type": "markdown",
      "source": [
        "Output of the model is of shape [batch_size, num_of_classes]\n",
        "\n",
        "---\n",
        "\n"
      ],
      "metadata": {
        "id": "qcy0M5LG_ZBJ"
      }
    },
    {
      "cell_type": "code",
      "source": [
        "# Trying out loss_fn\n",
        "loss_fn(y_logits, y)"
      ],
      "metadata": {
        "colab": {
          "base_uri": "https://localhost:8080/"
        },
        "id": "4BvLTh4v_Njv",
        "outputId": "d1e7fb9f-a9e3-42eb-ef7a-94cef364ae8c"
      },
      "execution_count": null,
      "outputs": [
        {
          "output_type": "execute_result",
          "data": {
            "text/plain": [
              "tensor(2.3399, grad_fn=<NllLossBackward0>)"
            ]
          },
          "metadata": {},
          "execution_count": 14
        }
      ]
    },
    {
      "cell_type": "code",
      "source": [
        "# Trying out metric_fn\n",
        "metric_fn(y_logits, y)"
      ],
      "metadata": {
        "colab": {
          "base_uri": "https://localhost:8080/"
        },
        "id": "g27xx78C_pZu",
        "outputId": "2d9f7a27-d136-4cbd-d071-88c9de0a03aa"
      },
      "execution_count": null,
      "outputs": [
        {
          "output_type": "execute_result",
          "data": {
            "text/plain": [
              "{'accuracy': 0.0, 'precision': 0.0, 'recall': 0.0, 'f1': 0.0}"
            ]
          },
          "metadata": {},
          "execution_count": 15
        }
      ]
    },
    {
      "cell_type": "markdown",
      "source": [
        "## Importing SSTLearner for training"
      ],
      "metadata": {
        "id": "wkEmW6Gs6mRO"
      }
    },
    {
      "cell_type": "code",
      "source": [
        "# Installing sstorch package\n",
        "!pip -q install git+https://github.com/ronald-hk-chung/sstorch.git"
      ],
      "metadata": {
        "colab": {
          "base_uri": "https://localhost:8080/"
        },
        "id": "TKKtxNp76qiq",
        "outputId": "0afe1176-8a10-4c0b-92c2-c974224d690f"
      },
      "execution_count": null,
      "outputs": [
        {
          "output_type": "stream",
          "name": "stdout",
          "text": [
            "  Installing build dependencies ... \u001b[?25l\u001b[?25hdone\n",
            "  Getting requirements to build wheel ... \u001b[?25l\u001b[?25hdone\n",
            "  Installing backend dependencies ... \u001b[?25l\u001b[?25hdone\n",
            "  Preparing metadata (pyproject.toml) ... \u001b[?25l\u001b[?25hdone\n",
            "\u001b[2K     \u001b[90m━━━━━━━━━━━━━━━━━━━━━━━━━━━━━━━━━━━━━━━━\u001b[0m \u001b[32m5.5/5.5 MB\u001b[0m \u001b[31m21.6 MB/s\u001b[0m eta \u001b[36m0:00:00\u001b[0m\n",
            "\u001b[2K     \u001b[90m━━━━━━━━━━━━━━━━━━━━━━━━━━━━━━━━━━━━━━━━\u001b[0m \u001b[32m141.1/141.1 kB\u001b[0m \u001b[31m10.7 MB/s\u001b[0m eta \u001b[36m0:00:00\u001b[0m\n",
            "\u001b[?25h  Building wheel for sstorch (pyproject.toml) ... \u001b[?25l\u001b[?25hdone\n"
          ]
        }
      ]
    },
    {
      "cell_type": "markdown",
      "source": [
        "## Training the baseline model_0"
      ],
      "metadata": {
        "id": "2oCUmiUDAN20"
      }
    },
    {
      "cell_type": "code",
      "source": [
        "from sstorch.learner import SSTLearner\n",
        "\n",
        "model_0_learner = SSTLearner(model=model_0,\n",
        "                             loss_fn=loss_fn,\n",
        "                             metric_fn=metric_fn,\n",
        "                             optimizer=torch.optim.SGD(params=model_0.parameters(), lr=0.1),\n",
        "                             train_dataloader=train_dl,\n",
        "                             valid_dataloader=valid_dl)"
      ],
      "metadata": {
        "id": "x4AFQ_z0_uOh"
      },
      "execution_count": null,
      "outputs": []
    },
    {
      "cell_type": "markdown",
      "source": [
        "To check the model info using torchinfo"
      ],
      "metadata": {
        "id": "ItCymkkm7su4"
      }
    },
    {
      "cell_type": "code",
      "source": [
        "model_0_learner.model_info()"
      ],
      "metadata": {
        "colab": {
          "base_uri": "https://localhost:8080/"
        },
        "id": "GH1ze8Q87n3h",
        "outputId": "c042c4a0-f4c9-4bf7-ba51-d49b2ec0f626"
      },
      "execution_count": null,
      "outputs": [
        {
          "output_type": "stream",
          "name": "stdout",
          "text": [
            "========================================================================================================================\n",
            "Layer (type (var_name))                  Input Shape          Output Shape         Param #              Trainable\n",
            "========================================================================================================================\n",
            "Model0 (Model0)                          [32, 1, 28, 28]      [32, 10]             --                   True\n",
            "├─Sequential (linear_layer)              [32, 1, 28, 28]      [32, 10]             --                   True\n",
            "│    └─Flatten (0)                       [32, 1, 28, 28]      [32, 784]            --                   --\n",
            "│    └─Linear (1)                        [32, 784]            [32, 10]             7,850                True\n",
            "│    └─Linear (2)                        [32, 10]             [32, 10]             110                  True\n",
            "========================================================================================================================\n",
            "Total params: 7,960\n",
            "Trainable params: 7,960\n",
            "Non-trainable params: 0\n",
            "Total mult-adds (M): 0.25\n",
            "========================================================================================================================\n",
            "Input size (MB): 0.10\n",
            "Forward/backward pass size (MB): 0.01\n",
            "Params size (MB): 0.03\n",
            "Estimated Total Size (MB): 0.14\n",
            "========================================================================================================================\n"
          ]
        }
      ]
    },
    {
      "cell_type": "code",
      "source": [
        "model_0_learner.train(5)"
      ],
      "metadata": {
        "colab": {
          "base_uri": "https://localhost:8080/",
          "height": 396,
          "referenced_widgets": [
            "0e4740952aef4805ad1cad43b39bc9a7",
            "0e971f367af54e358718c7c10bb18fe7",
            "9da1cf48aef44c4185df45c85e1aa91f",
            "ff38bcbc027d4ce6ad5b35af934ac3de",
            "ac6bd20f400047eeb7bbd73f96b66820",
            "fcbbcb416b724f52984337b893f47dbd",
            "5a66454438b746fb97a890a48906b5af",
            "d32f2d34d22b45d1bd50ef03157bbf0e",
            "c088478848ff421c8c3a77d6b615c308",
            "3036061161b14b1ba39a0a2424313e4f",
            "429a02cf61924d3baecdcd3d6b252381"
          ]
        },
        "id": "g7Qudizo7qZH",
        "outputId": "29b84cc3-ae20-40ba-b7b0-80d54475c997"
      },
      "execution_count": null,
      "outputs": [
        {
          "output_type": "display_data",
          "data": {
            "text/plain": [
              "Epochs:   0%|          | 0/5 [00:00<?, ?it/s]"
            ],
            "application/vnd.jupyter.widget-view+json": {
              "version_major": 2,
              "version_minor": 0,
              "model_id": "0e4740952aef4805ad1cad43b39bc9a7"
            }
          },
          "metadata": {}
        },
        {
          "output_type": "stream",
          "name": "stdout",
          "text": [
            "Epoch: 1 | LR: 1.0E-01 | train_loss: 0.406 | valid_loss: 0.323 \n",
            "train_metric: {'accuracy': 0.885, 'precision': 0.872, 'recall': 0.873, 'f1': 0.856}\n",
            "valid_metric: {'accuracy': 0.908, 'precision': 0.898, 'recall': 0.897, 'f1': 0.883}\n",
            "----------------------------------------------------------------------------------------------------\n",
            "Epoch: 2 | LR: 1.0E-01 | train_loss: 0.309 | valid_loss: 0.285 \n",
            "train_metric: {'accuracy': 0.911, 'precision': 0.902, 'recall': 0.901, 'f1': 0.888}\n",
            "valid_metric: {'accuracy': 0.919, 'precision': 0.911, 'recall': 0.909, 'f1': 0.897}\n",
            "----------------------------------------------------------------------------------------------------\n",
            "Epoch: 3 | LR: 1.0E-01 | train_loss: 0.296 | valid_loss: 0.283 \n",
            "train_metric: {'accuracy': 0.917, 'precision': 0.908, 'recall': 0.907, 'f1': 0.895}\n",
            "valid_metric: {'accuracy': 0.92, 'precision': 0.915, 'recall': 0.912, 'f1': 0.901}\n",
            "----------------------------------------------------------------------------------------------------\n",
            "Epoch: 4 | LR: 1.0E-01 | train_loss: 0.29 | valid_loss: 0.32 \n",
            "train_metric: {'accuracy': 0.918, 'precision': 0.909, 'recall': 0.908, 'f1': 0.896}\n",
            "valid_metric: {'accuracy': 0.906, 'precision': 0.902, 'recall': 0.899, 'f1': 0.885}\n",
            "----------------------------------------------------------------------------------------------------\n",
            "Epoch: 5 | LR: 1.0E-01 | train_loss: 0.285 | valid_loss: 0.284 \n",
            "train_metric: {'accuracy': 0.92, 'precision': 0.912, 'recall': 0.912, 'f1': 0.9}\n",
            "valid_metric: {'accuracy': 0.92, 'precision': 0.913, 'recall': 0.913, 'f1': 0.901}\n",
            "----------------------------------------------------------------------------------------------------\n"
          ]
        }
      ]
    },
    {
      "cell_type": "markdown",
      "source": [
        "Our baseline model works. It is predicting wiht a valid accuracy of ~92% which is not bad for a linear regression model. But to further improve the accuracy, we will need to add non-linearity activation function to make our model deep."
      ],
      "metadata": {
        "id": "6-r_u-4o8ng8"
      }
    },
    {
      "cell_type": "markdown",
      "source": [
        "## Model 1 - Multi-Layer Neural Network with non-linear activation function\n",
        "\n",
        "Note that despite model_0 having 2 linear layers, it is still a shallow model since there is no activation function for non-linearity. IN order ot improve our model, we will add non-linearly activation function in between outputs of the hidden layers.\n",
        "\n"
      ],
      "metadata": {
        "id": "lXulTArV9FXk"
      }
    },
    {
      "cell_type": "markdown",
      "source": [
        "## Chosing an Activation Function\n",
        "\n",
        "**Activation Function** are nonlinear functions that squash or bend straights line. Together wtih added dimensionality in the hidden layers, it enables transformation of feature spaces that allow the model to figure ourt a way of seperating the data.\n",
        "\n",
        "Technically, we can use any function as an activation function in multilayer NNs as long as it is differentiable. Below are some common activation functions available in PyTorch\n",
        "\n",
        "\n",
        "\n"
      ],
      "metadata": {
        "id": "yA65IzPQ-g1e"
      }
    },
    {
      "cell_type": "markdown",
      "source": [
        "To visualize activation functions and its gradient."
      ],
      "metadata": {
        "id": "CNCkPCGwEdqs"
      }
    },
    {
      "cell_type": "code",
      "source": [
        "def plot_activation(func, name=None):\n",
        "    z = torch.linspace(-5, 5, 1000)\n",
        "    z.requires_grad_(True)\n",
        "    func(z).sum().backward()\n",
        "    sig = func(z).detach()\n",
        "\n",
        "    fig, ax = plt.subplots(1, 1, figsize=(8, 5))\n",
        "    title = func.__name__ if name is None else name\n",
        "    ax.set_title(title)\n",
        "    ax.plot(z.detach().numpy(), sig.numpy(), c='k', label='Activation')\n",
        "    ax.plot(z.detach().numpy(), z.grad.numpy(), c='r', label='Gradient')\n",
        "    ax.grid()\n",
        "    ax.legend();"
      ],
      "metadata": {
        "id": "AtWvdFUiEkAo"
      },
      "execution_count": null,
      "outputs": []
    },
    {
      "cell_type": "markdown",
      "source": [
        "### **Sigmoid**\n",
        "\n",
        "Sigmoid is the most traditional of the action functions, derived from log odds probabilities to transform logits into probabilities.\n",
        "\n",
        "$$\n",
        "\\sigma(z)=\\frac{1}{1+e^{-z}}\n",
        "$$\n",
        "\n",
        "The sigmoid activation function \"squashes\" its input values(z) into range(0, 1). Gradient peak value is only 0.25 and its gets close to zero as the absolute value of z reaches a value of 5\n",
        "\n",
        "Note also that Sigmoid activation values are going to be centered around 0.5 instead of 0. It means that, even if we normalize our inputs to feed the first layer, it will not be the case anymore for the other layers."
      ],
      "metadata": {
        "id": "NMQOIAqHBFIp"
      }
    },
    {
      "cell_type": "code",
      "source": [
        "plot_activation(torch.sigmoid)"
      ],
      "metadata": {
        "colab": {
          "base_uri": "https://localhost:8080/",
          "height": 468
        },
        "id": "EvehwWJS79O0",
        "outputId": "b78b4982-f556-40b3-bb81-5fb45156d9af"
      },
      "execution_count": null,
      "outputs": [
        {
          "output_type": "display_data",
          "data": {
            "text/plain": [
              "<Figure size 800x500 with 1 Axes>"
            ],
            "image/png": "[encoded data removed]"
          },
          "metadata": {}
        }
      ]
    },
    {
      "cell_type": "markdown",
      "source": [
        "### **Hyperbolic Tangent (TanH)**\n",
        "\n",
        "The **hyperbolic tangent activation function** was the evolution of the sigmoid which broaden the output spectrum with a zero mean.\n",
        "\n",
        "$$\n",
        "\\sigma(z) = \\frac{e^z-e^{-z}}{e^z + e^{-z}}\n",
        "$$\n",
        "\n",
        "the **TanH acviation function** transforms the input value into the range (-1, 1) and ensure it entered at zero which normalized inputs for hte next layer, making the TanH activation function better than sigmoid\n",
        "\n",
        "Gradient also has much larger peak value of 1.0 at (z=0), but decrease is even faster, approaching zero to absolute values of z as low as 3 which will led to vanishing gradients problem that causes slow training."
      ],
      "metadata": {
        "id": "69OKxPzgHdaP"
      }
    },
    {
      "cell_type": "code",
      "source": [
        "plot_activation(torch.tanh)"
      ],
      "metadata": {
        "colab": {
          "base_uri": "https://localhost:8080/",
          "height": 468
        },
        "id": "x8IeNFfXB_qW",
        "outputId": "7552645d-cabc-47e0-936a-3243467b5ab4"
      },
      "execution_count": null,
      "outputs": [
        {
          "output_type": "display_data",
          "data": {
            "text/plain": [
              "<Figure size 800x500 with 1 Axes>"
            ],
            "image/png": "[encoded data removed]"
          },
          "metadata": {}
        }
      ]
    },
    {
      "cell_type": "markdown",
      "source": [
        "### **Rectified Linear Unit (ReLU)**\n",
        "\n",
        "**ReLU** activation function address the vanishing gradient issue by using an avtivation that bends.\n",
        "\n",
        "$$\n",
        "z = \\begin{cases}\n",
        "z &\\text{if } z\\geq0 \\\\\n",
        "0 &\\text{if } z<0\n",
        "\\end{cases}\n",
        "$$\n",
        "\n",
        "<p align='center'>or</p>\n",
        "\n",
        "$$\n",
        "\\sigma(z)=\\max(0, z)\n",
        "$$\n",
        "\n",
        "**ReLU** simply preserves positive values and turns all negative values into zero. The upside of using a **ReLU** is that its gradient is either one (for positive value) or zero (for negative values) with no more vanishing gradients which leads to a faster convergence of the network. The downside is that it can lead to **dead neuron** whose input are consistently negative and have activation value of zero.\n",
        "\n",
        "For deeper and more complex models, **ReLU** can lead to **internal covariate shift** - different distributions of activation values in different layers which can be address by using normalization layers such as `nn.BatchNorm`\n",
        "\n"
      ],
      "metadata": {
        "id": "c_QmBiohI3Fp"
      }
    },
    {
      "cell_type": "code",
      "source": [
        "plot_activation(torch.relu)"
      ],
      "metadata": {
        "colab": {
          "base_uri": "https://localhost:8080/",
          "height": 468
        },
        "id": "Z7dd8k9lIt7-",
        "outputId": "9abfb254-f11b-4948-e668-37c9c67dfeb1"
      },
      "execution_count": null,
      "outputs": [
        {
          "output_type": "display_data",
          "data": {
            "text/plain": [
              "<Figure size 800x500 with 1 Axes>"
            ],
            "image/png": "[encoded data removed]"
          },
          "metadata": {}
        }
      ]
    },
    {
      "cell_type": "markdown",
      "source": [
        "### **Leaky ReLU**\n",
        "\n",
        "**Leaky ReLU** retusn a tiny activation value and yields a tiny gradient to try overcoming the **dead neuron** problem by giving them a chance to get unstuck. It keeps all the nice properties of the **ReLU** - large gradients and faster convergence\n",
        "\n",
        "$$\n",
        "z = \\begin{cases}\n",
        "z &\\text{if } z\\geq0 \\\\\n",
        "0.01z &\\text{if } z<0\n",
        "\\end{cases}\n",
        "$$\n",
        "\n",
        "<p align='center'>or</p>\n",
        "\n",
        "$$\n",
        "\\sigma(z)=\\max(0, z) + 0.01 \\min(0,z)\n",
        "$$"
      ],
      "metadata": {
        "id": "qqey5vn6NYkf"
      }
    },
    {
      "cell_type": "code",
      "source": [
        "plot_activation(nn.functional.leaky_relu)"
      ],
      "metadata": {
        "colab": {
          "base_uri": "https://localhost:8080/",
          "height": 468
        },
        "id": "gQ0SEzrbMokP",
        "outputId": "237498b0-2305-486a-d05d-09bfd48a9939"
      },
      "execution_count": null,
      "outputs": [
        {
          "output_type": "display_data",
          "data": {
            "text/plain": [
              "<Figure size 800x500 with 1 Axes>"
            ],
            "image/png": "[encoded data removed]"
          },
          "metadata": {}
        }
      ]
    },
    {
      "cell_type": "markdown",
      "source": [
        "### **Parametric ReLU (PReLU)**\n",
        "\n",
        "**PReLU** is a natural evolution which parameterise (a) the coefficient of leakage."
      ],
      "metadata": {
        "id": "VYEpQ4EQObgK"
      }
    },
    {
      "cell_type": "code",
      "source": [
        "plot_activation(nn.PReLU(), 'PReLU')"
      ],
      "metadata": {
        "colab": {
          "base_uri": "https://localhost:8080/",
          "height": 468
        },
        "id": "za2LwSRuOLtC",
        "outputId": "5348b436-91ef-448a-84b7-bb9b8c3d0322"
      },
      "execution_count": null,
      "outputs": [
        {
          "output_type": "display_data",
          "data": {
            "text/plain": [
              "<Figure size 800x500 with 1 Axes>"
            ],
            "image/png": "[encoded data removed]"
          },
          "metadata": {}
        }
      ]
    },
    {
      "cell_type": "markdown",
      "source": [
        "## Building model_1"
      ],
      "metadata": {
        "id": "DP5VOLuTQKmk"
      }
    },
    {
      "cell_type": "code",
      "source": [
        "class Model1(nn.Module):\n",
        "    def __init__(self, in_features, hidden_units, out_features):\n",
        "        super().__init__()\n",
        "        self.linear_layer = nn.Sequential(\n",
        "            nn.Flatten(),\n",
        "            nn.Linear(in_features=in_features,\n",
        "                      out_features=hidden_units),\n",
        "            nn.ReLU(),\n",
        "            nn.Linear(in_features=hidden_units,\n",
        "                      out_features=out_features),\n",
        "            nn.ReLU()\n",
        "        )\n",
        "    def forward(self, X):\n",
        "        return self.linear_layer(X)"
      ],
      "metadata": {
        "id": "e0r2tKjuPF5_"
      },
      "execution_count": null,
      "outputs": []
    },
    {
      "cell_type": "code",
      "source": [
        "model_1 = Model1(in_features=784, hidden_units=10, out_features=10)"
      ],
      "metadata": {
        "id": "f9VgFT7XQ3CB"
      },
      "execution_count": null,
      "outputs": []
    },
    {
      "cell_type": "code",
      "source": [
        "model_1_learner = SSTLearner(model=model_1,\n",
        "                             loss_fn=loss_fn,\n",
        "                             metric_fn=metric_fn,\n",
        "                             optimizer=torch.optim.SGD(params=model_1.parameters(), lr=0.1),\n",
        "                             train_dataloader=train_dl,\n",
        "                             valid_dataloader=valid_dl)"
      ],
      "metadata": {
        "id": "kSirci_1QlsC"
      },
      "execution_count": null,
      "outputs": []
    },
    {
      "cell_type": "code",
      "source": [
        "model_1_learner.model_info()"
      ],
      "metadata": {
        "colab": {
          "base_uri": "https://localhost:8080/"
        },
        "id": "6NQmHNVNQvUk",
        "outputId": "ca4d16f2-826d-459b-a33a-2fea5f6238ae"
      },
      "execution_count": null,
      "outputs": [
        {
          "output_type": "stream",
          "name": "stdout",
          "text": [
            "========================================================================================================================\n",
            "Layer (type (var_name))                  Input Shape          Output Shape         Param #              Trainable\n",
            "========================================================================================================================\n",
            "Model1 (Model1)                          [32, 1, 28, 28]      [32, 10]             --                   True\n",
            "├─Sequential (linear_layer)              [32, 1, 28, 28]      [32, 10]             --                   True\n",
            "│    └─Flatten (0)                       [32, 1, 28, 28]      [32, 784]            --                   --\n",
            "│    └─Linear (1)                        [32, 784]            [32, 10]             7,850                True\n",
            "│    └─ReLU (2)                          [32, 10]             [32, 10]             --                   --\n",
            "│    └─Linear (3)                        [32, 10]             [32, 10]             110                  True\n",
            "│    └─ReLU (4)                          [32, 10]             [32, 10]             --                   --\n",
            "========================================================================================================================\n",
            "Total params: 7,960\n",
            "Trainable params: 7,960\n",
            "Non-trainable params: 0\n",
            "Total mult-adds (M): 0.25\n",
            "========================================================================================================================\n",
            "Input size (MB): 0.10\n",
            "Forward/backward pass size (MB): 0.01\n",
            "Params size (MB): 0.03\n",
            "Estimated Total Size (MB): 0.14\n",
            "========================================================================================================================\n"
          ]
        }
      ]
    },
    {
      "cell_type": "code",
      "source": [
        "model_1_learner.train(5)"
      ],
      "metadata": {
        "colab": {
          "base_uri": "https://localhost:8080/",
          "height": 396,
          "referenced_widgets": [
            "058b8a18e8e843c88059ea7563df59d6",
            "dfe625daa10e474e8249c386df97c9cc",
            "d1c1e3754e4f4d8e99110ab9e52f8906",
            "e74e4f73c0a04875a075ddb4a742b227",
            "37d3988f65884cc6b003c91bae444f51",
            "614fa0ab405140e2868fb1e75e987240",
            "33c107cbccd240b3a0583379554e97f1",
            "6ef73106e119467facd1af87d5b13d65",
            "06c54dffe3cc4b4cbe21a8e87b24b053",
            "3006062ec8e14948985c3fc75901abcb",
            "b2ccf08040d64cbaa04ee8b4ce942b81"
          ]
        },
        "id": "i9glFnRVQ7f7",
        "outputId": "d3497da6-fbd4-49ea-bbcc-be56a798a32e"
      },
      "execution_count": null,
      "outputs": [
        {
          "output_type": "display_data",
          "data": {
            "text/plain": [
              "Epochs:   0%|          | 0/5 [00:00<?, ?it/s]"
            ],
            "application/vnd.jupyter.widget-view+json": {
              "version_major": 2,
              "version_minor": 0,
              "model_id": "058b8a18e8e843c88059ea7563df59d6"
            }
          },
          "metadata": {}
        },
        {
          "output_type": "stream",
          "name": "stdout",
          "text": [
            "Epoch: 1 | LR: 1.0E-01 | train_loss: 1.207 | valid_loss: 1.128 \n",
            "train_metric: {'accuracy': 0.548, 'precision': 0.402, 'recall': 0.543, 'f1': 0.435}\n",
            "valid_metric: {'accuracy': 0.557, 'precision': 0.437, 'recall': 0.554, 'f1': 0.46}\n",
            "----------------------------------------------------------------------------------------------------\n",
            "Epoch: 2 | LR: 1.0E-01 | train_loss: 0.918 | valid_loss: 0.747 \n",
            "train_metric: {'accuracy': 0.661, 'precision': 0.546, 'recall': 0.655, 'f1': 0.571}\n",
            "valid_metric: {'accuracy': 0.727, 'precision': 0.635, 'recall': 0.725, 'f1': 0.653}\n",
            "----------------------------------------------------------------------------------------------------\n",
            "Epoch: 3 | LR: 1.0E-01 | train_loss: 0.737 | valid_loss: 0.748 \n",
            "train_metric: {'accuracy': 0.729, 'precision': 0.633, 'recall': 0.727, 'f1': 0.654}\n",
            "valid_metric: {'accuracy': 0.72, 'precision': 0.635, 'recall': 0.723, 'f1': 0.649}\n",
            "----------------------------------------------------------------------------------------------------\n",
            "Epoch: 4 | LR: 1.0E-01 | train_loss: 0.713 | valid_loss: 0.715 \n",
            "train_metric: {'accuracy': 0.733, 'precision': 0.643, 'recall': 0.73, 'f1': 0.66}\n",
            "valid_metric: {'accuracy': 0.733, 'precision': 0.64, 'recall': 0.733, 'f1': 0.66}\n",
            "----------------------------------------------------------------------------------------------------\n",
            "Epoch: 5 | LR: 1.0E-01 | train_loss: 0.699 | valid_loss: 0.69 \n",
            "train_metric: {'accuracy': 0.737, 'precision': 0.648, 'recall': 0.735, 'f1': 0.665}\n",
            "valid_metric: {'accuracy': 0.74, 'precision': 0.656, 'recall': 0.74, 'f1': 0.673}\n",
            "----------------------------------------------------------------------------------------------------\n"
          ]
        }
      ]
    },
    {
      "cell_type": "markdown",
      "source": [
        "It is interesting to see adding non-linearities to model made it perform worse than the baseline. It is because model is overfitting on the training data."
      ],
      "metadata": {
        "id": "aRN4s0LNRf2P"
      }
    },
    {
      "cell_type": "markdown",
      "source": [
        "## Convolutional Neural Network - The winning solution for MNIST Dataset\n",
        "\n",
        "Note that our Multinomial logistic regression in the simple attempts score ~92% which is inline with the results in Kaggle leaderboard scores\n",
        "\n",
        "<img src=\"https://github.com/ronald-hk-chung/ssnotebook/blob/main/computer-vision/assets/KaggleMNIST.png?raw=true\">\n",
        "\n",
        "The top 98%+ accuracy all requires a simple **Convolutional Neural Network**\n",
        "\n",
        "\n"
      ],
      "metadata": {
        "id": "yYFH4VmxSKa_"
      }
    },
    {
      "cell_type": "markdown",
      "source": [
        "## Brief Explanation for **Convsolutional Neural Network (CNN)**\n",
        "\n",
        "Full Reference: https://poloclub.github.io/cnn-explainer/\n",
        "\n",
        "### **Typical Architecture of Convolutional blocks**\n",
        "\n",
        "A typical architecture uses a sequence of one or more typical convolutional blocks, with each block consiting of 3 options:\n",
        "\n",
        "1. Convolutional Layers\n",
        "2. Activation function\n",
        "3. Pooling\n",
        "\n",
        "### **Convolutional Layers - Convolving**\n",
        "\n",
        "A convolution is a mathematical operation on two functions $f$ and $g$ that produces a third function $f*g$ expressing how the shape of one is modified by the other. In image processing, a **convolutiona matrix** is also called a **kernel**. Typical image processing operations - like blurring, sharpening, edge detection and more are accomplished by performing a convolution between a kernal and an image. Convolutional layers contain the learned kernels (filters with weights) act as **feature extractors** that distinguih different images from one another.\n",
        "\n",
        "The convolutional neuron performs an elementwise dot product with a unique kernel and the output of the previous layer's corresponding neuron.\n",
        "\n",
        "Reference: https://arxiv.org/abs/1603.07285\n",
        "\n",
        "Below shows the mathematical operations behind **Convolving**:\n",
        "\n",
        "For a discrete filter:\n",
        "\n",
        "<img src=\"https://github.com/ronald-hk-chung/ssnotebook/blob/main/computer-vision/assets/conv_filter.png?raw=true\">\n",
        "\n",
        "We can then move around the filter for a single channel image\n",
        "\n",
        "<img src=\"https://github.com/ronald-hk-chung/ssnotebook/blob/main/computer-vision/assets/conv_no_padding_no_strides.gif?raw=true\">\n",
        "\n",
        "<br/>\n",
        "\n",
        "<img src=\"https://github.com/ronald-hk-chung/ssnotebook/blob/main/computer-vision/assets/conv_operation.PNG?raw=true\">\n",
        "\n",
        "\n",
        "Note that applying a kernal(filter) will always produce a single value, the reduction is qual to the filter size - 1, that is\n",
        "\n",
        "$$\n",
        "(h_r, w_r) = (h_i - (h_f-1), w_i - (w_f-1))\n",
        "$$\n",
        "\n",
        "For above example\n",
        "$$\n",
        "(h_r, w_r) = (5-(3-1), 5-(3-1))=(3, 3)\n",
        "$$\n",
        "\n",
        "This will yield as many intermediate results as they are unique kernels. The convolutional neuron is the result of all of the intermediate results summed together with the learned bias.\n",
        "\n",
        "\n",
        "Convolutions in PyTorch comes in 2 flavors:\n",
        "\n",
        "1. The **functional** convolution takes the **kernel** as an argument\n",
        "2. The **module** has learnable weights to represent the **kernel**\n"
      ],
      "metadata": {
        "id": "GqvREXZJwGbu"
      }
    },
    {
      "cell_type": "code",
      "source": [
        "import torch\n",
        "import torch.nn.functional as F\n",
        "\n",
        "image = torch.tensor([[[[3,3,2,1,0],\n",
        "                      [0,0,1,3,1],\n",
        "                      [3,1,2,2,3],\n",
        "                      [2,0,0,2,2],\n",
        "                      [2,0,0,0,1]]]])\n",
        "print(f'image size: {image.shape}')\n",
        "\n",
        "kernel = torch.tensor([[[[0, 1, 2],\n",
        "                       [2, 2, 0],\n",
        "                       [0, 1, 2]]]])\n",
        "print(f'kernel size: {kernel.shape}')\n",
        "\n",
        "convolved = F.conv2d(image, kernel, stride=1)\n",
        "print(f'convolved size: {convolved.shape}')\n",
        "print(convolved)"
      ],
      "metadata": {
        "colab": {
          "base_uri": "https://localhost:8080/"
        },
        "id": "5MkP_Bjg7zzf",
        "outputId": "00dd8ccd-5448-45d4-9574-6aff98f65996"
      },
      "execution_count": null,
      "outputs": [
        {
          "output_type": "stream",
          "name": "stdout",
          "text": [
            "image size: torch.Size([1, 1, 5, 5])\n",
            "kernel size: torch.Size([1, 1, 3, 3])\n",
            "convolved size: torch.Size([1, 1, 3, 3])\n",
            "tensor([[[[12, 12, 17],\n",
            "          [10, 17, 19],\n",
            "          [ 9,  6, 14]]]])\n"
          ]
        }
      ]
    },
    {
      "cell_type": "markdown",
      "source": [
        "### **Convolutional Layers - Hyperparameters**\n",
        "\n",
        "PyTorch convolutional module `nn.Conv2d` has below arguments:\n",
        "\n",
        "* `in_channels` (int) - Number of channels in the input image\n",
        "* `out_channels` (int) - Number of channels produced by the convolution\n",
        "* `kernel_size` (int or tuple) - Size of the convolving kernel\n",
        "* `stride` (int or tuple, optional) - Stride of the convolution, Default 1\n",
        "* `padding` (int, tuple or str, optional) - Padding added to all four sides of the input. Default 0\n",
        "* `padding_mode` (str, optional) - 'zeros', 'reflect', 'replicate' or 'circular'. Default: 'zero'\n",
        "* `dilation` (int or tuple, optional) - Spacing between kernel elements. Default 1\n",
        "* `groups` (int, optional) - Number of blocked connections from input channels to output channels. Default 1\n",
        "* `bias` (bool, optional) - If True, adds a learnable bias to the output. Default True\n",
        "\n",
        "<br/>\n",
        "\n",
        "1. **Padding** is often necessary when the kernel extends beyond the activation map. Padding conserves data at the borders of activation maps, which leads to better performance, and it can help preserve the input's spatial size, which allows an architecture designer to build deeper, higher performing networks. There exist many padding techniques, but the most commonly used approach is zero-padding because of its performance, simplicity, and computational efficiency. The technique involves adding zeros symmetrically around the edges of an input. This approach is adopted by many high-performing CNNs such as AlexNet.\n",
        "\n",
        "2. **Kernel size**, often also referred to as filter size, refers to the dimensions of the sliding window over the input. Choosing this hyperparameter has a massive impact on the image classification task. For example, small kernel sizes are able to extract a much larger amount of information containing highly local features from the input. As you can see on the visualization below, a smaller kernel size also leads to a smaller reduction in layer dimensions, which allows for a deeper architecture. Conversely, a large kernel size extracts less information, which leads to a faster reduction in layer dimensions, often leading to worse performance. Large kernels are better suited to extract features that are larger. At the end of the day, choosing an appropriate kernel size will be dependent on your task and dataset, but generally, smaller kernel sizes lead to better performance for the image classification task because an architecture designer is able to stack more and more layers together to learn more and more complex features!\n",
        "\n",
        "3. **Stride** indicates how many pixels the kernel should be shifted over at a time. For example, as described in the convolutional layer example above, Tiny VGG uses a stride of 1 for its convolutional layers, which means that the dot product is performed on a 3x3 window of the input to yield an output value, then is shifted to the right by one pixel for every subsequent operation. The impact stride has on a CNN is similar to kernel size. As stride is decreased, more features are learned because more data is extracted, which also leads to larger output layers. On the contrary, as stride is increased, this leads to more limited feature extraction and smaller output layer dimensions. One responsibility of the architecture designer is to ensure that the kernel slides across the input symmetrically when implementing a CNN. Use the hyperparameter visualization above to alter stride on various input/kernel dimensions to understand this constraint!\n"
      ],
      "metadata": {
        "id": "2tElh0Hg7yRW"
      }
    },
    {
      "cell_type": "markdown",
      "source": [
        "### **Convolutional Layers - Shape**\n",
        "\n",
        "The output size of a convolution is determined by the total number of times that we shift the filter, $w$, along th input vector. Let's assume that the input vector is of size $n$ and the kernel is of size $m%=$,. Then the size of the output $o$ resulting from $y=x*w$, with padding $p$ and stride $s$, woudl be determined as follows:\n",
        "\n",
        "$$\n",
        "o = \\lfloor \\frac{n+2p-m}{s} \\rfloor + 1\n",
        "$$\n",
        "\n",
        "where $\\lfloor … \\rfloor$ denotes the floor operation\n"
      ],
      "metadata": {
        "id": "rYRJAT_4CmMe"
      }
    },
    {
      "cell_type": "markdown",
      "source": [
        "### **Activation Layer**\n",
        "\n",
        "Part of the reason CNNs manage to have groundbreaking accuracies is because of their non-linearity. ReLU applies much-needed non-linearity into the model. Non-linearity is necessary to produce non-linear decision boundaries, so that the output cannot be written as a linear combination of the inputs. If a non-linear activation function was not present, deep CNN architectures would devolve into a single, equivalent convolutional layer, which would not perform nearly as well. The ReLU activation function is specifically used as a non-linear activation function, as opposed to other non-linear functions such as Sigmoid because it has been empirically observed that CNNs using ReLU are faster to train than their counterparts.\n",
        "\n",
        "This activation function is applied elementwise on every value from the input tensor. The Rectified Linear Activation function (ReLU) is performed after every convolutional layer in the network architecture outlined below."
      ],
      "metadata": {
        "id": "xuUxnzTrLZ-x"
      }
    },
    {
      "cell_type": "markdown",
      "source": [
        "### **Pooling Layers**\n",
        "\n",
        "Pooling Layers\n",
        "There are many types of pooling layers in different CNN architectures, but they all have the purpose of gradually decreasing the spatial extent of the network, which reduces the parameters and overall computation of the network. The type of pooling used in the Tiny VGG architecture above is Max-Pooling.\n",
        "\n",
        "The Max-Pooling operation requires selecting a kernel size and a stride length during architecture design. Once selected, the operation slides the kernel with the specified stride over the input while only selecting the largest value at each kernel slice from the input to yield a value for the output. This process can be viewed by clicking a pooling neuron in the network above.\n",
        "\n",
        "Belows shows an operation for max pooling:\n",
        "\n",
        "<img src=\"https://github.com/ronald-hk-chung/ssnotebook/blob/main/computer-vision/assets/max_pooling.png?raw=true\">"
      ],
      "metadata": {
        "id": "9sCbqjXTMkbw"
      }
    },
    {
      "cell_type": "code",
      "source": [
        "image = torch.tensor([[[[3,3,2,1,0],\n",
        "                      [0,0,1,3,1],\n",
        "                      [3,1,2,2,3],\n",
        "                      [2,0,0,2,2],\n",
        "                      [2,0,0,0,1]]]])\n",
        "\n",
        "maxpool = nn.MaxPool2d(kernel_size=3, stride=1)\n",
        "\n",
        "maxpool_image = maxpool(image)\n",
        "print(maxpool_image)"
      ],
      "metadata": {
        "colab": {
          "base_uri": "https://localhost:8080/"
        },
        "id": "cY76jw-IOx31",
        "outputId": "c27a2d82-ed4f-41bf-8b0f-76755f36a922"
      },
      "execution_count": null,
      "outputs": [
        {
          "output_type": "stream",
          "name": "stdout",
          "text": [
            "tensor([[[[3, 3, 3],\n",
            "          [3, 3, 3],\n",
            "          [3, 2, 3]]]])\n"
          ]
        }
      ]
    },
    {
      "cell_type": "markdown",
      "source": [
        "\n",
        "In the Tiny VGG architecture above, the pooling layers use a 2x2 kernel and a stride of 2. This operation with these specifications results in the discarding of 75% of activations. By discarding so many values, Tiny VGG is more computationally efficient and avoids overfitting."
      ],
      "metadata": {
        "id": "kYMOjXCQNy2d"
      }
    },
    {
      "cell_type": "markdown",
      "source": [
        "### Putting it all together\n",
        "\n",
        "We will use `nn.Sequential` to construct convolution block that contains\n",
        "\n",
        "1. Convolution Layer `nn.Conv2d`\n",
        "2. Activation Function `nn.ReLU`\n",
        "3. Pooling Layer `nn.MaxPool2d`\n",
        "\n",
        "As images go through these operations, they will shrink in size. After 2 of these blocks (assuming kernel size of 2 for pooling), for instance, an image will be reduced by 1/8 or less of its original dimensions. The number of channels/filters produced by each block usually increases as more blocks are added.\n",
        "\n",
        "After the sequence of blocks, the image gets flattened. And hopefully, at this stage there is no loss of information occuring by considering each value in the flattened tensor a feature on its own. As the features dissociated from pixels, it becomes a standard classification problem with a classifier layer outputting logits for classification.\n",
        "\n"
      ],
      "metadata": {
        "id": "0nOaC_ibTOVk"
      }
    },
    {
      "cell_type": "markdown",
      "source": [
        "## Building TinyVGG model to solve MNIST\n",
        "\n",
        "Reference: https://cs231n.stanford.edu/\n",
        "\n",
        "<img src=\"https://github.com/ronald-hk-chung/ssnotebook/blob/main/computer-vision/assets/tinyvgg.png?raw=true\">"
      ],
      "metadata": {
        "id": "rlWtG-SuHJ1P"
      }
    },
    {
      "cell_type": "code",
      "source": [
        "from collections import OrderedDict\n",
        "\n",
        "class TinyVGG(nn.Module):\n",
        "    def __init__(self, in_channels, hidden_units, out_channels):\n",
        "        super().__init__()\n",
        "        self.conv_block_1 = nn.Sequential(OrderedDict([\n",
        "            ('conv1', nn.Conv2d(in_channels=in_channels,\n",
        "                                out_channels=hidden_units,\n",
        "                                kernel_size=3,\n",
        "                                stride=1,\n",
        "                                padding=1)),\n",
        "            ('relu1', nn.ReLU()),\n",
        "            ('conv2', nn.Conv2d(in_channels=hidden_units,\n",
        "                                out_channels=hidden_units,\n",
        "                                kernel_size=3,\n",
        "                                stride=1,\n",
        "                                padding=1)),\n",
        "            ('relu2', nn.ReLU()),\n",
        "            ('maxpool', nn.MaxPool2d(kernel_size=2))\n",
        "        ]))\n",
        "        self.conv_block_2 = nn.Sequential(OrderedDict([\n",
        "            ('conv1', nn.Conv2d(in_channels=hidden_units,\n",
        "                                out_channels=hidden_units,\n",
        "                                kernel_size=3,\n",
        "                                stride=1,\n",
        "                                padding=1)),\n",
        "            ('relu1', nn.ReLU()),\n",
        "            ('conv2', nn.Conv2d(in_channels=hidden_units,\n",
        "                                out_channels=hidden_units,\n",
        "                                kernel_size=3,\n",
        "                                stride=1,\n",
        "                                padding=1)),\n",
        "            ('relu2', nn.ReLU()),\n",
        "            ('maxpool', nn.MaxPool2d(kernel_size=2))\n",
        "        ]))\n",
        "        self.classifier = nn.Sequential(OrderedDict([\n",
        "            ('flattener', nn.Flatten()),\n",
        "            ('linear', nn.LazyLinear(out_features=out_channels))\n",
        "        ]))\n",
        "\n",
        "    def forward(self, x):\n",
        "        x = self.conv_block_1(x)\n",
        "        x = self.conv_block_2(x)\n",
        "        x = self.classifier(x)\n",
        "        return x"
      ],
      "metadata": {
        "id": "vxb7KS3JQ93f"
      },
      "execution_count": null,
      "outputs": []
    },
    {
      "cell_type": "code",
      "source": [
        "model_2 = TinyVGG(in_channels=1,\n",
        "                  hidden_units=10,\n",
        "                  out_channels=10)"
      ],
      "metadata": {
        "id": "Zk9o3Z6NI0C2"
      },
      "execution_count": null,
      "outputs": []
    },
    {
      "cell_type": "markdown",
      "source": [
        "Note that we will either need to calculate the output of the flattened tensor by going through the Conv2d block or using a `nn.LazyLinear` to pass through the network to infer the in_features\n",
        "\n",
        "To calculate the size of `conv_block`\n",
        "\n",
        "$$\n",
        "o=(\\lfloor\\frac{n +2p-k_c}{s}\\rfloor+1) / k_p\n",
        "$$\n"
      ],
      "metadata": {
        "id": "ndCjLf8cVbGX"
      }
    },
    {
      "cell_type": "code",
      "source": [
        "from math import floor\n",
        "\n",
        "n = 28  # input size\n",
        "k_c = 3   # kernel size\n",
        "p = 1   # padding\n",
        "k_p = 2 # maxpool layer kernel size\n",
        "s = 1   # stride\n",
        "hidden_units = 10\n",
        "\n",
        "o_1 = (floor((n + 2*p - k_c)/s) + s) / k_p\n",
        "print(f'conv_block_1 output: {o_1}')\n",
        "o_2 = (floor((o_1 + 2*p - k_c)/s) + s) / k_p\n",
        "print(f'conv_block_2 output: {o_2}')\n",
        "f = hidden_units * o_2 * o_2\n",
        "print(f'flattened length: {f}')"
      ],
      "metadata": {
        "colab": {
          "base_uri": "https://localhost:8080/"
        },
        "id": "psx6EomLV526",
        "outputId": "29bfe5df-93a2-4f88-bca4-5542f6d17db3"
      },
      "execution_count": null,
      "outputs": [
        {
          "output_type": "stream",
          "name": "stdout",
          "text": [
            "conv_block_1 output: 14.0\n",
            "conv_block_2 output: 7.0\n",
            "flattened length: 490.0\n"
          ]
        }
      ]
    },
    {
      "cell_type": "markdown",
      "source": [
        "Set up SSTLearner for model_2"
      ],
      "metadata": {
        "id": "DdUzIfn3fI7v"
      }
    },
    {
      "cell_type": "code",
      "source": [
        "model_2_learner = SSTLearner(model=model_2,\n",
        "                             loss_fn=loss_fn,\n",
        "                             metric_fn=metric_fn,\n",
        "                             optimizer=torch.optim.SGD(params=model_2.parameters(), lr=0.1),\n",
        "                             train_dataloader=train_dl,\n",
        "                             valid_dataloader=valid_dl)"
      ],
      "metadata": {
        "id": "F2eeC-E0J7D-"
      },
      "execution_count": null,
      "outputs": []
    },
    {
      "cell_type": "code",
      "source": [
        "model_2_learner.model_info()"
      ],
      "metadata": {
        "colab": {
          "base_uri": "https://localhost:8080/"
        },
        "id": "CcSRNbdkKVsG",
        "outputId": "c83ee446-f214-4e9a-f09f-e9a724d4c610"
      },
      "execution_count": null,
      "outputs": [
        {
          "output_type": "stream",
          "name": "stdout",
          "text": [
            "========================================================================================================================\n",
            "Layer (type (var_name))                  Input Shape          Output Shape         Param #              Trainable\n",
            "========================================================================================================================\n",
            "TinyVGG (TinyVGG)                        [32, 1, 28, 28]      [32, 10]             --                   True\n",
            "├─Sequential (conv_block_1)              [32, 1, 28, 28]      [32, 10, 14, 14]     --                   True\n",
            "│    └─Conv2d (conv1)                    [32, 1, 28, 28]      [32, 10, 28, 28]     100                  True\n",
            "│    └─ReLU (relu1)                      [32, 10, 28, 28]     [32, 10, 28, 28]     --                   --\n",
            "│    └─Conv2d (conv2)                    [32, 10, 28, 28]     [32, 10, 28, 28]     910                  True\n",
            "│    └─ReLU (relu2)                      [32, 10, 28, 28]     [32, 10, 28, 28]     --                   --\n",
            "│    └─MaxPool2d (maxpool)               [32, 10, 28, 28]     [32, 10, 14, 14]     --                   --\n",
            "├─Sequential (conv_block_2)              [32, 10, 14, 14]     [32, 10, 7, 7]       --                   True\n",
            "│    └─Conv2d (conv1)                    [32, 10, 14, 14]     [32, 10, 14, 14]     910                  True\n",
            "│    └─ReLU (relu1)                      [32, 10, 14, 14]     [32, 10, 14, 14]     --                   --\n",
            "│    └─Conv2d (conv2)                    [32, 10, 14, 14]     [32, 10, 14, 14]     910                  True\n",
            "│    └─ReLU (relu2)                      [32, 10, 14, 14]     [32, 10, 14, 14]     --                   --\n",
            "│    └─MaxPool2d (maxpool)               [32, 10, 14, 14]     [32, 10, 7, 7]       --                   --\n",
            "├─Sequential (classifier)                [32, 10, 7, 7]       [32, 10]             --                   True\n",
            "│    └─Flatten (flattener)               [32, 10, 7, 7]       [32, 490]            --                   --\n",
            "│    └─Linear (linear)                   [32, 490]            [32, 10]             4,910                True\n",
            "========================================================================================================================\n",
            "Total params: 7,740\n",
            "Trainable params: 7,740\n",
            "Non-trainable params: 0\n",
            "Total mult-adds (M): 36.91\n",
            "========================================================================================================================\n",
            "Input size (MB): 0.10\n",
            "Forward/backward pass size (MB): 5.02\n",
            "Params size (MB): 0.03\n",
            "Estimated Total Size (MB): 5.15\n",
            "========================================================================================================================\n"
          ]
        }
      ]
    },
    {
      "cell_type": "code",
      "source": [
        "model_2_learner.train(5)"
      ],
      "metadata": {
        "colab": {
          "base_uri": "https://localhost:8080/",
          "height": 396,
          "referenced_widgets": [
            "10c28b006d94457e816d939c5c5a363b",
            "c9e3ae2251264285a273c78dec4ea926",
            "b94f9f3da6a24bde8862e372c766e9de",
            "a68af383489c4d99b4788c716b309a84",
            "075ce66bf5604411baa2aea36ac64e79",
            "1dbb311b0bac473bb9831fb3d99d0904",
            "1dbfc7ae1b5b4ceaaf59149f2a70eac0",
            "2062fd03d89d475394229ebc45d482cd",
            "787071500bd94509b01f2b81bb67e5c6",
            "912d8d6bff334e29a3e94d1f3b9a9ab9",
            "13b5456ffaa04e0892563fe252330e74"
          ]
        },
        "id": "dYQyACehKXj9",
        "outputId": "ffc5b9ad-b1d2-4971-871e-4bdf3e79f5cf"
      },
      "execution_count": null,
      "outputs": [
        {
          "output_type": "display_data",
          "data": {
            "text/plain": [
              "Epochs:   0%|          | 0/5 [00:00<?, ?it/s]"
            ],
            "application/vnd.jupyter.widget-view+json": {
              "version_major": 2,
              "version_minor": 0,
              "model_id": "10c28b006d94457e816d939c5c5a363b"
            }
          },
          "metadata": {}
        },
        {
          "output_type": "stream",
          "name": "stdout",
          "text": [
            "Epoch: 6 | LR: 1.0E-01 | train_loss: 0.042 | valid_loss: 0.041 \n",
            "train_metric: {'accuracy': 0.987, 'precision': 0.985, 'recall': 0.985, 'f1': 0.983}\n",
            "valid_metric: {'accuracy': 0.986, 'precision': 0.985, 'recall': 0.985, 'f1': 0.982}\n",
            "----------------------------------------------------------------------------------------------------\n",
            "Epoch: 7 | LR: 1.0E-01 | train_loss: 0.037 | valid_loss: 0.042 \n",
            "train_metric: {'accuracy': 0.988, 'precision': 0.986, 'recall': 0.986, 'f1': 0.984}\n",
            "valid_metric: {'accuracy': 0.987, 'precision': 0.985, 'recall': 0.984, 'f1': 0.982}\n",
            "----------------------------------------------------------------------------------------------------\n",
            "Epoch: 8 | LR: 1.0E-01 | train_loss: 0.035 | valid_loss: 0.035 \n",
            "train_metric: {'accuracy': 0.989, 'precision': 0.987, 'recall': 0.987, 'f1': 0.985}\n",
            "valid_metric: {'accuracy': 0.989, 'precision': 0.988, 'recall': 0.987, 'f1': 0.986}\n",
            "----------------------------------------------------------------------------------------------------\n",
            "Epoch: 9 | LR: 1.0E-01 | train_loss: 0.032 | valid_loss: 0.043 \n",
            "train_metric: {'accuracy': 0.99, 'precision': 0.989, 'recall': 0.989, 'f1': 0.987}\n",
            "valid_metric: {'accuracy': 0.987, 'precision': 0.985, 'recall': 0.985, 'f1': 0.982}\n",
            "----------------------------------------------------------------------------------------------------\n",
            "Epoch: 10 | LR: 1.0E-01 | train_loss: 0.03 | valid_loss: 0.034 \n",
            "train_metric: {'accuracy': 0.99, 'precision': 0.989, 'recall': 0.989, 'f1': 0.987}\n",
            "valid_metric: {'accuracy': 0.989, 'precision': 0.988, 'recall': 0.988, 'f1': 0.986}\n",
            "----------------------------------------------------------------------------------------------------\n"
          ]
        }
      ]
    },
    {
      "cell_type": "markdown",
      "source": [
        "We achieved ~99% (close to top 35% of kaggle competition) with 10 epochs"
      ],
      "metadata": {
        "id": "MrD0YX1PZsvi"
      }
    },
    {
      "cell_type": "markdown",
      "source": [
        "## Evaluate our model\n",
        "\n",
        "To evaluate our model, we first def `make_predictions` to generate the probabilities for full valid_ds"
      ],
      "metadata": {
        "id": "sqOv0V8naOln"
      }
    },
    {
      "cell_type": "code",
      "source": [
        "def make_predictions(model, data):\n",
        "    device = torch.device(\"cuda\" if torch.cuda.is_available() else \"cpu\")\n",
        "    pred_probs = []\n",
        "    model.to(device)\n",
        "    model.eval()\n",
        "    with torch.inference_mode():\n",
        "        for X, y in data:\n",
        "            # Forward pass -> logits\n",
        "            y_logits = model(X.unsqueeze(0).to(device))\n",
        "            # Calculate Probabilities (logits -> prediction probabilities)\n",
        "            y_probs = y_logits.squeeze(0).softmax(0)\n",
        "            # Append as CPU\n",
        "            pred_probs.append(y_probs.cpu())\n",
        "\n",
        "    probs, preds = torch.stack(pred_probs).max(1)\n",
        "    return probs, preds"
      ],
      "metadata": {
        "id": "_ztyZnTGKbko"
      },
      "execution_count": null,
      "outputs": []
    },
    {
      "cell_type": "code",
      "source": [
        "# Make Full predictions that return probs (probability of prediction) and preds (predictions)\n",
        "probs, preds = make_predictions(model_2, valid_ds)\n",
        "probs.shape, preds.shape"
      ],
      "metadata": {
        "colab": {
          "base_uri": "https://localhost:8080/"
        },
        "id": "6GxggmihhyDQ",
        "outputId": "0efcc747-8619-450d-de5d-bbb855a1ad98"
      },
      "execution_count": null,
      "outputs": [
        {
          "output_type": "execute_result",
          "data": {
            "text/plain": [
              "(torch.Size([10000]), torch.Size([10000]))"
            ]
          },
          "metadata": {},
          "execution_count": 98
        }
      ]
    },
    {
      "cell_type": "code",
      "source": [
        "# Show incorrect predictions\n",
        "import random\n",
        "wrong_prediction_index = torch.nonzero(preds != valid_ds.targets).squeeze(1)\n",
        "\n",
        "fig = plt.figure(figsize=(16, 10))\n",
        "rows, cols = 4, 5\n",
        "for i, index in enumerate(random.sample(list(wrong_prediction_index), k=rows*cols)):\n",
        "    plt.subplot(rows, cols, i+1)\n",
        "    plt.imshow(valid_ds.data[index].data, cmap='gray')\n",
        "    color = 'g' if valid_ds.targets[index]==preds[index] else 'r'\n",
        "    plt.title(f'Label: {valid_ds.targets[index]} Pred: {preds[index]} Probs: {round(probs[index].item(), 2)}')\n",
        "    plt.axis(False)"
      ],
      "metadata": {
        "colab": {
          "base_uri": "https://localhost:8080/",
          "height": 829
        },
        "id": "8Y2MYKfCV2Ts",
        "outputId": "0ea4d6ba-b0a5-4c2c-cdd9-f20aba6bdda2"
      },
      "execution_count": null,
      "outputs": [
        {
          "output_type": "display_data",
          "data": {
            "text/plain": [
              "<Figure size 1600x1000 with 20 Axes>"
            ],
            "image/png": "[encoded data removed]"
          },
          "metadata": {}
        }
      ]
    },
    {
      "cell_type": "markdown",
      "source": [
        "As can see from above, the wrong predictions are difficult to differenciate even from human eyes. And they are generally of low proababilities which shows the low confidence level from the model predictions"
      ],
      "metadata": {
        "id": "-6LlAysMYjge"
      }
    },
    {
      "cell_type": "markdown",
      "source": [
        "To further understand the errors, we can plot out the confusion matrix"
      ],
      "metadata": {
        "id": "XN7e_HGpZIpa"
      }
    },
    {
      "cell_type": "code",
      "source": [
        "from mlxtend.evaluate import confusion_matrix\n",
        "from mlxtend.plotting import plot_confusion_matrix\n",
        "\n",
        "y_pred = preds.numpy()\n",
        "y_target = valid_ds.targets.numpy()\n",
        "\n",
        "cm = confusion_matrix(y_target=y_target,\n",
        "                      y_predicted=y_pred)\n",
        "fig, ax = plot_confusion_matrix(conf_mat=cm,\n",
        "                                class_names=valid_ds.classes)"
      ],
      "metadata": {
        "colab": {
          "base_uri": "https://localhost:8080/",
          "height": 490
        },
        "id": "uxLrX1vVceeH",
        "outputId": "7752590b-1603-4b28-ce60-f5a62ef36832"
      },
      "execution_count": null,
      "outputs": [
        {
          "output_type": "display_data",
          "data": {
            "text/plain": [
              "<Figure size 640x480 with 1 Axes>"
            ],
            "image/png": "[encoded data removed]"
          },
          "metadata": {}
        }
      ]
    },
    {
      "cell_type": "markdown",
      "source": [
        "From the confusion matrix, we can see where model get the predictions wrong. The most frequent occurence on errors are between (2, 7) (4, 9) and (5, 6)"
      ],
      "metadata": {
        "id": "QvA4pJ-yZavB"
      }
    }
  ]
}