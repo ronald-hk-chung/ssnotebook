{
  "nbformat": 4,
  "nbformat_minor": 0,
  "metadata": {
    "colab": {
      "provenance": [],
      "gpuType": "T4",
      "include_colab_link": true
    },
    "kernelspec": {
      "name": "python3",
      "display_name": "Python 3"
    },
    "language_info": {
      "name": "python"
    },
    "accelerator": "GPU"
  },
  "cells": [
    {
      "cell_type": "markdown",
      "metadata": {
        "id": "view-in-github",
        "colab_type": "text"
      },
      "source": [
        "<a href=\"https://colab.research.google.com/github/ronald-hk-chung/ssnotebook/blob/main/basics_of_neural_network/introduction_to_nn.ipynb\" target=\"_parent\"><img src=\"https://colab.research.google.com/assets/colab-badge.svg\" alt=\"Open In Colab\"/></a>"
      ]
    },
    {
      "cell_type": "markdown",
      "source": [
        "# Introduction to Neural Network\n",
        "\n",
        "<img src=\"https://github.com/ronald-hk-chung/ssnotebook/blob/main/basics_of_neural_network/assets/analogy_biological_nn.png?raw=true\">\n",
        "\n",
        "In machine learning, a **neural network** (also **artificial neural network** or **neural net**, abbreviated **ANN** aor **NN**) is a model inspired by the neuronal organisation found in biological neural network in animal brains.\n",
        "\n",
        "**NN** can be think of as a large mathematical expression that is trying to predict an *Output* from a given *Input* (or set of *features*)\n"
      ],
      "metadata": {
        "id": "bXn3MYNqvhe6"
      }
    },
    {
      "cell_type": "markdown",
      "source": [
        "## A Single Layer Perceptron\n",
        "\n",
        "**NN** originate from [**perceptron**](https://en.wikipedia.org/wiki/Perceptron) which was invented by Frank Rosenblatt under the paper [*(The Perceptron: A Perceiving and recognizing Automation by Rosenblatt, Cornell Aeronautical Laboratory, 1958)*](https://websites.umass.edu/brain-wars/files/2016/03/rosenblatt-1957.pdf) The perceptron rule allows an algorithm that woudl automatically learn the optimal weight coefficient that woudl then be multiplied with the input features in order to make a decision of whether a neuron fires (transmits a signal) or not.\n",
        "\n",
        "The idea behind artificial neurons can be put into the context of a binary classification task with 2 classes: 0 and 1.\n",
        "\n",
        "<br/>\n",
        "\n",
        "***Single Layer Perceptron Overview***\n",
        "\n",
        "Below shows the construct of the simpliest perceptron model:\n",
        "\n",
        "<img src=\"https://github.com/ronald-hk-chung/ssnotebook/blob/main/basics_of_neural_network/assets/single_layer_perceptron.png?raw=true\">\n",
        "\n",
        "Perceptron was used to solve binary classification problems which can be summarised as below:\n",
        "\n",
        "1. Inputs (Features of the data) are fed into the perceptron\n",
        "2. Weights are multiplied to each input\n",
        "3. Summation and then add Bias (Constant x $W_0$)\n",
        "4. Activation function is applied. Note that Perceptron use a step function as below:\n",
        "\n",
        "$$\n",
        "\\sigma(z)=\\left\\{\\begin{array}{l}\n",
        "0, \\quad z < b \\\\\n",
        "1, \\quad z \\geq b\n",
        "\\end{array}\\right.\n",
        "$$\n",
        "\n",
        "\n",
        "<br/>\n",
        "\n",
        "***Mathematical representation with Dot Notation:***\n",
        "\n",
        "Note that the the steps in Proceptron is essentailly a basic computation of linear algebra.\n",
        "\n",
        "Mathematically, it can be presentated as below:\n",
        "\n",
        "$$\n",
        "y = \\sigma(w_1 x_1 + w_2 x_2 + ... + w_m x_m + b)\n",
        "$$\n",
        "\n",
        "$$\n",
        "y=\\sigma(\\sum_{i}^m w_i x_i+b)\n",
        "$$\n",
        "\n",
        "With vectors this is the dot/inner product of 2 vectors\n",
        "\n",
        "$$\n",
        "y=\\sigma(\\left[\\begin{array}{llll}\n",
        "b & w_1 & w_2 & \\cdots & w_m\n",
        "\\end{array}\\right] \\cdot\\left[\\begin{array}{c}\n",
        "1 \\\\\n",
        "x_1 \\\\\n",
        "x_2 \\\\\n",
        "\\vdots \\\\\n",
        "x_m\n",
        "\\end{array}\\right]) = \\sigma(W^TX)\n",
        "$$\n",
        "\n",
        "<br/>\n",
        "\n",
        "***Single-Layer Perceptron Optimization***\n",
        "\n",
        "The weights are optimised through [**delta rule**](https://en.wikipedia.org/wiki/Delta_rule) which is a gradient descent learning rule for updating the weights of the inputs to a single-layer neural network. The calculation is derived as a backpropagation algorithm for a single-layer neural network with mean-square error loss function. Below shows the formula for weight update using delta rule:\n",
        "\n",
        "$$w_j := w_j + \\Delta{w_j}$$\n",
        "$$b := b + \\Delta{b}$$\n",
        "\n",
        "where the update value **deltas** $\\Delta$ are computed as follows:\n",
        "\n",
        "$$\\Delta{w_j} = \\eta(y^i - \\widehat{y}^i)x_j^i$$\n",
        "$$\\Delta{b} = \\eta(y^i - \\widehat{y}^i)$$\n",
        "\n",
        "\n",
        "***Single-Layer Perceptron Limitation***\n",
        "\n",
        "The main limitation of the perceptron is that it is strictly a linear classifier as the step function (activation function) is linear. This will struggle for any data that is not [linearly seperable](https://en.wikipedia.org/wiki/Linear_separability).\n",
        "\n",
        "Note that Step function is a linear activation function whose derivative is zero for all input points except the point zero. And at point zero, teh derviative is undefined since the function is discoutinuous at point zero. Whiel it is a simple and easy activation function, it cannot handl more complicated class and support backpropagation."
      ],
      "metadata": {
        "id": "aUc92tAUygxr"
      }
    },
    {
      "cell_type": "markdown",
      "source": [
        "## Adaptive linear neurons - Adaline\n",
        "\n",
        "Adaline was published by Bernard Widrow and his doctral student Tedd Hoff a few years after Rosenblatt's perceptron algorithm it can be considered an improvement on the latter [*(An Adaptive “Adaline” Neuron Using Chemical “Memistors”, Technical Report Number 1553-2 by B.Widrow and colleagues, Stanford Electron Labs, Stanford, CA, October 1960)*](https://www-isl.stanford.edu/~widrow/papers/t1960anadaptive.pdf)\n",
        "\n",
        "<br/>\n",
        "\n",
        "***Adaline Overview***\n",
        "\n",
        "Below shows the construct of Adaptive linear neurons (Adaline)\n",
        "\n",
        "<img src=\"https://github.com/ronald-hk-chung/ssnotebook/blob/main/basics_of_neural_network/assets/adaline_neural_network.png?raw=true\">\n",
        "\n",
        "The Adaline algorithm lays the groundwork of defining and minimizing continuous **loss function**. The key difference between Adaline rule and perceptron is that the weights are updated based on a linear activation function rather than a unit step function like in the perceptron. In Adaline, the linear activation function, $\\sigma(z)$, is an identity function of the input, i.e. $\\sigma(z)=z$\n",
        "\n",
        "The Adaline compares the true class labels with the linear activation function's continuous valued output to compute the model error and update the weights. IN contrast, the perceptron compares the true class labels to the predicted class labels.\n",
        "\n",
        "<br/>\n",
        "\n",
        "***A Note on Delta rule with Identity Activation Function***\n",
        "\n",
        "Note that the algorithm for weight updating in Adaline is derived from minimising the **Mean Square Error (MSE)**. Full derivative as show in https://en.wikipedia.org/wiki/Delta_rule\n",
        "\n"
      ],
      "metadata": {
        "id": "2JTL-AxMBpLt"
      }
    },
    {
      "cell_type": "markdown",
      "source": [
        "## Multi-Layer Perceptron - Adding Non Linearity and hidden layer\n",
        "\n",
        "<img src=\"https://github.com/ronald-hk-chung/ssnotebook/blob/main/basics_of_neural_network/assets/multilayer_perceptron.png?raw=true\">\n",
        "\n",
        "The main limitation for single-layer perceptron neural network is that it could only return binary values, 0 and 1, as a binary classifier and can be trained only on [linear sperable problems](https://en.wikipedia.org/wiki/Linear_separability)\n",
        "\n",
        "These limitations led to the development of the Multilayer Perceptron neural network. The MLP comprises two or more single perceptron neural networks combined. It has three layers, the input layer, the hidden layer, and the output layer, with each node in a layer fully connected to every node in the next layer, making it a fully-connected neural network. With this structure in place, a multilayer perceptron will have multiple weights and biases at each network layer. This level of sophistication and complexity allows a multilayer perceptron neural network to solve both linear and non-linear separable problems.\n",
        "\n",
        "<br/>\n",
        "\n",
        "***Multi-Layer perceptron Overview***\n",
        "\n",
        "1. $m$ features in input $X$ is fed to $m$ weights to each perceptron in the network\n",
        "2. $n$ hidden neurons in the hidden layer will contain n sets of weights $w^1: (w_1^1, w_2^1, ... W_n^1)$ for performing dot products\n",
        "3. With 1 hidden layer, perform n dotproducts to get the hidden output $h^1: (h_1^1, h_2^1, ... h_n^1)$\n",
        "4. Fist hidden layer $h^1: (h_1^1, h_2^1, ... h_n^1)$ are used as input data that has $n$ features, perform dot product with each sets of weights with the next hidden layer $w^2: (w_1^2, w_2^2, ... W_n^2)$ to get final output $y$\n",
        "\n",
        "<br/>\n",
        "\n",
        "***Mathematical representation with Dot Notation:***\n",
        "\n",
        "<br/>\n",
        "\n",
        "$$\n",
        "\\begin{aligned}\n",
        "h_i^{(1)} & =\\sigma^{(1)}\\left(\\sum_j w_{i j}^{(1)} x_j+b_i^{(1)}\\right) \\\\\n",
        "h_i^{(2)} & =\\sigma^{(2)}\\left(\\sum_j w_{i j}^{(2)} h_j^{(1)}+b_i^{(2)}\\right) \\\\\n",
        "y_i & =\\sigma^{(3)}\\left(\\sum_j w_{i j}^{(3)} h_j^{(2)}+b_i^{(3)}\\right)\n",
        "\\end{aligned}\n",
        "$$\n",
        "\n",
        "<br/>\n",
        "\n",
        "Note that we distinguish $\\sigma^{(1)}$ and $\\sigma^{(2)}$ because different layers may have different activation functions.\n",
        "\n",
        "We can further simplified the computations in vectorized form. Since each layer contains multiple units, we represent the activations of all its units with an **activation vector** $h^{(l)}$. xxx\n",
        "\n",
        "<br/>\n",
        "\n",
        "$$\n",
        "\\begin{aligned}\n",
        "\\mathbf{h}^{(1)} & =\\sigma^{(1)}\\left(\\mathbf{W}^{(1)T} \\mathbf{x}+\\mathbf{b}^{(1)}\\right) \\\\\n",
        "\\mathbf{h}^{(2)} & =\\sigma^{(2)}\\left(\\mathbf{W}^{(2)T} \\mathbf{h}^{(1)}+\\mathbf{b}^{(2)}\\right) \\\\\n",
        "\\mathbf{y} & =\\sigma^{(3)}\\left(\\mathbf{W}^{(3)T} \\mathbf{h}^{(2)}+\\mathbf{b}^{(3)}\\right)\n",
        "\\end{aligned}\n",
        "$$\n",
        "\n",
        "<br/>\n",
        "\n",
        "***Multi-Layer Perceptron Limitation***\n",
        "\n",
        "While Multi-Layer Perceptron does have a more sophisticated structure with hidden layers. Identity Function as a activation function is still linear and non-differentiable, which means stacking as many hidden layers in the neural networks will still only output a linear combination of the original input data. This linearity means that it cannot really grasp the complexity of non-linear problems like XOR logic or patterns seperated by curves or circles.\n",
        "\n",
        "So despite stacking perceptrons may look like a modern-day neural network, it is still a linear classifier and not much different from regular linear regression.\n",
        "\n",
        "Moreover, Perceptron with step function is not stable during training with neurons flipping from 0 to 1 on small change in any weight."
      ],
      "metadata": {
        "id": "xaUG68wLl5Uz"
      }
    },
    {
      "cell_type": "markdown",
      "source": [
        "## Modern Day Neural Network - Non-Linear Activation Functions\n",
        "\n",
        "The main problem with the multi-layer perceptron is that it still suffer from only fitting a linear function to classify the data. Replacing the identity function and step function in the algorithm with a non-linear and fully differentiable activation function can make the output non-linear, thus allowing the model to satisfy [**universal approximation theorem**](https://en.wikipedia.org/wiki/Universal_approximation_theorem) which states that a neural network can fit to any function to a reasonable degree if it contains non-linear activation functions\n",
        "\n",
        "<br/>\n",
        "\n",
        "***A note on Logits into Probabilities - Sigmoid Function***\n",
        "\n",
        "In order to perform non-linear classifications, we will need an activation function that transform logits $z$ into probabilities before passing into the `Step` function below:\n",
        "\n",
        "$$\n",
        "\\sigma(z)=\\left\\{\\begin{array}{l}\n",
        "0, \\quad z < b \\\\\n",
        "1, \\quad z \\geq b\n",
        "\\end{array}\\right.\n",
        "$$\n",
        "\n",
        "This is done by introduction of **odds** or **odds ratio**/ Odds are defined as the ratio of positive outcome to negative outcome that can be written as $\\frac{p}{1-p}$ where $p$ stands for the probability of the positive event.\n",
        "\n",
        "We can then take the logarithm of the odds ratio, **Log Odds Ratio**, to amke the function symmetrical and able to map probabilities into real numbers, not just positve ones\n"
      ],
      "metadata": {
        "id": "O74VAd0SEAl5"
      }
    },
    {
      "cell_type": "code",
      "execution_count": null,
      "metadata": {
        "colab": {
          "base_uri": "https://localhost:8080/",
          "height": 599
        },
        "id": "jnbwu4QevefK",
        "outputId": "96e2fb9b-ee9c-4644-875d-f5a42cc46e24"
      },
      "outputs": [
        {
          "output_type": "stream",
          "name": "stderr",
          "text": [
            "<ipython-input-10-ab6edf2feece>:8: RuntimeWarning: divide by zero encountered in divide\n",
            "  return prob / (1-prob)\n"
          ]
        },
        {
          "output_type": "display_data",
          "data": {
            "text/plain": [
              "<Figure size 1200x600 with 2 Axes>"
            ],
            "image/png": "[encoded data removed]"
          },
          "metadata": {}
        }
      ],
      "source": [
        "import numpy as np\n",
        "import matplotlib.pyplot as plt\n",
        "\n",
        "# get a list of probabilities\n",
        "probs = np.linspace(0, 1, 100)\n",
        "# Define odd ratios from probability\n",
        "def get_odds_ratio(prob):\n",
        "    return prob / (1-prob)\n",
        "# Calculate odds ratios\n",
        "odds_ratios = get_odds_ratio(probs)\n",
        "\n",
        "# Plot out odds ratio against probabilities\n",
        "fig, ax = plt.subplots(1, 2, figsize=(12, 6))\n",
        "# 1st Plot on normal scale\n",
        "ax[0].plot(probs, odds_ratios)\n",
        "ax[0].set_title('Odds Ratio')\n",
        "ax[0].set_xlabel(\"Probability\")\n",
        "ax[0].set_ylabel(\"Odds Ratio\")\n",
        "# 2nd Plot on log scale\n",
        "ax[1].plot(probs, odds_ratios)\n",
        "ax[1].set_yscale(\"log\")\n",
        "ax[1].set_title('Odds Ratio (log scale)')\n",
        "ax[1].set_xlabel(\"Probability\")\n",
        "ax[1].set_ylabel(\"Odds Ratio (log scale)\");"
      ]
    },
    {
      "cell_type": "markdown",
      "source": [
        "***From Logits to Probabilities***\n",
        "\n",
        "$$\n",
        "W^TX=z =\\log(\\frac{p}{1-p})\n",
        "$$\n",
        "\n",
        "$$\n",
        "e^z=\\frac{p}{1-p}\n",
        "$$\n",
        "\n",
        "$$\n",
        "\\frac{1}{e^z}=\\frac{1-p}{p}\n",
        "$$\n",
        "\n",
        "$$\n",
        "e^z =\\frac{1}{p}-1\n",
        "$$\n",
        "\n",
        "$$\n",
        "1+e^z =\\frac{1}{p}\n",
        "$$\n",
        "\n",
        "$$\n",
        "{p}=\\frac{1}{1+e^{-z}}\n",
        "$$\n",
        "\n",
        "We arrive at the **logistic sigmoid function** - an inverse of the log odds ratio.\n",
        "\n",
        "To use the sigmoid function, PyTorch provides 2 different ways of using a sigmoid: `torch.sigmoid()` and `and nn.Sigmoid()`"
      ],
      "metadata": {
        "id": "pJu_azMYmNL-"
      }
    },
    {
      "cell_type": "code",
      "source": [
        "import torch\n",
        "\n",
        "logits_range = torch.linspace(-4, 4, 100)\n",
        "probs_range = torch.sigmoid(logits_range)\n",
        "plt.plot(logits_range, probs_range)\n",
        "plt.title(\"Sigmoid\")\n",
        "plt.ylabel(\"Probability\")\n",
        "plt.xlabel(\"Log Odds Ratio\");"
      ],
      "metadata": {
        "colab": {
          "base_uri": "https://localhost:8080/",
          "height": 472
        },
        "id": "VostsD6dQmWu",
        "outputId": "2716c081-e1eb-4236-ca1d-8ea965f2ec15"
      },
      "execution_count": null,
      "outputs": [
        {
          "output_type": "display_data",
          "data": {
            "text/plain": [
              "<Figure size 640x480 with 1 Axes>"
            ],
            "image/png": "[encoded data removed]"
          },
          "metadata": {}
        }
      ]
    },
    {
      "cell_type": "markdown",
      "source": [
        "From the above, we can see the **Sigmoid** function $\\sigma(z)$ approaches 1 if $z$ goes towards infinity $(z\\to\\inf)$ since $e^{-z}$ becomes very small for large values of $z$. Similarly, $\\sigma(z)$ goes towrad 0 for $(z\\to-\\inf)$ as a result of an increasgly large denominator. We can conclude that this sigmoid function takes real-number (logits) $z$ as input and transforms them into values in the range of [0,1] whith an intercept at $\\sigma(0)=0.5$."
      ],
      "metadata": {
        "id": "Qy2AbxgaytZU"
      }
    },
    {
      "cell_type": "markdown",
      "source": [
        "***A Note on Logistic Regression***\n",
        "\n",
        "Logistic regression is a classification model that performs very well on linearly seperable classes It is one of the most widely used algorithms for classification in industry.\n",
        "\n",
        "<img src=\"https://github.com/ronald-hk-chung/ssnotebook/blob/main/basics_of_neural_network/assets/logistic_regression.png?raw=true\">\n",
        "\n",
        "Architecture wise, We can think of the logistic regression as a special case of neural net - A Single-Layer NN with a sigmoid activation function."
      ],
      "metadata": {
        "id": "ub48CXs03Fuo"
      }
    },
    {
      "cell_type": "markdown",
      "source": [
        "## Introduction to PyTorch Module\n",
        "\n",
        "In PyTorch, a model is represented by a regular Python class that inherits from the `nn.Module` class. The `nn.Module` class serves as a blueprint for a specific component of your network where\n",
        "\n",
        "*   **Encapsulation**: Modules neatly package together the tranable parameters (weights and biases) of the model's layers. Note that Module can also cantain other Modules, allowing to build complex hierarchies.\n",
        "*   **Statefulness**: Modules remember their parameters and inernal state, essentailly sotring what they have learned during training.\n",
        "*   **Composability**: Like building blocks, Modules can be connected to form intricate neural networks.\n",
        "\n",
        "One of the most crucial aspects of a Module is its ability ot manage its parameters.\n",
        "\n",
        "1. **Parameter Registration**: When variables are defined within a Module's constructor `__init__` PyTorch function like `nn.Linear` are automatrically registered to the Module as parameters\n",
        "\n",
        "2. **Parameter Access**: Pytorch allow access to Module's parameters in several ways. `module.parameters()` return an iterator to access all parameters. `module.state_dict()` returns an `OrderedDict` containing all parameters and their values.\n",
        "\n",
        "3. **Optimization**: During training, PyTorch optimizer (like Adam, SGD) specifically iterate over the parameters registered within a Module, updating them to minimize the loss function.\n",
        "\n"
      ],
      "metadata": {
        "id": "MiUzinKUBDGg"
      }
    },
    {
      "cell_type": "markdown",
      "source": [
        "## Revisiting the simple Linear Regression problem using PyTorch Module\n",
        "\n",
        "$y = w \\times X + b + noise$"
      ],
      "metadata": {
        "id": "1KHs3B8KFOcH"
      }
    },
    {
      "cell_type": "code",
      "source": [
        "import torch\n",
        "import matplotlib.pyplot as plt\n",
        "\n",
        "# To ensure reproducibility\n",
        "torch.manual_seed(42)\n",
        "\n",
        "# Generating synthetic data\n",
        "X = torch.rand(100, 1) # random numbers from a uniform distribution on the interval (0, 1)\n",
        "w_true, b_true = 0.5, 1\n",
        "noise = torch.randn(100, 1) * 0.03\n",
        "y = w_true * X + b_true + noise\n",
        "\n",
        "# Plot synthetic data\n",
        "fig, ax = plt.subplots(1, 1, sharey=True, figsize=(5,5))\n",
        "ax.scatter(X, y, color=\"b\")\n",
        "ax.set_title(\"Synthetic Training Data\");"
      ],
      "metadata": {
        "colab": {
          "base_uri": "https://localhost:8080/",
          "height": 468
        },
        "id": "VfjKrFiEROfs",
        "outputId": "00bd777b-6051-4556-8f6f-70b7bee3aa22"
      },
      "execution_count": null,
      "outputs": [
        {
          "output_type": "display_data",
          "data": {
            "text/plain": [
              "<Figure size 500x500 with 1 Axes>"
            ],
            "image/png": "[encoded data removed]"
          },
          "metadata": {}
        }
      ]
    },
    {
      "cell_type": "markdown",
      "source": [
        "## Building a proper model using PyTorch `nn.Module` for simple linear regression"
      ],
      "metadata": {
        "id": "n1jRVvsbGTpV"
      }
    },
    {
      "cell_type": "code",
      "source": [
        "import torch.nn as nn\n",
        "\n",
        "class CustomLinearRegression(nn.Module):\n",
        "    def __init__(self):\n",
        "        super().__init__()\n",
        "        self.b = nn.Parameter(torch.randn(1, requires_grad=True, dtype=torch.float))\n",
        "        self.w = nn.Parameter(torch.randn(1, requires_grad=True, dtype=torch.float))\n",
        "\n",
        "    def forward(self, X):\n",
        "        return self.w * X + self.b\n",
        "\n",
        "model = CustomLinearRegression()"
      ],
      "metadata": {
        "id": "GaimUwEyGMQR"
      },
      "execution_count": null,
      "outputs": []
    },
    {
      "cell_type": "markdown",
      "source": [
        "## Parameters Registration and Access\n",
        "\n",
        "In the `__init__()` method, 2 parameters b and w where defined using `nn.Parameter` class. When attribute are definied within our custom module, its flagged as a parameter that needs to be tracked. This is done by `nn.Module` class overloading the `__setattr__` method that is responsible for setting attributes.\n",
        "\n",
        "To access the parameters\n",
        "\n",
        "1. Using `parameters()` method that return an iterator to access all parameters\n",
        "\n",
        "Under the hood, `parameter()` method is implimented as:\n",
        "\n",
        "```python\n",
        "def parameter(self):\n",
        "    yield self.b\n",
        "    yield self.w\n",
        "```"
      ],
      "metadata": {
        "id": "Nb9Y86OKHOGA"
      }
    },
    {
      "cell_type": "code",
      "source": [
        "list(model.parameters())"
      ],
      "metadata": {
        "colab": {
          "base_uri": "https://localhost:8080/"
        },
        "id": "mX4qDhZrHMF6",
        "outputId": "349dda8b-01f9-4f3d-8979-d280f6314a0d"
      },
      "execution_count": null,
      "outputs": [
        {
          "output_type": "execute_result",
          "data": {
            "text/plain": [
              "[Parameter containing:\n",
              " tensor([-1.2842], requires_grad=True),\n",
              " Parameter containing:\n",
              " tensor([-0.6917], requires_grad=True)]"
            ]
          },
          "metadata": {},
          "execution_count": 3
        }
      ]
    },
    {
      "cell_type": "markdown",
      "source": [
        "2. `module.state_dict()` returns an `OrderedDict` containing all parameters and their values. Note that only learnable parameters are included as its purpose is to keep track of parameters that are going to be updated by the optimizer."
      ],
      "metadata": {
        "id": "kZxQ1dwnIx2a"
      }
    },
    {
      "cell_type": "code",
      "source": [
        "model.state_dict()"
      ],
      "metadata": {
        "colab": {
          "base_uri": "https://localhost:8080/"
        },
        "id": "KRXoGyPOIpFc",
        "outputId": "5a8a79a3-cb93-45d8-eceb-5038dc650821"
      },
      "execution_count": null,
      "outputs": [
        {
          "output_type": "execute_result",
          "data": {
            "text/plain": [
              "OrderedDict([('b', tensor([-1.2842])), ('w', tensor([-0.6917]))])"
            ]
          },
          "metadata": {},
          "execution_count": 4
        }
      ]
    },
    {
      "cell_type": "markdown",
      "source": [
        "## `forward()` vs. `__call__()` Method\n",
        "\n",
        "The goal of the `forward()` is to encapsoluate the forward pass computation. Note that `forward()` is called in the `__call__` function. Under the hood, the `__call__` method performs some additional bookkeeping to ensure that the `hooks` are properly registered.\n",
        "\n",
        "`forward(x)` method should not be called directly. You should call the whole model itself, as in model(x) to perform a forward pass and output predictions."
      ],
      "metadata": {
        "id": "uJ6hGml9KbDq"
      }
    },
    {
      "cell_type": "markdown",
      "source": [
        "## Optimizer for gradient descent\n",
        "\n",
        "There are many optimizers under `torch.optim`.\n",
        "\n",
        "For `torch.optim` reference: https://pytorch.org/docs/stable/optim.html#module-torch.optim\n",
        "\n",
        "`SGD` is the most basic of them and `Adam` is one of the most popular. Different optimizers use different mechanics for updating the parameters.\n",
        "\n",
        "PyTorch opimitzers (like **SGD** or **Adam**)\n",
        "\n",
        "`step()` method takes the parameters we want to update, the learning rate we want to use and performs the updates through its . This replaces the manual updating of parameters in the training loop.\n",
        "\n",
        "`zero_grad()` method zero out all gradients in the model after `backward()`\n",
        "\n",
        "Below shows the most basic optimizer implimentation:\n"
      ],
      "metadata": {
        "id": "j_TFs1GlNRjl"
      }
    },
    {
      "cell_type": "code",
      "source": [
        "class BasicOptim:\n",
        "  def __init__(self, params, lr):\n",
        "    self.params = params\n",
        "\n",
        "  def step(self):\n",
        "    self.params.data -= self.lr * self.params.grad\n",
        "\n",
        "  def zero_grad(self):\n",
        "    self.params.grad = None"
      ],
      "metadata": {
        "id": "adVIUeB7I2Jf"
      },
      "execution_count": null,
      "outputs": []
    },
    {
      "cell_type": "code",
      "source": [
        "import torch.optim as optim\n",
        "\n",
        "optimizer = optim.SGD(params=model.parameters(), lr=0.1)\n",
        "optimizer.state_dict()"
      ],
      "metadata": {
        "colab": {
          "base_uri": "https://localhost:8080/"
        },
        "id": "loFBQiBUTor9",
        "outputId": "df6808c7-09f4-4764-d377-32a69a9e64a8"
      },
      "execution_count": null,
      "outputs": [
        {
          "output_type": "execute_result",
          "data": {
            "text/plain": [
              "{'state': {},\n",
              " 'param_groups': [{'lr': 0.1,\n",
              "   'momentum': 0,\n",
              "   'dampening': 0,\n",
              "   'weight_decay': 0,\n",
              "   'nesterov': False,\n",
              "   'maximize': False,\n",
              "   'foreach': None,\n",
              "   'differentiable': False,\n",
              "   'params': [0, 1]}]}"
            ]
          },
          "metadata": {},
          "execution_count": 6
        }
      ]
    },
    {
      "cell_type": "markdown",
      "source": [
        "Note that optimizer itself also has a `state_dict()` which contains its internal state as well as hyper-parameters."
      ],
      "metadata": {
        "id": "nWsgrcu5QW07"
      }
    },
    {
      "cell_type": "markdown",
      "source": [
        "## Defining a Loss Function\n",
        "\n",
        "To tackle the loss computation. PyTorch has a variety of loss function to choose from under `torch.nn`\n",
        "\n",
        "Reference: https://pytorch.org/docs/stable/nn.html\n",
        "\n",
        "For our linear regression problem, we are using the mean squared error(MSE) as loss function - `nn.MSELoss()`\n",
        "\n",
        "for full reference on the `nn.MSELoss()` - https://pytorch.org/docs/stable/generated/torch.nn.MSELoss.html#torch.nn.MSELoss"
      ],
      "metadata": {
        "id": "NklCi1krV5KH"
      }
    },
    {
      "cell_type": "code",
      "source": [
        "# Define an MSE loss function\n",
        "loss_fn = nn.MSELoss(reduction='mean')\n",
        "loss_fn"
      ],
      "metadata": {
        "colab": {
          "base_uri": "https://localhost:8080/"
        },
        "id": "cZYg8Px9WxtT",
        "outputId": "e650d9fc-d47c-4d0e-ce69-174c372044f0"
      },
      "execution_count": null,
      "outputs": [
        {
          "output_type": "execute_result",
          "data": {
            "text/plain": [
              "MSELoss()"
            ]
          },
          "metadata": {},
          "execution_count": 7
        }
      ]
    },
    {
      "cell_type": "markdown",
      "source": [
        "Note that `nn.MSELoss()` returns the actual loss function which is called `loss_fn`. We can use `nn.MSELoss()` with parameters to define the behaviour of the function. E.g. `reduction` specifies the reduction to apply to the output, `mean`|`sum`|`none` with default as `mean`"
      ],
      "metadata": {
        "id": "CAdD9bbMXG0O"
      }
    },
    {
      "cell_type": "markdown",
      "source": [
        "## Sending the model to GPU device\n",
        "\n",
        "GPU Acceleration: Modern deep learning heavily relies on GPUs (Graphics Processing Units), which excel at parallel computations. Tensors are ideally suited for GPU acceleration; their structure naturally aligns with how GPUs carry out mathematical operations.\n",
        "\n",
        "We need to make sure our model and the data are on the same device"
      ],
      "metadata": {
        "id": "3Ah4tpgbRKSs"
      }
    },
    {
      "cell_type": "code",
      "source": [
        "# Check what GPU we are using\n",
        "!nvidia-smi"
      ],
      "metadata": {
        "colab": {
          "base_uri": "https://localhost:8080/"
        },
        "id": "Uoy060orUKLT",
        "outputId": "209ea311-5ba6-40ee-bc09-4e432324ec19"
      },
      "execution_count": null,
      "outputs": [
        {
          "output_type": "stream",
          "name": "stdout",
          "text": [
            "Wed Apr 10 14:08:19 2024       \n",
            "+---------------------------------------------------------------------------------------+\n",
            "| NVIDIA-SMI 535.104.05             Driver Version: 535.104.05   CUDA Version: 12.2     |\n",
            "|-----------------------------------------+----------------------+----------------------+\n",
            "| GPU  Name                 Persistence-M | Bus-Id        Disp.A | Volatile Uncorr. ECC |\n",
            "| Fan  Temp   Perf          Pwr:Usage/Cap |         Memory-Usage | GPU-Util  Compute M. |\n",
            "|                                         |                      |               MIG M. |\n",
            "|=========================================+======================+======================|\n",
            "|   0  Tesla T4                       Off | 00000000:00:04.0 Off |                    0 |\n",
            "| N/A   58C    P8              11W /  70W |      0MiB / 15360MiB |      0%      Default |\n",
            "|                                         |                      |                  N/A |\n",
            "+-----------------------------------------+----------------------+----------------------+\n",
            "                                                                                         \n",
            "+---------------------------------------------------------------------------------------+\n",
            "| Processes:                                                                            |\n",
            "|  GPU   GI   CI        PID   Type   Process name                            GPU Memory |\n",
            "|        ID   ID                                                             Usage      |\n",
            "|=======================================================================================|\n",
            "|  No running processes found                                                           |\n",
            "+---------------------------------------------------------------------------------------+\n"
          ]
        }
      ]
    },
    {
      "cell_type": "code",
      "source": [
        "device = \"cuda\" if torch.cuda.is_available() else \"cpu\"\n",
        "\n",
        "# Send model and data to the same device\n",
        "model.to(device)\n",
        "X, y = X.to(device), y.to(device)"
      ],
      "metadata": {
        "id": "rkwJmQfkQwMQ"
      },
      "execution_count": null,
      "outputs": []
    },
    {
      "cell_type": "markdown",
      "source": [
        "## PyTorch model in action\n",
        "\n",
        "We can define a function to deal with the training loop for model"
      ],
      "metadata": {
        "id": "Oo0JKrpAVCTR"
      }
    },
    {
      "cell_type": "code",
      "source": [
        "def train(lr,           # Set learning rate\n",
        "          model,        # Set model to use\n",
        "          loss_fn,      # Set up loss function\n",
        "          n_epochs,     # No. of Epochs\n",
        "          X,            # Input for training\n",
        "          y):           # target to use on loss_fn\n",
        "    # Set manual seed\n",
        "    torch.manual_seed(42)\n",
        "\n",
        "    # Put model to device\n",
        "    device = \"cuda\" if torch.cuda.is_available() else \"cpu\"\n",
        "    model.to(device)\n",
        "    X, y = X.to(device), y.to(device)\n",
        "\n",
        "    # Define an SGD optimizer to update the parameters\n",
        "    optimizer = optim.SGD(params=model.parameters(),\n",
        "                          lr=lr)\n",
        "\n",
        "    for epoch in range(n_epochs):\n",
        "        # Set the model to training mode\n",
        "        # models may have distinct behaviours during training and evaluation phases (e.g. Dropout)\n",
        "        model.train()\n",
        "\n",
        "        # Computes model predicted output - forward pass\n",
        "        y_logits = model(X)\n",
        "\n",
        "        # Computes the loss\n",
        "        loss = loss_fn(y_logits, y)\n",
        "\n",
        "        # Computes gradients for parameters (b and w)\n",
        "        loss.backward()\n",
        "\n",
        "        # Updates parameters using gradients and the learning rate\n",
        "        optimizer.step()\n",
        "\n",
        "        # Zero gradient after update on each epoch\n",
        "        optimizer.zero_grad()\n",
        "\n",
        "\n",
        "    # Inspect its parameters using its state dict\n",
        "    print(model.state_dict())"
      ],
      "metadata": {
        "id": "ZZjMcuK_SHfG"
      },
      "execution_count": null,
      "outputs": []
    },
    {
      "cell_type": "code",
      "source": [
        "train(lr=0.1,\n",
        "      model=CustomLinearRegression(),\n",
        "      loss_fn=nn.MSELoss(reduction='mean'),\n",
        "      n_epochs=100,\n",
        "      X=X,\n",
        "      y=y)"
      ],
      "metadata": {
        "colab": {
          "base_uri": "https://localhost:8080/"
        },
        "id": "gUa2v_xxSUmK",
        "outputId": "ff740830-ace0-4c47-de43-9fd9dcc2b3d6"
      },
      "execution_count": null,
      "outputs": [
        {
          "output_type": "stream",
          "name": "stdout",
          "text": [
            "OrderedDict([('b', tensor([0.9295], device='cuda:0')), ('w', tensor([0.6262], device='cuda:0'))])\n"
          ]
        }
      ]
    },
    {
      "cell_type": "markdown",
      "source": [
        "## Nested Models under `nn.Module`\n",
        "\n",
        "We can use PyTorch model as an attribute to our own model to created a nested model.\n",
        "\n",
        "For example, we can use `nn.Linear` to define a single-feature linear regression within our own model"
      ],
      "metadata": {
        "id": "bBsNuJIRcln3"
      }
    },
    {
      "cell_type": "code",
      "source": [
        "class NestedLinearRegression(nn.Module):\n",
        "    def __init__(self):\n",
        "        super().__init__()\n",
        "        # weight as w, bias as b\n",
        "        self.linear = nn.Linear(in_features=1, out_features=1, bias=True)\n",
        "    def forward(self, X):\n",
        "        return self.linear(X)"
      ],
      "metadata": {
        "id": "I9QabQApbzao"
      },
      "execution_count": null,
      "outputs": []
    },
    {
      "cell_type": "code",
      "source": [
        "train(lr=0.1,\n",
        "      model=NestedLinearRegression(),\n",
        "      loss_fn=nn.MSELoss(reduction='mean'),\n",
        "      n_epochs=100,\n",
        "      X=X,\n",
        "      y=y)"
      ],
      "metadata": {
        "colab": {
          "base_uri": "https://localhost:8080/"
        },
        "id": "c2Q4aXdWdgnx",
        "outputId": "bcf0b25b-311d-4b0e-feab-5a27a3ff43dd"
      },
      "execution_count": null,
      "outputs": [
        {
          "output_type": "stream",
          "name": "stdout",
          "text": [
            "OrderedDict([('linear.weight', tensor([[0.5612]], device='cuda:0')), ('linear.bias', tensor([0.9655], device='cuda:0'))])\n"
          ]
        }
      ]
    },
    {
      "cell_type": "markdown",
      "source": [
        "## Sequential Models\n",
        "\n",
        "For straightforward models that use a series of built-in PyTorch Models (e.g. `nn.Linear`), where the output of one is sequentially fed as an input to the next, we can use `nn.Sequential` model.\n",
        "\n",
        "Note that `nn.Sequential` is a subclass of `nn.Module` with the objective to quickly impliemnt sequential modules without the requirement of the forward definition"
      ],
      "metadata": {
        "id": "XDLsmDkAU0vr"
      }
    },
    {
      "cell_type": "code",
      "source": [
        "train(lr=0.1,\n",
        "      model=nn.Sequential(nn.Linear(1, 1)),\n",
        "      loss_fn=nn.MSELoss(reduction='mean'),\n",
        "      n_epochs=100,\n",
        "      X=X,\n",
        "      y=y)"
      ],
      "metadata": {
        "id": "ETx1gMw4D-ya",
        "outputId": "d55fcb9b-9c3c-4003-cfff-80d8158c8c77",
        "colab": {
          "base_uri": "https://localhost:8080/"
        }
      },
      "execution_count": null,
      "outputs": [
        {
          "output_type": "stream",
          "name": "stdout",
          "text": [
            "OrderedDict([('0.weight', tensor([[0.5612]], device='cuda:0')), ('0.bias', tensor([0.9655], device='cuda:0'))])\n"
          ]
        }
      ]
    },
    {
      "cell_type": "markdown",
      "source": [
        "## Layers\n",
        "\n",
        "A feedforward model can be seen as constructed by Layers\n",
        "\n",
        "There are many different layers that can be used in PyTorch\n",
        "\n",
        "for full reference: https://pytorch.org/docs/stable/nn.html\n",
        "\n",
        "Example:\n",
        "\n",
        "* Convsolution Layers\n",
        "* Pooling Lyaers\n",
        "* Padding Layers\n",
        "* Non-linear Activations\n",
        "* Normalization Layers\n",
        "* Recurrent Layers\n",
        "* Transformer Layers\n",
        "* Linear Layers\n",
        "* Dropout Layers\n",
        "* Sparse Layers\n",
        "* Vision Layers\n",
        "* DataParallel Layers (multi-GPU)\n",
        "* Flatten layers"
      ],
      "metadata": {
        "id": "D0YZaRmdV79m"
      }
    }
  ]
}