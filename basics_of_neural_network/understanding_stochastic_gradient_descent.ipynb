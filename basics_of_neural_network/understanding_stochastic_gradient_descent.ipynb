{
  "nbformat": 4,
  "nbformat_minor": 0,
  "metadata": {
    "colab": {
      "provenance": [],
      "authorship_tag": "ABX9TyPxuJ9fzWn3UhODW52XKh8Q",
      "include_colab_link": true
    },
    "kernelspec": {
      "name": "python3",
      "display_name": "Python 3"
    },
    "language_info": {
      "name": "python"
    }
  },
  "cells": [
    {
      "cell_type": "markdown",
      "metadata": {
        "id": "view-in-github",
        "colab_type": "text"
      },
      "source": [
        "<a href=\"https://colab.research.google.com/github/ronald-hk-chung/ssnotebook/blob/main/basics_of_neural_network/understanding_stochastic_gradient_descent.ipynb\" target=\"_parent\"><img src=\"https://colab.research.google.com/assets/colab-badge.svg\" alt=\"Open In Colab\"/></a>"
      ]
    },
    {
      "cell_type": "markdown",
      "source": [
        "# Understanding Stochastic Gradient Descent\n",
        "\n",
        "> Gradient descent is a method for unconstrained mathematical optimization. It is a first-order iterative algorithm for finding a local minimum of a differentiable multivariate function.<sup>[1]</sup>\n",
        "\n",
        "The idea is to take repeated steps in the opposite direction of the gradient of the function at the current point (because this is the direction of steepest descent) to achieve the best possible set of parameters / coefficients for a given model, data points to find the local minimum of a loss function.\n",
        "\n",
        "A simple extension of gradient descent, stochastic gradient descent, serves as the most basic algorithm used for training most deep networks today.\n",
        "\n",
        "Reference:\n",
        "\n",
        "1. https://en.wikipedia.org/wiki/Gradient_descent"
      ],
      "metadata": {
        "id": "5ixVBGVVuoEg"
      }
    },
    {
      "cell_type": "markdown",
      "source": [
        "## Steps of Stochastic Gradient Descent (SGD)\n",
        "\n",
        "0. Define the model for the problem\n",
        "1. Initialize the weights.\n",
        "2. Make predictions using the model with initialised weights\n",
        "3. Compute the Loss\n",
        "4. Compute the Gradients\n",
        "5. *Step* to Update the parameters\n",
        "6. Go back to the step 2, and *repeat* the process.\n",
        "7. Iterate until you decide to *stop* the training process (for instance, because the model is good enough or you don't want to wait any longer).\n",
        "\n",
        "<img src=\"https://github.com/ronald-hk-chung/ssnotebook/blob/main/basics_of_neural_network/assets/steps_of_SGD.jpg?raw=true\">"
      ],
      "metadata": {
        "id": "0Odl7bAcyjBd"
      }
    },
    {
      "cell_type": "markdown",
      "source": [
        "## Defining a simple scalar function\n",
        "\n",
        "$y = w \\times X + b + noise$\n",
        "\n",
        "> Note: noise is added to the scalar function for synthetic data generation"
      ],
      "metadata": {
        "id": "amAoDn43w_ea"
      }
    },
    {
      "cell_type": "markdown",
      "source": [
        "## Generate Synthetic data using the Scalar function with noise"
      ],
      "metadata": {
        "id": "BNydetEp-1J9"
      }
    },
    {
      "cell_type": "code",
      "execution_count": 5,
      "metadata": {
        "colab": {
          "base_uri": "https://localhost:8080/",
          "height": 468
        },
        "id": "g1CqbgMetvOq",
        "outputId": "98c5d6e3-ca75-4b0a-e6bf-0f2e64e45860"
      },
      "outputs": [
        {
          "output_type": "display_data",
          "data": {
            "text/plain": [
              "<Figure size 500x500 with 1 Axes>"
            ],
            "image/png": "[encoded data removed]"
          },
          "metadata": {}
        }
      ],
      "source": [
        "import torch\n",
        "import matplotlib.pyplot as plt\n",
        "\n",
        "# To ensure reproducibility\n",
        "torch.manual_seed(42)\n",
        "\n",
        "# Generating synthetic data\n",
        "X = torch.rand(100) # random numbers from a uniform distribution on the interval (0, 1)\n",
        "w_true, b_true = 0.5, 1\n",
        "noise = torch.rand(100) * 0.1\n",
        "y = w_true * X + b_true + noise\n",
        "\n",
        "# Plot synthetic data\n",
        "fig, ax = plt.subplots(1,1, sharey=True, figsize=(5,5))\n",
        "ax.scatter(X, y, color=\"b\")\n",
        "ax.set_title(\"Synthetic Training Data\");"
      ]
    },
    {
      "cell_type": "markdown",
      "source": [
        "## Step 0 - Define a model for the problem\n",
        "\n",
        "We define a function / model `model` which is a scalar function for the regression problem (same as the syntehtic data generations without noise)"
      ],
      "metadata": {
        "id": "UmMhQEz6xECc"
      }
    },
    {
      "cell_type": "code",
      "source": [
        "# Define function f to predict\n",
        "def model(X, params):\n",
        "    w, b = params\n",
        "    return w * X + b"
      ],
      "metadata": {
        "id": "QfTYTRJLxPSO"
      },
      "execution_count": 6,
      "outputs": []
    },
    {
      "cell_type": "markdown",
      "source": [
        "## Step 1 - Initialize the weights\n",
        "\n",
        "For training a model, we need to randomly initialize the parameters / weights, in this case, we need to initialise w1, w2, and b from a scalar function model.\n",
        "\n",
        "Tensor for training data requires the computation of its gradients, which is what the `requires_grad=True` argument is good for.\n"
      ],
      "metadata": {
        "id": "pAFxuM66EPVX"
      }
    },
    {
      "cell_type": "code",
      "source": [
        "# generate parameters from random numbers from a normal distribution with mean 0 and variance 1\n",
        "params = torch.randn(2, requires_grad=True, dtype=torch.float)\n",
        "orig_params = params.clone()\n",
        "# b = torch.randn(1, requires_grad=True, dtype=torch.float)\n",
        "print(params) # w, b"
      ],
      "metadata": {
        "colab": {
          "base_uri": "https://localhost:8080/"
        },
        "id": "NFW7JLfG7Kuq",
        "outputId": "0976a687-c5d2-4216-d31a-d66729955846"
      },
      "execution_count": 7,
      "outputs": [
        {
          "output_type": "stream",
          "name": "stdout",
          "text": [
            "tensor([-0.6430,  0.7113], requires_grad=True)\n"
          ]
        }
      ]
    },
    {
      "cell_type": "markdown",
      "source": [
        "## Step 2 - Make predictions using the model with initialised weights"
      ],
      "metadata": {
        "id": "btg3ydlnx2lC"
      }
    },
    {
      "cell_type": "code",
      "source": [
        "# Make predictions using the model with initialised random weights\n",
        "y_preds = model(X, params)\n",
        "\n",
        "# Plot out the prediction vs. true label\n",
        "fig, ax = plt.subplots()\n",
        "ax.scatter(X, y, label='True')\n",
        "ax.scatter(X, y_preds.detach().cpu(), label='Pred')\n",
        "ax.legend();"
      ],
      "metadata": {
        "colab": {
          "base_uri": "https://localhost:8080/",
          "height": 430
        },
        "id": "CIs6UkmCy0gX",
        "outputId": "f6c59fe5-cf27-4186-a1c8-36ad9a963edc"
      },
      "execution_count": 9,
      "outputs": [
        {
          "output_type": "display_data",
          "data": {
            "text/plain": [
              "<Figure size 640x480 with 1 Axes>"
            ],
            "image/png": "[encoded data removed]"
          },
          "metadata": {}
        }
      ]
    },
    {
      "cell_type": "markdown",
      "source": [
        "## Step 3 - Compute the Loss\n",
        "\n",
        "For a regression problem, the loss is given by the **Mean Square Error (MSE)**\n",
        "\n",
        "$MSE=\\frac{1}{N} \\sum_{i=1}^N\\left(y_i-\\hat{y}_i\\right)^2$\n",
        "\n",
        " that is, the average of all squared differences labels $y$ and predictions. $w_1 \\times X^2 + w_2 \\times X + b$:\n",
        "\n",
        "> Add blockquote\n",
        "\n",
        "\n",
        "\n"
      ],
      "metadata": {
        "id": "8uelqZeezmnt"
      }
    },
    {
      "cell_type": "code",
      "source": [
        "# define loss function (MSE - Mean Squared Error)\n",
        "def mse(preds, targets):\n",
        "  return ((preds - targets)**2).mean()"
      ],
      "metadata": {
        "id": "l_1a7268vTVd"
      },
      "execution_count": 10,
      "outputs": []
    },
    {
      "cell_type": "code",
      "source": [
        "# Calculate Loss\n",
        "loss = mse(y_preds, y)\n",
        "print(f'Initial Loss: {loss.item():.3f}')"
      ],
      "metadata": {
        "colab": {
          "base_uri": "https://localhost:8080/"
        },
        "id": "JRoD1sDkBFU4",
        "outputId": "876c1a18-6622-44a0-bdd8-95615d5aecce"
      },
      "execution_count": 14,
      "outputs": [
        {
          "output_type": "stream",
          "name": "stdout",
          "text": [
            "Initial Loss: 0.969\n"
          ]
        }
      ]
    },
    {
      "cell_type": "markdown",
      "source": [
        "## Step 4 - Compute the Gradients\n",
        "\n",
        "A graident is a **partial derivative** where it tells you how much a given quantity changes when there is a slight variation with respect to the **single parameter**\n",
        "\n",
        "$\n",
        "\\begin{gathered}\n",
        "\\frac{\\partial MSE}{\\partial b}=\\frac{\\partial MSE}{\\partial \\hat{y}_i} \\cdot \\frac{\\partial \\hat{y}_i}{\\partial b}=\\frac{1}{N} \\sum_{i=1}^N 2\\left(y_i-b-w x_i\\right) \\cdot(-1)=-2 \\frac{1}{N} \\sum_{i=1}^N\\left(y_i-\\hat{y}_i\\right) \\\\\n",
        "\\frac{\\partial M S E}{\\partial w}=\\frac{\\partial M S E}{\\partial \\hat{y}_i} \\cdot \\frac{\\partial \\hat{y}_i}{\\partial }=\\frac{1}{N} \\sum_{i=1}^N 2\\left(y_i-b-w x_i\\right) \\cdot\\left(-x_i\\right)=-2 \\frac{1}{N} \\sum_{i=1}^N x_i\\left(y_i-\\hat{y}_i\\right)\n",
        "\\end{gathered}\n",
        "$\n",
        "\n",
        "**Autograd** is PyTorch's automatic differentiaion package. With **Autograd**, we can compute the partial derivatives of the **loss** w.r.t. our parameters by invoking `backward()` method from the corresponding Python variable -> `loss.backward()`\n",
        "\n",
        "`grad` attribute can be used to inspect the actual values of the gradients w.r.t. the parameter, e.g. `w.grad`\n",
        "\n",
        "Note that the gradients are accumulated everytime `backward()` is called, we need to zero the grade by setting `parameter.grad = None`\n",
        "\n"
      ],
      "metadata": {
        "id": "IYLARVZi1bzV"
      }
    },
    {
      "cell_type": "code",
      "source": [
        "# Manual computation of gradients\n",
        "b_grad_manual = -2 * (y_preds - y).mean()\n",
        "w_grad_manual = -2 * (X * (y_preds - y)).mean()\n",
        "print(f'Manual Computation: Gradient of b: {b_grad_manual.item():.3f} | Gradient of w: {w_grad_manual.item():.3f}')"
      ],
      "metadata": {
        "colab": {
          "base_uri": "https://localhost:8080/"
        },
        "id": "mwytaEsKvTTO",
        "outputId": "79b3c3d8-aa9d-4628-97ec-8f90c7005c27"
      },
      "execution_count": 17,
      "outputs": [
        {
          "output_type": "stream",
          "name": "stdout",
          "text": [
            "Manual Computation: Gradient of b: 1.848 | Gradient of w: 1.151\n"
          ]
        }
      ]
    },
    {
      "cell_type": "code",
      "source": [
        "# computation using autograd\n",
        "loss.backward()\n",
        "w_grad_auto, b_grad_auto = params.grad\n",
        "print(f'Autograd Computation: Gradient of b: {b_grad_auto.item():.3f} | Gradient of w: {w_grad_auto.item():.3f}')"
      ],
      "metadata": {
        "id": "kxn1Cbqa-FVv",
        "colab": {
          "base_uri": "https://localhost:8080/"
        },
        "outputId": "b1b9dbad-9111-4d16-c226-9629da91621d"
      },
      "execution_count": 18,
      "outputs": [
        {
          "output_type": "stream",
          "name": "stdout",
          "text": [
            "Autograd Computation: Gradient of b: -1.848 | Gradient of w: -1.151\n"
          ]
        }
      ]
    },
    {
      "cell_type": "markdown",
      "source": [
        "## Step 5 - `step()` to Update the parameters\n",
        "\n",
        "Use the gradients to update hte parameters, we reverse the sign for the gradient for hte update to minimize the `loss` the learning rate $\\eta$ is a multiplicative factor that need to be applied to the gradient for the parameter update.\n",
        "\n",
        "$\\begin{aligned} & w=w-\\eta \\frac{\\partial MSE}{\\partial w} \\\\ & b=b-\\eta \\frac{\\partial MSE}{\\partial b}\\end{aligned}$"
      ],
      "metadata": {
        "id": "aSXYYKitMutP"
      }
    },
    {
      "cell_type": "code",
      "source": [
        "# Step for Gradient descent\n",
        "lr = 0.1\n",
        "params.data -= lr * params.grad\n",
        "params.grad = None"
      ],
      "metadata": {
        "id": "R8bnXbYcEsPo"
      },
      "execution_count": 19,
      "outputs": []
    },
    {
      "cell_type": "code",
      "source": [
        "# Make new prediction\n",
        "y_preds_orig = y_preds.clone()\n",
        "y_preds = model(X, params)\n",
        "print(f'Old loss: {mse(y_preds_orig, y)}')\n",
        "print(f'New loss: {mse(y_preds, y)}')\n",
        "\n",
        "# Plot the result\n",
        "fig, ax = plt.subplots()\n",
        "ax.scatter(X, y, label='True')\n",
        "ax.scatter(X, y_preds_orig.detach().cpu(), label='1st Pred')\n",
        "ax.scatter(X, y_preds.detach().cpu(), label='2nd Pred')\n",
        "ax.legend();"
      ],
      "metadata": {
        "colab": {
          "base_uri": "https://localhost:8080/",
          "height": 465
        },
        "id": "uHX_UxszFaw0",
        "outputId": "98bdf24e-7505-427c-81fa-1ec96dd3fb3e"
      },
      "execution_count": 21,
      "outputs": [
        {
          "output_type": "stream",
          "name": "stdout",
          "text": [
            "Old loss: 0.9688789248466492\n",
            "New loss: 0.5555502772331238\n"
          ]
        },
        {
          "output_type": "display_data",
          "data": {
            "text/plain": [
              "<Figure size 640x480 with 1 Axes>"
            ],
            "image/png": "[encoded data removed]"
          },
          "metadata": {}
        }
      ]
    },
    {
      "cell_type": "markdown",
      "source": [
        "##Step 6 - Go back to the step 2, and *repeat* the process.\n",
        "\n",
        "Using the updated parameters to go back to Step 2, restart the process\n",
        "\n",
        "> An epoch is complete whenever every point has been already used for computing the loss. For batch gradient descent, this is trivial, as it uses all points for computing the loss — one epoch is the same as one update. For stochastic gradient descent, one epoch means N updates, while for mini-batch (of size n), one epoch has N/n updates."
      ],
      "metadata": {
        "id": "HOOhg44zP8-k"
      }
    },
    {
      "cell_type": "code",
      "source": [
        "import pandas as pd\n",
        "\n",
        "lr = 0.01\n",
        "n_epochs = 500\n",
        "\n",
        "# Step 1 - Initialize the weights\n",
        "params = torch.randn(2, requires_grad=True, dtype=torch.float)\n",
        "\n",
        "result=[]\n",
        "for epoch in range(n_epochs):\n",
        "    # Step 2 - Make predictions using the model\n",
        "    y_preds = model(X, params)\n",
        "    # Step 3 - Compute the Loss\n",
        "    loss = mse(y_preds, y)\n",
        "    # Step 4 - Compute the Gradients\n",
        "    loss.backward()\n",
        "    # Step 5 - `step()` to Update the parameters and zero grad as loss is cumulative\n",
        "    params.data -= lr * params.grad\n",
        "    params.grad = None\n",
        "    result.append({'epoch': epoch,\n",
        "                   'loss': loss.item(),\n",
        "                   'w': params.data[0].item(),\n",
        "                   'b': params.data[1].item()})\n",
        "\n",
        "pd.DataFrame(result)"
      ],
      "metadata": {
        "colab": {
          "base_uri": "https://localhost:8080/",
          "height": 424
        },
        "id": "XP1BQaMGPOCf",
        "outputId": "f1516951-0f60-4199-daea-4b6d3d85e965"
      },
      "execution_count": 93,
      "outputs": [
        {
          "output_type": "execute_result",
          "data": {
            "text/plain": [
              "     epoch      loss         w         b\n",
              "0        0  2.823112 -0.136034 -0.251964\n",
              "1        1  2.679903 -0.118150 -0.219448\n",
              "2        2  2.543960 -0.100727 -0.187767\n",
              "3        3  2.414917 -0.083754 -0.156899\n",
              "4        4  2.292421 -0.067219 -0.126824\n",
              "..     ...       ...       ...       ...\n",
              "495    495  0.000808  0.537479  1.025427\n",
              "496    496  0.000808  0.537443  1.025447\n",
              "497    497  0.000808  0.537408  1.025467\n",
              "498    498  0.000807  0.537372  1.025486\n",
              "499    499  0.000807  0.537337  1.025506\n",
              "\n",
              "[500 rows x 4 columns]"
            ],
            "text/html": [
              "\n",
              "  <div id=\"df-c66d1555-4f37-4129-a397-b30cf20099a2\" class=\"colab-df-container\">\n",
              "    <div>\n",
              "<style scoped>\n",
              "    .dataframe tbody tr th:only-of-type {\n",
              "        vertical-align: middle;\n",
              "    }\n",
              "\n",
              "    .dataframe tbody tr th {\n",
              "        vertical-align: top;\n",
              "    }\n",
              "\n",
              "    .dataframe thead th {\n",
              "        text-align: right;\n",
              "    }\n",
              "</style>\n",
              "<table border=\"1\" class=\"dataframe\">\n",
              "  <thead>\n",
              "    <tr style=\"text-align: right;\">\n",
              "      <th></th>\n",
              "      <th>epoch</th>\n",
              "      <th>loss</th>\n",
              "      <th>w</th>\n",
              "      <th>b</th>\n",
              "    </tr>\n",
              "  </thead>\n",
              "  <tbody>\n",
              "    <tr>\n",
              "      <th>0</th>\n",
              "      <td>0</td>\n",
              "      <td>2.823112</td>\n",
              "      <td>-0.136034</td>\n",
              "      <td>-0.251964</td>\n",
              "    </tr>\n",
              "    <tr>\n",
              "      <th>1</th>\n",
              "      <td>1</td>\n",
              "      <td>2.679903</td>\n",
              "      <td>-0.118150</td>\n",
              "      <td>-0.219448</td>\n",
              "    </tr>\n",
              "    <tr>\n",
              "      <th>2</th>\n",
              "      <td>2</td>\n",
              "      <td>2.543960</td>\n",
              "      <td>-0.100727</td>\n",
              "      <td>-0.187767</td>\n",
              "    </tr>\n",
              "    <tr>\n",
              "      <th>3</th>\n",
              "      <td>3</td>\n",
              "      <td>2.414917</td>\n",
              "      <td>-0.083754</td>\n",
              "      <td>-0.156899</td>\n",
              "    </tr>\n",
              "    <tr>\n",
              "      <th>4</th>\n",
              "      <td>4</td>\n",
              "      <td>2.292421</td>\n",
              "      <td>-0.067219</td>\n",
              "      <td>-0.126824</td>\n",
              "    </tr>\n",
              "    <tr>\n",
              "      <th>...</th>\n",
              "      <td>...</td>\n",
              "      <td>...</td>\n",
              "      <td>...</td>\n",
              "      <td>...</td>\n",
              "    </tr>\n",
              "    <tr>\n",
              "      <th>495</th>\n",
              "      <td>495</td>\n",
              "      <td>0.000808</td>\n",
              "      <td>0.537479</td>\n",
              "      <td>1.025427</td>\n",
              "    </tr>\n",
              "    <tr>\n",
              "      <th>496</th>\n",
              "      <td>496</td>\n",
              "      <td>0.000808</td>\n",
              "      <td>0.537443</td>\n",
              "      <td>1.025447</td>\n",
              "    </tr>\n",
              "    <tr>\n",
              "      <th>497</th>\n",
              "      <td>497</td>\n",
              "      <td>0.000808</td>\n",
              "      <td>0.537408</td>\n",
              "      <td>1.025467</td>\n",
              "    </tr>\n",
              "    <tr>\n",
              "      <th>498</th>\n",
              "      <td>498</td>\n",
              "      <td>0.000807</td>\n",
              "      <td>0.537372</td>\n",
              "      <td>1.025486</td>\n",
              "    </tr>\n",
              "    <tr>\n",
              "      <th>499</th>\n",
              "      <td>499</td>\n",
              "      <td>0.000807</td>\n",
              "      <td>0.537337</td>\n",
              "      <td>1.025506</td>\n",
              "    </tr>\n",
              "  </tbody>\n",
              "</table>\n",
              "<p>500 rows × 4 columns</p>\n",
              "</div>\n",
              "    <div class=\"colab-df-buttons\">\n",
              "\n",
              "  <div class=\"colab-df-container\">\n",
              "    <button class=\"colab-df-convert\" onclick=\"convertToInteractive('df-c66d1555-4f37-4129-a397-b30cf20099a2')\"\n",
              "            title=\"Convert this dataframe to an interactive table.\"\n",
              "            style=\"display:none;\">\n",
              "\n",
              "  <svg xmlns=\"http://www.w3.org/2000/svg\" height=\"24px\" viewBox=\"0 -960 960 960\">\n",
              "    <path d=\"M120-120v-720h720v720H120Zm60-500h600v-160H180v160Zm220 220h160v-160H400v160Zm0 220h160v-160H400v160ZM180-400h160v-160H180v160Zm440 0h160v-160H620v160ZM180-180h160v-160H180v160Zm440 0h160v-160H620v160Z\"/>\n",
              "  </svg>\n",
              "    </button>\n",
              "\n",
              "  <style>\n",
              "    .colab-df-container {\n",
              "      display:flex;\n",
              "      gap: 12px;\n",
              "    }\n",
              "\n",
              "    .colab-df-convert {\n",
              "      background-color: #E8F0FE;\n",
              "      border: none;\n",
              "      border-radius: 50%;\n",
              "      cursor: pointer;\n",
              "      display: none;\n",
              "      fill: #1967D2;\n",
              "      height: 32px;\n",
              "      padding: 0 0 0 0;\n",
              "      width: 32px;\n",
              "    }\n",
              "\n",
              "    .colab-df-convert:hover {\n",
              "      background-color: #E2EBFA;\n",
              "      box-shadow: 0px 1px 2px rgba(60, 64, 67, 0.3), 0px 1px 3px 1px rgba(60, 64, 67, 0.15);\n",
              "      fill: #174EA6;\n",
              "    }\n",
              "\n",
              "    .colab-df-buttons div {\n",
              "      margin-bottom: 4px;\n",
              "    }\n",
              "\n",
              "    [theme=dark] .colab-df-convert {\n",
              "      background-color: #3B4455;\n",
              "      fill: #D2E3FC;\n",
              "    }\n",
              "\n",
              "    [theme=dark] .colab-df-convert:hover {\n",
              "      background-color: #434B5C;\n",
              "      box-shadow: 0px 1px 3px 1px rgba(0, 0, 0, 0.15);\n",
              "      filter: drop-shadow(0px 1px 2px rgba(0, 0, 0, 0.3));\n",
              "      fill: #FFFFFF;\n",
              "    }\n",
              "  </style>\n",
              "\n",
              "    <script>\n",
              "      const buttonEl =\n",
              "        document.querySelector('#df-c66d1555-4f37-4129-a397-b30cf20099a2 button.colab-df-convert');\n",
              "      buttonEl.style.display =\n",
              "        google.colab.kernel.accessAllowed ? 'block' : 'none';\n",
              "\n",
              "      async function convertToInteractive(key) {\n",
              "        const element = document.querySelector('#df-c66d1555-4f37-4129-a397-b30cf20099a2');\n",
              "        const dataTable =\n",
              "          await google.colab.kernel.invokeFunction('convertToInteractive',\n",
              "                                                    [key], {});\n",
              "        if (!dataTable) return;\n",
              "\n",
              "        const docLinkHtml = 'Like what you see? Visit the ' +\n",
              "          '<a target=\"_blank\" href=https://colab.research.google.com/notebooks/data_table.ipynb>data table notebook</a>'\n",
              "          + ' to learn more about interactive tables.';\n",
              "        element.innerHTML = '';\n",
              "        dataTable['output_type'] = 'display_data';\n",
              "        await google.colab.output.renderOutput(dataTable, element);\n",
              "        const docLink = document.createElement('div');\n",
              "        docLink.innerHTML = docLinkHtml;\n",
              "        element.appendChild(docLink);\n",
              "      }\n",
              "    </script>\n",
              "  </div>\n",
              "\n",
              "\n",
              "<div id=\"df-4b4eae57-4bcb-45d2-b4d9-7046418d06ba\">\n",
              "  <button class=\"colab-df-quickchart\" onclick=\"quickchart('df-4b4eae57-4bcb-45d2-b4d9-7046418d06ba')\"\n",
              "            title=\"Suggest charts\"\n",
              "            style=\"display:none;\">\n",
              "\n",
              "<svg xmlns=\"http://www.w3.org/2000/svg\" height=\"24px\"viewBox=\"0 0 24 24\"\n",
              "     width=\"24px\">\n",
              "    <g>\n",
              "        <path d=\"M19 3H5c-1.1 0-2 .9-2 2v14c0 1.1.9 2 2 2h14c1.1 0 2-.9 2-2V5c0-1.1-.9-2-2-2zM9 17H7v-7h2v7zm4 0h-2V7h2v10zm4 0h-2v-4h2v4z\"/>\n",
              "    </g>\n",
              "</svg>\n",
              "  </button>\n",
              "\n",
              "<style>\n",
              "  .colab-df-quickchart {\n",
              "      --bg-color: #E8F0FE;\n",
              "      --fill-color: #1967D2;\n",
              "      --hover-bg-color: #E2EBFA;\n",
              "      --hover-fill-color: #174EA6;\n",
              "      --disabled-fill-color: #AAA;\n",
              "      --disabled-bg-color: #DDD;\n",
              "  }\n",
              "\n",
              "  [theme=dark] .colab-df-quickchart {\n",
              "      --bg-color: #3B4455;\n",
              "      --fill-color: #D2E3FC;\n",
              "      --hover-bg-color: #434B5C;\n",
              "      --hover-fill-color: #FFFFFF;\n",
              "      --disabled-bg-color: #3B4455;\n",
              "      --disabled-fill-color: #666;\n",
              "  }\n",
              "\n",
              "  .colab-df-quickchart {\n",
              "    background-color: var(--bg-color);\n",
              "    border: none;\n",
              "    border-radius: 50%;\n",
              "    cursor: pointer;\n",
              "    display: none;\n",
              "    fill: var(--fill-color);\n",
              "    height: 32px;\n",
              "    padding: 0;\n",
              "    width: 32px;\n",
              "  }\n",
              "\n",
              "  .colab-df-quickchart:hover {\n",
              "    background-color: var(--hover-bg-color);\n",
              "    box-shadow: 0 1px 2px rgba(60, 64, 67, 0.3), 0 1px 3px 1px rgba(60, 64, 67, 0.15);\n",
              "    fill: var(--button-hover-fill-color);\n",
              "  }\n",
              "\n",
              "  .colab-df-quickchart-complete:disabled,\n",
              "  .colab-df-quickchart-complete:disabled:hover {\n",
              "    background-color: var(--disabled-bg-color);\n",
              "    fill: var(--disabled-fill-color);\n",
              "    box-shadow: none;\n",
              "  }\n",
              "\n",
              "  .colab-df-spinner {\n",
              "    border: 2px solid var(--fill-color);\n",
              "    border-color: transparent;\n",
              "    border-bottom-color: var(--fill-color);\n",
              "    animation:\n",
              "      spin 1s steps(1) infinite;\n",
              "  }\n",
              "\n",
              "  @keyframes spin {\n",
              "    0% {\n",
              "      border-color: transparent;\n",
              "      border-bottom-color: var(--fill-color);\n",
              "      border-left-color: var(--fill-color);\n",
              "    }\n",
              "    20% {\n",
              "      border-color: transparent;\n",
              "      border-left-color: var(--fill-color);\n",
              "      border-top-color: var(--fill-color);\n",
              "    }\n",
              "    30% {\n",
              "      border-color: transparent;\n",
              "      border-left-color: var(--fill-color);\n",
              "      border-top-color: var(--fill-color);\n",
              "      border-right-color: var(--fill-color);\n",
              "    }\n",
              "    40% {\n",
              "      border-color: transparent;\n",
              "      border-right-color: var(--fill-color);\n",
              "      border-top-color: var(--fill-color);\n",
              "    }\n",
              "    60% {\n",
              "      border-color: transparent;\n",
              "      border-right-color: var(--fill-color);\n",
              "    }\n",
              "    80% {\n",
              "      border-color: transparent;\n",
              "      border-right-color: var(--fill-color);\n",
              "      border-bottom-color: var(--fill-color);\n",
              "    }\n",
              "    90% {\n",
              "      border-color: transparent;\n",
              "      border-bottom-color: var(--fill-color);\n",
              "    }\n",
              "  }\n",
              "</style>\n",
              "\n",
              "  <script>\n",
              "    async function quickchart(key) {\n",
              "      const quickchartButtonEl =\n",
              "        document.querySelector('#' + key + ' button');\n",
              "      quickchartButtonEl.disabled = true;  // To prevent multiple clicks.\n",
              "      quickchartButtonEl.classList.add('colab-df-spinner');\n",
              "      try {\n",
              "        const charts = await google.colab.kernel.invokeFunction(\n",
              "            'suggestCharts', [key], {});\n",
              "      } catch (error) {\n",
              "        console.error('Error during call to suggestCharts:', error);\n",
              "      }\n",
              "      quickchartButtonEl.classList.remove('colab-df-spinner');\n",
              "      quickchartButtonEl.classList.add('colab-df-quickchart-complete');\n",
              "    }\n",
              "    (() => {\n",
              "      let quickchartButtonEl =\n",
              "        document.querySelector('#df-4b4eae57-4bcb-45d2-b4d9-7046418d06ba button');\n",
              "      quickchartButtonEl.style.display =\n",
              "        google.colab.kernel.accessAllowed ? 'block' : 'none';\n",
              "    })();\n",
              "  </script>\n",
              "</div>\n",
              "    </div>\n",
              "  </div>\n"
            ],
            "application/vnd.google.colaboratory.intrinsic+json": {
              "type": "dataframe",
              "summary": "{\n  \"name\": \"pd\",\n  \"rows\": 500,\n  \"fields\": [\n    {\n      \"column\": \"epoch\",\n      \"properties\": {\n        \"dtype\": \"number\",\n        \"std\": 144,\n        \"min\": 0,\n        \"max\": 499,\n        \"num_unique_values\": 500,\n        \"samples\": [\n          361,\n          73,\n          374\n        ],\n        \"semantic_type\": \"\",\n        \"description\": \"\"\n      }\n    },\n    {\n      \"column\": \"loss\",\n      \"properties\": {\n        \"dtype\": \"number\",\n        \"std\": 0.3859837314039771,\n        \"min\": 0.0008071765769273043,\n        \"max\": 2.8231124877929688,\n        \"num_unique_values\": 500,\n        \"samples\": [\n          0.0008345323731191456,\n          0.06396520882844925,\n          0.0008314963197335601\n        ],\n        \"semantic_type\": \"\",\n        \"description\": \"\"\n      }\n    },\n    {\n      \"column\": \"w\",\n      \"properties\": {\n        \"dtype\": \"number\",\n        \"std\": 0.12293242046881314,\n        \"min\": -0.136033833026886,\n        \"max\": 0.547053873538971,\n        \"num_unique_values\": 500,\n        \"samples\": [\n          0.5426429510116577,\n          0.4532678425312042,\n          0.5421110987663269\n        ],\n        \"semantic_type\": \"\",\n        \"description\": \"\"\n      }\n    },\n    {\n      \"column\": \"b\",\n      \"properties\": {\n        \"dtype\": \"number\",\n        \"std\": 0.2337344303967858,\n        \"min\": -0.25196367502212524,\n        \"max\": 1.0255059003829956,\n        \"num_unique_values\": 500,\n        \"samples\": [\n          1.022439956665039,\n          0.8254442811012268,\n          1.0227731466293335\n        ],\n        \"semantic_type\": \"\",\n        \"description\": \"\"\n      }\n    }\n  ]\n}"
            }
          },
          "metadata": {},
          "execution_count": 93
        }
      ]
    },
    {
      "cell_type": "code",
      "source": [
        "# Plot the result\n",
        "fig, ax = plt.subplots()\n",
        "ax.scatter(X, y, label='True')\n",
        "ax.scatter(X, y_preds.detach().cpu(), label='Pred')\n",
        "ax.legend();"
      ],
      "metadata": {
        "colab": {
          "base_uri": "https://localhost:8080/",
          "height": 430
        },
        "id": "2H7ABt0YSzAV",
        "outputId": "277e6c7a-2664-49f6-f3ae-673d80c724de"
      },
      "execution_count": 94,
      "outputs": [
        {
          "output_type": "display_data",
          "data": {
            "text/plain": [
              "<Figure size 640x480 with 1 Axes>"
            ],
            "image/png": "[encoded data removed]"
          },
          "metadata": {}
        }
      ]
    },
    {
      "cell_type": "code",
      "source": [
        "# Plotting the loss curve\n",
        "result_loss = [r['loss'] for r in result]\n",
        "plt.plot(result_loss)\n",
        "plt.title('Loss Curve');"
      ],
      "metadata": {
        "id": "QJ0A6X2BTVIs",
        "outputId": "c35af4d7-a84a-4fa7-d07e-8364d47ea346",
        "colab": {
          "base_uri": "https://localhost:8080/",
          "height": 452
        }
      },
      "execution_count": 97,
      "outputs": [
        {
          "output_type": "display_data",
          "data": {
            "text/plain": [
              "<Figure size 640x480 with 1 Axes>"
            ],
            "image/png": "[encoded data removed]"
          },
          "metadata": {}
        }
      ]
    },
    {
      "cell_type": "markdown",
      "source": [
        "## Optimizer - Basic Setup\n",
        "\n",
        "PyTorch opimitzers (like **SGD** or **Adam**) takes the parameters we want to update, the learning rate we want to use and performs the updates through its `step()` method. This replaces the manual updating of parameters in the training loop\n"
      ],
      "metadata": {
        "id": "cuYDrPVMYu5J"
      }
    },
    {
      "cell_type": "code",
      "source": [
        "class BasicOptim:\n",
        "  def __init__(self, params, lr):\n",
        "    self.params = params\n",
        "\n",
        "  def step(self, *args, **kwargs):\n",
        "    self.params.data -= self.lr * self.params.grad\n",
        "\n",
        "  def zero_grad(self, *args, **kwargs):\n",
        "    self.params.grad = None"
      ],
      "metadata": {
        "id": "rhyT240QT1Hs"
      },
      "execution_count": 116,
      "outputs": []
    },
    {
      "cell_type": "markdown",
      "source": [
        "## A Typical Training/Validation Loop\n",
        "\n",
        "With all above setup, we can define a typical Training and Validation loop for our regression problem"
      ],
      "metadata": {
        "id": "SW-rbfIIpwl7"
      }
    },
    {
      "cell_type": "markdown",
      "source": [
        "In PyTorch, a model is represented by a regular Python class that inherits `nn.Module`\n",
        "\n",
        "`__init__(self)`: defines the parts that make up the model (parameters)\n",
        "\n",
        "`forward(self)`: defines the actual computation which outputs the prediction.\n",
        "\n",
        "> forward(x) method should not be called directly. You should call the whole model itself, as in model(x) to perform a forward pass and output predictions."
      ],
      "metadata": {
        "id": "-tOkKKhwAn1Q"
      }
    },
    {
      "cell_type": "code",
      "source": [
        "import torch\n",
        "import torch.nn as nn\n",
        "\n",
        "class RegressionModel(nn.Module):\n",
        "    def __init__(self):\n",
        "        super().__init__()\n",
        "        self.w = nn.Parameter(torch.randn(1, requires_grad=True, dtype=torch.float))\n",
        "        self.b = nn.Parameter(torch.randn(1, requires_grad=True, dtype=torch.float))\n",
        "\n",
        "    def forward(self, X):\n",
        "        return self.w * X + self.b\n",
        "\n",
        "custom_model = RegressionModel()"
      ],
      "metadata": {
        "id": "Rusk4fJGum8L"
      },
      "execution_count": 120,
      "outputs": []
    },
    {
      "cell_type": "code",
      "source": [
        "class BasicOptim:\n",
        "  def __init__(self, params, lr):\n",
        "    self.params = list(params)\n",
        "    self.lr = lr\n",
        "\n",
        "  def step(self):\n",
        "    for p in self.params:\n",
        "        p.data -= self.lr * p.grad\n",
        "\n",
        "  def zero_grad(self, *args, **kwargs):\n",
        "    for p in self.params:\n",
        "        p.grad = None\n",
        "\n",
        "custom_optimizer = BasicOptim(params=custom_model.parameters(), lr=0.01)"
      ],
      "metadata": {
        "id": "TGMrHaj4vFt2"
      },
      "execution_count": 121,
      "outputs": []
    },
    {
      "cell_type": "code",
      "source": [
        "n_epochs = 500\n",
        "\n",
        "def train_step(X, y):\n",
        "    # Sets model to TRAIN mode\n",
        "    custom_model.train()\n",
        "    # Makes predictions\n",
        "    y_preds = custom_model(X)\n",
        "    # Computes loss\n",
        "    loss = mse(y_preds, y)\n",
        "    # Computes gradients\n",
        "    loss.backward()\n",
        "    # Updates parameters and zeroes gradients\n",
        "    custom_optimizer.step()\n",
        "    custom_optimizer.zero_grad()\n",
        "    return loss\n",
        "\n",
        "for epoch in range(n_epochs):\n",
        "    train_step(X, y)\n",
        "\n",
        "print(custom_model.state_dict())"
      ],
      "metadata": {
        "colab": {
          "base_uri": "https://localhost:8080/"
        },
        "id": "Ev1sSl9fUVvN",
        "outputId": "0e642480-c597-43e5-a5b5-99ef0b99f97e"
      },
      "execution_count": 122,
      "outputs": [
        {
          "output_type": "stream",
          "name": "stdout",
          "text": [
            "OrderedDict([('w', tensor([0.5520])), ('b', tensor([1.0174]))])\n"
          ]
        }
      ]
    },
    {
      "cell_type": "code",
      "source": [],
      "metadata": {
        "id": "jSZi8jhLzUtt"
      },
      "execution_count": null,
      "outputs": []
    }
  ]
}