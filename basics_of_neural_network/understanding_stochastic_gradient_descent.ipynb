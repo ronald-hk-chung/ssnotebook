{
  "nbformat": 4,
  "nbformat_minor": 0,
  "metadata": {
    "colab": {
      "provenance": [],
      "authorship_tag": "ABX9TyPD7mtrDTo/eVTnvKbq3Hh7",
      "include_colab_link": true
    },
    "kernelspec": {
      "name": "python3",
      "display_name": "Python 3"
    },
    "language_info": {
      "name": "python"
    }
  },
  "cells": [
    {
      "cell_type": "markdown",
      "metadata": {
        "id": "view-in-github",
        "colab_type": "text"
      },
      "source": [
        "<a href=\"https://colab.research.google.com/github/ronald-hk-chung/ssnotebook/blob/main/basics_of_neural_network/understanding_stochastic_gradient_descent.ipynb\" target=\"_parent\"><img src=\"https://colab.research.google.com/assets/colab-badge.svg\" alt=\"Open In Colab\"/></a>"
      ]
    },
    {
      "cell_type": "markdown",
      "source": [
        "# Understanding Stochastic Gradient Descent\n",
        "\n",
        "> Gradient descent is a method for unconstrained mathematical optimization. It is a first-order iterative algorithm for finding a local minimum of a differentiable multivariate function.<sup>[1]</sup>\n",
        "\n",
        "The idea is to take repeated steps in the opposite direction of the gradient of the function at the current point (because this is the direction of steepest descent) to achieve the best possible set of parameters / coefficients for a given model, data points to find the local minimum of a loss function.\n",
        "\n",
        "A simple extension of gradient descent, stochastic gradient descent, serves as the most basic algorithm used for training most deep networks today.\n",
        "\n",
        "Reference:\n",
        "\n",
        "1. https://en.wikipedia.org/wiki/Gradient_descent"
      ],
      "metadata": {
        "id": "5ixVBGVVuoEg"
      }
    },
    {
      "cell_type": "markdown",
      "source": [
        "## Steps of Stochastic Gradient Descent (SGD)\n",
        "\n",
        "0. Define the model for the problem\n",
        "1. Initialize the weights.\n",
        "2. Make predictions using the model with initialised weights\n",
        "3. Compute the Loss\n",
        "4. Compute the Gradients\n",
        "5. *Step* to Update the parameters\n",
        "6. Go back to the step 2, and *repeat* the process.\n",
        "7. Iterate until you decide to *stop* the training process (for instance, because the model is good enough or you don't want to wait any longer).\n",
        "\n",
        "<img src=\"https://github.com/ronald-hk-chung/ssnotebook/blob/main/basics_of_neural_network/assets/steps_of_SGD.jpg?raw=true\">"
      ],
      "metadata": {
        "id": "0Odl7bAcyjBd"
      }
    },
    {
      "cell_type": "markdown",
      "source": [
        "## Defining a simple scalar function\n",
        "\n",
        "$y = w \\times X + b + noise$\n",
        "\n",
        "> Note: noise is added to the scalar function for synthetic data generation"
      ],
      "metadata": {
        "id": "amAoDn43w_ea"
      }
    },
    {
      "cell_type": "markdown",
      "source": [
        "## Generate Synthetic data and split into training and valid dataset"
      ],
      "metadata": {
        "id": "BNydetEp-1J9"
      }
    },
    {
      "cell_type": "code",
      "execution_count": null,
      "metadata": {
        "colab": {
          "base_uri": "https://localhost:8080/",
          "height": 468
        },
        "id": "g1CqbgMetvOq",
        "outputId": "3029f9af-aba5-4052-b34e-613548809417"
      },
      "outputs": [
        {
          "output_type": "display_data",
          "data": {
            "text/plain": [
              "<Figure size 1000x500 with 2 Axes>"
            ],
            "image/png": "[encoded data removed]"
          },
          "metadata": {}
        }
      ],
      "source": [
        "import torch\n",
        "import matplotlib.pyplot as plt\n",
        "\n",
        "# To ensure reproducibility\n",
        "torch.manual_seed(42)\n",
        "\n",
        "# Generating synthetic data\n",
        "X = torch.rand(100) # random numbers from a uniform distribution on the interval (0, 1)\n",
        "w_true, b_true = 0.5, 1\n",
        "noise = torch.rand(100) * 0.1\n",
        "y = w_true * X + b_true + noise\n",
        "\n",
        "# Using 80:20 training and valid data split\n",
        "X_train, y_train = X[:80], y[:80]\n",
        "X_valid, y_valid = X[81:100], y[81:100]\n",
        "\n",
        "# Plot synthetic data\n",
        "fig, (ax1, ax2) = plt.subplots(1,2, sharey=True, figsize=(10,5))\n",
        "ax1.scatter(X_train, y_train, color=\"b\")\n",
        "ax1.set_title(\"Synthetic Training Data\")\n",
        "ax2.scatter(X_valid, y_valid, color='g')\n",
        "ax2.set_title(\"Synthetic Valid Data\");"
      ]
    },
    {
      "cell_type": "markdown",
      "source": [
        "## Step 0 - Define a model for the problem\n",
        "\n",
        "We define a function / model `model` which is a scalar function for the regression problem (same as the syntehtic data generations without noise)"
      ],
      "metadata": {
        "id": "UmMhQEz6xECc"
      }
    },
    {
      "cell_type": "code",
      "source": [
        "# Define function f to predict\n",
        "def model(X, params):\n",
        "    w, b = params\n",
        "    return w * X + b"
      ],
      "metadata": {
        "id": "QfTYTRJLxPSO"
      },
      "execution_count": null,
      "outputs": []
    },
    {
      "cell_type": "markdown",
      "source": [
        "## Step 1 - Initialize the weights\n",
        "\n",
        "For training a model, we need to randomly initialize the parameters / weights, in this case, we need to initialise w1, w2, and b from a scalar function model.\n",
        "\n",
        "Tensor for training data requires the computation of its gradients, which is what the `requires_grad=True` argument is good for.\n"
      ],
      "metadata": {
        "id": "pAFxuM66EPVX"
      }
    },
    {
      "cell_type": "code",
      "source": [
        "# generate parameters from random numbers from a normal distribution with mean 0 and variance 1\n",
        "params = torch.randn(2, requires_grad=True, dtype=torch.float)\n",
        "orig_params = params.clone()\n",
        "# b = torch.randn(1, requires_grad=True, dtype=torch.float)\n",
        "print(params) # w, b"
      ],
      "metadata": {
        "colab": {
          "base_uri": "https://localhost:8080/"
        },
        "id": "NFW7JLfG7Kuq",
        "outputId": "9c3d646e-7ae5-4574-8778-1cf42e6762b5"
      },
      "execution_count": null,
      "outputs": [
        {
          "output_type": "stream",
          "name": "stdout",
          "text": [
            "tensor([-0.6430,  0.7113], requires_grad=True)\n"
          ]
        }
      ]
    },
    {
      "cell_type": "markdown",
      "source": [
        "## Step 2 - Make predictions using the model with initialised weights"
      ],
      "metadata": {
        "id": "btg3ydlnx2lC"
      }
    },
    {
      "cell_type": "code",
      "source": [
        "# Make predictions using the model with initialised random weights\n",
        "y_preds = model(X_train, params)\n",
        "\n",
        "# Plot out the prediction vs. true label\n",
        "fig, ax = plt.subplots()\n",
        "ax.scatter(X_train, y_train, label='True')\n",
        "ax.scatter(X_train, y_preds.detach().cpu(), label='Pred')\n",
        "ax.legend();"
      ],
      "metadata": {
        "colab": {
          "base_uri": "https://localhost:8080/",
          "height": 430
        },
        "id": "CIs6UkmCy0gX",
        "outputId": "08bed7b9-c4fc-4be2-c87e-e7438e2d91c6"
      },
      "execution_count": null,
      "outputs": [
        {
          "output_type": "display_data",
          "data": {
            "text/plain": [
              "<Figure size 640x480 with 1 Axes>"
            ],
            "image/png": "[encoded data removed]"
          },
          "metadata": {}
        }
      ]
    },
    {
      "cell_type": "markdown",
      "source": [
        "## Step 3 - Compute the Loss\n",
        "\n",
        "For a regression problem, the loss is given by the **Mean Square Error (MSE)**\n",
        "\n",
        "$MSE=\\frac{1}{N} \\sum_{i=1}^N\\left(y_i-\\hat{y}_i\\right)^2$\n",
        "\n",
        " that is, the average of all squared differences labels $y$ and predictions. $w_1 \\times X^2 + w_2 \\times X + b$:\n",
        "\n",
        "> Add blockquote\n",
        "\n",
        "\n",
        "\n"
      ],
      "metadata": {
        "id": "8uelqZeezmnt"
      }
    },
    {
      "cell_type": "code",
      "source": [
        "# define loss function (MSE - Mean Squared Error)\n",
        "def mse(preds, targets):\n",
        "  return ((preds - targets)**2).mean()"
      ],
      "metadata": {
        "id": "l_1a7268vTVd"
      },
      "execution_count": null,
      "outputs": []
    },
    {
      "cell_type": "code",
      "source": [
        "# Calculate Loss\n",
        "loss = mse(y_preds, y_train)\n",
        "print(f'Loss: {loss.item()}')"
      ],
      "metadata": {
        "colab": {
          "base_uri": "https://localhost:8080/"
        },
        "id": "JRoD1sDkBFU4",
        "outputId": "acc9c9bd-63c7-4980-ae5c-9e9c7c049f18"
      },
      "execution_count": null,
      "outputs": [
        {
          "output_type": "stream",
          "name": "stdout",
          "text": [
            "Loss: 0.9970607757568359\n"
          ]
        }
      ]
    },
    {
      "cell_type": "markdown",
      "source": [
        "## Step 4 - Compute the Gradients\n",
        "\n",
        "A graident is a **partial derivative** where it tells you how much a given quantity changes when there is a slight variation with respect to the **single parameter**\n",
        "\n",
        "$\n",
        "\\begin{gathered}\n",
        "\\frac{\\partial MSE}{\\partial b}=\\frac{\\partial MSE}{\\partial \\hat{y}_i} \\cdot \\frac{\\partial \\hat{y}_i}{\\partial b}=\\frac{1}{N} \\sum_{i=1}^N 2\\left(y_i-b-w x_i\\right) \\cdot(-1)=-2 \\frac{1}{N} \\sum_{i=1}^N\\left(y_i-\\hat{y}_i\\right) \\\\\n",
        "\\frac{\\partial M S E}{\\partial w}=\\frac{\\partial M S E}{\\partial \\hat{y}_i} \\cdot \\frac{\\partial \\hat{y}_i}{\\partial }=\\frac{1}{N} \\sum_{i=1}^N 2\\left(y_i-b-w x_i\\right) \\cdot\\left(-x_i\\right)=-2 \\frac{1}{N} \\sum_{i=1}^N x_i\\left(y_i-\\hat{y}_i\\right)\n",
        "\\end{gathered}\n",
        "$\n",
        "\n",
        "**Autograd** is PyTorch's automatic differentiaion package. With **Autograd**, we can compute the partial derivatives of the **loss** w.r.t. our parameters by invoking `backward()` method from the corresponding Python variable -> `loss.backward()`\n",
        "\n",
        "`grad` attribute can be used to inspect the actual values of the gradients w.r.t. the parameter, e.g. `w.grad`\n",
        "\n",
        "Note that the gradients are accumulated everytime `backward()` is called, we need to zero the grade by setting `parameter.grad = None`\n",
        "\n"
      ],
      "metadata": {
        "id": "IYLARVZi1bzV"
      }
    },
    {
      "cell_type": "code",
      "source": [
        "# Manual computation of gradients\n",
        "b_grad = -2 * (y_preds - y_train).mean()\n",
        "w_grad = -2 * (X_train * (y_preds - y_train)).mean()\n",
        "print(w_grad, b_grad)"
      ],
      "metadata": {
        "colab": {
          "base_uri": "https://localhost:8080/"
        },
        "id": "mwytaEsKvTTO",
        "outputId": "c8f872ee-56ea-40ed-c339-40458017612f"
      },
      "execution_count": null,
      "outputs": [
        {
          "output_type": "stream",
          "name": "stdout",
          "text": [
            "tensor(1.1966, grad_fn=<MulBackward0>) tensor(1.8782, grad_fn=<MulBackward0>)\n"
          ]
        }
      ]
    },
    {
      "cell_type": "code",
      "source": [
        "# computation using autograd\n",
        "loss.backward()\n",
        "print(params.grad)"
      ],
      "metadata": {
        "id": "kxn1Cbqa-FVv",
        "colab": {
          "base_uri": "https://localhost:8080/"
        },
        "outputId": "f4ccb4ea-5d75-4bc7-fb79-ac4a26d696a7"
      },
      "execution_count": null,
      "outputs": [
        {
          "output_type": "stream",
          "name": "stdout",
          "text": [
            "tensor([-1.1966, -1.8782])\n"
          ]
        }
      ]
    },
    {
      "cell_type": "markdown",
      "source": [
        "## Step 5 - `step()` to Update the parameters\n",
        "\n",
        "Use the gradients to update hte parameters, we reverse the sign for the gradient for hte update to minimize the `loss` the learning rate $\\eta$ is a multiplicative factor that need to be applied to the gradient for the parameter update.\n",
        "\n",
        "$\\begin{aligned} & w=w-\\eta \\frac{\\partial MSE}{\\partial w} \\\\ & b=b-\\eta \\frac{\\partial MSE}{\\partial b}\\end{aligned}$"
      ],
      "metadata": {
        "id": "aSXYYKitMutP"
      }
    },
    {
      "cell_type": "code",
      "source": [
        "# Step for Gradient descent\n",
        "lr = 0.1\n",
        "params.data -= lr * params.grad\n",
        "params.grad = None"
      ],
      "metadata": {
        "id": "R8bnXbYcEsPo"
      },
      "execution_count": null,
      "outputs": []
    },
    {
      "cell_type": "code",
      "source": [
        "# Make new prediction\n",
        "y_preds_orig = y_preds.clone()\n",
        "y_preds = model(X_train, params)\n",
        "print(f'Old loss: {mse(y_preds_orig, y_train)}')\n",
        "print(f'New loss: {mse(y_preds, y_train)}')\n",
        "\n",
        "# Plot the result\n",
        "fig, ax = plt.subplots()\n",
        "ax.scatter(X_train, y_train, label='True')\n",
        "ax.scatter(X_train, y_preds_orig.detach().cpu(), label='1st Pred')\n",
        "ax.scatter(X_train, y_preds.detach().cpu(), label='2nd Pred')\n",
        "ax.legend();"
      ],
      "metadata": {
        "colab": {
          "base_uri": "https://localhost:8080/",
          "height": 465
        },
        "id": "uHX_UxszFaw0",
        "outputId": "58c42f32-f59a-4207-a3e2-6be52627283c"
      },
      "execution_count": null,
      "outputs": [
        {
          "output_type": "stream",
          "name": "stdout",
          "text": [
            "Old loss: 0.9970607757568359\n",
            "New loss: 0.5655620694160461\n"
          ]
        },
        {
          "output_type": "display_data",
          "data": {
            "text/plain": [
              "<Figure size 640x480 with 1 Axes>"
            ],
            "image/png": "[encoded data removed]"
          },
          "metadata": {}
        }
      ]
    },
    {
      "cell_type": "markdown",
      "source": [
        "##Step 6 - Go back to the step 2, and *repeat* the process.\n",
        "\n",
        "Using the updated parameters to go back to Step 2, restart the process\n",
        "\n",
        "> An epoch is complete whenever every point has been already used for computing the loss. For batch gradient descent, this is trivial, as it uses all points for computing the loss — one epoch is the same as one update. For stochastic gradient descent, one epoch means N updates, while for mini-batch (of size n), one epoch has N/n updates."
      ],
      "metadata": {
        "id": "HOOhg44zP8-k"
      }
    },
    {
      "cell_type": "code",
      "source": [
        "lr = 0.1\n",
        "n_epochs = 20\n",
        "\n",
        "# Step 1 - Initialize the weights\n",
        "params = torch.randn(2, requires_grad=True, dtype=torch.float)\n",
        "\n",
        "for epoch in range(n_epochs):\n",
        "    # Step 2 - Make predictions using the model\n",
        "    y_preds = model(X_train, params)\n",
        "    # Step 3 - Compute the Loss\n",
        "    loss = mse(y_preds, y_train)\n",
        "    # Step 4 - Compute the Gradients\n",
        "    loss.backward()\n",
        "    # Step 5 - `step()` to Update the parameters and zero grad as loss is cumulative\n",
        "    params.data -= lr * params.grad\n",
        "    params.grad = None\n",
        "    print(f'MSE Loss: {loss.item()} | Params: {params.data})')"
      ],
      "metadata": {
        "colab": {
          "base_uri": "https://localhost:8080/"
        },
        "id": "XP1BQaMGPOCf",
        "outputId": "582aa00a-dca4-4816-884e-2338fc3bafd1"
      },
      "execution_count": 308,
      "outputs": [
        {
          "output_type": "stream",
          "name": "stdout",
          "text": [
            "MSE Loss: 1.3635965585708618 | Params: tensor([0.1427, 0.3763]))\n",
            "MSE Loss: 0.7460799217224121 | Params: tensor([0.2400, 0.5476]))\n",
            "MSE Loss: 0.4083805978298187 | Params: tensor([0.3120, 0.6743]))\n",
            "MSE Loss: 0.2237040102481842 | Params: tensor([0.3652, 0.7680]))\n",
            "MSE Loss: 0.1227104440331459 | Params: tensor([0.4046, 0.8373]))\n",
            "MSE Loss: 0.06748040020465851 | Params: tensor([0.4336, 0.8886]))\n",
            "MSE Loss: 0.03727688640356064 | Params: tensor([0.4551, 0.9265]))\n",
            "MSE Loss: 0.02075955644249916 | Params: tensor([0.4710, 0.9546]))\n",
            "MSE Loss: 0.011726738885045052 | Params: tensor([0.4827, 0.9753]))\n",
            "MSE Loss: 0.006786947138607502 | Params: tensor([0.4913, 0.9907]))\n",
            "MSE Loss: 0.004085508640855551 | Params: tensor([0.4977, 1.0020]))\n",
            "MSE Loss: 0.0026081495452672243 | Params: tensor([0.5024, 1.0105]))\n",
            "MSE Loss: 0.0018002006690949202 | Params: tensor([0.5058, 1.0167]))\n",
            "MSE Loss: 0.0013583265244960785 | Params: tensor([0.5084, 1.0213]))\n",
            "MSE Loss: 0.0011166502954438329 | Params: tensor([0.5102, 1.0247]))\n",
            "MSE Loss: 0.0009844552259892225 | Params: tensor([0.5116, 1.0273]))\n",
            "MSE Loss: 0.0009121325565502048 | Params: tensor([0.5126, 1.0292]))\n",
            "MSE Loss: 0.0008725548977963626 | Params: tensor([0.5133, 1.0306]))\n",
            "MSE Loss: 0.0008508823812007904 | Params: tensor([0.5138, 1.0316]))\n",
            "MSE Loss: 0.0008390037110075355 | Params: tensor([0.5141, 1.0324]))\n"
          ]
        }
      ]
    },
    {
      "cell_type": "code",
      "source": [
        "# Plot the result\n",
        "fig, ax = plt.subplots()\n",
        "ax.scatter(X_train, y_train, label='True')\n",
        "ax.scatter(X_train, y_preds.detach().cpu(), label='Pred')\n",
        "ax.legend();"
      ],
      "metadata": {
        "colab": {
          "base_uri": "https://localhost:8080/",
          "height": 430
        },
        "id": "2H7ABt0YSzAV",
        "outputId": "5da3444b-5345-47b9-e252-41d40bf4d82e"
      },
      "execution_count": 299,
      "outputs": [
        {
          "output_type": "display_data",
          "data": {
            "text/plain": [
              "<Figure size 640x480 with 1 Axes>"
            ],
            "image/png": "[encoded data removed]"
          },
          "metadata": {}
        }
      ]
    },
    {
      "cell_type": "markdown",
      "source": [
        "## Optimizer - Basic Setup\n",
        "\n",
        "PyTorch opimitzers (like **SGD** or **Adam**) takes the parameters we want to update, the learning rate we want to use and performs the updates through its `step()` method. This replaces the manual updating of parameters in the training loop\n"
      ],
      "metadata": {
        "id": "cuYDrPVMYu5J"
      }
    },
    {
      "cell_type": "code",
      "source": [
        "class BasicOptim:\n",
        "  def __init__(self, params, lr):\n",
        "    self.params = params\n",
        "\n",
        "  def step(self, *args, **kwargs):\n",
        "    self.params.data -= self.lr * self.params.grad\n",
        "\n",
        "  def zero_grad(self, *args, **kwargs):\n",
        "    self.params.grad = None"
      ],
      "metadata": {
        "id": "rhyT240QT1Hs"
      },
      "execution_count": 309,
      "outputs": []
    },
    {
      "cell_type": "markdown",
      "source": [
        "## A Typical Training/Validation Loop\n",
        "\n",
        "With all above setup, we can define a typical Training and Validation loop for our regression problem"
      ],
      "metadata": {
        "id": "SW-rbfIIpwl7"
      }
    },
    {
      "cell_type": "markdown",
      "source": [
        "In PyTorch, a model is represented by a regular Python class that inherits `nn.Module`\n",
        "\n",
        "`__init__(self)`: defines the parts that make up the model (parameters)\n",
        "\n",
        "`forward(self)`: defines the actual computation which outputs the prediction.\n",
        "\n",
        "> forward(x) method should not be called directly. You should call the whole model itself, as in model(x) to perform a forward pass and output predictions."
      ],
      "metadata": {
        "id": "-tOkKKhwAn1Q"
      }
    },
    {
      "cell_type": "code",
      "source": [
        "import torch\n",
        "import torch.nn as nn\n",
        "\n",
        "class RegressionModel(nn.Module):\n",
        "    def __init__(self):\n",
        "        super().__init__()\n",
        "        self.w = nn.Parameter(torch.randn(1, requires_grad=True, dtype=torch.float))\n",
        "        self.b = nn.Parameter(torch.randn(1, requires_grad=True, dtype=torch.float))\n",
        "\n",
        "    def forward(self, X):\n",
        "        return self.w * X + self.b\n",
        "\n",
        "custom_model = RegressionModel()"
      ],
      "metadata": {
        "id": "Rusk4fJGum8L"
      },
      "execution_count": 380,
      "outputs": []
    },
    {
      "cell_type": "code",
      "source": [
        "class BasicOptim:\n",
        "  def __init__(self, params, lr):\n",
        "    self.params = list(params)\n",
        "    self.lr = lr\n",
        "\n",
        "  def step(self):\n",
        "    for p in self.params:\n",
        "        p.data -= self.lr * p.grad\n",
        "\n",
        "  def zero_grad(self, *args, **kwargs):\n",
        "    for p in self.params:\n",
        "        p.grad = None\n",
        "\n",
        "custom_optimizer = BasicOptim(params=custom_model.parameters(), lr=0.2)"
      ],
      "metadata": {
        "id": "TGMrHaj4vFt2"
      },
      "execution_count": 381,
      "outputs": []
    },
    {
      "cell_type": "code",
      "source": [
        "n_epochs = 100\n",
        "\n",
        "def train_step(X, y):\n",
        "    # Sets model to TRAIN mode\n",
        "    custom_model.train()\n",
        "    # Makes predictions\n",
        "    y_preds = custom_model(X)\n",
        "    # Computes loss\n",
        "    loss = mse(y_preds, y)\n",
        "    # Computes gradients\n",
        "    loss.backward()\n",
        "    # Updates parameters and zeroes gradients\n",
        "    custom_optimizer.step()\n",
        "    custom_optimizer.zero_grad()\n",
        "    return loss\n",
        "\n",
        "for epoch in range(n_epochs):\n",
        "    train_step(X_train, y_train)\n",
        "\n",
        "print(custom_model.state_dict())"
      ],
      "metadata": {
        "colab": {
          "base_uri": "https://localhost:8080/"
        },
        "id": "Ev1sSl9fUVvN",
        "outputId": "fb1acd89-e435-4b08-fcc8-27f8e2bd71f4"
      },
      "execution_count": 386,
      "outputs": [
        {
          "output_type": "stream",
          "name": "stdout",
          "text": [
            "OrderedDict([('w', tensor([0.5102])), ('b', tensor([1.0375]))])\n"
          ]
        }
      ]
    },
    {
      "cell_type": "code",
      "source": [],
      "metadata": {
        "id": "jSZi8jhLzUtt"
      },
      "execution_count": null,
      "outputs": []
    }
  ]
}