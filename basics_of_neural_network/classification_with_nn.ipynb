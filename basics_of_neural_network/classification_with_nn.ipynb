{
  "nbformat": 4,
  "nbformat_minor": 0,
  "metadata": {
    "colab": {
      "provenance": [],
      "gpuType": "T4",
      "authorship_tag": "ABX9TyMpQ7wfTr1LQUc7ewrYY/Ai",
      "include_colab_link": true
    },
    "kernelspec": {
      "name": "python3",
      "display_name": "Python 3"
    },
    "language_info": {
      "name": "python"
    },
    "accelerator": "GPU",
    "widgets": {
      "application/vnd.jupyter.widget-state+json": {
        "7d8d9fcdb0af4c05aa2c176f163f8ccc": {
          "model_module": "@jupyter-widgets/controls",
          "model_name": "HBoxModel",
          "model_module_version": "1.5.0",
          "state": {
            "_dom_classes": [],
            "_model_module": "@jupyter-widgets/controls",
            "_model_module_version": "1.5.0",
            "_model_name": "HBoxModel",
            "_view_count": null,
            "_view_module": "@jupyter-widgets/controls",
            "_view_module_version": "1.5.0",
            "_view_name": "HBoxView",
            "box_style": "",
            "children": [
              "IPY_MODEL_4b95152bf3f543c6946e8a5218d260c2",
              "IPY_MODEL_fab07879d6444c1eadcb6d51053316e3",
              "IPY_MODEL_a9bd83ce3d284f8b8b01d4ed10402ffc"
            ],
            "layout": "IPY_MODEL_de30c3f333d0437d8845da291eb802fc"
          }
        },
        "4b95152bf3f543c6946e8a5218d260c2": {
          "model_module": "@jupyter-widgets/controls",
          "model_name": "HTMLModel",
          "model_module_version": "1.5.0",
          "state": {
            "_dom_classes": [],
            "_model_module": "@jupyter-widgets/controls",
            "_model_module_version": "1.5.0",
            "_model_name": "HTMLModel",
            "_view_count": null,
            "_view_module": "@jupyter-widgets/controls",
            "_view_module_version": "1.5.0",
            "_view_name": "HTMLView",
            "description": "",
            "description_tooltip": null,
            "layout": "IPY_MODEL_b53a9a57b55e4d079e2b567558a92c99",
            "placeholder": "​",
            "style": "IPY_MODEL_17c438747de0487fa678459cda5f47a0",
            "value": "Epochs: 100%"
          }
        },
        "fab07879d6444c1eadcb6d51053316e3": {
          "model_module": "@jupyter-widgets/controls",
          "model_name": "FloatProgressModel",
          "model_module_version": "1.5.0",
          "state": {
            "_dom_classes": [],
            "_model_module": "@jupyter-widgets/controls",
            "_model_module_version": "1.5.0",
            "_model_name": "FloatProgressModel",
            "_view_count": null,
            "_view_module": "@jupyter-widgets/controls",
            "_view_module_version": "1.5.0",
            "_view_name": "ProgressView",
            "bar_style": "success",
            "description": "",
            "description_tooltip": null,
            "layout": "IPY_MODEL_2ea50b13ba884b84b827534d16f5d42f",
            "max": 5,
            "min": 0,
            "orientation": "horizontal",
            "style": "IPY_MODEL_ab47471f92b74efdb725f28703752488",
            "value": 5
          }
        },
        "a9bd83ce3d284f8b8b01d4ed10402ffc": {
          "model_module": "@jupyter-widgets/controls",
          "model_name": "HTMLModel",
          "model_module_version": "1.5.0",
          "state": {
            "_dom_classes": [],
            "_model_module": "@jupyter-widgets/controls",
            "_model_module_version": "1.5.0",
            "_model_name": "HTMLModel",
            "_view_count": null,
            "_view_module": "@jupyter-widgets/controls",
            "_view_module_version": "1.5.0",
            "_view_name": "HTMLView",
            "description": "",
            "description_tooltip": null,
            "layout": "IPY_MODEL_21d6e7fb9ed94bf99a6bcc7143241412",
            "placeholder": "​",
            "style": "IPY_MODEL_86fec21ea1ff459885e4d0f20399c2de",
            "value": " 5/5 [00:04&lt;00:00,  1.06it/s]"
          }
        },
        "de30c3f333d0437d8845da291eb802fc": {
          "model_module": "@jupyter-widgets/base",
          "model_name": "LayoutModel",
          "model_module_version": "1.2.0",
          "state": {
            "_model_module": "@jupyter-widgets/base",
            "_model_module_version": "1.2.0",
            "_model_name": "LayoutModel",
            "_view_count": null,
            "_view_module": "@jupyter-widgets/base",
            "_view_module_version": "1.2.0",
            "_view_name": "LayoutView",
            "align_content": null,
            "align_items": null,
            "align_self": null,
            "border": null,
            "bottom": null,
            "display": null,
            "flex": null,
            "flex_flow": null,
            "grid_area": null,
            "grid_auto_columns": null,
            "grid_auto_flow": null,
            "grid_auto_rows": null,
            "grid_column": null,
            "grid_gap": null,
            "grid_row": null,
            "grid_template_areas": null,
            "grid_template_columns": null,
            "grid_template_rows": null,
            "height": null,
            "justify_content": null,
            "justify_items": null,
            "left": null,
            "margin": null,
            "max_height": null,
            "max_width": null,
            "min_height": null,
            "min_width": null,
            "object_fit": null,
            "object_position": null,
            "order": null,
            "overflow": null,
            "overflow_x": null,
            "overflow_y": null,
            "padding": null,
            "right": null,
            "top": null,
            "visibility": null,
            "width": null
          }
        },
        "b53a9a57b55e4d079e2b567558a92c99": {
          "model_module": "@jupyter-widgets/base",
          "model_name": "LayoutModel",
          "model_module_version": "1.2.0",
          "state": {
            "_model_module": "@jupyter-widgets/base",
            "_model_module_version": "1.2.0",
            "_model_name": "LayoutModel",
            "_view_count": null,
            "_view_module": "@jupyter-widgets/base",
            "_view_module_version": "1.2.0",
            "_view_name": "LayoutView",
            "align_content": null,
            "align_items": null,
            "align_self": null,
            "border": null,
            "bottom": null,
            "display": null,
            "flex": null,
            "flex_flow": null,
            "grid_area": null,
            "grid_auto_columns": null,
            "grid_auto_flow": null,
            "grid_auto_rows": null,
            "grid_column": null,
            "grid_gap": null,
            "grid_row": null,
            "grid_template_areas": null,
            "grid_template_columns": null,
            "grid_template_rows": null,
            "height": null,
            "justify_content": null,
            "justify_items": null,
            "left": null,
            "margin": null,
            "max_height": null,
            "max_width": null,
            "min_height": null,
            "min_width": null,
            "object_fit": null,
            "object_position": null,
            "order": null,
            "overflow": null,
            "overflow_x": null,
            "overflow_y": null,
            "padding": null,
            "right": null,
            "top": null,
            "visibility": null,
            "width": null
          }
        },
        "17c438747de0487fa678459cda5f47a0": {
          "model_module": "@jupyter-widgets/controls",
          "model_name": "DescriptionStyleModel",
          "model_module_version": "1.5.0",
          "state": {
            "_model_module": "@jupyter-widgets/controls",
            "_model_module_version": "1.5.0",
            "_model_name": "DescriptionStyleModel",
            "_view_count": null,
            "_view_module": "@jupyter-widgets/base",
            "_view_module_version": "1.2.0",
            "_view_name": "StyleView",
            "description_width": ""
          }
        },
        "2ea50b13ba884b84b827534d16f5d42f": {
          "model_module": "@jupyter-widgets/base",
          "model_name": "LayoutModel",
          "model_module_version": "1.2.0",
          "state": {
            "_model_module": "@jupyter-widgets/base",
            "_model_module_version": "1.2.0",
            "_model_name": "LayoutModel",
            "_view_count": null,
            "_view_module": "@jupyter-widgets/base",
            "_view_module_version": "1.2.0",
            "_view_name": "LayoutView",
            "align_content": null,
            "align_items": null,
            "align_self": null,
            "border": null,
            "bottom": null,
            "display": null,
            "flex": null,
            "flex_flow": null,
            "grid_area": null,
            "grid_auto_columns": null,
            "grid_auto_flow": null,
            "grid_auto_rows": null,
            "grid_column": null,
            "grid_gap": null,
            "grid_row": null,
            "grid_template_areas": null,
            "grid_template_columns": null,
            "grid_template_rows": null,
            "height": null,
            "justify_content": null,
            "justify_items": null,
            "left": null,
            "margin": null,
            "max_height": null,
            "max_width": null,
            "min_height": null,
            "min_width": null,
            "object_fit": null,
            "object_position": null,
            "order": null,
            "overflow": null,
            "overflow_x": null,
            "overflow_y": null,
            "padding": null,
            "right": null,
            "top": null,
            "visibility": null,
            "width": null
          }
        },
        "ab47471f92b74efdb725f28703752488": {
          "model_module": "@jupyter-widgets/controls",
          "model_name": "ProgressStyleModel",
          "model_module_version": "1.5.0",
          "state": {
            "_model_module": "@jupyter-widgets/controls",
            "_model_module_version": "1.5.0",
            "_model_name": "ProgressStyleModel",
            "_view_count": null,
            "_view_module": "@jupyter-widgets/base",
            "_view_module_version": "1.2.0",
            "_view_name": "StyleView",
            "bar_color": null,
            "description_width": ""
          }
        },
        "21d6e7fb9ed94bf99a6bcc7143241412": {
          "model_module": "@jupyter-widgets/base",
          "model_name": "LayoutModel",
          "model_module_version": "1.2.0",
          "state": {
            "_model_module": "@jupyter-widgets/base",
            "_model_module_version": "1.2.0",
            "_model_name": "LayoutModel",
            "_view_count": null,
            "_view_module": "@jupyter-widgets/base",
            "_view_module_version": "1.2.0",
            "_view_name": "LayoutView",
            "align_content": null,
            "align_items": null,
            "align_self": null,
            "border": null,
            "bottom": null,
            "display": null,
            "flex": null,
            "flex_flow": null,
            "grid_area": null,
            "grid_auto_columns": null,
            "grid_auto_flow": null,
            "grid_auto_rows": null,
            "grid_column": null,
            "grid_gap": null,
            "grid_row": null,
            "grid_template_areas": null,
            "grid_template_columns": null,
            "grid_template_rows": null,
            "height": null,
            "justify_content": null,
            "justify_items": null,
            "left": null,
            "margin": null,
            "max_height": null,
            "max_width": null,
            "min_height": null,
            "min_width": null,
            "object_fit": null,
            "object_position": null,
            "order": null,
            "overflow": null,
            "overflow_x": null,
            "overflow_y": null,
            "padding": null,
            "right": null,
            "top": null,
            "visibility": null,
            "width": null
          }
        },
        "86fec21ea1ff459885e4d0f20399c2de": {
          "model_module": "@jupyter-widgets/controls",
          "model_name": "DescriptionStyleModel",
          "model_module_version": "1.5.0",
          "state": {
            "_model_module": "@jupyter-widgets/controls",
            "_model_module_version": "1.5.0",
            "_model_name": "DescriptionStyleModel",
            "_view_count": null,
            "_view_module": "@jupyter-widgets/base",
            "_view_module_version": "1.2.0",
            "_view_name": "StyleView",
            "description_width": ""
          }
        }
      }
    }
  },
  "cells": [
    {
      "cell_type": "markdown",
      "metadata": {
        "id": "view-in-github",
        "colab_type": "text"
      },
      "source": [
        "<a href=\"https://colab.research.google.com/github/ronald-hk-chung/ssnotebook/blob/main/basics_of_neural_network/classification_with_nn.ipynb\" target=\"_parent\"><img src=\"https://colab.research.google.com/assets/colab-badge.svg\" alt=\"Open In Colab\"/></a>"
      ]
    },
    {
      "cell_type": "markdown",
      "source": [
        "# Classification with Neural Network\n",
        "\n",
        "In a classification problems, we're trying to predict which class a data point belongs to.\n",
        "\n",
        "*   **Binary classification** involves categorizing data into only two classes to predict, each instance belongs to either of them.\n",
        "\n",
        "    Use Case Classifying an image of an animal into cat or dog category.\n",
        "    \n",
        "*   **Multiclass classification** involves categorizing data into mutually exclusive classes. Each data point belongs to one and only one class, making it suitable for scenarios where items can be distinctly assigned to one category.\n",
        "\n",
        "    Use Case: Handwritten Digit Recognition: Assigning a digit (0–9) to a given handwritten image.\n",
        "\n",
        "*   **Multi-label classification** deals with instances that can be associated with multiple labels simultaneously. This technique is ideal for tasks where data points may belong to more than one class at the same time.\n",
        "\n",
        "    Use Case: Text Categorization: Labeling articles with multiple topics they cover.\n",
        "\n",
        "In summary,\n",
        "\n",
        "| Problem Type | Problem Description |\n",
        "| ----- | ----- |\n",
        "| Binary Classification | Target can be one of two options |\n",
        "| Multi-class Classification | Target can be one of more than two options |\n",
        "| Multi-label Classification | Target can be assigned more than one option |\n"
      ],
      "metadata": {
        "id": "BV8h0eDfkvP5"
      }
    },
    {
      "cell_type": "markdown",
      "source": [
        "# Binary Classification on Scikit-Learn `make-circle()` Dataset\n",
        "\n",
        "Reference: https://scikit-learn.org/stable/modules/generated/sklearn.datasets.make_circles.html\n",
        "\n",
        "`make-moon()` dataset make a large circle containing a smaller cicle in 2d"
      ],
      "metadata": {
        "id": "j-CqcuxQuA0W"
      }
    },
    {
      "cell_type": "markdown",
      "source": [
        "## Data Preperation"
      ],
      "metadata": {
        "id": "jvDL5iodSTPt"
      }
    },
    {
      "cell_type": "code",
      "execution_count": 1,
      "metadata": {
        "colab": {
          "base_uri": "https://localhost:8080/"
        },
        "id": "U_ibXm7WkthK",
        "outputId": "208f8acb-a301-4b19-d934-658f0c9b4d26"
      },
      "outputs": [
        {
          "output_type": "execute_result",
          "data": {
            "text/plain": [
              "(array([[ 0.75424625,  0.23148074],\n",
              "        [-0.75615888,  0.15325888],\n",
              "        [-0.81539193,  0.17328203],\n",
              "        [-0.39373073,  0.69288277],\n",
              "        [ 0.44220765, -0.89672343],\n",
              "        [-0.47964637,  0.67643477],\n",
              "        [-0.01364836,  0.80334872],\n",
              "        [ 0.77151327,  0.14775959],\n",
              "        [-0.16932234, -0.79345575],\n",
              "        [-0.1214858 ,  1.02150905]]),\n",
              " array([1, 1, 1, 1, 0, 1, 1, 1, 1, 0]))"
            ]
          },
          "metadata": {},
          "execution_count": 1
        }
      ],
      "source": [
        "# Create dataset with scikit-learn\n",
        "from sklearn.datasets import make_circles\n",
        "\n",
        "X, y = make_circles(n_samples=1000,\n",
        "                    noise=0.03,\n",
        "                    random_state=42)\n",
        "X[:10], y[:10]"
      ]
    },
    {
      "cell_type": "code",
      "source": [
        "# Turn data into a DataFrame\n",
        "import pandas as pd\n",
        "df = pd.DataFrame({\"X1\": X[:, 0],\n",
        "                   'X2': X[:, 1],\n",
        "                   'y': y})\n",
        "df.head()"
      ],
      "metadata": {
        "colab": {
          "base_uri": "https://localhost:8080/",
          "height": 206
        },
        "id": "YWwiUHTRvJCe",
        "outputId": "6012ab9f-413d-4188-d119-a189546250f4"
      },
      "execution_count": 2,
      "outputs": [
        {
          "output_type": "execute_result",
          "data": {
            "text/plain": [
              "         X1        X2  y\n",
              "0  0.754246  0.231481  1\n",
              "1 -0.756159  0.153259  1\n",
              "2 -0.815392  0.173282  1\n",
              "3 -0.393731  0.692883  1\n",
              "4  0.442208 -0.896723  0"
            ],
            "text/html": [
              "\n",
              "  <div id=\"df-ede232a6-985f-47d3-8487-640fabcda21b\" class=\"colab-df-container\">\n",
              "    <div>\n",
              "<style scoped>\n",
              "    .dataframe tbody tr th:only-of-type {\n",
              "        vertical-align: middle;\n",
              "    }\n",
              "\n",
              "    .dataframe tbody tr th {\n",
              "        vertical-align: top;\n",
              "    }\n",
              "\n",
              "    .dataframe thead th {\n",
              "        text-align: right;\n",
              "    }\n",
              "</style>\n",
              "<table border=\"1\" class=\"dataframe\">\n",
              "  <thead>\n",
              "    <tr style=\"text-align: right;\">\n",
              "      <th></th>\n",
              "      <th>X1</th>\n",
              "      <th>X2</th>\n",
              "      <th>y</th>\n",
              "    </tr>\n",
              "  </thead>\n",
              "  <tbody>\n",
              "    <tr>\n",
              "      <th>0</th>\n",
              "      <td>0.754246</td>\n",
              "      <td>0.231481</td>\n",
              "      <td>1</td>\n",
              "    </tr>\n",
              "    <tr>\n",
              "      <th>1</th>\n",
              "      <td>-0.756159</td>\n",
              "      <td>0.153259</td>\n",
              "      <td>1</td>\n",
              "    </tr>\n",
              "    <tr>\n",
              "      <th>2</th>\n",
              "      <td>-0.815392</td>\n",
              "      <td>0.173282</td>\n",
              "      <td>1</td>\n",
              "    </tr>\n",
              "    <tr>\n",
              "      <th>3</th>\n",
              "      <td>-0.393731</td>\n",
              "      <td>0.692883</td>\n",
              "      <td>1</td>\n",
              "    </tr>\n",
              "    <tr>\n",
              "      <th>4</th>\n",
              "      <td>0.442208</td>\n",
              "      <td>-0.896723</td>\n",
              "      <td>0</td>\n",
              "    </tr>\n",
              "  </tbody>\n",
              "</table>\n",
              "</div>\n",
              "    <div class=\"colab-df-buttons\">\n",
              "\n",
              "  <div class=\"colab-df-container\">\n",
              "    <button class=\"colab-df-convert\" onclick=\"convertToInteractive('df-ede232a6-985f-47d3-8487-640fabcda21b')\"\n",
              "            title=\"Convert this dataframe to an interactive table.\"\n",
              "            style=\"display:none;\">\n",
              "\n",
              "  <svg xmlns=\"http://www.w3.org/2000/svg\" height=\"24px\" viewBox=\"0 -960 960 960\">\n",
              "    <path d=\"M120-120v-720h720v720H120Zm60-500h600v-160H180v160Zm220 220h160v-160H400v160Zm0 220h160v-160H400v160ZM180-400h160v-160H180v160Zm440 0h160v-160H620v160ZM180-180h160v-160H180v160Zm440 0h160v-160H620v160Z\"/>\n",
              "  </svg>\n",
              "    </button>\n",
              "\n",
              "  <style>\n",
              "    .colab-df-container {\n",
              "      display:flex;\n",
              "      gap: 12px;\n",
              "    }\n",
              "\n",
              "    .colab-df-convert {\n",
              "      background-color: #E8F0FE;\n",
              "      border: none;\n",
              "      border-radius: 50%;\n",
              "      cursor: pointer;\n",
              "      display: none;\n",
              "      fill: #1967D2;\n",
              "      height: 32px;\n",
              "      padding: 0 0 0 0;\n",
              "      width: 32px;\n",
              "    }\n",
              "\n",
              "    .colab-df-convert:hover {\n",
              "      background-color: #E2EBFA;\n",
              "      box-shadow: 0px 1px 2px rgba(60, 64, 67, 0.3), 0px 1px 3px 1px rgba(60, 64, 67, 0.15);\n",
              "      fill: #174EA6;\n",
              "    }\n",
              "\n",
              "    .colab-df-buttons div {\n",
              "      margin-bottom: 4px;\n",
              "    }\n",
              "\n",
              "    [theme=dark] .colab-df-convert {\n",
              "      background-color: #3B4455;\n",
              "      fill: #D2E3FC;\n",
              "    }\n",
              "\n",
              "    [theme=dark] .colab-df-convert:hover {\n",
              "      background-color: #434B5C;\n",
              "      box-shadow: 0px 1px 3px 1px rgba(0, 0, 0, 0.15);\n",
              "      filter: drop-shadow(0px 1px 2px rgba(0, 0, 0, 0.3));\n",
              "      fill: #FFFFFF;\n",
              "    }\n",
              "  </style>\n",
              "\n",
              "    <script>\n",
              "      const buttonEl =\n",
              "        document.querySelector('#df-ede232a6-985f-47d3-8487-640fabcda21b button.colab-df-convert');\n",
              "      buttonEl.style.display =\n",
              "        google.colab.kernel.accessAllowed ? 'block' : 'none';\n",
              "\n",
              "      async function convertToInteractive(key) {\n",
              "        const element = document.querySelector('#df-ede232a6-985f-47d3-8487-640fabcda21b');\n",
              "        const dataTable =\n",
              "          await google.colab.kernel.invokeFunction('convertToInteractive',\n",
              "                                                    [key], {});\n",
              "        if (!dataTable) return;\n",
              "\n",
              "        const docLinkHtml = 'Like what you see? Visit the ' +\n",
              "          '<a target=\"_blank\" href=https://colab.research.google.com/notebooks/data_table.ipynb>data table notebook</a>'\n",
              "          + ' to learn more about interactive tables.';\n",
              "        element.innerHTML = '';\n",
              "        dataTable['output_type'] = 'display_data';\n",
              "        await google.colab.output.renderOutput(dataTable, element);\n",
              "        const docLink = document.createElement('div');\n",
              "        docLink.innerHTML = docLinkHtml;\n",
              "        element.appendChild(docLink);\n",
              "      }\n",
              "    </script>\n",
              "  </div>\n",
              "\n",
              "\n",
              "<div id=\"df-05984d33-082c-4b21-b817-4b0167b87592\">\n",
              "  <button class=\"colab-df-quickchart\" onclick=\"quickchart('df-05984d33-082c-4b21-b817-4b0167b87592')\"\n",
              "            title=\"Suggest charts\"\n",
              "            style=\"display:none;\">\n",
              "\n",
              "<svg xmlns=\"http://www.w3.org/2000/svg\" height=\"24px\"viewBox=\"0 0 24 24\"\n",
              "     width=\"24px\">\n",
              "    <g>\n",
              "        <path d=\"M19 3H5c-1.1 0-2 .9-2 2v14c0 1.1.9 2 2 2h14c1.1 0 2-.9 2-2V5c0-1.1-.9-2-2-2zM9 17H7v-7h2v7zm4 0h-2V7h2v10zm4 0h-2v-4h2v4z\"/>\n",
              "    </g>\n",
              "</svg>\n",
              "  </button>\n",
              "\n",
              "<style>\n",
              "  .colab-df-quickchart {\n",
              "      --bg-color: #E8F0FE;\n",
              "      --fill-color: #1967D2;\n",
              "      --hover-bg-color: #E2EBFA;\n",
              "      --hover-fill-color: #174EA6;\n",
              "      --disabled-fill-color: #AAA;\n",
              "      --disabled-bg-color: #DDD;\n",
              "  }\n",
              "\n",
              "  [theme=dark] .colab-df-quickchart {\n",
              "      --bg-color: #3B4455;\n",
              "      --fill-color: #D2E3FC;\n",
              "      --hover-bg-color: #434B5C;\n",
              "      --hover-fill-color: #FFFFFF;\n",
              "      --disabled-bg-color: #3B4455;\n",
              "      --disabled-fill-color: #666;\n",
              "  }\n",
              "\n",
              "  .colab-df-quickchart {\n",
              "    background-color: var(--bg-color);\n",
              "    border: none;\n",
              "    border-radius: 50%;\n",
              "    cursor: pointer;\n",
              "    display: none;\n",
              "    fill: var(--fill-color);\n",
              "    height: 32px;\n",
              "    padding: 0;\n",
              "    width: 32px;\n",
              "  }\n",
              "\n",
              "  .colab-df-quickchart:hover {\n",
              "    background-color: var(--hover-bg-color);\n",
              "    box-shadow: 0 1px 2px rgba(60, 64, 67, 0.3), 0 1px 3px 1px rgba(60, 64, 67, 0.15);\n",
              "    fill: var(--button-hover-fill-color);\n",
              "  }\n",
              "\n",
              "  .colab-df-quickchart-complete:disabled,\n",
              "  .colab-df-quickchart-complete:disabled:hover {\n",
              "    background-color: var(--disabled-bg-color);\n",
              "    fill: var(--disabled-fill-color);\n",
              "    box-shadow: none;\n",
              "  }\n",
              "\n",
              "  .colab-df-spinner {\n",
              "    border: 2px solid var(--fill-color);\n",
              "    border-color: transparent;\n",
              "    border-bottom-color: var(--fill-color);\n",
              "    animation:\n",
              "      spin 1s steps(1) infinite;\n",
              "  }\n",
              "\n",
              "  @keyframes spin {\n",
              "    0% {\n",
              "      border-color: transparent;\n",
              "      border-bottom-color: var(--fill-color);\n",
              "      border-left-color: var(--fill-color);\n",
              "    }\n",
              "    20% {\n",
              "      border-color: transparent;\n",
              "      border-left-color: var(--fill-color);\n",
              "      border-top-color: var(--fill-color);\n",
              "    }\n",
              "    30% {\n",
              "      border-color: transparent;\n",
              "      border-left-color: var(--fill-color);\n",
              "      border-top-color: var(--fill-color);\n",
              "      border-right-color: var(--fill-color);\n",
              "    }\n",
              "    40% {\n",
              "      border-color: transparent;\n",
              "      border-right-color: var(--fill-color);\n",
              "      border-top-color: var(--fill-color);\n",
              "    }\n",
              "    60% {\n",
              "      border-color: transparent;\n",
              "      border-right-color: var(--fill-color);\n",
              "    }\n",
              "    80% {\n",
              "      border-color: transparent;\n",
              "      border-right-color: var(--fill-color);\n",
              "      border-bottom-color: var(--fill-color);\n",
              "    }\n",
              "    90% {\n",
              "      border-color: transparent;\n",
              "      border-bottom-color: var(--fill-color);\n",
              "    }\n",
              "  }\n",
              "</style>\n",
              "\n",
              "  <script>\n",
              "    async function quickchart(key) {\n",
              "      const quickchartButtonEl =\n",
              "        document.querySelector('#' + key + ' button');\n",
              "      quickchartButtonEl.disabled = true;  // To prevent multiple clicks.\n",
              "      quickchartButtonEl.classList.add('colab-df-spinner');\n",
              "      try {\n",
              "        const charts = await google.colab.kernel.invokeFunction(\n",
              "            'suggestCharts', [key], {});\n",
              "      } catch (error) {\n",
              "        console.error('Error during call to suggestCharts:', error);\n",
              "      }\n",
              "      quickchartButtonEl.classList.remove('colab-df-spinner');\n",
              "      quickchartButtonEl.classList.add('colab-df-quickchart-complete');\n",
              "    }\n",
              "    (() => {\n",
              "      let quickchartButtonEl =\n",
              "        document.querySelector('#df-05984d33-082c-4b21-b817-4b0167b87592 button');\n",
              "      quickchartButtonEl.style.display =\n",
              "        google.colab.kernel.accessAllowed ? 'block' : 'none';\n",
              "    })();\n",
              "  </script>\n",
              "</div>\n",
              "    </div>\n",
              "  </div>\n"
            ],
            "application/vnd.google.colaboratory.intrinsic+json": {
              "type": "dataframe",
              "variable_name": "df",
              "summary": "{\n  \"name\": \"df\",\n  \"rows\": 1000,\n  \"fields\": [\n    {\n      \"column\": \"X1\",\n      \"properties\": {\n        \"dtype\": \"number\",\n        \"std\": 0.6398365674574613,\n        \"min\": -1.0595024599098635,\n        \"max\": 1.0337117525463373,\n        \"num_unique_values\": 1000,\n        \"samples\": [\n          -0.3751930206933384,\n          0.015380346701456493,\n          -0.7027835978832848\n        ],\n        \"semantic_type\": \"\",\n        \"description\": \"\"\n      }\n    },\n    {\n      \"column\": \"X2\",\n      \"properties\": {\n        \"dtype\": \"number\",\n        \"std\": 0.6411559581015384,\n        \"min\": -1.0677683182718436,\n        \"max\": 1.0360036756154805,\n        \"num_unique_values\": 1000,\n        \"samples\": [\n          0.6826597225888621,\n          0.9600260220697324,\n          -0.3147169925147762\n        ],\n        \"semantic_type\": \"\",\n        \"description\": \"\"\n      }\n    },\n    {\n      \"column\": \"y\",\n      \"properties\": {\n        \"dtype\": \"number\",\n        \"std\": 0,\n        \"min\": 0,\n        \"max\": 1,\n        \"num_unique_values\": 2,\n        \"samples\": [\n          0,\n          1\n        ],\n        \"semantic_type\": \"\",\n        \"description\": \"\"\n      }\n    }\n  ]\n}"
            }
          },
          "metadata": {},
          "execution_count": 2
        }
      ]
    },
    {
      "cell_type": "code",
      "source": [
        "# Split data into train and valid sets\n",
        "from sklearn.model_selection import train_test_split\n",
        "df_train, df_valid = train_test_split(df, test_size=0.2)"
      ],
      "metadata": {
        "id": "UG0iIT2nvfTe"
      },
      "execution_count": 3,
      "outputs": []
    },
    {
      "cell_type": "code",
      "source": [
        "import matplotlib.pyplot as plt\n",
        "\n",
        "# Visualize both train/valid dataset on a scatter plot\n",
        "fig, (ax1, ax2) = plt.subplots(1, 2, figsize=(12, 6))\n",
        "scatter1 = ax1.scatter(df_train['X1'], df_train['X2'], c=df_train['y'], label=df_train['y'])\n",
        "ax1.legend(*scatter1.legend_elements())\n",
        "ax1.set(title='Make Circle Train Data')\n",
        "\n",
        "scatter2 = ax2.scatter(df_valid['X1'], df_valid['X2'], c=df_valid['y'], label=df_valid['y'])\n",
        "ax2.legend(*scatter2.legend_elements())\n",
        "ax2.set(title='Make Circle Valid Data');"
      ],
      "metadata": {
        "colab": {
          "base_uri": "https://localhost:8080/",
          "height": 545
        },
        "id": "SfbHXaXnkGlX",
        "outputId": "a5ddefe4-7a8f-487b-96ec-2ccfe5413634"
      },
      "execution_count": 4,
      "outputs": [
        {
          "output_type": "display_data",
          "data": {
            "text/plain": [
              "<Figure size 1200x600 with 2 Axes>"
            ],
            "image/png": "[encoded data removed]"
          },
          "metadata": {}
        }
      ]
    },
    {
      "cell_type": "markdown",
      "source": [
        "Using Dataset and DataLoader for both training and valid dataset"
      ],
      "metadata": {
        "id": "HzWr3V1K-1HS"
      }
    },
    {
      "cell_type": "code",
      "source": [
        "import torch\n",
        "from torch.utils.data import Dataset\n",
        "\n",
        "class CircleDS(Dataset):\n",
        "    def __init__(self, df):\n",
        "        self.df = df\n",
        "    def __len__(self):\n",
        "        return len(self.df)\n",
        "    def __getitem__(self, idx):\n",
        "        X = torch.tensor(df[['X1','X2']].iloc[idx], dtype=torch.float)\n",
        "        y = torch.tensor(df['y'].iloc[idx], dtype=torch.float)\n",
        "        return X, y\n",
        "\n",
        "train_ds = CircleDS(df_train)\n",
        "valid_ds = CircleDS(df_valid)"
      ],
      "metadata": {
        "id": "byJx32Vm-02M"
      },
      "execution_count": 5,
      "outputs": []
    },
    {
      "cell_type": "code",
      "source": [
        "from torch.utils.data import DataLoader\n",
        "\n",
        "train_dl = DataLoader(dataset=train_ds,\n",
        "                      batch_size=32,\n",
        "                      shuffle=True,\n",
        "                      drop_last=True)\n",
        "\n",
        "valid_dl = DataLoader(dataset=valid_ds,\n",
        "                      batch_size=32,\n",
        "                      shuffle=False,\n",
        "                      drop_last=True)"
      ],
      "metadata": {
        "id": "6Sxo9zLmfCBX"
      },
      "execution_count": 6,
      "outputs": []
    },
    {
      "cell_type": "markdown",
      "source": [
        "## Logistic Regression\n",
        "\n",
        "Given 2 features, X1 and X2, the model will fit a linear regression such that its outputs are logits (z) which are then converted into probabilities using a sigmoid function\n",
        "\n",
        "$$\n",
        "P(y=1) = \\sigma(z) = \\sigma(b + w_1x_1 + w_2x_2)\n",
        "$$\n",
        "\n",
        "<img src=\"https://github.com/ronald-hk-chung/ssnotebook/blob/main/basics_of_neural_network/assets/logistic_regression_2inputs.png?raw=true\">"
      ],
      "metadata": {
        "id": "_MTUKxAja2cg"
      }
    },
    {
      "cell_type": "code",
      "source": [
        "import torch\n",
        "import torch.nn as nn\n",
        "\n",
        "class SimpleLogisticRegression(nn.Module):\n",
        "    def __init__(self):\n",
        "        super().__init__()\n",
        "        self.linear = nn.Linear(in_features=2, out_features=1)\n",
        "        self.sigmoid = nn.Sigmoid()\n",
        "    def forward(self, X):\n",
        "        return self.sigmoid(self.linear(X)).squeeze()\n",
        "\n",
        "model_0 = SimpleLogisticRegression()\n",
        "print(model_0)"
      ],
      "metadata": {
        "colab": {
          "base_uri": "https://localhost:8080/"
        },
        "id": "83uFDotXcsvm",
        "outputId": "8cb89fa1-a1bf-4850-f8c1-15207ea048c6"
      },
      "execution_count": 7,
      "outputs": [
        {
          "output_type": "stream",
          "name": "stdout",
          "text": [
            "SimpleLogisticRegression(\n",
            "  (linear): Linear(in_features=2, out_features=1, bias=True)\n",
            "  (sigmoid): Sigmoid()\n",
            ")\n"
          ]
        }
      ]
    },
    {
      "cell_type": "markdown",
      "source": [
        "## Defining a Loss Function for classification problem\n",
        "\n",
        "For binary classification problem, **binary cross-entropy (BCE) loss** is an appropriate loss/criterion function.\n",
        "\n",
        "Note that PyTorch has two binary cross entropy implimentation:\n",
        "\n",
        "1. `nn.BCELoss()` - Creates a loss funciton that measures the binary cross entropy between the target (label) and input (features)\n",
        "\n",
        "2. `nn.BCEWithLogitsLoss()` - is the same as above except it has a sigmoid layer `nn.Sigmoid()` built in\n",
        "\n",
        "\\\n",
        "\n",
        "**BCELoss**\n",
        "\n",
        "Reference: https://pytorch.org/docs/stable/generated/torch.nn.BCELoss.html\n",
        "\n",
        "BCE Loss requires the predicted probabilities, as returned by the **sigmoid** function, and the true labels ($y$). For each data point $i$ in the training set, it computes the errro as following:\n",
        "\n",
        "For each data point $i$ in the training set,\n",
        "\n",
        "1. If the data point belongs to the **positive class (y=1)**, we take the $\\log$ of predicted probability that it is positive:\n",
        "\n",
        "$$\n",
        "y_i = 1 \\implies error_i = \\log(P(y_i=1))\n",
        "$$\n",
        "\n",
        "2. If the data point belows to the **negative class(y=0)**, we take the log of probability that is negative:\n",
        "\n",
        "$$\n",
        "y_i=0 \\implies error_i = \\log(1-P(y_i=1))\n",
        "$$\n",
        "\n",
        "Note that if data point belongs to positive, its prob should be close to 1, which would result in a zero loss from taking the $\\log(1)$\n",
        "\n",
        "errors are then aggregated into teh loss value as below:\n",
        "\n",
        "\\\n",
        "\n",
        "$$\n",
        "BCE(y) = -\\frac{1}{N}\\sum_{i=1}^N[y_i\\log(P(y_i=1)) + (1-y_i)\\log(1-P(y_i=1))]\n",
        "$$\n",
        "\n",
        "\\\n",
        "\n",
        "Note that the points in the **positive class (y=1)** have their second term equal to zero by multiplying to $(1-y_i)$ while points in the **negative class (y=0)** have their first term equal to zero by multiplying to $y_i$\n",
        "\n",
        "\\\n",
        "\n",
        "**BCEWithLogitsLoss**\n",
        "\n",
        "BCEWithLogitsLoss takes logits as an argument instead of probabilities. It means that we should not add a `nn.Sigmoid()` as the last layer of our model when using `BCEWithLogitsLoss`. This loss combines both the `Sigmoid` layer and `BCELoss` into one function.\n",
        "\n",
        "Note that we shoudl not be mixing `nn.Sigmoid` and `nn.BCEWithLogitsLoss` together. When we use `nn.BCEWithLogitsLoss`, we do not put `nn.Sigmoid` in the last layer.\n",
        "\n",
        "\n",
        "\n"
      ],
      "metadata": {
        "id": "-Z3Pa1WPleZ3"
      }
    },
    {
      "cell_type": "code",
      "source": [
        "loss_fn = nn.BCELoss(reduction='mean')\n",
        "loss_fn"
      ],
      "metadata": {
        "id": "Npf7zCZloEdR",
        "colab": {
          "base_uri": "https://localhost:8080/"
        },
        "outputId": "2ac41527-9c59-4f20-80b6-a20f5081a829"
      },
      "execution_count": 8,
      "outputs": [
        {
          "output_type": "execute_result",
          "data": {
            "text/plain": [
              "BCELoss()"
            ]
          },
          "metadata": {},
          "execution_count": 8
        }
      ]
    },
    {
      "cell_type": "markdown",
      "source": [
        "## Defining a metric function\n",
        "\n",
        "In Machine Learning, the efficiency of a model is not just about its ability to make predictions but also to make the right ones. Practioners use evaluation metrics to understand how well a model performs its intended task. The most important metrics for classification performance are namely **accuracy**, **precision** and **recall**\n",
        "\n",
        "**Accuracy** is a metric that measures how often a machine learning model correctly predicts the outcome. You can calculate accuracy by dividing the number of correct predictions by the total number of predictions. While it is the most intuitive metrics, it may be insufficient in situations with imbalanced classes or different error costs. **Precision** and **Recall** address the gap. **Precision** measures how often predictions for a positive class are correct while **Recall** address how well the model fins all positive instances in the dataset.\n",
        "\n",
        "To understand the differentiations of the metrics, we have to understand the **Confusion Matrix**.\n",
        "\n",
        "\\\n",
        "\n",
        "**The Confusion Matrix**\n",
        "\n",
        "The confusion matrix is a visual representation to access their model's accuracy in different areas. For binary classification problem, it can be represented as below:\n",
        "\n",
        "<img src=\"https://github.com/ronald-hk-chung/ssnotebook/blob/main/basics_of_neural_network/assets/confusion_matrix.png?raw=true\">\n",
        "\n",
        "\n",
        "At its core, the confusion matrix is a table that compares the actual outcomes with the predicted outcomes of a classifcation model. It is pivotal in understanding the nuances of a model's perfmrance, especially in scenarios where class imabalnces exist or where the cost of different types of errors varies. Breakdown down the prediction into specific categories provides a granular view of a more informed decision-making process to optimize models.\n",
        "\n",
        "**Elements of Confusion Matrix**\n",
        "\n",
        "*   **True Positive (TP)** - instances where the model correctly predicted the positive class.\n",
        "*   **True Negative (TN)** - instances where model accurately predicted the negative classes\n",
        "*   **False Positive (FP)** - instances where model incorrectly predicted the positive class\n",
        "*   **False Negative (FN)** - instances where model fails to identify the positive class, marking it as negative instead.\n",
        "\n",
        "**Accuracy**\n",
        "\n",
        "\\\n",
        "\n",
        "$$\n",
        "Accuracy = \\frac{TP + TN}{TP + TN + FP + FN}\n",
        "$$\n",
        "\n",
        "Accuracy represents the ratio of correctly predicted instances to the total number of instances in teh dataset. It answers the question: \"Out of all the prediction made, how many were correct?\" Accuracy is often the first metric to consider when evaluating classification models.\n",
        "\n",
        "\\\n",
        "\n",
        "**Precision**\n",
        "\n",
        "\\\n",
        "\n",
        "$$\n",
        "Precision = \\frac{TP}{TP+FP}\n",
        "$$\n",
        "\n",
        "Precision is a pivotal metric especiall if there is a high cost of false positives. It provides insight into the model's ability to correctly predict positive instances while minimizing the risk of a false alarms. Precision is often referred to as the positive predictive value, quantifies the proportion of true positive predictions among all positive predictions made by the model. It answers the question: \"Of all the instances predict as postiive, how may were positive?\" Precision solely focuses on the correctly predicted positive cases, neglecting the false negatives. As a reslt, a model can achieve high precision by making very few positive predictions, potentially missing out on many actual positive cases.\n",
        "\n",
        "\\\n",
        "\n",
        "**Recall**\n",
        "\n",
        "\\\n",
        "\n",
        "$$\n",
        "Recall = \\frac{TP}{TP+FN}\n",
        "$$\n",
        "\n",
        "Recall also known as sensitivity or true positive rate, that emphasizes the model ability to identify all relevant instances. Recall measures the proportion of actual positive cases correctly identified by the model. It answers the question: \"Of all the acutal positive instances, how many were correctly predicted by the model?\". The recall metric is about finding all positive cases, even with more false positives. A model may predict most instances as postive to achieve a high recall.\n",
        "\n",
        "\\\n",
        "\n",
        "**F1 Score**\n",
        "\n",
        "As we have seen there is a trade-off between precisiona nd recall, F1 can therefore be used to measure how effectively our models make that trade-off.\n",
        "\n",
        "$$\n",
        "F1 = 2 \\times \\frac{precision \\times recall}{precision+recall}\n",
        "$$\n",
        "\n",
        "One important feature of the F1 score is that the result is zero if any of the comonents (precision or recall) fall to zero. Thereby it penalizes extreme negative values of either component.\n",
        "\n",
        "\\\n",
        "\n",
        "**To summarise:**\n",
        "\n",
        "<img src=\"https://github.com/ronald-hk-chung/ssnotebook/blob/main/basics_of_neural_network/assets/confusion_matrix_metric_calculation.png?raw=true\">"
      ],
      "metadata": {
        "id": "dH1dgLixld5P"
      }
    },
    {
      "cell_type": "markdown",
      "source": [
        "Since in our case, we are dealing with binary classification, our ideal outputs are 0 or 1. Since our last layer is `nn.Sigmoid`, we are outputing the prediction probabilities of how much the model thinks the datapoint belows to one class or another. We can use 0.5 as our decision boundary as follow:\n",
        "\n",
        "*   if `y_preds` >= 0.5, y=1\n",
        "*   if `y_preds` < 0.5, y=0"
      ],
      "metadata": {
        "id": "4Q9LOnoW6Hwf"
      }
    },
    {
      "cell_type": "code",
      "source": [
        "from sklearn.metrics import accuracy_score, precision_score, recall_score, f1_score\n",
        "import numpy as np\n",
        "\n",
        "def metric_fn(y_preds, y):\n",
        "    # Turn into numpy to use sklearn.metrics\n",
        "    y_preds = np.round(y_preds.detach().cpu().numpy())\n",
        "    y = y.detach().cpu().numpy()\n",
        "\n",
        "    # Calculate scores from using sklearn.metrics\n",
        "    accuracy = accuracy_score(y, y_preds)\n",
        "    precision = precision_score(y, y_preds, average='binary')\n",
        "    recall = recall_score(y, y_preds, average='binary')\n",
        "    f1 = f1_score(y, y_preds, average='binary')\n",
        "\n",
        "    # SSTLearner supports returning a dictionary from metric_fn\n",
        "    return {'accuracy': accuracy,\n",
        "            'precision': precision,\n",
        "            'recall': recall,\n",
        "            'f1': f1}"
      ],
      "metadata": {
        "id": "SdRfXOsi7vdM"
      },
      "execution_count": 34,
      "outputs": []
    },
    {
      "cell_type": "markdown",
      "source": [
        "## Importing SSTLearner"
      ],
      "metadata": {
        "id": "bqHUwlarByLq"
      }
    },
    {
      "cell_type": "code",
      "source": [
        "# Installing sstorch package\n",
        "!pip -q install git+https://github.com/ronald-hk-chung/sstorch.git"
      ],
      "metadata": {
        "colab": {
          "base_uri": "https://localhost:8080/"
        },
        "id": "PxbWbhlhB06t",
        "outputId": "eada5968-b63a-4a14-a343-77405d1a11bb"
      },
      "execution_count": 10,
      "outputs": [
        {
          "output_type": "stream",
          "name": "stdout",
          "text": [
            "  Installing build dependencies ... \u001b[?25l\u001b[?25hdone\n",
            "  Getting requirements to build wheel ... \u001b[?25l\u001b[?25hdone\n",
            "  Installing backend dependencies ... \u001b[?25l\u001b[?25hdone\n",
            "  Preparing metadata (pyproject.toml) ... \u001b[?25l\u001b[?25hdone\n",
            "\u001b[2K     \u001b[90m━━━━━━━━━━━━━━━━━━━━━━━━━━━━━━━━━━━━━━━━\u001b[0m \u001b[32m5.7/5.7 MB\u001b[0m \u001b[31m68.4 MB/s\u001b[0m eta \u001b[36m0:00:00\u001b[0m\n",
            "\u001b[2K     \u001b[90m━━━━━━━━━━━━━━━━━━━━━━━━━━━━━━━━━━━━━━━━\u001b[0m \u001b[32m144.8/144.8 kB\u001b[0m \u001b[31m20.0 MB/s\u001b[0m eta \u001b[36m0:00:00\u001b[0m\n",
            "\u001b[?25h  Building wheel for sstorch (pyproject.toml) ... \u001b[?25l\u001b[?25hdone\n"
          ]
        }
      ]
    },
    {
      "cell_type": "code",
      "source": [
        "from sstorch.learner import SSTLearner"
      ],
      "metadata": {
        "id": "ceXha9NDCZRv"
      },
      "execution_count": 12,
      "outputs": []
    },
    {
      "cell_type": "markdown",
      "source": [
        "## Train model_0 - Logistic Regression"
      ],
      "metadata": {
        "id": "-k_9CqLyBZls"
      }
    },
    {
      "cell_type": "code",
      "source": [
        "class Model0Learner(SSTLearner):\n",
        "    def __init__(self):\n",
        "        super().__init__(model=model_0,\n",
        "                         loss_fn=loss_fn,\n",
        "                         metric_fn=metric_fn,\n",
        "                         train_dataloader=train_dl,\n",
        "                         valid_dataloader=valid_dl)\n",
        "\n",
        "    def configure_optimizer(self):\n",
        "        return torch.optim.SGD(params=self.model.parameters(),\n",
        "                               lr=0.1)\n",
        ""
      ],
      "metadata": {
        "id": "jNzZkk28-W_K"
      },
      "execution_count": 35,
      "outputs": []
    },
    {
      "cell_type": "code",
      "source": [
        "model_0_learner = Model0Learner()"
      ],
      "metadata": {
        "id": "Ofe1L5VADKyA"
      },
      "execution_count": 36,
      "outputs": []
    },
    {
      "cell_type": "code",
      "source": [
        "model_0_learner.train(5)"
      ],
      "metadata": {
        "colab": {
          "base_uri": "https://localhost:8080/",
          "height": 396,
          "referenced_widgets": [
            "7d8d9fcdb0af4c05aa2c176f163f8ccc",
            "4b95152bf3f543c6946e8a5218d260c2",
            "fab07879d6444c1eadcb6d51053316e3",
            "a9bd83ce3d284f8b8b01d4ed10402ffc",
            "de30c3f333d0437d8845da291eb802fc",
            "b53a9a57b55e4d079e2b567558a92c99",
            "17c438747de0487fa678459cda5f47a0",
            "2ea50b13ba884b84b827534d16f5d42f",
            "ab47471f92b74efdb725f28703752488",
            "21d6e7fb9ed94bf99a6bcc7143241412",
            "86fec21ea1ff459885e4d0f20399c2de"
          ]
        },
        "id": "QZHgIfW2DO5-",
        "outputId": "c6e35c48-ce9d-40ab-fb55-3083ecbcb2d0"
      },
      "execution_count": 37,
      "outputs": [
        {
          "output_type": "display_data",
          "data": {
            "text/plain": [
              "Epochs:   0%|          | 0/5 [00:00<?, ?it/s]"
            ],
            "application/vnd.jupyter.widget-view+json": {
              "version_major": 2,
              "version_minor": 0,
              "model_id": "7d8d9fcdb0af4c05aa2c176f163f8ccc"
            }
          },
          "metadata": {}
        },
        {
          "output_type": "stream",
          "name": "stdout",
          "text": [
            "Epoch: 1 | LR: 1.0E-01 | train_loss: 0.71 | valid_loss: 0.719 \n",
            "train_metric: {'accuracy': 0.478, 'precision': 0.467, 'recall': 0.389, 'f1': 0.421}\n",
            "valid_metric: {'accuracy': 0.427, 'precision': 0.453, 'recall': 0.37, 'f1': 0.405}\n",
            "----------------------------------------------------------------------------------------------------\n",
            "Epoch: 2 | LR: 1.0E-01 | train_loss: 0.703 | valid_loss: 0.709 \n",
            "train_metric: {'accuracy': 0.472, 'precision': 0.47, 'recall': 0.412, 'f1': 0.433}\n",
            "valid_metric: {'accuracy': 0.438, 'precision': 0.463, 'recall': 0.389, 'f1': 0.421}\n",
            "----------------------------------------------------------------------------------------------------\n",
            "Epoch: 3 | LR: 1.0E-01 | train_loss: 0.699 | valid_loss: 0.702 \n",
            "train_metric: {'accuracy': 0.478, 'precision': 0.481, 'recall': 0.409, 'f1': 0.432}\n",
            "valid_metric: {'accuracy': 0.422, 'precision': 0.448, 'recall': 0.401, 'f1': 0.421}\n",
            "----------------------------------------------------------------------------------------------------\n",
            "Epoch: 4 | LR: 1.0E-01 | train_loss: 0.696 | valid_loss: 0.699 \n",
            "train_metric: {'accuracy': 0.476, 'precision': 0.481, 'recall': 0.484, 'f1': 0.47}\n",
            "valid_metric: {'accuracy': 0.427, 'precision': 0.453, 'recall': 0.418, 'f1': 0.434}\n",
            "----------------------------------------------------------------------------------------------------\n",
            "Epoch: 5 | LR: 1.0E-01 | train_loss: 0.695 | valid_loss: 0.696 \n",
            "train_metric: {'accuracy': 0.48, 'precision': 0.485, 'recall': 0.475, 'f1': 0.473}\n",
            "valid_metric: {'accuracy': 0.443, 'precision': 0.465, 'recall': 0.418, 'f1': 0.439}\n",
            "----------------------------------------------------------------------------------------------------\n"
          ]
        }
      ]
    },
    {
      "cell_type": "markdown",
      "source": [
        "Model_0 - Logistic Regression failed to learn for the non-linear classification data.\n",
        "\n",
        "To understand why, it is easier to plot out the decision boundary"
      ],
      "metadata": {
        "id": "g1Eak6xrFb-c"
      }
    },
    {
      "cell_type": "code",
      "source": [],
      "metadata": {
        "id": "ztAPBpHcDRWM"
      },
      "execution_count": null,
      "outputs": []
    }
  ]
}