{
  "nbformat": 4,
  "nbformat_minor": 0,
  "metadata": {
    "colab": {
      "provenance": [],
      "gpuType": "T4",
      "authorship_tag": "ABX9TyPaQyCaq3gPyt18A3NDyyMS",
      "include_colab_link": true
    },
    "kernelspec": {
      "name": "python3",
      "display_name": "Python 3"
    },
    "language_info": {
      "name": "python"
    },
    "accelerator": "GPU",
    "widgets": {
      "application/vnd.jupyter.widget-state+json": {
        "391c9bdfe6184dbcb228c5a527277e19": {
          "model_module": "@jupyter-widgets/controls",
          "model_name": "HBoxModel",
          "model_module_version": "1.5.0",
          "state": {
            "_dom_classes": [],
            "_model_module": "@jupyter-widgets/controls",
            "_model_module_version": "1.5.0",
            "_model_name": "HBoxModel",
            "_view_count": null,
            "_view_module": "@jupyter-widgets/controls",
            "_view_module_version": "1.5.0",
            "_view_name": "HBoxView",
            "box_style": "",
            "children": [
              "IPY_MODEL_894f4a84a7ee4014aac7e57bfa43a70a",
              "IPY_MODEL_19b310b6412044389f2b88a8d4777c2e",
              "IPY_MODEL_f9ec53af3a3943deb2db7a12e5b64f1d"
            ],
            "layout": "IPY_MODEL_1896a483509d4722a37e19b1e40b1bb5"
          }
        },
        "894f4a84a7ee4014aac7e57bfa43a70a": {
          "model_module": "@jupyter-widgets/controls",
          "model_name": "HTMLModel",
          "model_module_version": "1.5.0",
          "state": {
            "_dom_classes": [],
            "_model_module": "@jupyter-widgets/controls",
            "_model_module_version": "1.5.0",
            "_model_name": "HTMLModel",
            "_view_count": null,
            "_view_module": "@jupyter-widgets/controls",
            "_view_module_version": "1.5.0",
            "_view_name": "HTMLView",
            "description": "",
            "description_tooltip": null,
            "layout": "IPY_MODEL_05953683ea9e48d79548c28d0df2074b",
            "placeholder": "​",
            "style": "IPY_MODEL_0d7d2870b0e240418de43722a8dfefc5",
            "value": "Epochs: 100%"
          }
        },
        "19b310b6412044389f2b88a8d4777c2e": {
          "model_module": "@jupyter-widgets/controls",
          "model_name": "FloatProgressModel",
          "model_module_version": "1.5.0",
          "state": {
            "_dom_classes": [],
            "_model_module": "@jupyter-widgets/controls",
            "_model_module_version": "1.5.0",
            "_model_name": "FloatProgressModel",
            "_view_count": null,
            "_view_module": "@jupyter-widgets/controls",
            "_view_module_version": "1.5.0",
            "_view_name": "ProgressView",
            "bar_style": "success",
            "description": "",
            "description_tooltip": null,
            "layout": "IPY_MODEL_5695553afba2429b80c4ed4c3c26c489",
            "max": 5,
            "min": 0,
            "orientation": "horizontal",
            "style": "IPY_MODEL_5cfb66870f5d4c7395a1c0ef7864b9c0",
            "value": 5
          }
        },
        "f9ec53af3a3943deb2db7a12e5b64f1d": {
          "model_module": "@jupyter-widgets/controls",
          "model_name": "HTMLModel",
          "model_module_version": "1.5.0",
          "state": {
            "_dom_classes": [],
            "_model_module": "@jupyter-widgets/controls",
            "_model_module_version": "1.5.0",
            "_model_name": "HTMLModel",
            "_view_count": null,
            "_view_module": "@jupyter-widgets/controls",
            "_view_module_version": "1.5.0",
            "_view_name": "HTMLView",
            "description": "",
            "description_tooltip": null,
            "layout": "IPY_MODEL_9f467ca836c946c69856e5624635cfa6",
            "placeholder": "​",
            "style": "IPY_MODEL_3f6439abcb9c49949363affdce0ab26c",
            "value": " 5/5 [04:11&lt;00:00, 50.11s/it]"
          }
        },
        "1896a483509d4722a37e19b1e40b1bb5": {
          "model_module": "@jupyter-widgets/base",
          "model_name": "LayoutModel",
          "model_module_version": "1.2.0",
          "state": {
            "_model_module": "@jupyter-widgets/base",
            "_model_module_version": "1.2.0",
            "_model_name": "LayoutModel",
            "_view_count": null,
            "_view_module": "@jupyter-widgets/base",
            "_view_module_version": "1.2.0",
            "_view_name": "LayoutView",
            "align_content": null,
            "align_items": null,
            "align_self": null,
            "border": null,
            "bottom": null,
            "display": null,
            "flex": null,
            "flex_flow": null,
            "grid_area": null,
            "grid_auto_columns": null,
            "grid_auto_flow": null,
            "grid_auto_rows": null,
            "grid_column": null,
            "grid_gap": null,
            "grid_row": null,
            "grid_template_areas": null,
            "grid_template_columns": null,
            "grid_template_rows": null,
            "height": null,
            "justify_content": null,
            "justify_items": null,
            "left": null,
            "margin": null,
            "max_height": null,
            "max_width": null,
            "min_height": null,
            "min_width": null,
            "object_fit": null,
            "object_position": null,
            "order": null,
            "overflow": null,
            "overflow_x": null,
            "overflow_y": null,
            "padding": null,
            "right": null,
            "top": null,
            "visibility": null,
            "width": null
          }
        },
        "05953683ea9e48d79548c28d0df2074b": {
          "model_module": "@jupyter-widgets/base",
          "model_name": "LayoutModel",
          "model_module_version": "1.2.0",
          "state": {
            "_model_module": "@jupyter-widgets/base",
            "_model_module_version": "1.2.0",
            "_model_name": "LayoutModel",
            "_view_count": null,
            "_view_module": "@jupyter-widgets/base",
            "_view_module_version": "1.2.0",
            "_view_name": "LayoutView",
            "align_content": null,
            "align_items": null,
            "align_self": null,
            "border": null,
            "bottom": null,
            "display": null,
            "flex": null,
            "flex_flow": null,
            "grid_area": null,
            "grid_auto_columns": null,
            "grid_auto_flow": null,
            "grid_auto_rows": null,
            "grid_column": null,
            "grid_gap": null,
            "grid_row": null,
            "grid_template_areas": null,
            "grid_template_columns": null,
            "grid_template_rows": null,
            "height": null,
            "justify_content": null,
            "justify_items": null,
            "left": null,
            "margin": null,
            "max_height": null,
            "max_width": null,
            "min_height": null,
            "min_width": null,
            "object_fit": null,
            "object_position": null,
            "order": null,
            "overflow": null,
            "overflow_x": null,
            "overflow_y": null,
            "padding": null,
            "right": null,
            "top": null,
            "visibility": null,
            "width": null
          }
        },
        "0d7d2870b0e240418de43722a8dfefc5": {
          "model_module": "@jupyter-widgets/controls",
          "model_name": "DescriptionStyleModel",
          "model_module_version": "1.5.0",
          "state": {
            "_model_module": "@jupyter-widgets/controls",
            "_model_module_version": "1.5.0",
            "_model_name": "DescriptionStyleModel",
            "_view_count": null,
            "_view_module": "@jupyter-widgets/base",
            "_view_module_version": "1.2.0",
            "_view_name": "StyleView",
            "description_width": ""
          }
        },
        "5695553afba2429b80c4ed4c3c26c489": {
          "model_module": "@jupyter-widgets/base",
          "model_name": "LayoutModel",
          "model_module_version": "1.2.0",
          "state": {
            "_model_module": "@jupyter-widgets/base",
            "_model_module_version": "1.2.0",
            "_model_name": "LayoutModel",
            "_view_count": null,
            "_view_module": "@jupyter-widgets/base",
            "_view_module_version": "1.2.0",
            "_view_name": "LayoutView",
            "align_content": null,
            "align_items": null,
            "align_self": null,
            "border": null,
            "bottom": null,
            "display": null,
            "flex": null,
            "flex_flow": null,
            "grid_area": null,
            "grid_auto_columns": null,
            "grid_auto_flow": null,
            "grid_auto_rows": null,
            "grid_column": null,
            "grid_gap": null,
            "grid_row": null,
            "grid_template_areas": null,
            "grid_template_columns": null,
            "grid_template_rows": null,
            "height": null,
            "justify_content": null,
            "justify_items": null,
            "left": null,
            "margin": null,
            "max_height": null,
            "max_width": null,
            "min_height": null,
            "min_width": null,
            "object_fit": null,
            "object_position": null,
            "order": null,
            "overflow": null,
            "overflow_x": null,
            "overflow_y": null,
            "padding": null,
            "right": null,
            "top": null,
            "visibility": null,
            "width": null
          }
        },
        "5cfb66870f5d4c7395a1c0ef7864b9c0": {
          "model_module": "@jupyter-widgets/controls",
          "model_name": "ProgressStyleModel",
          "model_module_version": "1.5.0",
          "state": {
            "_model_module": "@jupyter-widgets/controls",
            "_model_module_version": "1.5.0",
            "_model_name": "ProgressStyleModel",
            "_view_count": null,
            "_view_module": "@jupyter-widgets/base",
            "_view_module_version": "1.2.0",
            "_view_name": "StyleView",
            "bar_color": null,
            "description_width": ""
          }
        },
        "9f467ca836c946c69856e5624635cfa6": {
          "model_module": "@jupyter-widgets/base",
          "model_name": "LayoutModel",
          "model_module_version": "1.2.0",
          "state": {
            "_model_module": "@jupyter-widgets/base",
            "_model_module_version": "1.2.0",
            "_model_name": "LayoutModel",
            "_view_count": null,
            "_view_module": "@jupyter-widgets/base",
            "_view_module_version": "1.2.0",
            "_view_name": "LayoutView",
            "align_content": null,
            "align_items": null,
            "align_self": null,
            "border": null,
            "bottom": null,
            "display": null,
            "flex": null,
            "flex_flow": null,
            "grid_area": null,
            "grid_auto_columns": null,
            "grid_auto_flow": null,
            "grid_auto_rows": null,
            "grid_column": null,
            "grid_gap": null,
            "grid_row": null,
            "grid_template_areas": null,
            "grid_template_columns": null,
            "grid_template_rows": null,
            "height": null,
            "justify_content": null,
            "justify_items": null,
            "left": null,
            "margin": null,
            "max_height": null,
            "max_width": null,
            "min_height": null,
            "min_width": null,
            "object_fit": null,
            "object_position": null,
            "order": null,
            "overflow": null,
            "overflow_x": null,
            "overflow_y": null,
            "padding": null,
            "right": null,
            "top": null,
            "visibility": null,
            "width": null
          }
        },
        "3f6439abcb9c49949363affdce0ab26c": {
          "model_module": "@jupyter-widgets/controls",
          "model_name": "DescriptionStyleModel",
          "model_module_version": "1.5.0",
          "state": {
            "_model_module": "@jupyter-widgets/controls",
            "_model_module_version": "1.5.0",
            "_model_name": "DescriptionStyleModel",
            "_view_count": null,
            "_view_module": "@jupyter-widgets/base",
            "_view_module_version": "1.2.0",
            "_view_name": "StyleView",
            "description_width": ""
          }
        }
      }
    }
  },
  "cells": [
    {
      "cell_type": "markdown",
      "metadata": {
        "id": "view-in-github",
        "colab_type": "text"
      },
      "source": [
        "<a href=\"https://colab.research.google.com/github/ronald-hk-chung/ssnotebook/blob/main/computer_vision/lenet5_on_emnist.ipynb\" target=\"_parent\"><img src=\"https://colab.research.google.com/assets/colab-badge.svg\" alt=\"Open In Colab\"/></a>"
      ]
    },
    {
      "cell_type": "markdown",
      "source": [
        "# LeNet-5 on EMNIST\n",
        "\n",
        "<img src=\"https://github.com/ronald-hk-chung/ssnotebook/blob/main/computer_vision/assets/emnist.png?raw=true\">\n",
        "\n",
        "Extended MNIST (EMINST) is a new dataset developed and released by NIST to be the sucessor to MNIST. EMNIST includes all the images from NIST Special Database 19, which is a large database of handwritten uppercase and lower case letters as well as digits.\n",
        "\n",
        "Reference: https://www.nist.gov/itl/products-and-services/emnist-dataset\n",
        "\n",
        "<br/>\n",
        "\n",
        "Note that there are 6 different splits for the dataset\n",
        "\n",
        "**ByClass and ByMerge datsets**\n",
        "\n",
        "The full complement of the NIST Special Database 19 is available in the ByClass and ByMerge splits. These two datasets have the same image information but differ in the number of images in each class. Both datasets have an uneven number of images per class and there are more digits than letters. The number of letters roughly equate to the frequency of use in the English language.\n",
        "\n",
        "* train: 697,932\n",
        "* test: 116,323\n",
        "* total: 814,255\n",
        "* classes: ByClass 62 (unbalanced) / ByMerge 47 (unbalanced)\n",
        "\n",
        "**Balanced dataset**\n",
        "\n",
        "The EMNIST Balanced dataset is meant to address the balance issues in the ByClass and ByMerge datasets. It is derived from the ByMerge dataset to reduce mis-classification errors due to capital and lower case letters and also has an equal number of samples per class. This dataset is meant to be the most applicable.\n",
        "\n",
        "* train: 112,800\n",
        "* test: 18,800\n",
        "* total: 131,600\n",
        "* classes: 47 (balanced)\n",
        "\n",
        "**Letters datasets**\n",
        "\n",
        "The EMNIST Letters dataset merges a balanced set of the uppercase and lowercase letters into a single 26-class task.\n",
        "\n",
        "* train: 88,800\n",
        "* test: 14,800\n",
        "* total: 103,600\n",
        "* classes: 26 (balanced)\n",
        "\n",
        "**Digits and MNIST datsets**\n",
        "\n",
        "The EMNIST Digits and EMNIST MNIST dataset provide balanced handwritten digit datasets directly compatible with the original MNIST dataset.\n",
        "\n",
        "* train: Digits 240,000 / MNIST 60,000\n",
        "* test: Digits 40,000 / MNIST 10,000\n",
        "* total: Digits 280,000 / MNIST 70,000\n",
        "* classes: 37 (balanced)\n",
        "\n",
        "<br/>\n",
        "\n",
        "Below shows a visual breakdown by split in EMNIST dataset\n",
        "\n",
        "<img src=\"https://github.com/ronald-hk-chung/ssnotebook/blob/main/computer_vision/assets/visual_breakdown_emnist.PNG?raw=true\">"
      ],
      "metadata": {
        "id": "ZzNOQaZ_hn1B"
      }
    },
    {
      "cell_type": "markdown",
      "source": [
        "## Mission Statement\n",
        "\n",
        "1. Build a LeNet-5 model to achieve reasonable accuracy in the EMNIST Letters dataset\n",
        "3. Visualise model feature maps and classifier layers using hooks\n",
        "\n",
        "Below shows the Leaderboard under paperswithcode on accuracy of different models\n",
        "\n",
        "Reference: https://paperswithcode.com/sota/image-classification-on-emnist-letters\n",
        "\n",
        "<img src=\"https://github.com/ronald-hk-chung/ssnotebook/blob/main/computer_vision/assets/emnist_letters_leaderboard.PNG?raw=true\">"
      ],
      "metadata": {
        "id": "5IlDhR4o9RW5"
      }
    },
    {
      "cell_type": "markdown",
      "source": [
        "## Downloading the dataset from Torchvision\n",
        "\n",
        "PyTorch domain libraries provide pre-loaded datasets under `torchvision.datasets` for EMNIST\n",
        "\n",
        "Reference: https://pytorch.org/vision/main/generated/torchvision.datasets.EMNIST.html\n",
        "\n",
        "To download the dataset, we will need to provide the following parameters:\n",
        "\n",
        "*   **root (str or pathlib.Path)**\n",
        "    Root directory of dataset where EMNIST/raw/train-images-idx3-ubyte and EMNIST/raw/t10k-images-idx3-ubyte exist.\n",
        "\n",
        "*   **split (string)**\n",
        "    The dataset has 6 different splits: byclass, bymerge, balanced, letters, digits and mnist. This argument specifies which one to use.\n",
        "\n",
        "*   **train (bool, optional)**\n",
        "    If True, creates dataset from training.pt, otherwise from test.pt.\n",
        "\n",
        "*   **download (bool, optional)**\n",
        "    If True, downloads the dataset from the internet and puts it in root directory. If dataset is already downloaded, it is not downloaded again.\n",
        "\n",
        "*   **transform (callable, optional)**\n",
        "    A function/transform that takes in a PIL image and returns a transformed version. E.g, transforms.RandomCrop\n",
        "\n",
        "*   **target_transform (callable, optional)**\n",
        "    A function/transform that takes in the target and transforms it."
      ],
      "metadata": {
        "id": "dv-mbj94jgC4"
      }
    },
    {
      "cell_type": "code",
      "execution_count": 2,
      "metadata": {
        "id": "RxyT9UUThk2t",
        "colab": {
          "base_uri": "https://localhost:8080/"
        },
        "outputId": "74284e6e-9b3d-4cba-ceed-c04215faf703"
      },
      "outputs": [
        {
          "output_type": "stream",
          "name": "stdout",
          "text": [
            "Downloading https://biometrics.nist.gov/cs_links/EMNIST/gzip.zip to data/EMNIST/raw/gzip.zip\n"
          ]
        },
        {
          "output_type": "stream",
          "name": "stderr",
          "text": [
            "100%|██████████| 561753746/561753746 [00:11<00:00, 46967011.58it/s]\n"
          ]
        },
        {
          "output_type": "stream",
          "name": "stdout",
          "text": [
            "Extracting data/EMNIST/raw/gzip.zip to data/EMNIST/raw\n"
          ]
        }
      ],
      "source": [
        "import torch\n",
        "import torchvision\n",
        "from torchvision.datasets import EMNIST\n",
        "from torchvision.transforms import ToTensor\n",
        "\n",
        "# Setup train_ds and valid_ds\n",
        "train_ds = EMNIST(root='data',\n",
        "                  split='letters',\n",
        "                  train=True,\n",
        "                  download=True,\n",
        "                  transform=ToTensor(),\n",
        "                  target_transform=None)\n",
        "\n",
        "valid_ds = EMNIST(root='data',\n",
        "                  split='letters',\n",
        "                  train=False,\n",
        "                  download=True,\n",
        "                  transform=ToTensor(),\n",
        "                  target_transform=None)"
      ]
    },
    {
      "cell_type": "code",
      "source": [
        "from torch.utils.data import DataLoader\n",
        "\n",
        "train_dl = DataLoader(dataset=train_ds,\n",
        "                      batch_size=32,\n",
        "                      shuffle=True)\n",
        "\n",
        "valid_dl = DataLoader(dataset=valid_ds,\n",
        "                      batch_size=32,\n",
        "                      shuffle=False)"
      ],
      "metadata": {
        "id": "faFlg-1bD43C"
      },
      "execution_count": 3,
      "outputs": []
    },
    {
      "cell_type": "markdown",
      "source": [
        "## Exploring the EMNIST Dataset"
      ],
      "metadata": {
        "id": "Qne9n7kKkSJd"
      }
    },
    {
      "cell_type": "code",
      "source": [
        "# Check number of datapoints\n",
        "train_ds, valid_ds"
      ],
      "metadata": {
        "colab": {
          "base_uri": "https://localhost:8080/"
        },
        "id": "8Uk5Ev1rkNlk",
        "outputId": "bd20d352-25ba-4675-c6ab-29d03c790458"
      },
      "execution_count": 4,
      "outputs": [
        {
          "output_type": "execute_result",
          "data": {
            "text/plain": [
              "(Dataset EMNIST\n",
              "     Number of datapoints: 124800\n",
              "     Root location: data\n",
              "     Split: Train\n",
              "     StandardTransform\n",
              " Transform: ToTensor(),\n",
              " Dataset EMNIST\n",
              "     Number of datapoints: 20800\n",
              "     Root location: data\n",
              "     Split: Test\n",
              "     StandardTransform\n",
              " Transform: ToTensor())"
            ]
          },
          "metadata": {},
          "execution_count": 4
        }
      ]
    },
    {
      "cell_type": "code",
      "source": [
        "# Set class_names and class_to_idx\n",
        "classes = train_ds.classes\n",
        "class_to_idx = train_ds.class_to_idx\n",
        "class_to_idx"
      ],
      "metadata": {
        "colab": {
          "base_uri": "https://localhost:8080/"
        },
        "id": "vEq-Wm3yCFFX",
        "outputId": "1290310b-747c-4ce1-d265-b849f9aadee4"
      },
      "execution_count": 5,
      "outputs": [
        {
          "output_type": "execute_result",
          "data": {
            "text/plain": [
              "{'N/A': 0,\n",
              " 'a': 1,\n",
              " 'b': 2,\n",
              " 'c': 3,\n",
              " 'd': 4,\n",
              " 'e': 5,\n",
              " 'f': 6,\n",
              " 'g': 7,\n",
              " 'h': 8,\n",
              " 'i': 9,\n",
              " 'j': 10,\n",
              " 'k': 11,\n",
              " 'l': 12,\n",
              " 'm': 13,\n",
              " 'n': 14,\n",
              " 'o': 15,\n",
              " 'p': 16,\n",
              " 'q': 17,\n",
              " 'r': 18,\n",
              " 's': 19,\n",
              " 't': 20,\n",
              " 'u': 21,\n",
              " 'v': 22,\n",
              " 'w': 23,\n",
              " 'x': 24,\n",
              " 'y': 25,\n",
              " 'z': 26}"
            ]
          },
          "metadata": {},
          "execution_count": 5
        }
      ]
    },
    {
      "cell_type": "code",
      "source": [
        "# Looking at distributions for both train and valid dataset\n",
        "train_ds.targets.unique(return_counts=True)"
      ],
      "metadata": {
        "colab": {
          "base_uri": "https://localhost:8080/"
        },
        "id": "-_EXAAQuCaaG",
        "outputId": "85211339-ae21-4e2e-e4ad-4c8a58fbef2d"
      },
      "execution_count": 6,
      "outputs": [
        {
          "output_type": "execute_result",
          "data": {
            "text/plain": [
              "(tensor([ 1,  2,  3,  4,  5,  6,  7,  8,  9, 10, 11, 12, 13, 14, 15, 16, 17, 18,\n",
              "         19, 20, 21, 22, 23, 24, 25, 26]),\n",
              " tensor([4800, 4800, 4800, 4800, 4800, 4800, 4800, 4800, 4800, 4800, 4800, 4800,\n",
              "         4800, 4800, 4800, 4800, 4800, 4800, 4800, 4800, 4800, 4800, 4800, 4800,\n",
              "         4800, 4800]))"
            ]
          },
          "metadata": {},
          "execution_count": 6
        }
      ]
    },
    {
      "cell_type": "code",
      "source": [
        "valid_ds.targets.unique(return_counts=True)"
      ],
      "metadata": {
        "colab": {
          "base_uri": "https://localhost:8080/"
        },
        "id": "AvrBVjvJDeWS",
        "outputId": "d903a94f-2ffe-4d2b-f1e4-9f7297dca55a"
      },
      "execution_count": 7,
      "outputs": [
        {
          "output_type": "execute_result",
          "data": {
            "text/plain": [
              "(tensor([ 1,  2,  3,  4,  5,  6,  7,  8,  9, 10, 11, 12, 13, 14, 15, 16, 17, 18,\n",
              "         19, 20, 21, 22, 23, 24, 25, 26]),\n",
              " tensor([800, 800, 800, 800, 800, 800, 800, 800, 800, 800, 800, 800, 800, 800,\n",
              "         800, 800, 800, 800, 800, 800, 800, 800, 800, 800, 800, 800]))"
            ]
          },
          "metadata": {},
          "execution_count": 7
        }
      ]
    },
    {
      "cell_type": "markdown",
      "source": [
        "EMIST letters as stated above is a balanced dataset with each class A-Z (idx 1-26) having 4800 training datapoints and 800 valid datapoints"
      ],
      "metadata": {
        "id": "j_t2mfwyDhHv"
      }
    },
    {
      "cell_type": "markdown",
      "source": [
        "## Visualising EMNIST data batch"
      ],
      "metadata": {
        "id": "dwoTHrQSETnj"
      }
    },
    {
      "cell_type": "code",
      "source": [
        "# Visualise the the first train_ds\n",
        "img, label = train_ds[0]\n",
        "img.shape, label"
      ],
      "metadata": {
        "colab": {
          "base_uri": "https://localhost:8080/"
        },
        "id": "LII-MMP9FbkC",
        "outputId": "ff3ba9ba-3a88-4090-d54b-54b8f27a7321"
      },
      "execution_count": 8,
      "outputs": [
        {
          "output_type": "execute_result",
          "data": {
            "text/plain": [
              "(torch.Size([1, 28, 28]), 23)"
            ]
          },
          "metadata": {},
          "execution_count": 8
        }
      ]
    },
    {
      "cell_type": "code",
      "source": [
        "# Visualise the first img\n",
        "import matplotlib.pyplot as plt\n",
        "\n",
        "# have to transpose the image to see it in the correct orientation\n",
        "plt.imshow(img.squeeze().T, cmap='gray')\n",
        "plt.title(f'Label={classes[label]}');"
      ],
      "metadata": {
        "colab": {
          "base_uri": "https://localhost:8080/",
          "height": 452
        },
        "id": "twxUhfGbFruk",
        "outputId": "711d69cc-f9af-4d2b-e98a-0441538567b0"
      },
      "execution_count": 9,
      "outputs": [
        {
          "output_type": "display_data",
          "data": {
            "text/plain": [
              "<Figure size 640x480 with 1 Axes>"
            ],
            "image/png": "[encoded data removed]"
          },
          "metadata": {}
        }
      ]
    },
    {
      "cell_type": "code",
      "source": [
        "images, labels = next(iter(train_dl))\n",
        "images.shape, labels.shape"
      ],
      "metadata": {
        "colab": {
          "base_uri": "https://localhost:8080/"
        },
        "id": "jQFaNCoNETLW",
        "outputId": "6445eb93-8c03-433f-f756-f924bb7808ba"
      },
      "execution_count": 10,
      "outputs": [
        {
          "output_type": "execute_result",
          "data": {
            "text/plain": [
              "(torch.Size([32, 1, 28, 28]), torch.Size([32]))"
            ]
          },
          "metadata": {},
          "execution_count": 10
        }
      ]
    },
    {
      "cell_type": "code",
      "source": [
        "# Show one batch of data\n",
        "fig = plt.figure(figsize=(16, 8))\n",
        "rows, cols = 4, 8\n",
        "for i, image in enumerate(images):\n",
        "    plt.subplot(rows, cols, i+1)\n",
        "    plt.imshow(image.squeeze().T, cmap='gray')\n",
        "    plt.title(classes[labels[i]])\n",
        "    plt.axis(False)"
      ],
      "metadata": {
        "colab": {
          "base_uri": "https://localhost:8080/",
          "height": 673
        },
        "id": "yQNQdDJ9EfYf",
        "outputId": "cebee313-34f5-481d-bee1-906fd400e5fe"
      },
      "execution_count": 11,
      "outputs": [
        {
          "output_type": "display_data",
          "data": {
            "text/plain": [
              "<Figure size 1600x800 with 32 Axes>"
            ],
            "image/png": "[encoded data removed]"
          },
          "metadata": {}
        }
      ]
    },
    {
      "cell_type": "code",
      "source": [
        "# Visualise a class - f\n",
        "import numpy as np\n",
        "\n",
        "class_num = class_to_idx['f']\n",
        "random_idx = np.random.choice(torch.nonzero(train_ds.targets==class_num).squeeze().numpy(),\n",
        "                              size=5,\n",
        "                              replace=True)\n",
        "\n",
        "fig = plt.figure(figsize=(10, 3))\n",
        "for i, idx in enumerate(random_idx):\n",
        "    img, label = train_ds[idx]\n",
        "    plt.subplot(1, 5, i+1)\n",
        "    plt.imshow(img.squeeze().T, cmap='gray')\n",
        "    plt.title(classes[label])\n",
        "    plt.axis(False)"
      ],
      "metadata": {
        "colab": {
          "base_uri": "https://localhost:8080/",
          "height": 192
        },
        "id": "mT1I5IkpID57",
        "outputId": "9f08f893-4968-4a81-8703-aaeeee4bc5ae"
      },
      "execution_count": 12,
      "outputs": [
        {
          "output_type": "display_data",
          "data": {
            "text/plain": [
              "<Figure size 1000x300 with 5 Axes>"
            ],
            "image/png": "[encoded data removed]"
          },
          "metadata": {}
        }
      ]
    },
    {
      "cell_type": "markdown",
      "source": [
        "## Import SSTLearner and TinyVGG\n"
      ],
      "metadata": {
        "id": "AMUCaxWDD07D"
      }
    },
    {
      "cell_type": "code",
      "source": [
        "!pip -q install git+https://github.com/ronald-hk-chung/sstorch.git"
      ],
      "metadata": {
        "colab": {
          "base_uri": "https://localhost:8080/"
        },
        "id": "q9MTKL-DKJSh",
        "outputId": "f6d1a7f9-5953-4819-c97a-3169a7100425"
      },
      "execution_count": 13,
      "outputs": [
        {
          "output_type": "stream",
          "name": "stdout",
          "text": [
            "  Installing build dependencies ... \u001b[?25l\u001b[?25hdone\n",
            "  Getting requirements to build wheel ... \u001b[?25l\u001b[?25hdone\n",
            "  Installing backend dependencies ... \u001b[?25l\u001b[?25hdone\n",
            "  Preparing metadata (pyproject.toml) ... \u001b[?25l\u001b[?25hdone\n",
            "\u001b[2K     \u001b[90m━━━━━━━━━━━━━━━━━━━━━━━━━━━━━━━━━━━━━━━━\u001b[0m \u001b[32m5.5/5.5 MB\u001b[0m \u001b[31m22.3 MB/s\u001b[0m eta \u001b[36m0:00:00\u001b[0m\n",
            "\u001b[2K     \u001b[90m━━━━━━━━━━━━━━━━━━━━━━━━━━━━━━━━━━━━━━━━\u001b[0m \u001b[32m141.1/141.1 kB\u001b[0m \u001b[31m17.6 MB/s\u001b[0m eta \u001b[36m0:00:00\u001b[0m\n",
            "\u001b[?25h  Building wheel for sstorch (pyproject.toml) ... \u001b[?25l\u001b[?25hdone\n"
          ]
        }
      ]
    },
    {
      "cell_type": "markdown",
      "source": [
        "## Defining our model for EMNIST-Letters - LeNet-5\n",
        "\n",
        "LeNet-5 is a seven-layer convolutional neural network developed by Yann LeCun in 1998 to recongnize hand-written digits in 28x28 pixel images - the famous MNIST dataset. It is one of the earliest pre-trained models proposed in the research paper [Gradeint-Based Learning Applied to Document Recognition](http://yann.lecun.com/exdb/publis/pdf/lecun-01a.pdf).\n",
        "\n",
        "The main reason behind the popularity of this model was its simple straightforward architecture.\n",
        "\n",
        "Belows shows the architecture of the LeNet-5 model\n",
        "\n",
        "<img src=\"https://github.com/ronald-hk-chung/ssnotebook/blob/main/computer_vision/assets/lenet-5.png?raw=true\">\n",
        "\n",
        "Note that the typical convsolutional blocks are already presented with convolution **C layers**, activation function (not shown in above graph) and subsampling **S layers**. The notable differences are:\n",
        "\n",
        "1. the subsampling was more complex than max pooling, but then general idea still holds\n",
        "2. the activation function, **Sigmoid** at the time, was applied after the subsampling instead of before which is in most typical in modern architecture\n",
        "3. The **F6** and **Output layers** were connected by something called Gaussian connections, which is more complex than the typial activation function one would use today.\n",
        "\n",
        "We will adapt LeNet-5 to today's standard and implimented as below:"
      ],
      "metadata": {
        "id": "-3T_RA5LavRq"
      }
    },
    {
      "cell_type": "code",
      "source": [
        "from torch import nn\n",
        "from collections import OrderedDict\n",
        "\n",
        "class LeNet5(nn.Module):\n",
        "    def __init__(self, in_features, out_features):\n",
        "        super().__init__()\n",
        "\n",
        "        self.feature = nn.Sequential(OrderedDict([\n",
        "            # Block 1, 1@28x28 -> 6@28x28 -> 6@14x14\n",
        "            # Note that we are using padding=2 to add padding to each side of 28x28 -> 32x32\n",
        "            ('C1', nn.Conv2d(in_channels=in_features, out_channels=6, kernel_size=5, padding=2)),\n",
        "            ('func1', nn.ReLU()),\n",
        "            ('S2', nn.MaxPool2d(kernel_size=2)),\n",
        "            # Block 2, 6@14x14,-> 16@10x10,-> 16@5x5\n",
        "            ('C3', nn.Conv2d(in_channels=6, out_channels=16, kernel_size=5)),\n",
        "            ('func2', nn.ReLU()),\n",
        "            ('S4', nn.MaxPool2d(kernel_size=2)),\n",
        "            # Block 3, 16@5x5,-> 120@1x1\n",
        "            ('C5', nn.Conv2d(in_channels=16, out_channels=120, kernel_size=5)),\n",
        "            ('func3', nn.ReLU()),\n",
        "            ('flatten', nn.Flatten())\n",
        "        ]))\n",
        "        self.classifier = nn.Sequential(OrderedDict([\n",
        "            ('F6', nn.Linear(in_features=120, out_features=84)),\n",
        "            ('func4', nn.ReLU()),\n",
        "            ('output', nn.Linear(in_features=84, out_features=out_features))\n",
        "        ]))\n",
        "    def forward(self, X):\n",
        "        return self.classifier(self.feature(X))"
      ],
      "metadata": {
        "id": "SRIWByjqKvk4"
      },
      "execution_count": 14,
      "outputs": []
    },
    {
      "cell_type": "code",
      "source": [
        "model=LeNet5(in_features=1,\n",
        "             out_features=len(classes))"
      ],
      "metadata": {
        "id": "tKeEofXpM8cC"
      },
      "execution_count": 15,
      "outputs": []
    },
    {
      "cell_type": "code",
      "source": [
        "model"
      ],
      "metadata": {
        "colab": {
          "base_uri": "https://localhost:8080/"
        },
        "id": "JX8y9Ls7NTuk",
        "outputId": "521f3610-0a14-4c4d-9e33-41fc97e7f4fe"
      },
      "execution_count": 16,
      "outputs": [
        {
          "output_type": "execute_result",
          "data": {
            "text/plain": [
              "LeNet5(\n",
              "  (feature): Sequential(\n",
              "    (C1): Conv2d(1, 6, kernel_size=(5, 5), stride=(1, 1), padding=(2, 2))\n",
              "    (func1): ReLU()\n",
              "    (S2): MaxPool2d(kernel_size=2, stride=2, padding=0, dilation=1, ceil_mode=False)\n",
              "    (C3): Conv2d(6, 16, kernel_size=(5, 5), stride=(1, 1))\n",
              "    (func2): ReLU()\n",
              "    (S4): MaxPool2d(kernel_size=2, stride=2, padding=0, dilation=1, ceil_mode=False)\n",
              "    (C5): Conv2d(16, 120, kernel_size=(5, 5), stride=(1, 1))\n",
              "    (func3): ReLU()\n",
              "    (flatten): Flatten(start_dim=1, end_dim=-1)\n",
              "  )\n",
              "  (classifier): Sequential(\n",
              "    (F6): Linear(in_features=120, out_features=84, bias=True)\n",
              "    (func4): ReLU()\n",
              "    (output): Linear(in_features=84, out_features=27, bias=True)\n",
              "  )\n",
              ")"
            ]
          },
          "metadata": {},
          "execution_count": 16
        }
      ]
    },
    {
      "cell_type": "markdown",
      "source": [
        "## Define loss_fn and metric_fn\n"
      ],
      "metadata": {
        "id": "4SsY7TvfVKbf"
      }
    },
    {
      "cell_type": "code",
      "source": [
        "loss_fn = nn.CrossEntropyLoss()\n",
        "loss_fn"
      ],
      "metadata": {
        "colab": {
          "base_uri": "https://localhost:8080/"
        },
        "id": "ucc4h_kwNaK2",
        "outputId": "53173f5d-fec0-45ea-d3e9-dee8bc42ae40"
      },
      "execution_count": 17,
      "outputs": [
        {
          "output_type": "execute_result",
          "data": {
            "text/plain": [
              "CrossEntropyLoss()"
            ]
          },
          "metadata": {},
          "execution_count": 17
        }
      ]
    },
    {
      "cell_type": "code",
      "source": [
        "from sklearn.metrics import accuracy_score, precision_score, recall_score, f1_score\n",
        "import numpy as np\n",
        "\n",
        "def metric_fn(y_logits, y):\n",
        "    \"\"\" Return dictionary of metrics of accuracy_score, precision_score, recall_score and f1_score\n",
        "    \"\"\"\n",
        "    # Make prediction using argmax and turn into numpy array\n",
        "    y_preds = torch.argmax(y_logits, dim=-1).detach().cpu().numpy()\n",
        "    y = y.detach().cpu().numpy()\n",
        "\n",
        "    # Calculate scores from using sklearn.metrics\n",
        "    accuracy = accuracy_score(y, y_preds)\n",
        "    precision = precision_score(y, y_preds, average='macro', zero_division=0)\n",
        "    recall = recall_score(y, y_preds, average='macro', zero_division=0)\n",
        "    f1 = f1_score(y, y_preds, average='macro', zero_division=0)\n",
        "\n",
        "    # SSTLearner supports returning a dictionary from metric_fn\n",
        "    return {'accuracy': accuracy,\n",
        "            'precision': precision,\n",
        "            'recall': recall,\n",
        "            'f1': f1}\n",
        "\n",
        "metric_fn"
      ],
      "metadata": {
        "colab": {
          "base_uri": "https://localhost:8080/",
          "height": 121
        },
        "id": "DPKTn4QwNd8N",
        "outputId": "d3022527-d571-45ac-8f93-f67aa2f8690b"
      },
      "execution_count": 18,
      "outputs": [
        {
          "output_type": "execute_result",
          "data": {
            "text/plain": [
              "<function __main__.metric_fn(y_logits, y)>"
            ],
            "text/html": [
              "<div style=\"max-width:800px; border: 1px solid var(--colab-border-color);\"><style>\n",
              "      pre.function-repr-contents {\n",
              "        overflow-x: auto;\n",
              "        padding: 8px 12px;\n",
              "        max-height: 500px;\n",
              "      }\n",
              "\n",
              "      pre.function-repr-contents.function-repr-contents-collapsed {\n",
              "        cursor: pointer;\n",
              "        max-height: 100px;\n",
              "      }\n",
              "    </style>\n",
              "    <pre style=\"white-space: initial; background:\n",
              "         var(--colab-secondary-surface-color); padding: 8px 12px;\n",
              "         border-bottom: 1px solid var(--colab-border-color);\"><b>metric_fn</b><br/>def metric_fn(y_logits, y)</pre><pre class=\"function-repr-contents function-repr-contents-collapsed\" style=\"\"><a class=\"filepath\" style=\"display:none\" href=\"#\">/content/&lt;ipython-input-18-ddd3b28b7149&gt;</a>Return dictionary of metrics of accuracy_score, precision_score, recall_score and f1_score\n",
              "    </pre></div>"
            ]
          },
          "metadata": {},
          "execution_count": 18
        }
      ]
    },
    {
      "cell_type": "markdown",
      "source": [
        "## Training LeNet Learner using SSTLearner"
      ],
      "metadata": {
        "id": "RGL1JsNpVafF"
      }
    },
    {
      "cell_type": "code",
      "source": [
        "from sstorch.learner import SSTLearner\n",
        "\n",
        "lenet_learner = SSTLearner(model=model,\n",
        "                         loss_fn=loss_fn,\n",
        "                         metric_fn=metric_fn,\n",
        "                         optimizer=torch.optim.SGD(params=model.parameters(), lr=0.1),\n",
        "                         train_dataloader=train_dl,\n",
        "                         valid_dataloader=valid_dl)"
      ],
      "metadata": {
        "id": "LJLWXq6dNiDM"
      },
      "execution_count": 19,
      "outputs": []
    },
    {
      "cell_type": "code",
      "source": [
        "lenet_learner.model_info()"
      ],
      "metadata": {
        "colab": {
          "base_uri": "https://localhost:8080/"
        },
        "id": "VWQuc6_sNkmN",
        "outputId": "9f2a5f99-d63f-4400-c136-a302007bec3b"
      },
      "execution_count": 20,
      "outputs": [
        {
          "output_type": "stream",
          "name": "stdout",
          "text": [
            "========================================================================================================================\n",
            "Layer (type (var_name))                  Input Shape          Output Shape         Param #              Trainable\n",
            "========================================================================================================================\n",
            "LeNet5 (LeNet5)                          [32, 1, 28, 28]      [32, 27]             --                   True\n",
            "├─Sequential (feature)                   [32, 1, 28, 28]      [32, 120]            --                   True\n",
            "│    └─Conv2d (C1)                       [32, 1, 28, 28]      [32, 6, 28, 28]      156                  True\n",
            "│    └─ReLU (func1)                      [32, 6, 28, 28]      [32, 6, 28, 28]      --                   --\n",
            "│    └─MaxPool2d (S2)                    [32, 6, 28, 28]      [32, 6, 14, 14]      --                   --\n",
            "│    └─Conv2d (C3)                       [32, 6, 14, 14]      [32, 16, 10, 10]     2,416                True\n",
            "│    └─ReLU (func2)                      [32, 16, 10, 10]     [32, 16, 10, 10]     --                   --\n",
            "│    └─MaxPool2d (S4)                    [32, 16, 10, 10]     [32, 16, 5, 5]       --                   --\n",
            "│    └─Conv2d (C5)                       [32, 16, 5, 5]       [32, 120, 1, 1]      48,120               True\n",
            "│    └─ReLU (func3)                      [32, 120, 1, 1]      [32, 120, 1, 1]      --                   --\n",
            "│    └─Flatten (flatten)                 [32, 120, 1, 1]      [32, 120]            --                   --\n",
            "├─Sequential (classifier)                [32, 120]            [32, 27]             --                   True\n",
            "│    └─Linear (F6)                       [32, 120]            [32, 84]             10,164               True\n",
            "│    └─ReLU (func4)                      [32, 84]             [32, 84]             --                   --\n",
            "│    └─Linear (output)                   [32, 84]             [32, 27]             2,295                True\n",
            "========================================================================================================================\n",
            "Total params: 63,151\n",
            "Trainable params: 63,151\n",
            "Non-trainable params: 0\n",
            "Total mult-adds (M): 13.58\n",
            "========================================================================================================================\n",
            "Input size (MB): 0.10\n",
            "Forward/backward pass size (MB): 1.67\n",
            "Params size (MB): 0.25\n",
            "Estimated Total Size (MB): 2.03\n",
            "========================================================================================================================\n"
          ]
        }
      ]
    },
    {
      "cell_type": "code",
      "source": [
        "lenet_learner.train(5)"
      ],
      "metadata": {
        "colab": {
          "base_uri": "https://localhost:8080/",
          "height": 396,
          "referenced_widgets": [
            "391c9bdfe6184dbcb228c5a527277e19",
            "894f4a84a7ee4014aac7e57bfa43a70a",
            "19b310b6412044389f2b88a8d4777c2e",
            "f9ec53af3a3943deb2db7a12e5b64f1d",
            "1896a483509d4722a37e19b1e40b1bb5",
            "05953683ea9e48d79548c28d0df2074b",
            "0d7d2870b0e240418de43722a8dfefc5",
            "5695553afba2429b80c4ed4c3c26c489",
            "5cfb66870f5d4c7395a1c0ef7864b9c0",
            "9f467ca836c946c69856e5624635cfa6",
            "3f6439abcb9c49949363affdce0ab26c"
          ]
        },
        "id": "j4lDhwwDOHP6",
        "outputId": "e00bb6ff-ae41-4bf6-c715-3dca9d01a83c"
      },
      "execution_count": 21,
      "outputs": [
        {
          "output_type": "display_data",
          "data": {
            "text/plain": [
              "Epochs:   0%|          | 0/5 [00:00<?, ?it/s]"
            ],
            "application/vnd.jupyter.widget-view+json": {
              "version_major": 2,
              "version_minor": 0,
              "model_id": "391c9bdfe6184dbcb228c5a527277e19"
            }
          },
          "metadata": {}
        },
        {
          "output_type": "stream",
          "name": "stdout",
          "text": [
            "Epoch: 1 | LR: 1.0E-01 | train_loss: 0.632 | valid_loss: 0.298 \n",
            "train_metric: {'accuracy': 0.799, 'precision': 0.749, 'recall': 0.756, 'f1': 0.737}\n",
            "valid_metric: {'accuracy': 0.903, 'precision': 0.456, 'recall': 0.425, 'f1': 0.439}\n",
            "----------------------------------------------------------------------------------------------------\n",
            "Epoch: 2 | LR: 1.0E-01 | train_loss: 0.253 | valid_loss: 0.269 \n",
            "train_metric: {'accuracy': 0.915, 'precision': 0.881, 'recall': 0.882, 'f1': 0.872}\n",
            "valid_metric: {'accuracy': 0.913, 'precision': 0.486, 'recall': 0.458, 'f1': 0.471}\n",
            "----------------------------------------------------------------------------------------------------\n",
            "Epoch: 3 | LR: 1.0E-01 | train_loss: 0.212 | valid_loss: 0.222 \n",
            "train_metric: {'accuracy': 0.927, 'precision': 0.899, 'recall': 0.9, 'f1': 0.891}\n",
            "valid_metric: {'accuracy': 0.927, 'precision': 0.513, 'recall': 0.488, 'f1': 0.499}\n",
            "----------------------------------------------------------------------------------------------------\n",
            "Epoch: 4 | LR: 1.0E-01 | train_loss: 0.189 | valid_loss: 0.225 \n",
            "train_metric: {'accuracy': 0.934, 'precision': 0.907, 'recall': 0.908, 'f1': 0.9}\n",
            "valid_metric: {'accuracy': 0.928, 'precision': 0.52, 'recall': 0.496, 'f1': 0.507}\n",
            "----------------------------------------------------------------------------------------------------\n",
            "Epoch: 5 | LR: 1.0E-01 | train_loss: 0.173 | valid_loss: 0.229 \n",
            "train_metric: {'accuracy': 0.94, 'precision': 0.914, 'recall': 0.915, 'f1': 0.907}\n",
            "valid_metric: {'accuracy': 0.925, 'precision': 0.517, 'recall': 0.491, 'f1': 0.503}\n",
            "----------------------------------------------------------------------------------------------------\n"
          ]
        }
      ]
    },
    {
      "cell_type": "markdown",
      "source": [
        "We have ~93% after 10 epochs which is a reasonable result for EMNIST"
      ],
      "metadata": {
        "id": "s9on5sheVgNw"
      }
    },
    {
      "cell_type": "markdown",
      "source": [
        "## Visualize filters in LeNet-EMNIST model\n",
        "\n",
        "We can access the weights of the layers to visualise how LeNet classify EMNIST"
      ],
      "metadata": {
        "id": "eWhAu5QMXLwy"
      }
    },
    {
      "cell_type": "code",
      "source": [
        "# Visualise Block1 C1 of LeNet\n",
        "fig = plt.figure(figsize=(10,5))\n",
        "rows, cols = 1, 6\n",
        "for i, weight in enumerate(model.feature.C1.weight.data.cpu().numpy()):\n",
        "    plt.subplot(rows, cols, i+1)\n",
        "    plt.imshow(weight.squeeze(), cmap='gray')\n",
        "    plt.axis(False)\n",
        "# fig, ax = plt.subplots()\n",
        "# plt.imshow(model.feature.C1.weight.data.cpu().numpy()[0].squeeze())"
      ],
      "metadata": {
        "colab": {
          "base_uri": "https://localhost:8080/",
          "height": 147
        },
        "id": "deDD9h1pXvQA",
        "outputId": "36440cba-b1ca-4e24-8771-8846376272fa"
      },
      "execution_count": 40,
      "outputs": [
        {
          "output_type": "display_data",
          "data": {
            "text/plain": [
              "<Figure size 1000x500 with 6 Axes>"
            ],
            "image/png": "[encoded data removed]"
          },
          "metadata": {}
        }
      ]
    },
    {
      "cell_type": "code",
      "source": [
        "# Visualise Block2 C3 of LeNet\n",
        "fig = plt.figure(figsize=(16,8))\n",
        "rows, cols = 6, 16\n",
        "i = 0\n",
        "for channels in model.feature.C3.weight.data.cpu().numpy():\n",
        "    for weight in channels:\n",
        "        plt.subplot(rows, cols, i+1)\n",
        "        # print(weight.shape)\n",
        "        plt.imshow(weight, cmap='gray')\n",
        "        plt.axis(False)\n",
        "        i += 1"
      ],
      "metadata": {
        "colab": {
          "base_uri": "https://localhost:8080/",
          "height": 630
        },
        "id": "7x5OX_J16PhG",
        "outputId": "1bed1c44-11cb-42f7-9681-54985f70f556"
      },
      "execution_count": 61,
      "outputs": [
        {
          "output_type": "display_data",
          "data": {
            "text/plain": [
              "<Figure size 1600x800 with 96 Axes>"
            ],
            "image/png": "[encoded data removed]"
          },
          "metadata": {}
        }
      ]
    },
    {
      "cell_type": "markdown",
      "source": [
        "It is certainly not easy to grasp how above filter are used to distinguihing between different classes in EMNIST dataset. To really understand the effect the filter, we need to viualize the intermediate values produced by our model"
      ],
      "metadata": {
        "id": "zr7KjgHL9Yb7"
      }
    },
    {
      "cell_type": "markdown",
      "source": [
        "## Define Hooks for visualisation of feature maps\n",
        "\n",
        "A hook is a way to force a model to execute a function either after its forward pass or after its backward pass. Hence, there are forward hooks and backward hooks. We will be using forward hooks to record the output of filters"
      ],
      "metadata": {
        "id": "KE6oPKTV_ajQ"
      }
    },
    {
      "cell_type": "markdown",
      "source": [
        "SSTLearner class provided 2 in-built function for performing attach forward hooks `attach_foward_hooks`\n",
        "\n",
        "Summary of the function is as below:\n",
        "\n",
        "```python\n",
        "def attach_forward_hooks(self, layers_to_hook: list, hook_fn: Callable):\n",
        "    \"\"\"Method to attach custom forward hooks\n",
        "\n",
        "    Args:\n",
        "        layers_to_hook (list):    list of layers to hook\n",
        "        hook_fn (Callable):   custom hook_fn in during forward pass\n",
        "    \"\"\"\n",
        "    for name, layer in self.modules:\n",
        "        if name in layers_to_hook:\n",
        "            handle = layer.register_forward_hook(hook_fn)\n",
        "            self.forward_hook_handles.append(handle)\n",
        "```"
      ],
      "metadata": {
        "id": "eO8thXxaBiwL"
      }
    },
    {
      "cell_type": "markdown",
      "source": [
        "We can define a hook function that follows below pattern:\n",
        "\n",
        "```python\n",
        "def module_hook(module: nn.Module, input: Tensor, output: Tensor):\n",
        "    # For nn.Module objects only.\n",
        "```"
      ],
      "metadata": {
        "id": "6jYEnoZyJqL8"
      }
    },
    {
      "cell_type": "code",
      "source": [
        "# Get the module list using named_modules() and put into layer_names dictionary for recording\n",
        "modules = list(lenet_learner.model.named_modules())\n",
        "layer_names = {layer: name for name, layer in modules[1:]}\n",
        "\n",
        "# Initialise empty visualization dict\n",
        "visualization = {}\n",
        "\n",
        "# Define hook function to register visualization\n",
        "def hook_fn(layer, inputs, outputs):\n",
        "    name = layer_names[layer]\n",
        "    # insert output to visualization dictionary\n",
        "    visualization[name] = outputs.detach().cpu().numpy()"
      ],
      "metadata": {
        "id": "GrJtcI0rAej5"
      },
      "execution_count": 234,
      "outputs": []
    },
    {
      "cell_type": "code",
      "source": [
        "# Attach the forward hook using attach_foward_hooks in SSTLearner class\n",
        "lenet_learner.attach_forward_hooks(layers_to_hook=['feature.C1', 'feature.S2', 'feature.C3', 'feature.S4'],\n",
        "                                   hook_fn=hook_fn)"
      ],
      "metadata": {
        "id": "ysqlutPQEvNB"
      },
      "execution_count": 235,
      "outputs": []
    },
    {
      "cell_type": "code",
      "source": [
        "import random\n",
        "# Chosing a random datapoint for a specific letter\n",
        "letter = 'x'\n",
        "choice = random.choice(torch.nonzero(train_ds.targets==class_to_idx[letter])).item()\n",
        "img, label = train_ds[choice]\n",
        "\n",
        "# Perform a forward pass and make prediction\n",
        "logits = lenet_learner.predict(img.unsqueeze(0))\n",
        "pred = logits.argmax(-1)\n",
        "\n",
        "# Plot out the data with label and prediction\n",
        "plt.imshow(img.squeeze().T, cmap='gray')\n",
        "plt.title(f'Label={classes[label]}, Pred={classes[pred]}');\n",
        "\n",
        "# Remove hook\n",
        "lenet_learner.remove_hooks()"
      ],
      "metadata": {
        "colab": {
          "base_uri": "https://localhost:8080/",
          "height": 452
        },
        "id": "qI08Ww26E9WF",
        "outputId": "fcaf3ec3-81ad-4ff3-a04c-94465a276104"
      },
      "execution_count": 236,
      "outputs": [
        {
          "output_type": "display_data",
          "data": {
            "text/plain": [
              "<Figure size 640x480 with 1 Axes>"
            ],
            "image/png": "[encoded data removed]"
          },
          "metadata": {}
        }
      ]
    },
    {
      "cell_type": "code",
      "source": [
        "# Visualise output of C1 of LeNet\n",
        "fig = plt.figure(figsize=(10,5))\n",
        "rows, cols = 1, 6\n",
        "for i, output in enumerate(visualization['feature.C1'].squeeze(0)):\n",
        "    plt.subplot(rows, cols, i+1)\n",
        "    plt.imshow(output.T, cmap='gray')\n",
        "    plt.axis(False)"
      ],
      "metadata": {
        "colab": {
          "base_uri": "https://localhost:8080/",
          "height": 147
        },
        "id": "AhQCdDexIGxs",
        "outputId": "dc3cfd57-81fe-46cb-9ba0-2114369cf6da"
      },
      "execution_count": 237,
      "outputs": [
        {
          "output_type": "display_data",
          "data": {
            "text/plain": [
              "<Figure size 1000x500 with 6 Axes>"
            ],
            "image/png": "[encoded data removed]"
          },
          "metadata": {}
        }
      ]
    },
    {
      "cell_type": "code",
      "source": [
        "# Visualise output of S2 of LeNet\n",
        "fig = plt.figure(figsize=(10,5))\n",
        "rows, cols = 1, 6\n",
        "for i, output in enumerate(visualization['feature.S2'].squeeze(0)):\n",
        "    plt.subplot(rows, cols, i+1)\n",
        "    plt.imshow(output.T, cmap='gray')\n",
        "    plt.axis(False)"
      ],
      "metadata": {
        "colab": {
          "base_uri": "https://localhost:8080/",
          "height": 147
        },
        "id": "NiDp4AsBOlhJ",
        "outputId": "7cb1b9a9-5351-48e5-afad-9148bbf766b5"
      },
      "execution_count": 238,
      "outputs": [
        {
          "output_type": "display_data",
          "data": {
            "text/plain": [
              "<Figure size 1000x500 with 6 Axes>"
            ],
            "image/png": "[encoded data removed]"
          },
          "metadata": {}
        }
      ]
    },
    {
      "cell_type": "code",
      "source": [
        "# Visualise output of C3 of LeNet\n",
        "fig = plt.figure(figsize=(14,5))\n",
        "rows, cols = 2, 8\n",
        "for i, output in enumerate(visualization['feature.C3'].squeeze(0)):\n",
        "    plt.subplot(rows, cols, i+1)\n",
        "    plt.imshow(output.T, cmap='gray')\n",
        "    plt.axis(False)"
      ],
      "metadata": {
        "colab": {
          "base_uri": "https://localhost:8080/",
          "height": 362
        },
        "id": "kyJ4TT4UIabn",
        "outputId": "ab46111d-5bd1-49d4-cd14-96508222a085"
      },
      "execution_count": 239,
      "outputs": [
        {
          "output_type": "display_data",
          "data": {
            "text/plain": [
              "<Figure size 1400x500 with 16 Axes>"
            ],
            "image/png": "[encoded data removed]"
          },
          "metadata": {}
        }
      ]
    },
    {
      "cell_type": "code",
      "source": [
        "# Visualise output of S4 of LeNet\n",
        "fig = plt.figure(figsize=(14,5))\n",
        "rows, cols = 2, 8\n",
        "for i, output in enumerate(visualization['feature.S4'].squeeze(0)):\n",
        "    plt.subplot(rows, cols, i+1)\n",
        "    plt.imshow(output.T, cmap='gray')\n",
        "    plt.axis(False)"
      ],
      "metadata": {
        "colab": {
          "base_uri": "https://localhost:8080/",
          "height": 362
        },
        "id": "Ko0WwMcAOzIN",
        "outputId": "012560ce-0255-46ca-fb3e-7e85ed802e6c"
      },
      "execution_count": 240,
      "outputs": [
        {
          "output_type": "display_data",
          "data": {
            "text/plain": [
              "<Figure size 1400x500 with 16 Axes>"
            ],
            "image/png": "[encoded data removed]"
          },
          "metadata": {}
        }
      ]
    },
    {
      "cell_type": "markdown",
      "source": [
        "From the above, we can see that C1 highlighted the edges and the S2 with Relu layer further highlights the cross diagonal line which is the prominent *feature* of **X**.  This also appears in C3 and layer S4 but it is harder for human eyes to distinguish which LeNet model took the flattened features to its classifier to produce the logits."
      ],
      "metadata": {
        "id": "jquwQun_Pwan"
      }
    },
    {
      "cell_type": "code",
      "source": [],
      "metadata": {
        "id": "ZpQ4n74T4sAe"
      },
      "execution_count": null,
      "outputs": []
    }
  ]
}