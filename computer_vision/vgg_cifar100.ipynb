{
  "nbformat": 4,
  "nbformat_minor": 0,
  "metadata": {
    "colab": {
      "provenance": [],
      "machine_shape": "hm",
      "gpuType": "V28",
      "authorship_tag": "ABX9TyMQ1GQNQw4uOnousWqmffp/",
      "include_colab_link": true
    },
    "kernelspec": {
      "name": "python3",
      "display_name": "Python 3"
    },
    "language_info": {
      "name": "python"
    },
    "accelerator": "TPU",
    "widgets": {
      "application/vnd.jupyter.widget-state+json": {
        "e324ca177962492e82b416d34f294177": {
          "model_module": "@jupyter-widgets/controls",
          "model_name": "HBoxModel",
          "model_module_version": "1.5.0",
          "state": {
            "_dom_classes": [],
            "_model_module": "@jupyter-widgets/controls",
            "_model_module_version": "1.5.0",
            "_model_name": "HBoxModel",
            "_view_count": null,
            "_view_module": "@jupyter-widgets/controls",
            "_view_module_version": "1.5.0",
            "_view_name": "HBoxView",
            "box_style": "",
            "children": [
              "IPY_MODEL_f37d6aa87c3a4fdda43b51f2e3cc224f",
              "IPY_MODEL_c08b9143baf34dd4834b6dcbad1c647f",
              "IPY_MODEL_46b685ee7d394f3694dd1b51f55bbd8e"
            ],
            "layout": "IPY_MODEL_3487ae0cbc614898bb145ee01778b65e"
          }
        },
        "f37d6aa87c3a4fdda43b51f2e3cc224f": {
          "model_module": "@jupyter-widgets/controls",
          "model_name": "HTMLModel",
          "model_module_version": "1.5.0",
          "state": {
            "_dom_classes": [],
            "_model_module": "@jupyter-widgets/controls",
            "_model_module_version": "1.5.0",
            "_model_name": "HTMLModel",
            "_view_count": null,
            "_view_module": "@jupyter-widgets/controls",
            "_view_module_version": "1.5.0",
            "_view_name": "HTMLView",
            "description": "",
            "description_tooltip": null,
            "layout": "IPY_MODEL_6d10bb3074e84308931e8220164817bb",
            "placeholder": "​",
            "style": "IPY_MODEL_51a924061cb24ae3a48cbfe7ca744f0c",
            "value": "100%"
          }
        },
        "c08b9143baf34dd4834b6dcbad1c647f": {
          "model_module": "@jupyter-widgets/controls",
          "model_name": "FloatProgressModel",
          "model_module_version": "1.5.0",
          "state": {
            "_dom_classes": [],
            "_model_module": "@jupyter-widgets/controls",
            "_model_module_version": "1.5.0",
            "_model_name": "FloatProgressModel",
            "_view_count": null,
            "_view_module": "@jupyter-widgets/controls",
            "_view_module_version": "1.5.0",
            "_view_name": "ProgressView",
            "bar_style": "success",
            "description": "",
            "description_tooltip": null,
            "layout": "IPY_MODEL_94f277bd4b364525ab8bde9f1cf76feb",
            "max": 100,
            "min": 0,
            "orientation": "horizontal",
            "style": "IPY_MODEL_9f03ef82e75546a6a8fab8a7df060b06",
            "value": 100
          }
        },
        "46b685ee7d394f3694dd1b51f55bbd8e": {
          "model_module": "@jupyter-widgets/controls",
          "model_name": "HTMLModel",
          "model_module_version": "1.5.0",
          "state": {
            "_dom_classes": [],
            "_model_module": "@jupyter-widgets/controls",
            "_model_module_version": "1.5.0",
            "_model_name": "HTMLModel",
            "_view_count": null,
            "_view_module": "@jupyter-widgets/controls",
            "_view_module_version": "1.5.0",
            "_view_name": "HTMLView",
            "description": "",
            "description_tooltip": null,
            "layout": "IPY_MODEL_124736ebc54c401c96c5e9b9223753b2",
            "placeholder": "​",
            "style": "IPY_MODEL_8de9946b58c04c5bace8445bc0534cbb",
            "value": " 100/100 [02:26&lt;00:00,  1.47s/it]"
          }
        },
        "3487ae0cbc614898bb145ee01778b65e": {
          "model_module": "@jupyter-widgets/base",
          "model_name": "LayoutModel",
          "model_module_version": "1.2.0",
          "state": {
            "_model_module": "@jupyter-widgets/base",
            "_model_module_version": "1.2.0",
            "_model_name": "LayoutModel",
            "_view_count": null,
            "_view_module": "@jupyter-widgets/base",
            "_view_module_version": "1.2.0",
            "_view_name": "LayoutView",
            "align_content": null,
            "align_items": null,
            "align_self": null,
            "border": null,
            "bottom": null,
            "display": null,
            "flex": null,
            "flex_flow": null,
            "grid_area": null,
            "grid_auto_columns": null,
            "grid_auto_flow": null,
            "grid_auto_rows": null,
            "grid_column": null,
            "grid_gap": null,
            "grid_row": null,
            "grid_template_areas": null,
            "grid_template_columns": null,
            "grid_template_rows": null,
            "height": null,
            "justify_content": null,
            "justify_items": null,
            "left": null,
            "margin": null,
            "max_height": null,
            "max_width": null,
            "min_height": null,
            "min_width": null,
            "object_fit": null,
            "object_position": null,
            "order": null,
            "overflow": null,
            "overflow_x": null,
            "overflow_y": null,
            "padding": null,
            "right": null,
            "top": null,
            "visibility": null,
            "width": null
          }
        },
        "6d10bb3074e84308931e8220164817bb": {
          "model_module": "@jupyter-widgets/base",
          "model_name": "LayoutModel",
          "model_module_version": "1.2.0",
          "state": {
            "_model_module": "@jupyter-widgets/base",
            "_model_module_version": "1.2.0",
            "_model_name": "LayoutModel",
            "_view_count": null,
            "_view_module": "@jupyter-widgets/base",
            "_view_module_version": "1.2.0",
            "_view_name": "LayoutView",
            "align_content": null,
            "align_items": null,
            "align_self": null,
            "border": null,
            "bottom": null,
            "display": null,
            "flex": null,
            "flex_flow": null,
            "grid_area": null,
            "grid_auto_columns": null,
            "grid_auto_flow": null,
            "grid_auto_rows": null,
            "grid_column": null,
            "grid_gap": null,
            "grid_row": null,
            "grid_template_areas": null,
            "grid_template_columns": null,
            "grid_template_rows": null,
            "height": null,
            "justify_content": null,
            "justify_items": null,
            "left": null,
            "margin": null,
            "max_height": null,
            "max_width": null,
            "min_height": null,
            "min_width": null,
            "object_fit": null,
            "object_position": null,
            "order": null,
            "overflow": null,
            "overflow_x": null,
            "overflow_y": null,
            "padding": null,
            "right": null,
            "top": null,
            "visibility": null,
            "width": null
          }
        },
        "51a924061cb24ae3a48cbfe7ca744f0c": {
          "model_module": "@jupyter-widgets/controls",
          "model_name": "DescriptionStyleModel",
          "model_module_version": "1.5.0",
          "state": {
            "_model_module": "@jupyter-widgets/controls",
            "_model_module_version": "1.5.0",
            "_model_name": "DescriptionStyleModel",
            "_view_count": null,
            "_view_module": "@jupyter-widgets/base",
            "_view_module_version": "1.2.0",
            "_view_name": "StyleView",
            "description_width": ""
          }
        },
        "94f277bd4b364525ab8bde9f1cf76feb": {
          "model_module": "@jupyter-widgets/base",
          "model_name": "LayoutModel",
          "model_module_version": "1.2.0",
          "state": {
            "_model_module": "@jupyter-widgets/base",
            "_model_module_version": "1.2.0",
            "_model_name": "LayoutModel",
            "_view_count": null,
            "_view_module": "@jupyter-widgets/base",
            "_view_module_version": "1.2.0",
            "_view_name": "LayoutView",
            "align_content": null,
            "align_items": null,
            "align_self": null,
            "border": null,
            "bottom": null,
            "display": null,
            "flex": null,
            "flex_flow": null,
            "grid_area": null,
            "grid_auto_columns": null,
            "grid_auto_flow": null,
            "grid_auto_rows": null,
            "grid_column": null,
            "grid_gap": null,
            "grid_row": null,
            "grid_template_areas": null,
            "grid_template_columns": null,
            "grid_template_rows": null,
            "height": null,
            "justify_content": null,
            "justify_items": null,
            "left": null,
            "margin": null,
            "max_height": null,
            "max_width": null,
            "min_height": null,
            "min_width": null,
            "object_fit": null,
            "object_position": null,
            "order": null,
            "overflow": null,
            "overflow_x": null,
            "overflow_y": null,
            "padding": null,
            "right": null,
            "top": null,
            "visibility": null,
            "width": null
          }
        },
        "9f03ef82e75546a6a8fab8a7df060b06": {
          "model_module": "@jupyter-widgets/controls",
          "model_name": "ProgressStyleModel",
          "model_module_version": "1.5.0",
          "state": {
            "_model_module": "@jupyter-widgets/controls",
            "_model_module_version": "1.5.0",
            "_model_name": "ProgressStyleModel",
            "_view_count": null,
            "_view_module": "@jupyter-widgets/base",
            "_view_module_version": "1.2.0",
            "_view_name": "StyleView",
            "bar_color": null,
            "description_width": ""
          }
        },
        "124736ebc54c401c96c5e9b9223753b2": {
          "model_module": "@jupyter-widgets/base",
          "model_name": "LayoutModel",
          "model_module_version": "1.2.0",
          "state": {
            "_model_module": "@jupyter-widgets/base",
            "_model_module_version": "1.2.0",
            "_model_name": "LayoutModel",
            "_view_count": null,
            "_view_module": "@jupyter-widgets/base",
            "_view_module_version": "1.2.0",
            "_view_name": "LayoutView",
            "align_content": null,
            "align_items": null,
            "align_self": null,
            "border": null,
            "bottom": null,
            "display": null,
            "flex": null,
            "flex_flow": null,
            "grid_area": null,
            "grid_auto_columns": null,
            "grid_auto_flow": null,
            "grid_auto_rows": null,
            "grid_column": null,
            "grid_gap": null,
            "grid_row": null,
            "grid_template_areas": null,
            "grid_template_columns": null,
            "grid_template_rows": null,
            "height": null,
            "justify_content": null,
            "justify_items": null,
            "left": null,
            "margin": null,
            "max_height": null,
            "max_width": null,
            "min_height": null,
            "min_width": null,
            "object_fit": null,
            "object_position": null,
            "order": null,
            "overflow": null,
            "overflow_x": null,
            "overflow_y": null,
            "padding": null,
            "right": null,
            "top": null,
            "visibility": null,
            "width": null
          }
        },
        "8de9946b58c04c5bace8445bc0534cbb": {
          "model_module": "@jupyter-widgets/controls",
          "model_name": "DescriptionStyleModel",
          "model_module_version": "1.5.0",
          "state": {
            "_model_module": "@jupyter-widgets/controls",
            "_model_module_version": "1.5.0",
            "_model_name": "DescriptionStyleModel",
            "_view_count": null,
            "_view_module": "@jupyter-widgets/base",
            "_view_module_version": "1.2.0",
            "_view_name": "StyleView",
            "description_width": ""
          }
        },
        "29e3c8a7edcd4595b4ae49835e8790ea": {
          "model_module": "@jupyter-widgets/controls",
          "model_name": "HBoxModel",
          "model_module_version": "1.5.0",
          "state": {
            "_dom_classes": [],
            "_model_module": "@jupyter-widgets/controls",
            "_model_module_version": "1.5.0",
            "_model_name": "HBoxModel",
            "_view_count": null,
            "_view_module": "@jupyter-widgets/controls",
            "_view_module_version": "1.5.0",
            "_view_name": "HBoxView",
            "box_style": "",
            "children": [
              "IPY_MODEL_0520268500694fe2a4ec34c9a40c4847",
              "IPY_MODEL_e3efc27c8ffa41a8bddd7ce9afa9b55a",
              "IPY_MODEL_e5a28cb5524a45f0908c30e77799caff"
            ],
            "layout": "IPY_MODEL_a744ff34cdb0430382d0d644b3e19847"
          }
        },
        "0520268500694fe2a4ec34c9a40c4847": {
          "model_module": "@jupyter-widgets/controls",
          "model_name": "HTMLModel",
          "model_module_version": "1.5.0",
          "state": {
            "_dom_classes": [],
            "_model_module": "@jupyter-widgets/controls",
            "_model_module_version": "1.5.0",
            "_model_name": "HTMLModel",
            "_view_count": null,
            "_view_module": "@jupyter-widgets/controls",
            "_view_module_version": "1.5.0",
            "_view_name": "HTMLView",
            "description": "",
            "description_tooltip": null,
            "layout": "IPY_MODEL_dc4b436ff4ac4369a565c92bad8cabeb",
            "placeholder": "​",
            "style": "IPY_MODEL_050579c0a6f94de2b985fc1b47221846",
            "value": "Epochs:  50%"
          }
        },
        "e3efc27c8ffa41a8bddd7ce9afa9b55a": {
          "model_module": "@jupyter-widgets/controls",
          "model_name": "FloatProgressModel",
          "model_module_version": "1.5.0",
          "state": {
            "_dom_classes": [],
            "_model_module": "@jupyter-widgets/controls",
            "_model_module_version": "1.5.0",
            "_model_name": "FloatProgressModel",
            "_view_count": null,
            "_view_module": "@jupyter-widgets/controls",
            "_view_module_version": "1.5.0",
            "_view_name": "ProgressView",
            "bar_style": "",
            "description": "",
            "description_tooltip": null,
            "layout": "IPY_MODEL_aad41244c4764cfca9dbc601403e4510",
            "max": 10,
            "min": 0,
            "orientation": "horizontal",
            "style": "IPY_MODEL_5dc36aa18508493dbe292883c48039d3",
            "value": 5
          }
        },
        "e5a28cb5524a45f0908c30e77799caff": {
          "model_module": "@jupyter-widgets/controls",
          "model_name": "HTMLModel",
          "model_module_version": "1.5.0",
          "state": {
            "_dom_classes": [],
            "_model_module": "@jupyter-widgets/controls",
            "_model_module_version": "1.5.0",
            "_model_name": "HTMLModel",
            "_view_count": null,
            "_view_module": "@jupyter-widgets/controls",
            "_view_module_version": "1.5.0",
            "_view_name": "HTMLView",
            "description": "",
            "description_tooltip": null,
            "layout": "IPY_MODEL_e43379d939ac45c99048f3cbca2c29ab",
            "placeholder": "​",
            "style": "IPY_MODEL_85a4833fec784657ac1520ee123b0f8d",
            "value": " 5/10 [45:02&lt;45:01, 540.28s/it]"
          }
        },
        "a744ff34cdb0430382d0d644b3e19847": {
          "model_module": "@jupyter-widgets/base",
          "model_name": "LayoutModel",
          "model_module_version": "1.2.0",
          "state": {
            "_model_module": "@jupyter-widgets/base",
            "_model_module_version": "1.2.0",
            "_model_name": "LayoutModel",
            "_view_count": null,
            "_view_module": "@jupyter-widgets/base",
            "_view_module_version": "1.2.0",
            "_view_name": "LayoutView",
            "align_content": null,
            "align_items": null,
            "align_self": null,
            "border": null,
            "bottom": null,
            "display": null,
            "flex": null,
            "flex_flow": null,
            "grid_area": null,
            "grid_auto_columns": null,
            "grid_auto_flow": null,
            "grid_auto_rows": null,
            "grid_column": null,
            "grid_gap": null,
            "grid_row": null,
            "grid_template_areas": null,
            "grid_template_columns": null,
            "grid_template_rows": null,
            "height": null,
            "justify_content": null,
            "justify_items": null,
            "left": null,
            "margin": null,
            "max_height": null,
            "max_width": null,
            "min_height": null,
            "min_width": null,
            "object_fit": null,
            "object_position": null,
            "order": null,
            "overflow": null,
            "overflow_x": null,
            "overflow_y": null,
            "padding": null,
            "right": null,
            "top": null,
            "visibility": null,
            "width": null
          }
        },
        "dc4b436ff4ac4369a565c92bad8cabeb": {
          "model_module": "@jupyter-widgets/base",
          "model_name": "LayoutModel",
          "model_module_version": "1.2.0",
          "state": {
            "_model_module": "@jupyter-widgets/base",
            "_model_module_version": "1.2.0",
            "_model_name": "LayoutModel",
            "_view_count": null,
            "_view_module": "@jupyter-widgets/base",
            "_view_module_version": "1.2.0",
            "_view_name": "LayoutView",
            "align_content": null,
            "align_items": null,
            "align_self": null,
            "border": null,
            "bottom": null,
            "display": null,
            "flex": null,
            "flex_flow": null,
            "grid_area": null,
            "grid_auto_columns": null,
            "grid_auto_flow": null,
            "grid_auto_rows": null,
            "grid_column": null,
            "grid_gap": null,
            "grid_row": null,
            "grid_template_areas": null,
            "grid_template_columns": null,
            "grid_template_rows": null,
            "height": null,
            "justify_content": null,
            "justify_items": null,
            "left": null,
            "margin": null,
            "max_height": null,
            "max_width": null,
            "min_height": null,
            "min_width": null,
            "object_fit": null,
            "object_position": null,
            "order": null,
            "overflow": null,
            "overflow_x": null,
            "overflow_y": null,
            "padding": null,
            "right": null,
            "top": null,
            "visibility": null,
            "width": null
          }
        },
        "050579c0a6f94de2b985fc1b47221846": {
          "model_module": "@jupyter-widgets/controls",
          "model_name": "DescriptionStyleModel",
          "model_module_version": "1.5.0",
          "state": {
            "_model_module": "@jupyter-widgets/controls",
            "_model_module_version": "1.5.0",
            "_model_name": "DescriptionStyleModel",
            "_view_count": null,
            "_view_module": "@jupyter-widgets/base",
            "_view_module_version": "1.2.0",
            "_view_name": "StyleView",
            "description_width": ""
          }
        },
        "aad41244c4764cfca9dbc601403e4510": {
          "model_module": "@jupyter-widgets/base",
          "model_name": "LayoutModel",
          "model_module_version": "1.2.0",
          "state": {
            "_model_module": "@jupyter-widgets/base",
            "_model_module_version": "1.2.0",
            "_model_name": "LayoutModel",
            "_view_count": null,
            "_view_module": "@jupyter-widgets/base",
            "_view_module_version": "1.2.0",
            "_view_name": "LayoutView",
            "align_content": null,
            "align_items": null,
            "align_self": null,
            "border": null,
            "bottom": null,
            "display": null,
            "flex": null,
            "flex_flow": null,
            "grid_area": null,
            "grid_auto_columns": null,
            "grid_auto_flow": null,
            "grid_auto_rows": null,
            "grid_column": null,
            "grid_gap": null,
            "grid_row": null,
            "grid_template_areas": null,
            "grid_template_columns": null,
            "grid_template_rows": null,
            "height": null,
            "justify_content": null,
            "justify_items": null,
            "left": null,
            "margin": null,
            "max_height": null,
            "max_width": null,
            "min_height": null,
            "min_width": null,
            "object_fit": null,
            "object_position": null,
            "order": null,
            "overflow": null,
            "overflow_x": null,
            "overflow_y": null,
            "padding": null,
            "right": null,
            "top": null,
            "visibility": null,
            "width": null
          }
        },
        "5dc36aa18508493dbe292883c48039d3": {
          "model_module": "@jupyter-widgets/controls",
          "model_name": "ProgressStyleModel",
          "model_module_version": "1.5.0",
          "state": {
            "_model_module": "@jupyter-widgets/controls",
            "_model_module_version": "1.5.0",
            "_model_name": "ProgressStyleModel",
            "_view_count": null,
            "_view_module": "@jupyter-widgets/base",
            "_view_module_version": "1.2.0",
            "_view_name": "StyleView",
            "bar_color": null,
            "description_width": ""
          }
        },
        "e43379d939ac45c99048f3cbca2c29ab": {
          "model_module": "@jupyter-widgets/base",
          "model_name": "LayoutModel",
          "model_module_version": "1.2.0",
          "state": {
            "_model_module": "@jupyter-widgets/base",
            "_model_module_version": "1.2.0",
            "_model_name": "LayoutModel",
            "_view_count": null,
            "_view_module": "@jupyter-widgets/base",
            "_view_module_version": "1.2.0",
            "_view_name": "LayoutView",
            "align_content": null,
            "align_items": null,
            "align_self": null,
            "border": null,
            "bottom": null,
            "display": null,
            "flex": null,
            "flex_flow": null,
            "grid_area": null,
            "grid_auto_columns": null,
            "grid_auto_flow": null,
            "grid_auto_rows": null,
            "grid_column": null,
            "grid_gap": null,
            "grid_row": null,
            "grid_template_areas": null,
            "grid_template_columns": null,
            "grid_template_rows": null,
            "height": null,
            "justify_content": null,
            "justify_items": null,
            "left": null,
            "margin": null,
            "max_height": null,
            "max_width": null,
            "min_height": null,
            "min_width": null,
            "object_fit": null,
            "object_position": null,
            "order": null,
            "overflow": null,
            "overflow_x": null,
            "overflow_y": null,
            "padding": null,
            "right": null,
            "top": null,
            "visibility": null,
            "width": null
          }
        },
        "85a4833fec784657ac1520ee123b0f8d": {
          "model_module": "@jupyter-widgets/controls",
          "model_name": "DescriptionStyleModel",
          "model_module_version": "1.5.0",
          "state": {
            "_model_module": "@jupyter-widgets/controls",
            "_model_module_version": "1.5.0",
            "_model_name": "DescriptionStyleModel",
            "_view_count": null,
            "_view_module": "@jupyter-widgets/base",
            "_view_module_version": "1.2.0",
            "_view_name": "StyleView",
            "description_width": ""
          }
        }
      }
    }
  },
  "cells": [
    {
      "cell_type": "markdown",
      "metadata": {
        "id": "view-in-github",
        "colab_type": "text"
      },
      "source": [
        "<a href=\"https://colab.research.google.com/github/ronald-hk-chung/ssnotebook/blob/main/computer_vision/vgg_cifar100.ipynb\" target=\"_parent\"><img src=\"https://colab.research.google.com/assets/colab-badge.svg\" alt=\"Open In Colab\"/></a>"
      ]
    },
    {
      "cell_type": "markdown",
      "source": [
        "# Building VGG Net to train on CIFAR100\n",
        "\n",
        "**Mission Statement**\n",
        "1. Building VGGNet from Scratch\n",
        "2. Train a VGGNetwork with Cifar-100 Dataset"
      ],
      "metadata": {
        "id": "h1DHSFRiJlKk"
      }
    },
    {
      "cell_type": "markdown",
      "source": [
        "## Notebook Preperation"
      ],
      "metadata": {
        "id": "JcO3PoxD4I6c"
      }
    },
    {
      "cell_type": "code",
      "source": [
        "!pip install -q git+https://github.com/ronald-hk-chung/sstorch.git\n",
        "\n",
        "from sstorch.learner import SSTLearner\n",
        "import torch\n",
        "import torchvision\n",
        "import matplotlib.pyplot as plt\n",
        "import numpy as np\n",
        "import pandas as pd\n",
        "import torchinfo"
      ],
      "metadata": {
        "colab": {
          "base_uri": "https://localhost:8080/",
          "height": 679
        },
        "id": "DFBuj5C04Kvt",
        "outputId": "33608c97-cd69-4e72-db45-4b5c7763168e"
      },
      "execution_count": 1,
      "outputs": [
        {
          "output_type": "stream",
          "name": "stdout",
          "text": [
            "  Installing build dependencies ... \u001b[?25l\u001b[?25hdone\n",
            "  Getting requirements to build wheel ... \u001b[?25l\u001b[?25hdone\n",
            "  Installing backend dependencies ... \u001b[?25l\u001b[?25hdone\n",
            "  Preparing metadata (pyproject.toml) ... \u001b[?25l\u001b[?25hdone\n",
            "\u001b[2K     \u001b[90m━━━━━━━━━━━━━━━━━━━━━━━━━━━━━━━━━━━━━━━━\u001b[0m \u001b[32m779.1/779.1 MB\u001b[0m \u001b[31m469.1 kB/s\u001b[0m eta \u001b[36m0:00:00\u001b[0m\n",
            "\u001b[2K     \u001b[90m━━━━━━━━━━━━━━━━━━━━━━━━━━━━━━━━━━━━━━━━\u001b[0m \u001b[32m7.0/7.0 MB\u001b[0m \u001b[31m51.4 MB/s\u001b[0m eta \u001b[36m0:00:00\u001b[0m\n",
            "\u001b[2K     \u001b[90m━━━━━━━━━━━━━━━━━━━━━━━━━━━━━━━━━━━━━━━━\u001b[0m \u001b[32m23.7/23.7 MB\u001b[0m \u001b[31m40.1 MB/s\u001b[0m eta \u001b[36m0:00:00\u001b[0m\n",
            "\u001b[2K     \u001b[90m━━━━━━━━━━━━━━━━━━━━━━━━━━━━━━━━━━━━━━━━\u001b[0m \u001b[32m823.6/823.6 kB\u001b[0m \u001b[31m42.0 MB/s\u001b[0m eta \u001b[36m0:00:00\u001b[0m\n",
            "\u001b[2K     \u001b[90m━━━━━━━━━━━━━━━━━━━━━━━━━━━━━━━━━━━━━━━━\u001b[0m \u001b[32m14.1/14.1 MB\u001b[0m \u001b[31m50.3 MB/s\u001b[0m eta \u001b[36m0:00:00\u001b[0m\n",
            "\u001b[2K     \u001b[90m━━━━━━━━━━━━━━━━━━━━━━━━━━━━━━━━━━━━━━━━\u001b[0m \u001b[32m731.7/731.7 MB\u001b[0m \u001b[31m972.9 kB/s\u001b[0m eta \u001b[36m0:00:00\u001b[0m\n",
            "\u001b[2K     \u001b[90m━━━━━━━━━━━━━━━━━━━━━━━━━━━━━━━━━━━━━━━━\u001b[0m \u001b[32m410.6/410.6 MB\u001b[0m \u001b[31m1.1 MB/s\u001b[0m eta \u001b[36m0:00:00\u001b[0m\n",
            "\u001b[2K     \u001b[90m━━━━━━━━━━━━━━━━━━━━━━━━━━━━━━━━━━━━━━━━\u001b[0m \u001b[32m121.6/121.6 MB\u001b[0m \u001b[31m4.5 MB/s\u001b[0m eta \u001b[36m0:00:00\u001b[0m\n",
            "\u001b[2K     \u001b[90m━━━━━━━━━━━━━━━━━━━━━━━━━━━━━━━━━━━━━━━━\u001b[0m \u001b[32m56.5/56.5 MB\u001b[0m \u001b[31m8.1 MB/s\u001b[0m eta \u001b[36m0:00:00\u001b[0m\n",
            "\u001b[2K     \u001b[90m━━━━━━━━━━━━━━━━━━━━━━━━━━━━━━━━━━━━━━━━\u001b[0m \u001b[32m124.2/124.2 MB\u001b[0m \u001b[31m5.5 MB/s\u001b[0m eta \u001b[36m0:00:00\u001b[0m\n",
            "\u001b[2K     \u001b[90m━━━━━━━━━━━━━━━━━━━━━━━━━━━━━━━━━━━━━━━━\u001b[0m \u001b[32m196.0/196.0 MB\u001b[0m \u001b[31m2.0 MB/s\u001b[0m eta \u001b[36m0:00:00\u001b[0m\n",
            "\u001b[2K     \u001b[91m━━━━━━\u001b[0m\u001b[91m╸\u001b[0m\u001b[90m━━━━━━━━━━━━━━━━━━━━━━━━━━━━━━━━━\u001b[0m \u001b[32m29.4/176.2 MB\u001b[0m \u001b[31m4.3 MB/s\u001b[0m eta \u001b[36m0:00:34\u001b[0m\n",
            "\u001b[?25h\u001b[31mERROR: Operation cancelled by user\u001b[0m\u001b[31m\n",
            "\u001b[0m"
          ]
        },
        {
          "output_type": "error",
          "ename": "ModuleNotFoundError",
          "evalue": "No module named 'sstorch'",
          "traceback": [
            "\u001b[0;31m---------------------------------------------------------------------------\u001b[0m",
            "\u001b[0;31mModuleNotFoundError\u001b[0m                       Traceback (most recent call last)",
            "\u001b[0;32m<ipython-input-1-c0bacdd2a715>\u001b[0m in \u001b[0;36m<cell line: 3>\u001b[0;34m()\u001b[0m\n\u001b[1;32m      1\u001b[0m \u001b[0mget_ipython\u001b[0m\u001b[0;34m(\u001b[0m\u001b[0;34m)\u001b[0m\u001b[0;34m.\u001b[0m\u001b[0msystem\u001b[0m\u001b[0;34m(\u001b[0m\u001b[0;34m'pip install -q git+https://github.com/ronald-hk-chung/sstorch.git'\u001b[0m\u001b[0;34m)\u001b[0m\u001b[0;34m\u001b[0m\u001b[0;34m\u001b[0m\u001b[0m\n\u001b[1;32m      2\u001b[0m \u001b[0;34m\u001b[0m\u001b[0m\n\u001b[0;32m----> 3\u001b[0;31m \u001b[0;32mfrom\u001b[0m \u001b[0msstorch\u001b[0m\u001b[0;34m.\u001b[0m\u001b[0mlearner\u001b[0m \u001b[0;32mimport\u001b[0m \u001b[0mSSTLearner\u001b[0m\u001b[0;34m\u001b[0m\u001b[0;34m\u001b[0m\u001b[0m\n\u001b[0m\u001b[1;32m      4\u001b[0m \u001b[0;32mimport\u001b[0m \u001b[0mtorch\u001b[0m\u001b[0;34m\u001b[0m\u001b[0;34m\u001b[0m\u001b[0m\n\u001b[1;32m      5\u001b[0m \u001b[0;32mimport\u001b[0m \u001b[0mtorchvision\u001b[0m\u001b[0;34m\u001b[0m\u001b[0;34m\u001b[0m\u001b[0m\n",
            "\u001b[0;31mModuleNotFoundError\u001b[0m: No module named 'sstorch'",
            "",
            "\u001b[0;31m---------------------------------------------------------------------------\u001b[0;32m\nNOTE: If your import is failing due to a missing package, you can\nmanually install dependencies using either !pip or !apt.\n\nTo view examples of installing some common dependencies, click the\n\"Open Examples\" button below.\n\u001b[0;31m---------------------------------------------------------------------------\u001b[0m\n"
          ],
          "errorDetails": {
            "actions": [
              {
                "action": "open_url",
                "actionText": "Open Examples",
                "url": "/notebooks/snippets/importing_libraries.ipynb"
              }
            ]
          }
        }
      ]
    },
    {
      "cell_type": "markdown",
      "source": [
        "## Introduction to VGGNet\n",
        "\n",
        "The VGGNet is a convolution neural network (CNN) model developed by K. Simonyan and A. Zisserman from Oxford University and published it in a paper called [Very Deep Convolutional Networks for Large-Scale Image Recognition](https://arxiv.org/abs/1409.1556)\n",
        "\n",
        "In particular, VGG16 model - one of the model that supports 16 layers, achieve a test accuracy of 92.7% in ImageNet, a dataset containing more than 14 million training images across 1000 object classes. It is one of the top models from teh ILSVRC-2014 competition\n",
        "\n",
        "VGG model differed from AlexNet in several ways. First, it used a tiny 3x3 receptive field with a 1-pixel stride—for comparison, AlexNet used an 11x11 receptive field with a 4-pixel stride. The 3x3 filters combine to provide the function of a larger receptive field. The benefit of using multiple smaller layers rather than a single large layer is that more non-linear activation layers accompany the convolution layers, improving the decision functions and allowing the network to converge quickly.\n",
        "\n",
        "Second, VGG uses a smaller convolutional filter, which reduces the network's tendency to over-fit during training exercises. A 3x3 filter is the optimal size because a smaller size cannot capture left-right and up-down information. Thus, VGG is the smallest possible model to understand an image's spatial features. Consistent 3x3 convolutions make the network easy to manage.\n",
        "\n",
        "\n",
        "\n"
      ],
      "metadata": {
        "id": "DHn2L5xdRj5o"
      }
    },
    {
      "cell_type": "markdown",
      "source": [
        "## Details of VGG Architecture\n",
        "\n",
        "VGGNets use tiny convolutional filters (3x3) in teh construction. 13 convolutional layers and 3 fully connected layers make up the VGG-16. Belows diagram shows the layers of VGG-Net Architecture.\n",
        "\n",
        "<img src=\"https://github.com/ronald-hk-chung/ssnotebook/blob/main/computer_vision/assets/vggnet_architecture.png?raw=true\">\n",
        "\n",
        "*   **Input**\n",
        "\n",
        "    VGGNets receives a 224x224 image input. In the ImageNet competition, the model's creators kept the image input size constant by cropping a 224x224 section from the center of each image.\n",
        "    \n",
        "*   **Convolutional Layers**\n",
        "\n",
        "    The convolutional filters of VGG use the smallest possible receptive field of 3×3. VGG also uses a 1×1 convolution filter as the input’s linear transformation.\n",
        "\n",
        "*   **ReLU activation**\n",
        "\n",
        "    VGGNet follows teh major innovation from AlexNet in using the Rectified Linear Unit Activation Function (ReLU) component. ReLU is a linear function that provides a matching output for positive inputs and outputs zero for negative inputs. VGG has a set convolution stride of 1 pixel to preserve the spatial resolution after convolution (the stride value reflects how many pixels the filter “moves” to cover the entire space of the image).\n",
        "\n",
        "*   **Hidden layers**\n",
        "\n",
        "    all the VGG network’s hidden layers use ReLU instead of Local Response Normalization like AlexNet. The latter increases training time and memory consumption with little improvement to overall accuracy.\n",
        "\n",
        "*   **Pooling layers**\n",
        "\n",
        "    A pooling layer follows several convolutional layers—this helps reduce the dimensionality and the number of parameters of the feature maps created by each convolution step. Pooling is crucial given the rapid growth of the number of available filters from 64 to 128, 256, and eventually 512 in the final layers.\n",
        "\n",
        "*   **Fully connected layers**\n",
        "\n",
        "    VGGNet includes three fully connected layers. The first two layers each have 4096 channels, and the third layer has 1000 channels, one for every class.\n",
        "\n",
        "\n",
        "\n",
        "\n"
      ],
      "metadata": {
        "id": "CRRKY6sOiDq1"
      }
    },
    {
      "cell_type": "markdown",
      "source": [
        "## VGG Configuration\n",
        "\n",
        "The VGG network has 5 configurations named A to E. The depth of the configuration increases from left (A) to right (B), with more layers added.\n",
        "\n",
        "Below table describe all the potential network architectures:\n",
        "\n",
        "<img src=\"https://github.com/ronald-hk-chung/ssnotebook/blob/main/computer_vision/assets/vgg_configuration.png?raw=true\">\n",
        "\n",
        "Every configuration follows a common architectural pattern, differing only in depth. Network A  has 11 weight layers (8 convolutional layers and 3 fully connected layers), while network E has 19 weight layers (16 convolutional layers and 3 fully connected layers).\n",
        "\n",
        "There are few convolutional layer channels—the number ranges from 64 channels in the first layer to 512 in the last layer (it increases by a factor of two for every max-pooling layer). The figure below shows the total number of parameters in millions.\n",
        "\n",
        "<img src=\"https://github.com/ronald-hk-chung/ssnotebook/blob/main/computer_vision/assets/vgg_parameters_number.png?raw=true\">"
      ],
      "metadata": {
        "id": "I0SCfV25m35W"
      }
    },
    {
      "cell_type": "markdown",
      "source": [
        "## Buidling VGGNet from Scratch\n",
        "\n",
        "We will build a VGGNet class for implimenting all 5 versions A-E of the VGGNet and apply model training on Cifar-100 dataset\n",
        "\n",
        "Note that C is a special case where there are 1x1 and 3x3 convolutional layers with rest of the cases all using 3x3 kernel sizes"
      ],
      "metadata": {
        "id": "naowufUdDB_0"
      }
    },
    {
      "cell_type": "code",
      "source": [
        "import torch.nn as nn\n",
        "\n",
        "class VGGNet(nn.Module):\n",
        "    \"\"\"VGGNet Implimentation\n",
        "    Reference Paper: VERY DEEP CONVOLUTIONAL NETWORKS FOR LARGE-SCALE IMAGE RECOGNITION\n",
        "    Reference Link: https://arxiv.org/pdf/1409.1556v6.pdf\n",
        "    \"\"\"\n",
        "    def __init__(self,\n",
        "                 vgg_cfg: str,\n",
        "                 in_channels: int = 3,\n",
        "                 batch_norm: bool = False,\n",
        "                 dropout: float = 0.5,\n",
        "                 num_classes: int = 1000,\n",
        "                 init_weights: bool = True):\n",
        "        \"\"\"Initialise VGGNet Class\n",
        "\n",
        "        Args:\n",
        "            vgg_cfg [str]: Configuration from original paper A-E\n",
        "            in_channels [int]: num of color channels, Default 3\n",
        "            batch_norm [bool]: Set true to use BatchNorm2d, Default False\n",
        "            dropout [float]: probability of an element to be zeroed. Default 0.5\n",
        "            num_classes [int]: num of classes to predict, Default 1000\n",
        "            init_weight [bool]: initialise weights with kaiming_normal, Default True\n",
        "        \"\"\"\n",
        "        super().__init__()\n",
        "\n",
        "        # Initiatize cfgs for VGG Net including A-E\n",
        "        # M - MaxPool2d with kernel_size=(2, 2) and stride=(2, 2)\n",
        "        # tuple[k, v] - Conv2d with stride=1, padding=1, kernel_size=k and out_channels=v\n",
        "        self.cfgs = {\n",
        "            \"A\": [(3, 64), \"M\", (3, 128), \"M\", (3, 256), (3, 256), \"M\", (3, 512), (3, 512), \"M\", (3, 512), (3, 512), \"M\"],\n",
        "            \"B\": [(3, 64), (3, 64), \"M\", (3, 128), (3, 128), \"M\", (3, 256), (3, 256), \"M\", (3, 512), (3, 512), \"M\", (3, 512), (3, 512), \"M\"],\n",
        "            \"C\": [(3, 64), (3, 64), \"M\", (3, 128), (3, 128), \"M\", (3, 256), (3, 256), (1, 256), \"M\", (3, 512), (3, 512), (1, 512), \"M\", (3, 512), (3, 512), (1, 512), \"M\"],\n",
        "            \"D\": [(3, 64), (3, 64), \"M\", (3, 128), (3, 128), \"M\", (3, 256), (3, 256), (3, 256), \"M\", (3, 512), (3, 512), (3, 512), \"M\", (3, 512), (3, 512), (3, 512), \"M\"],\n",
        "            \"E\": [(3, 64), (3, 64), \"M\", (3, 128), (3, 128), \"M\", (3, 256), (3, 256), (3, 256), (3, 256), \"M\", (3, 512), (3, 512), (3, 512), (3, 512), \"M\", (3, 512), (3, 512), (3, 512), (3, 512), \"M\"],\n",
        "        }\n",
        "\n",
        "        # Make features layers depending on cfgs from vgg_cfg\n",
        "        self.features = self.make_layers(vgg_cfg, in_channels, batch_norm)\n",
        "\n",
        "        self.avgpool = nn.AdaptiveAvgPool2d(output_size=(7, 7))\n",
        "\n",
        "        self.classifier = nn.Sequential(\n",
        "            nn.Linear(512 * 7 * 7, 4096),\n",
        "            nn.ReLU(True),\n",
        "            nn.Dropout(p=dropout),\n",
        "            nn.Linear(4096, 4096),\n",
        "            nn.Dropout(p=dropout),\n",
        "            nn.Linear(4096, num_classes)\n",
        "        )\n",
        "\n",
        "        # Initialize neural network weights\n",
        "        self.init_weights()\n",
        "\n",
        "    def make_layers(self, vgg_cfg, in_channels, batch_norm):\n",
        "        layers = nn.Sequential()\n",
        "        # in_channels = self.in_channels\n",
        "        for cfg in self.cfgs[vgg_cfg]:\n",
        "            if cfg == 'M':\n",
        "                layers.append(nn.MaxPool2d(kernel_size=(2, 2), stride=(2, 2)))\n",
        "            else:\n",
        "                kernel_size, out_channels = cfg\n",
        "                layers.append(nn.Conv2d(in_channels=in_channels,\n",
        "                                        out_channels=out_channels,\n",
        "                                        kernel_size=kernel_size,\n",
        "                                        stride=1,\n",
        "                                        padding=1))\n",
        "                if batch_norm:\n",
        "                    layers.append(nn.BatchNorm2d(num_features=out_channels))\n",
        "                layers.append(nn.ReLU(inplace=True))\n",
        "                in_channels = out_channels\n",
        "\n",
        "        return layers\n",
        "\n",
        "    def init_weights(self):\n",
        "        for module in self.modules():\n",
        "            if isinstance(module, nn.Conv2d):\n",
        "                nn.init.kaiming_normal_(module.weight, mode='fan_out', nonlinearity='relu')\n",
        "                if module.bias is not None:\n",
        "                    nn.init.constant_(module.bias, 0)\n",
        "            elif isinstance(module, nn.BatchNorm2d):\n",
        "                nn.init.constant_(module.weight, 1)\n",
        "                nn.init.constant_(module.bias, 0)\n",
        "            elif isinstance(module, nn.Linear):\n",
        "                nn.init.normal_(module.weight, 0, 0.01)\n",
        "                nn.init.constant_(module.bias, 0)\n",
        "\n",
        "    def forward(self, x):\n",
        "        x = self.features(x)\n",
        "        x = self.avgpool(x)\n",
        "        x = torch.flatten(x, 1)\n",
        "        x = self.classifier(x)\n",
        "        return x"
      ],
      "metadata": {
        "id": "8eImsrzBlO5Y"
      },
      "execution_count": null,
      "outputs": []
    },
    {
      "cell_type": "markdown",
      "source": [
        "## Adding Batch Normalization to VGG\n",
        "\n",
        "Note that original VGG doesnt have a batch norm layer in it because batch normalization didnt exist before VGG. Note that PyTorch has 2 versions of VGG model, one with Batch Normalization `vgg16_bn` and one without `vgg16`\n",
        "\n",
        "Batch Normalization was introduced in [Batch Normalization: Accelerating Deep network Training by Reducing Internal Covariate Shift](https://arxiv.org/pdf/1502.03167.pdf)\n",
        "\n",
        "Just like the need for standarzing features which helps training through having features of the same scale to create a smoother loss surface - a round bowl shape. Batch Normalization is a network layer that gets inserted between the hidden layers to prevent (or mitigate) an issue commonly called *internal convariate shift* - different distributions of activation values in different layers.\n",
        "\n",
        "Instead of standardizing features - that is, the inputs to the model as a whole, batch normalization standardizes the activation values of a layer - that is, the inputs to the following layer - so that they have zero mean and unit standard deviation. It computes statistics (mean and standard deviation) for each mini-batch and perform an optional affine transformation - scaling and adding a constant to the stadardized output. Note that both scaling factor and constant are parameters learned by the model.\n",
        "\n",
        "**Batch Normalization Algorithm**\n",
        "\n",
        "<img src=\"https://github.com/ronald-hk-chung/ssnotebook/blob/main/computer_vision/assets/bn_algorithm.png?raw=true\">\n",
        "\n",
        "<br/>\n",
        "\n",
        "**During training**, we feed the network one mini-batch of data at a time. In the forward pass, each layer of the network processes that mini-batch of data. The Batch Norm layer processes its data as follows:\n",
        "\n",
        "<img src=\"https://github.com/ronald-hk-chung/ssnotebook/blob/main/computer_vision/assets/bn_forward_operations.png?raw=true\">\n",
        "\n",
        "\n",
        "1.  Activations\n",
        "\n",
        "    The activations from the previous layer are passed as input to the Batch Norm. There is one activation vector for each feature in the data.\n",
        "\n",
        "2.  Calculate Mean and Variance\n",
        "\n",
        "    For each activation vector separately, calculate the mean and variance of all the values in the mini-batch.\n",
        "\n",
        "3.  Normalize\n",
        "\n",
        "    Calculate the normalized values for each activation feature vector using the corresponding mean and variance. These normalized values now have zero mean and unit variance.\n",
        "\n",
        "4.  Scale and Shift (affine transformation)\n",
        "\n",
        "    This step is the huge innovation introduced by Batch Norm that gives it its power. Unlike the input layer, which requires all normalized values to have zero mean and unit variance, Batch Norm allows its values to be shifted (to a different mean) and scaled (to a different variance). It does this by multiplying the normalized values by a factor, gamma, and adding to it a factor, beta.\n",
        "\n",
        "    What makes this innovation ingenious is that these factors are not hyperparameters (ie. constants provided by the model designer) but are trainable parameters that are learned by the network. In other words, each Batch Norm layer is able to optimally find the best factors for itself, and can thus shift and scale the normalized values to get the best predictions.\n",
        "\n",
        "5.  Moving Average\n",
        "\n",
        "    In addition, Batch Norm also keeps a running count of the Exponential Moving Average (EMA) of the mean and variance. During training, it simply calculates this EMA but does not do anything with it. At the end of training, it simply saves this value as part of the layer's state, for use during the Inference phase. The Moving Average calculation uses a scalar *momentum* denoted by alpha below. This is a hyperparameter that is used only for Batch Norm moving averages and should not be confused with the momentum that is used in the Optimizer.\n",
        "\n",
        "6.  Backward Pass\n",
        "\n",
        "    After the forward pass, we do the backward pass as normal. Gradients are calculated and updates are done for all layer weights, as well as for all beta and gamma parameters in the Batch Norm layers.\n",
        "\n",
        "**During Inference**, we use the saved moving average of mean and variance of mini-batch during training to perform stardardization during inference. The moving average acts as a good proxy for hte mean and variance of the data.\n",
        "\n",
        "<br/>\n",
        "\n",
        "**Order of placement of Batch Norm Layer**\n",
        "\n",
        "Note that Batch Norm layer can be placed before or after activation. The original paper placed it before. Both can achieve standardisation of distribution across different layers\n",
        "\n",
        "<img src=\"https://github.com/ronald-hk-chung/ssnotebook/blob/main/computer_vision/assets/bn_before_after.png?raw=true\">\n",
        "\n",
        "<br/>\n",
        "\n",
        "**Regularization Effect**\n",
        "\n",
        "While mitigating Internal Covariant Shift was the original motivation behind batch normalization. The fluctuation of the statistics during mini-batch training is actaully injecting randomness into the training process, thus havin ga regularizing effect and impacting positively the training of the model. Note that both batch normalizationa nd dropout layers have a regularizing effect, combining both layers may actually harm the mdoel performance.\n",
        "\n"
      ],
      "metadata": {
        "id": "yv1Ti8kypjmC"
      }
    },
    {
      "cell_type": "markdown",
      "source": [
        "**Effect of BatchNorm1d for a random dataset with 2 features**"
      ],
      "metadata": {
        "id": "ebB44Yo1iHdm"
      }
    },
    {
      "cell_type": "code",
      "execution_count": 7,
      "metadata": {
        "id": "aqagOhJqJcu5"
      },
      "outputs": [],
      "source": [
        "import torch\n",
        "from torch.utils.data import TensorDataset, DataLoader\n",
        "\n",
        "torch.manual_seed(23)\n",
        "dummy_points = torch.randn(size=(200, 2)) + torch.rand(size=(200, 2)) * 2\n",
        "dummy_labels = torch.randint(high=2, size=(200, 1))\n",
        "dummy_ds = TensorDataset(dummy_points, dummy_labels)\n",
        "dummy_dl = DataLoader(dataset=dummy_ds,\n",
        "                      batch_size=64,\n",
        "                      shuffle=True,\n",
        "                      drop_last=True)"
      ]
    },
    {
      "cell_type": "markdown",
      "source": [
        "We create a `show_batch` function that plot out the histogram for both original features and normalised features after `BatchNorm`. We also show the `state_dict` after each run of batch which records running_mean, running_var and num_batches_tracked"
      ],
      "metadata": {
        "id": "LVa75mpXsJ4E"
      }
    },
    {
      "cell_type": "code",
      "source": [
        "import matplotlib.pyplot as plt\n",
        "import numpy as np\n",
        "\n",
        "def show_batchnorm(batch_dl):\n",
        "\n",
        "    # Define batch_normalizer as nn.BatchNorm1d\n",
        "    batch_normalizer = nn.BatchNorm1d(num_features=2, affine=False, momentum=0.1)\n",
        "\n",
        "    # Loop through num_of_batch\n",
        "    for batch in batch_dl:\n",
        "        fig, axs = plt.subplots(1, 2, figsize=(12, 4))\n",
        "        fig.suptitle(batch_normalizer.state_dict())\n",
        "\n",
        "        # Calculate the normalized batch\n",
        "        batch_normalized = batch_normalizer(batch[0])\n",
        "\n",
        "        # Plot histogram for each features with\n",
        "        for i in range(2):\n",
        "            features_original = batch[0][:, i]\n",
        "            features_normalized = batch_normalized[:, i]\n",
        "            axs[i].hist(features_original, bins=np.linspace(-3, 3, 15), alpha=.5, label='Original')\n",
        "            axs[i].hist(features_normalized, bins=np.linspace(-3, 3, 15), alpha=.5, label='Standardized')\n",
        "            axs[i].set_xlabel(f'Feature #{i}')\n",
        "            axs[i].set_ylabel('# of points')\n",
        "            axs[i].set_title(f'Original: mean={features_original.mean():.4f} std={features_original.std(unbiased=False):.4f}\\n \\\n",
        "             Normalised: mean={features_normalized.mean():.4f} std={features_normalized.std(unbiased=False):.4f}\\n')\n",
        "            axs[i].legend()\n",
        "            axs[i].set_ylim([0, 13])\n",
        "            axs[i].label_outer()\n",
        "\n",
        "        fig.tight_layout()\n"
      ],
      "metadata": {
        "id": "-KCBlloeirEC"
      },
      "execution_count": 8,
      "outputs": []
    },
    {
      "cell_type": "code",
      "source": [
        "show_batchnorm(dummy_dl)"
      ],
      "metadata": {
        "colab": {
          "base_uri": "https://localhost:8080/",
          "height": 1000
        },
        "id": "Q_fjoYn5kVgL",
        "outputId": "79b3c994-ce76-4328-9dd5-162f81987aa1"
      },
      "execution_count": 9,
      "outputs": [
        {
          "output_type": "display_data",
          "data": {
            "text/plain": [
              "<Figure size 1200x400 with 2 Axes>"
            ],
            "image/png": "[encoded data removed]"
          },
          "metadata": {}
        },
        {
          "output_type": "display_data",
          "data": {
            "text/plain": [
              "<Figure size 1200x400 with 2 Axes>"
            ],
            "image/png": "[encoded data removed]"
          },
          "metadata": {}
        },
        {
          "output_type": "display_data",
          "data": {
            "text/plain": [
              "<Figure size 1200x400 with 2 Axes>"
            ],
            "image/png": "[encoded data removed]"
          },
          "metadata": {}
        }
      ]
    },
    {
      "cell_type": "markdown",
      "source": [
        "**BatchNorm2d vs BatchNorm1d**\n",
        "\n",
        "While BatchNorm1d standardizes features, the BatchNorm2d standardizes channels. In `BatchNorm2d`, standardization is done over the **C Dimenion** of the NCHW. It has the same argument, and its num_features argument must match the number of channels of the input"
      ],
      "metadata": {
        "id": "X101KwmZs-fd"
      }
    },
    {
      "cell_type": "markdown",
      "source": [
        "## Prepare Cifar100 Dataset and DataLoader"
      ],
      "metadata": {
        "id": "pRmUF9qnAFk_"
      }
    },
    {
      "cell_type": "code",
      "source": [
        "import torchvision\n",
        "from torchvision.datasets import CIFAR100\n",
        "import torchvision.transforms as T\n",
        "from torch.utils.data import DataLoader\n",
        "\n",
        "train_ds = CIFAR100(root='data',\n",
        "                    train=True,\n",
        "                    download=True)\n",
        "\n",
        "valid_ds = CIFAR100(root='data',\n",
        "                    train=False,\n",
        "                    download=True)\n",
        "\n",
        "# To get the mean and standard deviations of cifar10\n",
        "data_shape = train_ds.data.shape\n",
        "data_mean = train_ds.data.mean(axis=(0, 1, 2))/255\n",
        "data_std = train_ds.data.std(axis=(0, 1, 2))/255\n",
        "\n",
        "# Define transforms from PIL to Tensors\n",
        "tfms = T.Compose([\n",
        "    T.Resize(size=(224, 224)),\n",
        "    T.ToTensor(),\n",
        "    T.Normalize(mean=data_mean,\n",
        "                std=data_std)\n",
        "])\n",
        "\n",
        "# Define transforms from PIL to Tensors with Data Augmentation\n",
        "tfms_augmented = T.Compose([\n",
        "    T.Resize(size=(224, 224)),\n",
        "    T.TrivialAugmentWide(num_magnitude_bins=10),\n",
        "    T.ToTensor(),\n",
        "    T.Normalize(mean=data_mean,\n",
        "                std=data_std)\n",
        "])\n",
        "\n",
        "# Define reverse transforms from Tensors to PIL (for visualisation)\n",
        "rtfms = T.Compose([\n",
        "    T.Normalize(mean=[0.0] * 3,\n",
        "                std=list(map(lambda x: 1 / x, data_std))),\n",
        "    T.Normalize(mean=list(map(lambda x: -x, data_mean)),\n",
        "                std=[1.0] * 3),\n",
        "    T.ToPILImage()\n",
        "])\n",
        "\n",
        "# Apply transforms to dataset\n",
        "train_ds = CIFAR100(root='data',\n",
        "                    train=True,\n",
        "                    transform=tfms_augmented,\n",
        "                    download=True)\n",
        "\n",
        "valid_ds = CIFAR100(root='data',\n",
        "                    train=False,\n",
        "                    transform=tfms,\n",
        "                    download=True)\n",
        "\n",
        "\n",
        "# Create DataLoader for train/valid dataset\n",
        "train_dl = DataLoader(dataset=train_ds,\n",
        "                      batch_size=128,\n",
        "                      shuffle=True)\n",
        "\n",
        "valid_dl = DataLoader(dataset=valid_ds,\n",
        "                      batch_size=128,\n",
        "                      shuffle=False)"
      ],
      "metadata": {
        "colab": {
          "base_uri": "https://localhost:8080/"
        },
        "id": "LHmOl9pdUJxH",
        "outputId": "a845af03-4164-484f-abf2-b71b36a56d5a"
      },
      "execution_count": 3,
      "outputs": [
        {
          "output_type": "stream",
          "name": "stdout",
          "text": [
            "Downloading https://www.cs.toronto.edu/~kriz/cifar-100-python.tar.gz to data/cifar-100-python.tar.gz\n"
          ]
        },
        {
          "output_type": "stream",
          "name": "stderr",
          "text": [
            "100%|██████████| 169001437/169001437 [00:12<00:00, 13098344.12it/s]\n"
          ]
        },
        {
          "output_type": "stream",
          "name": "stdout",
          "text": [
            "Extracting data/cifar-100-python.tar.gz to data\n",
            "Files already downloaded and verified\n",
            "Files already downloaded and verified\n",
            "Files already downloaded and verified\n"
          ]
        }
      ]
    },
    {
      "cell_type": "markdown",
      "source": [
        "## Prepare for Model Training"
      ],
      "metadata": {
        "id": "m9iFj2nZA9ST"
      }
    },
    {
      "cell_type": "code",
      "source": [
        "import torch.nn as nn\n",
        "from sklearn.metrics import accuracy_score, top_k_accuracy_score\n",
        "from sstorch.vision.cifar100 import superclass_labels\n",
        "\n",
        "# Define loss_fn\n",
        "loss_fn = nn.CrossEntropyLoss()\n",
        "\n",
        "# Define metric_fn that returns dictionary of accuracy, top_5_accuracy and accuracy_super\n",
        "def metric_fn(y_logits, y):\n",
        "    # Get Probs and Probabilities using softmax and argmax\n",
        "    y_probs = y_logits.softmax(dim=-1).detach().cpu().numpy()\n",
        "    y_preds = y_probs.argmax(axis=-1)\n",
        "    y = y.detach().cpu().numpy()\n",
        "\n",
        "    # Transform to superclass labels\n",
        "    y_preds_super = superclass_labels[y_preds]\n",
        "    y_super = superclass_labels[y]\n",
        "\n",
        "    accuracy = accuracy_score(y, y_preds)\n",
        "    top_5_accuracy = top_k_accuracy_score(y, y_probs, k=5, labels=list(range(100)))\n",
        "    accuracy_super = accuracy_score(y_super, y_preds_super)\n",
        "    return {'accuracy': accuracy,\n",
        "            'top_5_accuracy': top_5_accuracy,\n",
        "            'accuracy_super': accuracy_super}\n",
        "\n",
        "# Retreive AlexNet from sstorch.vision\n",
        "model = VGGNet(vgg_cfg='D', num_classes=100, batch_norm=True)\n",
        "\n",
        "# Define optimizer\n",
        "optimizer = torch.optim.Adam(params=model.parameters(),\n",
        "                             lr=1e-4)\n",
        "\n",
        "learner = SSTLearner(model=model,\n",
        "                     loss_fn=loss_fn,\n",
        "                     metric_fn=metric_fn,\n",
        "                     optimizer=optimizer,\n",
        "                     train_dataloader=train_dl,\n",
        "                     valid_dataloader=valid_dl)"
      ],
      "metadata": {
        "id": "161HyOGwAwGL"
      },
      "execution_count": 4,
      "outputs": []
    },
    {
      "cell_type": "code",
      "source": [
        "learner.model_info()"
      ],
      "metadata": {
        "colab": {
          "base_uri": "https://localhost:8080/"
        },
        "id": "J0-EYHbHBf70",
        "outputId": "13e21c6b-cc4d-4663-a7ea-9097032e4222"
      },
      "execution_count": 5,
      "outputs": [
        {
          "output_type": "stream",
          "name": "stdout",
          "text": [
            "========================================================================================================================\n",
            "Layer (type (var_name))                  Input Shape          Output Shape         Param #              Trainable\n",
            "========================================================================================================================\n",
            "VGGNet (VGGNet)                          [128, 3, 224, 224]   [128, 100]           --                   True\n",
            "├─Sequential (features)                  [128, 3, 224, 224]   [128, 512, 7, 7]     --                   True\n",
            "│    └─Conv2d (0)                        [128, 3, 224, 224]   [128, 64, 224, 224]  1,792                True\n",
            "│    └─BatchNorm2d (1)                   [128, 64, 224, 224]  [128, 64, 224, 224]  128                  True\n",
            "│    └─ReLU (2)                          [128, 64, 224, 224]  [128, 64, 224, 224]  --                   --\n",
            "│    └─Conv2d (3)                        [128, 64, 224, 224]  [128, 64, 224, 224]  36,928               True\n",
            "│    └─BatchNorm2d (4)                   [128, 64, 224, 224]  [128, 64, 224, 224]  128                  True\n",
            "│    └─ReLU (5)                          [128, 64, 224, 224]  [128, 64, 224, 224]  --                   --\n",
            "│    └─MaxPool2d (6)                     [128, 64, 224, 224]  [128, 64, 112, 112]  --                   --\n",
            "│    └─Conv2d (7)                        [128, 64, 112, 112]  [128, 128, 112, 112] 73,856               True\n",
            "│    └─BatchNorm2d (8)                   [128, 128, 112, 112] [128, 128, 112, 112] 256                  True\n",
            "│    └─ReLU (9)                          [128, 128, 112, 112] [128, 128, 112, 112] --                   --\n",
            "│    └─Conv2d (10)                       [128, 128, 112, 112] [128, 128, 112, 112] 147,584              True\n",
            "│    └─BatchNorm2d (11)                  [128, 128, 112, 112] [128, 128, 112, 112] 256                  True\n",
            "│    └─ReLU (12)                         [128, 128, 112, 112] [128, 128, 112, 112] --                   --\n",
            "│    └─MaxPool2d (13)                    [128, 128, 112, 112] [128, 128, 56, 56]   --                   --\n",
            "│    └─Conv2d (14)                       [128, 128, 56, 56]   [128, 256, 56, 56]   295,168              True\n",
            "│    └─BatchNorm2d (15)                  [128, 256, 56, 56]   [128, 256, 56, 56]   512                  True\n",
            "│    └─ReLU (16)                         [128, 256, 56, 56]   [128, 256, 56, 56]   --                   --\n",
            "│    └─Conv2d (17)                       [128, 256, 56, 56]   [128, 256, 56, 56]   590,080              True\n",
            "│    └─BatchNorm2d (18)                  [128, 256, 56, 56]   [128, 256, 56, 56]   512                  True\n",
            "│    └─ReLU (19)                         [128, 256, 56, 56]   [128, 256, 56, 56]   --                   --\n",
            "│    └─Conv2d (20)                       [128, 256, 56, 56]   [128, 256, 56, 56]   590,080              True\n",
            "│    └─BatchNorm2d (21)                  [128, 256, 56, 56]   [128, 256, 56, 56]   512                  True\n",
            "│    └─ReLU (22)                         [128, 256, 56, 56]   [128, 256, 56, 56]   --                   --\n",
            "│    └─MaxPool2d (23)                    [128, 256, 56, 56]   [128, 256, 28, 28]   --                   --\n",
            "│    └─Conv2d (24)                       [128, 256, 28, 28]   [128, 512, 28, 28]   1,180,160            True\n",
            "│    └─BatchNorm2d (25)                  [128, 512, 28, 28]   [128, 512, 28, 28]   1,024                True\n",
            "│    └─ReLU (26)                         [128, 512, 28, 28]   [128, 512, 28, 28]   --                   --\n",
            "│    └─Conv2d (27)                       [128, 512, 28, 28]   [128, 512, 28, 28]   2,359,808            True\n",
            "│    └─BatchNorm2d (28)                  [128, 512, 28, 28]   [128, 512, 28, 28]   1,024                True\n",
            "│    └─ReLU (29)                         [128, 512, 28, 28]   [128, 512, 28, 28]   --                   --\n",
            "│    └─Conv2d (30)                       [128, 512, 28, 28]   [128, 512, 28, 28]   2,359,808            True\n",
            "│    └─BatchNorm2d (31)                  [128, 512, 28, 28]   [128, 512, 28, 28]   1,024                True\n",
            "│    └─ReLU (32)                         [128, 512, 28, 28]   [128, 512, 28, 28]   --                   --\n",
            "│    └─MaxPool2d (33)                    [128, 512, 28, 28]   [128, 512, 14, 14]   --                   --\n",
            "│    └─Conv2d (34)                       [128, 512, 14, 14]   [128, 512, 14, 14]   2,359,808            True\n",
            "│    └─BatchNorm2d (35)                  [128, 512, 14, 14]   [128, 512, 14, 14]   1,024                True\n",
            "│    └─ReLU (36)                         [128, 512, 14, 14]   [128, 512, 14, 14]   --                   --\n",
            "│    └─Conv2d (37)                       [128, 512, 14, 14]   [128, 512, 14, 14]   2,359,808            True\n",
            "│    └─BatchNorm2d (38)                  [128, 512, 14, 14]   [128, 512, 14, 14]   1,024                True\n",
            "│    └─ReLU (39)                         [128, 512, 14, 14]   [128, 512, 14, 14]   --                   --\n",
            "│    └─Conv2d (40)                       [128, 512, 14, 14]   [128, 512, 14, 14]   2,359,808            True\n",
            "│    └─BatchNorm2d (41)                  [128, 512, 14, 14]   [128, 512, 14, 14]   1,024                True\n",
            "│    └─ReLU (42)                         [128, 512, 14, 14]   [128, 512, 14, 14]   --                   --\n",
            "│    └─MaxPool2d (43)                    [128, 512, 14, 14]   [128, 512, 7, 7]     --                   --\n",
            "├─AdaptiveAvgPool2d (avgpool)            [128, 512, 7, 7]     [128, 512, 7, 7]     --                   --\n",
            "├─Sequential (classifier)                [128, 25088]         [128, 100]           --                   True\n",
            "│    └─Linear (0)                        [128, 25088]         [128, 4096]          102,764,544          True\n",
            "│    └─ReLU (1)                          [128, 4096]          [128, 4096]          --                   --\n",
            "│    └─Dropout (2)                       [128, 4096]          [128, 4096]          --                   --\n",
            "│    └─Linear (3)                        [128, 4096]          [128, 4096]          16,781,312           True\n",
            "│    └─Dropout (4)                       [128, 4096]          [128, 4096]          --                   --\n",
            "│    └─Linear (5)                        [128, 4096]          [128, 100]           409,700              True\n",
            "========================================================================================================================\n",
            "Total params: 134,678,692\n",
            "Trainable params: 134,678,692\n",
            "Non-trainable params: 0\n",
            "Total mult-adds (T): 1.98\n",
            "========================================================================================================================\n",
            "Input size (MB): 77.07\n",
            "Forward/backward pass size (MB): 27753.81\n",
            "Params size (MB): 538.71\n",
            "Estimated Total Size (MB): 28369.60\n",
            "========================================================================================================================\n"
          ]
        }
      ]
    },
    {
      "cell_type": "code",
      "source": [
        "learner.lr_range_test(end_lr=3e-3, start_lr=1e-5)"
      ],
      "metadata": {
        "colab": {
          "base_uri": "https://localhost:8080/",
          "height": 456,
          "referenced_widgets": [
            "e324ca177962492e82b416d34f294177",
            "f37d6aa87c3a4fdda43b51f2e3cc224f",
            "c08b9143baf34dd4834b6dcbad1c647f",
            "46b685ee7d394f3694dd1b51f55bbd8e",
            "3487ae0cbc614898bb145ee01778b65e",
            "6d10bb3074e84308931e8220164817bb",
            "51a924061cb24ae3a48cbfe7ca744f0c",
            "94f277bd4b364525ab8bde9f1cf76feb",
            "9f03ef82e75546a6a8fab8a7df060b06",
            "124736ebc54c401c96c5e9b9223753b2",
            "8de9946b58c04c5bace8445bc0534cbb"
          ]
        },
        "id": "CHBmJbXZB9sd",
        "outputId": "8b4c2c2f-9e28-4b2a-ce4d-3225d5e2a009"
      },
      "execution_count": 5,
      "outputs": [
        {
          "output_type": "display_data",
          "data": {
            "text/plain": [
              "  0%|          | 0/100 [00:00<?, ?it/s]"
            ],
            "application/vnd.jupyter.widget-view+json": {
              "version_major": 2,
              "version_minor": 0,
              "model_id": "e324ca177962492e82b416d34f294177"
            }
          },
          "metadata": {}
        },
        {
          "output_type": "stream",
          "name": "stdout",
          "text": [
            "Max Gradient: 1.80E-03 | Lowest Loss: 8.08E-04\n"
          ]
        },
        {
          "output_type": "display_data",
          "data": {
            "text/plain": [
              "<Figure size 600x400 with 1 Axes>"
            ],
            "image/png": "[encoded data removed]"
          },
          "metadata": {}
        }
      ]
    },
    {
      "cell_type": "code",
      "source": [
        "learner.train(10)"
      ],
      "metadata": {
        "colab": {
          "base_uri": "https://localhost:8080/",
          "height": 414,
          "referenced_widgets": [
            "29e3c8a7edcd4595b4ae49835e8790ea",
            "0520268500694fe2a4ec34c9a40c4847",
            "e3efc27c8ffa41a8bddd7ce9afa9b55a",
            "e5a28cb5524a45f0908c30e77799caff",
            "a744ff34cdb0430382d0d644b3e19847",
            "dc4b436ff4ac4369a565c92bad8cabeb",
            "050579c0a6f94de2b985fc1b47221846",
            "aad41244c4764cfca9dbc601403e4510",
            "5dc36aa18508493dbe292883c48039d3",
            "e43379d939ac45c99048f3cbca2c29ab",
            "85a4833fec784657ac1520ee123b0f8d"
          ]
        },
        "id": "-24u08kRBkNZ",
        "outputId": "4e3c6c1d-3205-4027-c3c4-e3a02fb30564"
      },
      "execution_count": null,
      "outputs": [
        {
          "output_type": "display_data",
          "data": {
            "text/plain": [
              "Epochs:   0%|          | 0/10 [00:00<?, ?it/s]"
            ],
            "application/vnd.jupyter.widget-view+json": {
              "version_major": 2,
              "version_minor": 0,
              "model_id": "29e3c8a7edcd4595b4ae49835e8790ea"
            }
          },
          "metadata": {}
        },
        {
          "output_type": "stream",
          "name": "stdout",
          "text": [
            "Epoch: 1 | LR: 1.0E-04 | train_loss: 4.326 | valid_loss: 3.708 \n",
            "train_metric: {'accuracy': 0.048, 'top_5_accuracy': 0.18, 'accuracy_super': 0.135}\n",
            "valid_metric: {'accuracy': 0.127, 'top_5_accuracy': 0.377, 'accuracy_super': 0.254}\n",
            "----------------------------------------------------------------------------------------------------\n",
            "Epoch: 2 | LR: 1.0E-04 | train_loss: 3.858 | valid_loss: 3.272 \n",
            "train_metric: {'accuracy': 0.107, 'top_5_accuracy': 0.321, 'accuracy_super': 0.234}\n",
            "valid_metric: {'accuracy': 0.213, 'top_5_accuracy': 0.5, 'accuracy_super': 0.355}\n",
            "----------------------------------------------------------------------------------------------------\n",
            "Epoch: 3 | LR: 1.0E-04 | train_loss: 3.557 | valid_loss: 2.938 \n",
            "train_metric: {'accuracy': 0.154, 'top_5_accuracy': 0.41, 'accuracy_super': 0.291}\n",
            "valid_metric: {'accuracy': 0.264, 'top_5_accuracy': 0.576, 'accuracy_super': 0.414}\n",
            "----------------------------------------------------------------------------------------------------\n",
            "Epoch: 4 | LR: 1.0E-04 | train_loss: 3.271 | valid_loss: 2.608 \n",
            "train_metric: {'accuracy': 0.206, 'top_5_accuracy': 0.486, 'accuracy_super': 0.352}\n",
            "valid_metric: {'accuracy': 0.323, 'top_5_accuracy': 0.653, 'accuracy_super': 0.485}\n",
            "----------------------------------------------------------------------------------------------------\n",
            "Epoch: 5 | LR: 1.0E-04 | train_loss: 2.999 | valid_loss: 2.41 \n",
            "train_metric: {'accuracy': 0.252, 'top_5_accuracy': 0.555, 'accuracy_super': 0.405}\n",
            "valid_metric: {'accuracy': 0.376, 'top_5_accuracy': 0.691, 'accuracy_super': 0.531}\n",
            "----------------------------------------------------------------------------------------------------\n",
            "Train Step 71/391 | Loss(Cur/Avg): 2.644 / 2.837 | Metric(Cur/Avg): {'accuracy': 0.297, 'top_5_accuracy': 0.664, 'accuracy_super': 0.445} / {'accuracy': 0.285, 'top_5_accuracy': 0.594, 'accuracy_super': 0.432}"
          ]
        }
      ]
    },
    {
      "cell_type": "code",
      "source": [],
      "metadata": {
        "id": "j74u7c2sCJun"
      },
      "execution_count": null,
      "outputs": []
    }
  ]
}